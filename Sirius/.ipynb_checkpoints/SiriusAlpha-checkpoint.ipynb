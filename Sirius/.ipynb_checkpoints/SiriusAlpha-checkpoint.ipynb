{
 "cells": [
  {
   "cell_type": "code",
   "execution_count": 1,
   "id": "5ce1b731",
   "metadata": {},
   "outputs": [
    {
     "name": "stdout",
     "output_type": "stream",
     "text": [
      "7195 files in  ..Stocks/ folder\n"
     ]
    }
   ],
   "source": [
    "import numpy as np\n",
    "import pandas as pd\n",
    "import os\n",
    "cnt=0\n",
    "for dirname, _, filenames in os.walk('../Stocks/'):\n",
    "    for filename in filenames:\n",
    "#         print(os.path.join(dirname, filename))\n",
    "        cnt+=1\n",
    "print(cnt, 'files in',' ..Stocks/', 'folder')\n",
    "date_start = '2010-01-01'\n",
    "date_end = '2014-12-31'\n",
    "# You can write up to 20GB to the current directory (/kaggle/working/) that gets preserved as output when you create a version using \"Save & Run All\" \n",
    "# You can also write temporary files to /kaggle/temp/, but they won't be saved outside of the current session"
   ]
  },
  {
   "cell_type": "code",
   "execution_count": 2,
   "id": "8a394a5f",
   "metadata": {},
   "outputs": [],
   "source": [
    "d_files = dict()\n",
    "def get_names(date_start = '2010-01-01', date_end = '2014-12-30'):\n",
    "    import os \n",
    "    from pandas.errors import EmptyDataError \n",
    "    global d_files\n",
    "    names = []\n",
    "    for dirname, _, filenames in os.walk('../Stocks/'):\n",
    "        for filename in filenames:\n",
    "            filepath = os.path.join(dirname, filename)\n",
    "            try:\n",
    "                df = pd.read_csv(filepath, delimiter=',')\n",
    "                if min(df['Date']) > date_start or max(df['Date']) < date_end:\n",
    "                    continue\n",
    "                \n",
    "                df = df[(df['Date']>date_start) & (df['Date']<=date_end)]\n",
    "                if df.shape[0] == 1256:\n",
    "                    names.append(filepath)\n",
    "                if df.shape[0] in d_files.keys():\n",
    "                    d_files[df.shape[0]] += 1\n",
    "                else:\n",
    "                    d_files[df.shape[0]] = 1\n",
    "                # TODO\n",
    "                #if df.shape[0] == 1257 (324 companies):\n",
    "                #.   define method merge_dates()\n",
    "                #    names.append(filepath)\n",
    "            except EmptyDataError:\n",
    "                continue\n",
    "    return names"
   ]
  },
  {
   "cell_type": "code",
   "execution_count": 3,
   "id": "67ebd570",
   "metadata": {},
   "outputs": [
    {
     "name": "stdout",
     "output_type": "stream",
     "text": [
      "--- 35.54583144187927 seconds ---\n",
      "33.856845% (2436) files are valid\n"
     ]
    }
   ],
   "source": [
    "import time\n",
    "start_time = time.time()\n",
    "valid_names = get_names()\n",
    "print(\"--- %s seconds ---\" % (time.time() - start_time))\n",
    "print(format(len(valid_names)/cnt, '%'), f'({len(valid_names)})', 'files are valid')"
   ]
  },
  {
   "cell_type": "code",
   "execution_count": 4,
   "id": "cd118851",
   "metadata": {},
   "outputs": [
    {
     "name": "stdout",
     "output_type": "stream",
     "text": [
      "{1256: 2436, 1257: 367, 1255: 74, 1254: 41, 1253: 22, 1251: 21, 1252: 20, 1248: 16, 1249: 14, 1243: 11}\n"
     ]
    }
   ],
   "source": [
    "print(dict(sorted(d_files.items(), key=lambda item: item[1], reverse = True)[:10]))"
   ]
  },
  {
   "cell_type": "code",
   "execution_count": 5,
   "id": "d468e9c1",
   "metadata": {},
   "outputs": [
    {
     "name": "stdout",
     "output_type": "stream",
     "text": [
      "--- 19.608327388763428 seconds ---\n"
     ]
    }
   ],
   "source": [
    "start_time = time.time()\n",
    "\n",
    "tickers = []\n",
    "Open = []\n",
    "Close = []\n",
    "High = []\n",
    "Low = []\n",
    "Volume = []\n",
    "for filename in valid_names:\n",
    "    ticker = filename.split('/')[-1].strip('.txt')\n",
    "    tickers.append(ticker)\n",
    "    \n",
    "    df = pd.read_csv(filename, delimiter=',')\n",
    "    df = df[(df['Date']>date_start) & (df['Date']<=date_end)]\n",
    "    Open.append(np.array(df['Open']))\n",
    "    Close.append(np.array(df['Close']))\n",
    "    High.append(np.array(df['High']))\n",
    "    Low.append(np.array(df['Low']))\n",
    "    Volume.append(np.array(df['Volume']))\n",
    "    \n",
    "dates = np.array(df['Date'])\n",
    "Open = pd.DataFrame(Open, columns = dates, index = tickers)\n",
    "Close = pd.DataFrame(Close, columns = dates, index = tickers)\n",
    "High = pd.DataFrame(High, columns = dates, index = tickers)\n",
    "Low = pd.DataFrame(Low, columns = dates, index = tickers)\n",
    "Volume = pd.DataFrame(Volume, columns = dates, index = tickers)\n",
    "print(\"--- %s seconds ---\" % (time.time() - start_time))"
   ]
  },
  {
   "cell_type": "code",
   "execution_count": 6,
   "id": "44dd6d31",
   "metadata": {},
   "outputs": [
    {
     "data": {
      "text/html": [
       "<div>\n",
       "<style scoped>\n",
       "    .dataframe tbody tr th:only-of-type {\n",
       "        vertical-align: middle;\n",
       "    }\n",
       "\n",
       "    .dataframe tbody tr th {\n",
       "        vertical-align: top;\n",
       "    }\n",
       "\n",
       "    .dataframe thead th {\n",
       "        text-align: right;\n",
       "    }\n",
       "</style>\n",
       "<table border=\"1\" class=\"dataframe\">\n",
       "  <thead>\n",
       "    <tr style=\"text-align: right;\">\n",
       "      <th></th>\n",
       "      <th>2010-01-04</th>\n",
       "      <th>2010-01-05</th>\n",
       "      <th>2010-01-06</th>\n",
       "      <th>2010-01-07</th>\n",
       "      <th>2010-01-08</th>\n",
       "      <th>2010-01-11</th>\n",
       "      <th>2010-01-12</th>\n",
       "      <th>2010-01-13</th>\n",
       "      <th>2010-01-14</th>\n",
       "      <th>2010-01-15</th>\n",
       "      <th>...</th>\n",
       "      <th>2014-12-17</th>\n",
       "      <th>2014-12-18</th>\n",
       "      <th>2014-12-19</th>\n",
       "      <th>2014-12-22</th>\n",
       "      <th>2014-12-23</th>\n",
       "      <th>2014-12-24</th>\n",
       "      <th>2014-12-26</th>\n",
       "      <th>2014-12-29</th>\n",
       "      <th>2014-12-30</th>\n",
       "      <th>2014-12-31</th>\n",
       "    </tr>\n",
       "  </thead>\n",
       "  <tbody>\n",
       "    <tr>\n",
       "      <th>aan.us</th>\n",
       "      <td>18.1900</td>\n",
       "      <td>18.2470</td>\n",
       "      <td>18.3840</td>\n",
       "      <td>18.3840</td>\n",
       "      <td>18.4040</td>\n",
       "      <td>18.7280</td>\n",
       "      <td>18.6310</td>\n",
       "      <td>18.8160</td>\n",
       "      <td>18.9630</td>\n",
       "      <td>18.9440</td>\n",
       "      <td>...</td>\n",
       "      <td>27.917</td>\n",
       "      <td>28.343</td>\n",
       "      <td>28.333</td>\n",
       "      <td>28.936</td>\n",
       "      <td>29.788</td>\n",
       "      <td>30.027</td>\n",
       "      <td>30.124</td>\n",
       "      <td>30.709</td>\n",
       "      <td>30.431</td>\n",
       "      <td>30.282</td>\n",
       "    </tr>\n",
       "    <tr>\n",
       "      <th>aaon.us</th>\n",
       "      <td>5.5553</td>\n",
       "      <td>5.3941</td>\n",
       "      <td>5.1802</td>\n",
       "      <td>5.3719</td>\n",
       "      <td>5.4357</td>\n",
       "      <td>5.5831</td>\n",
       "      <td>5.5024</td>\n",
       "      <td>5.5386</td>\n",
       "      <td>5.5332</td>\n",
       "      <td>5.3219</td>\n",
       "      <td>...</td>\n",
       "      <td>21.103</td>\n",
       "      <td>21.513</td>\n",
       "      <td>21.219</td>\n",
       "      <td>21.445</td>\n",
       "      <td>21.719</td>\n",
       "      <td>21.954</td>\n",
       "      <td>21.916</td>\n",
       "      <td>21.847</td>\n",
       "      <td>21.886</td>\n",
       "      <td>21.935</td>\n",
       "    </tr>\n",
       "    <tr>\n",
       "      <th>aap.us</th>\n",
       "      <td>39.7330</td>\n",
       "      <td>39.4960</td>\n",
       "      <td>39.8410</td>\n",
       "      <td>39.8320</td>\n",
       "      <td>39.9900</td>\n",
       "      <td>39.5950</td>\n",
       "      <td>38.9060</td>\n",
       "      <td>39.4470</td>\n",
       "      <td>38.9260</td>\n",
       "      <td>38.6780</td>\n",
       "      <td>...</td>\n",
       "      <td>158.780</td>\n",
       "      <td>159.970</td>\n",
       "      <td>159.080</td>\n",
       "      <td>158.670</td>\n",
       "      <td>160.480</td>\n",
       "      <td>159.520</td>\n",
       "      <td>159.290</td>\n",
       "      <td>160.510</td>\n",
       "      <td>159.320</td>\n",
       "      <td>158.570</td>\n",
       "    </tr>\n",
       "    <tr>\n",
       "      <th>aau.us</th>\n",
       "      <td>1.1000</td>\n",
       "      <td>1.1500</td>\n",
       "      <td>1.2900</td>\n",
       "      <td>1.2400</td>\n",
       "      <td>1.2600</td>\n",
       "      <td>1.2400</td>\n",
       "      <td>1.2400</td>\n",
       "      <td>1.2500</td>\n",
       "      <td>1.2200</td>\n",
       "      <td>1.1400</td>\n",
       "      <td>...</td>\n",
       "      <td>0.970</td>\n",
       "      <td>0.960</td>\n",
       "      <td>0.970</td>\n",
       "      <td>0.930</td>\n",
       "      <td>0.910</td>\n",
       "      <td>0.940</td>\n",
       "      <td>0.970</td>\n",
       "      <td>0.920</td>\n",
       "      <td>0.950</td>\n",
       "      <td>0.940</td>\n",
       "    </tr>\n",
       "    <tr>\n",
       "      <th>aav.us</th>\n",
       "      <td>6.8300</td>\n",
       "      <td>7.1200</td>\n",
       "      <td>7.2700</td>\n",
       "      <td>7.1100</td>\n",
       "      <td>7.2900</td>\n",
       "      <td>7.2200</td>\n",
       "      <td>7.0000</td>\n",
       "      <td>7.1500</td>\n",
       "      <td>7.1100</td>\n",
       "      <td>7.0300</td>\n",
       "      <td>...</td>\n",
       "      <td>5.150</td>\n",
       "      <td>4.910</td>\n",
       "      <td>5.130</td>\n",
       "      <td>4.760</td>\n",
       "      <td>4.690</td>\n",
       "      <td>4.680</td>\n",
       "      <td>4.600</td>\n",
       "      <td>4.670</td>\n",
       "      <td>4.650</td>\n",
       "      <td>4.790</td>\n",
       "    </tr>\n",
       "  </tbody>\n",
       "</table>\n",
       "<p>5 rows × 1257 columns</p>\n",
       "</div>"
      ],
      "text/plain": [
       "         2010-01-04  2010-01-05  2010-01-06  2010-01-07  2010-01-08  \\\n",
       "aan.us      18.1900     18.2470     18.3840     18.3840     18.4040   \n",
       "aaon.us      5.5553      5.3941      5.1802      5.3719      5.4357   \n",
       "aap.us      39.7330     39.4960     39.8410     39.8320     39.9900   \n",
       "aau.us       1.1000      1.1500      1.2900      1.2400      1.2600   \n",
       "aav.us       6.8300      7.1200      7.2700      7.1100      7.2900   \n",
       "\n",
       "         2010-01-11  2010-01-12  2010-01-13  2010-01-14  2010-01-15  ...  \\\n",
       "aan.us      18.7280     18.6310     18.8160     18.9630     18.9440  ...   \n",
       "aaon.us      5.5831      5.5024      5.5386      5.5332      5.3219  ...   \n",
       "aap.us      39.5950     38.9060     39.4470     38.9260     38.6780  ...   \n",
       "aau.us       1.2400      1.2400      1.2500      1.2200      1.1400  ...   \n",
       "aav.us       7.2200      7.0000      7.1500      7.1100      7.0300  ...   \n",
       "\n",
       "         2014-12-17  2014-12-18  2014-12-19  2014-12-22  2014-12-23  \\\n",
       "aan.us       27.917      28.343      28.333      28.936      29.788   \n",
       "aaon.us      21.103      21.513      21.219      21.445      21.719   \n",
       "aap.us      158.780     159.970     159.080     158.670     160.480   \n",
       "aau.us        0.970       0.960       0.970       0.930       0.910   \n",
       "aav.us        5.150       4.910       5.130       4.760       4.690   \n",
       "\n",
       "         2014-12-24  2014-12-26  2014-12-29  2014-12-30  2014-12-31  \n",
       "aan.us       30.027      30.124      30.709      30.431      30.282  \n",
       "aaon.us      21.954      21.916      21.847      21.886      21.935  \n",
       "aap.us      159.520     159.290     160.510     159.320     158.570  \n",
       "aau.us        0.940       0.970       0.920       0.950       0.940  \n",
       "aav.us        4.680       4.600       4.670       4.650       4.790  \n",
       "\n",
       "[5 rows x 1257 columns]"
      ]
     },
     "execution_count": 6,
     "metadata": {},
     "output_type": "execute_result"
    }
   ],
   "source": [
    "Close.head()"
   ]
  },
  {
   "cell_type": "code",
   "execution_count": 11,
   "id": "4a040349",
   "metadata": {},
   "outputs": [
    {
     "data": {
      "text/plain": [
       "(2436, 1257)"
      ]
     },
     "execution_count": 11,
     "metadata": {},
     "output_type": "execute_result"
    }
   ],
   "source": [
    "Close.shape"
   ]
  },
  {
   "cell_type": "code",
   "execution_count": 7,
   "id": "2ae54a50",
   "metadata": {},
   "outputs": [
    {
     "data": {
      "text/plain": [
       "2436"
      ]
     },
     "execution_count": 7,
     "metadata": {},
     "output_type": "execute_result"
    }
   ],
   "source": [
    "N = len(Close)\n",
    "N"
   ]
  },
  {
   "cell_type": "code",
   "execution_count": 8,
   "id": "96989b27",
   "metadata": {},
   "outputs": [],
   "source": [
    "def q_to_alpha(q):\n",
    "    x = q - np.array(q).mean()\n",
    "    return (x)/(np.linalg.norm(x, ord=1) + 1e-9)\n",
    "\n",
    "\n",
    "def f(q):\n",
    "    return 1 / (1 + np.exp(-q ** 2))\n",
    "\n",
    "def min_max(q):\n",
    "    return (q - q.min()) / (q.max() - q.min())"
   ]
  },
  {
   "cell_type": "code",
   "execution_count": 9,
   "id": "32eb8811",
   "metadata": {},
   "outputs": [
    {
     "data": {
      "text/html": [
       "<div>\n",
       "<style scoped>\n",
       "    .dataframe tbody tr th:only-of-type {\n",
       "        vertical-align: middle;\n",
       "    }\n",
       "\n",
       "    .dataframe tbody tr th {\n",
       "        vertical-align: top;\n",
       "    }\n",
       "\n",
       "    .dataframe thead th {\n",
       "        text-align: right;\n",
       "    }\n",
       "</style>\n",
       "<table border=\"1\" class=\"dataframe\">\n",
       "  <thead>\n",
       "    <tr style=\"text-align: right;\">\n",
       "      <th></th>\n",
       "      <th>2010-01-04</th>\n",
       "      <th>2010-01-05</th>\n",
       "      <th>2010-01-06</th>\n",
       "      <th>2010-01-07</th>\n",
       "      <th>2010-01-08</th>\n",
       "      <th>2010-01-11</th>\n",
       "      <th>2010-01-12</th>\n",
       "      <th>2010-01-13</th>\n",
       "      <th>2010-01-14</th>\n",
       "      <th>2010-01-15</th>\n",
       "      <th>...</th>\n",
       "      <th>2014-12-17</th>\n",
       "      <th>2014-12-18</th>\n",
       "      <th>2014-12-19</th>\n",
       "      <th>2014-12-22</th>\n",
       "      <th>2014-12-23</th>\n",
       "      <th>2014-12-24</th>\n",
       "      <th>2014-12-26</th>\n",
       "      <th>2014-12-29</th>\n",
       "      <th>2014-12-30</th>\n",
       "      <th>2014-12-31</th>\n",
       "    </tr>\n",
       "  </thead>\n",
       "  <tbody>\n",
       "    <tr>\n",
       "      <th>aan.us</th>\n",
       "      <td>18.1900</td>\n",
       "      <td>18.2470</td>\n",
       "      <td>18.3840</td>\n",
       "      <td>18.3840</td>\n",
       "      <td>18.4040</td>\n",
       "      <td>18.7280</td>\n",
       "      <td>18.6310</td>\n",
       "      <td>18.8160</td>\n",
       "      <td>18.9630</td>\n",
       "      <td>18.9440</td>\n",
       "      <td>...</td>\n",
       "      <td>27.917</td>\n",
       "      <td>28.343</td>\n",
       "      <td>28.333</td>\n",
       "      <td>28.936</td>\n",
       "      <td>29.788</td>\n",
       "      <td>30.027</td>\n",
       "      <td>30.124</td>\n",
       "      <td>30.709</td>\n",
       "      <td>30.431</td>\n",
       "      <td>30.282</td>\n",
       "    </tr>\n",
       "    <tr>\n",
       "      <th>aaon.us</th>\n",
       "      <td>5.5553</td>\n",
       "      <td>5.3941</td>\n",
       "      <td>5.1802</td>\n",
       "      <td>5.3719</td>\n",
       "      <td>5.4357</td>\n",
       "      <td>5.5831</td>\n",
       "      <td>5.5024</td>\n",
       "      <td>5.5386</td>\n",
       "      <td>5.5332</td>\n",
       "      <td>5.3219</td>\n",
       "      <td>...</td>\n",
       "      <td>21.103</td>\n",
       "      <td>21.513</td>\n",
       "      <td>21.219</td>\n",
       "      <td>21.445</td>\n",
       "      <td>21.719</td>\n",
       "      <td>21.954</td>\n",
       "      <td>21.916</td>\n",
       "      <td>21.847</td>\n",
       "      <td>21.886</td>\n",
       "      <td>21.935</td>\n",
       "    </tr>\n",
       "    <tr>\n",
       "      <th>aap.us</th>\n",
       "      <td>39.7330</td>\n",
       "      <td>39.4960</td>\n",
       "      <td>39.8410</td>\n",
       "      <td>39.8320</td>\n",
       "      <td>39.9900</td>\n",
       "      <td>39.5950</td>\n",
       "      <td>38.9060</td>\n",
       "      <td>39.4470</td>\n",
       "      <td>38.9260</td>\n",
       "      <td>38.6780</td>\n",
       "      <td>...</td>\n",
       "      <td>158.780</td>\n",
       "      <td>159.970</td>\n",
       "      <td>159.080</td>\n",
       "      <td>158.670</td>\n",
       "      <td>160.480</td>\n",
       "      <td>159.520</td>\n",
       "      <td>159.290</td>\n",
       "      <td>160.510</td>\n",
       "      <td>159.320</td>\n",
       "      <td>158.570</td>\n",
       "    </tr>\n",
       "    <tr>\n",
       "      <th>aau.us</th>\n",
       "      <td>1.1000</td>\n",
       "      <td>1.1500</td>\n",
       "      <td>1.2900</td>\n",
       "      <td>1.2400</td>\n",
       "      <td>1.2600</td>\n",
       "      <td>1.2400</td>\n",
       "      <td>1.2400</td>\n",
       "      <td>1.2500</td>\n",
       "      <td>1.2200</td>\n",
       "      <td>1.1400</td>\n",
       "      <td>...</td>\n",
       "      <td>0.970</td>\n",
       "      <td>0.960</td>\n",
       "      <td>0.970</td>\n",
       "      <td>0.930</td>\n",
       "      <td>0.910</td>\n",
       "      <td>0.940</td>\n",
       "      <td>0.970</td>\n",
       "      <td>0.920</td>\n",
       "      <td>0.950</td>\n",
       "      <td>0.940</td>\n",
       "    </tr>\n",
       "    <tr>\n",
       "      <th>aav.us</th>\n",
       "      <td>6.8300</td>\n",
       "      <td>7.1200</td>\n",
       "      <td>7.2700</td>\n",
       "      <td>7.1100</td>\n",
       "      <td>7.2900</td>\n",
       "      <td>7.2200</td>\n",
       "      <td>7.0000</td>\n",
       "      <td>7.1500</td>\n",
       "      <td>7.1100</td>\n",
       "      <td>7.0300</td>\n",
       "      <td>...</td>\n",
       "      <td>5.150</td>\n",
       "      <td>4.910</td>\n",
       "      <td>5.130</td>\n",
       "      <td>4.760</td>\n",
       "      <td>4.690</td>\n",
       "      <td>4.680</td>\n",
       "      <td>4.600</td>\n",
       "      <td>4.670</td>\n",
       "      <td>4.650</td>\n",
       "      <td>4.790</td>\n",
       "    </tr>\n",
       "  </tbody>\n",
       "</table>\n",
       "<p>5 rows × 1257 columns</p>\n",
       "</div>"
      ],
      "text/plain": [
       "         2010-01-04  2010-01-05  2010-01-06  2010-01-07  2010-01-08  \\\n",
       "aan.us      18.1900     18.2470     18.3840     18.3840     18.4040   \n",
       "aaon.us      5.5553      5.3941      5.1802      5.3719      5.4357   \n",
       "aap.us      39.7330     39.4960     39.8410     39.8320     39.9900   \n",
       "aau.us       1.1000      1.1500      1.2900      1.2400      1.2600   \n",
       "aav.us       6.8300      7.1200      7.2700      7.1100      7.2900   \n",
       "\n",
       "         2010-01-11  2010-01-12  2010-01-13  2010-01-14  2010-01-15  ...  \\\n",
       "aan.us      18.7280     18.6310     18.8160     18.9630     18.9440  ...   \n",
       "aaon.us      5.5831      5.5024      5.5386      5.5332      5.3219  ...   \n",
       "aap.us      39.5950     38.9060     39.4470     38.9260     38.6780  ...   \n",
       "aau.us       1.2400      1.2400      1.2500      1.2200      1.1400  ...   \n",
       "aav.us       7.2200      7.0000      7.1500      7.1100      7.0300  ...   \n",
       "\n",
       "         2014-12-17  2014-12-18  2014-12-19  2014-12-22  2014-12-23  \\\n",
       "aan.us       27.917      28.343      28.333      28.936      29.788   \n",
       "aaon.us      21.103      21.513      21.219      21.445      21.719   \n",
       "aap.us      158.780     159.970     159.080     158.670     160.480   \n",
       "aau.us        0.970       0.960       0.970       0.930       0.910   \n",
       "aav.us        5.150       4.910       5.130       4.760       4.690   \n",
       "\n",
       "         2014-12-24  2014-12-26  2014-12-29  2014-12-30  2014-12-31  \n",
       "aan.us       30.027      30.124      30.709      30.431      30.282  \n",
       "aaon.us      21.954      21.916      21.847      21.886      21.935  \n",
       "aap.us      159.520     159.290     160.510     159.320     158.570  \n",
       "aau.us        0.940       0.970       0.920       0.950       0.940  \n",
       "aav.us        4.680       4.600       4.670       4.650       4.790  \n",
       "\n",
       "[5 rows x 1257 columns]"
      ]
     },
     "execution_count": 9,
     "metadata": {},
     "output_type": "execute_result"
    }
   ],
   "source": [
    "Close.head()"
   ]
  },
  {
   "cell_type": "code",
   "execution_count": 10,
   "id": "1aa1a25e",
   "metadata": {},
   "outputs": [
    {
     "name": "stdout",
     "output_type": "stream",
     "text": [
      "[5, 1, 2, 6, -1, -7, 2]\n"
     ]
    },
    {
     "data": {
      "text/plain": [
       "array([ 1,  0,  0,  1, -1, -1,  0])"
      ]
     },
     "execution_count": 10,
     "metadata": {},
     "output_type": "execute_result"
    }
   ],
   "source": [
    "def take_top(q, n=10, mode='unit'):\n",
    "    top_ind = np.argpartition(q, -n)[-n:]\n",
    "    bottom_ind = np.argpartition(q, n)[:n]\n",
    "    a = np.zeros_like(q)\n",
    "    if mode == 'unit':\n",
    "        pad_values_plus = 1\n",
    "        pad_values_minus = -1\n",
    "    elif mode == 'same':\n",
    "        pad_values_plus = q[top_ind]\n",
    "        pad_values_minus = q[bottom_ind]\n",
    "    a[top_ind] = pad_values_plus\n",
    "    a[bottom_ind] = pad_values_minus\n",
    "    return a\n",
    "q = [5, 1, 2, 6, -1, -7, 2]\n",
    "print(q)\n",
    "take_top(q, 2)"
   ]
  },
  {
   "cell_type": "code",
   "execution_count": null,
   "id": "82bbb314",
   "metadata": {},
   "outputs": [],
   "source": []
  },
  {
   "cell_type": "code",
   "execution_count": 11,
   "id": "ca28fea0",
   "metadata": {},
   "outputs": [],
   "source": [
    "from numba import jit\n"
   ]
  },
  {
   "cell_type": "code",
   "execution_count": 226,
   "id": "f94a16b9",
   "metadata": {},
   "outputs": [
    {
     "data": {
      "text/plain": [
       "[2]"
      ]
     },
     "execution_count": 226,
     "metadata": {},
     "output_type": "execute_result"
    }
   ],
   "source": [
    "[1,2,3][1:2]"
   ]
  },
  {
   "cell_type": "code",
   "execution_count": 16,
   "id": "4f20b13d",
   "metadata": {},
   "outputs": [
    {
     "name": "stderr",
     "output_type": "stream",
     "text": [
      "100%|██████████████████████████████████████████████████████████████████████████████| 1257/1257 [02:01<00:00, 10.38it/s]\n"
     ]
    }
   ],
   "source": [
    "from sklearn.preprocessing import MinMaxScaler\n",
    "from tqdm import tqdm\n",
    "def calculate_volatility():\n",
    "    n = 6\n",
    "    T = 252\n",
    "    threshold = 0.1\n",
    "    max_weight = 0.003\n",
    "    \n",
    "    alpha_initial = q_to_alpha(np.random.randn(N))\n",
    "    alpha_weight = 1.34\n",
    "\n",
    "    k = (alpha_weight - 1) / (alpha_weight + (T+1) / (T-1))\n",
    "    volatilities = []\n",
    "    for i in tqdm(range(Close.shape[1])):\n",
    "        if i<n:\n",
    "            volatilities.append(np.ones(N) * 1e-3)\n",
    "        else:\n",
    "            \n",
    "            if i > 1:\n",
    "                start_index = 1 if i < T+1 else i-T\n",
    "\n",
    "                sigma_o = np.log( Open.T.iloc[start_index:i].values / (Close.T.iloc[start_index-1: i -1] + 1e-9).values)\n",
    "                sigma_o = sigma_o - sigma_o.mean(axis=0)\n",
    "                sigma_o = np.sum(sigma_o**2, axis=0) / (T-1)\n",
    "\n",
    "                sigma_c = np.log( Close.T.iloc[start_index:i] / (Open.T.iloc[start_index: i] + 1e-9)).values\n",
    "                sigma_c = sigma_c - sigma_c.mean(axis=0)\n",
    "                sigma_c = np.sum(sigma_c**2, axis=0) / (T-1)\n",
    "\n",
    "                sigma_rs = np.log( High.T.iloc[start_index:i] / (Close.T.iloc[start_index: i]  + 1e-9)) * \\\n",
    "                           np.log(High.T.iloc[start_index:i] / (Open.T.iloc[start_index: i]  + 1e-9)) + \\\n",
    "                           np.log( (Low.T.iloc[start_index:i]+1e-9) / (Close.T.iloc[start_index: i]  + 1e-9)) * \\\n",
    "                           np.log((Low.T.iloc[start_index:i]+1e-9) / (Open.T.iloc[start_index: i]  + 1e-9))\n",
    "                sigma_rs = sigma_rs.mean(axis=0).values\n",
    "\n",
    "                sigma_xz = sigma_o + k * sigma_c + (1-k) * sigma_rs\n",
    "\n",
    "                assert np.isnan(sigma_xz).any() == False, i\n",
    "                q2 = sigma_xz\n",
    "#                 q2 = scaler.fit_transform(sigma_xz.reshape(-1,1)).squeeze()\n",
    "            else:\n",
    "                q2 = np.random.randn(N)\n",
    "            volatilities.append(q2)\n",
    "    assert len(volatilities) == 1257\n",
    "    return volatilities\n",
    "volatilities = calculate_volatility()"
   ]
  },
  {
   "cell_type": "code",
   "execution_count": 206,
   "id": "7d688c20",
   "metadata": {},
   "outputs": [],
   "source": [
    "def truncate(q, max_weight=0.03):\n",
    "    a = np.copy(q)\n",
    "    while max(abs(a)) > max_weight:\n",
    "        a = np.clip(a, -max_weight, max_weight)\n",
    "        a = q_to_alpha(a)\n",
    "    return a\n",
    "def decay(q, alphas, back_n):\n",
    "    a = np.copy(q)\n",
    "    for j, alpha in enumerate(alphas[-back_n:]):\n",
    "        a += (j+1) / back_n * alpha\n",
    "    return q_to_alpha(a)"
   ]
  },
  {
   "cell_type": "code",
   "execution_count": 381,
   "id": "6f866aaf",
   "metadata": {},
   "outputs": [],
   "source": [
    "# @jit(nopython=True)\n",
    "\n",
    "def create_alpha():\n",
    "    A = []\n",
    "    pnls = []\n",
    "    turnovers = []\n",
    "    sharpe_ratios = []\n",
    "    global Q1\n",
    "    global Q2\n",
    "    global Q3\n",
    "    n = 6\n",
    "    T = 252\n",
    "    threshold = 0.1\n",
    "    max_weight = 0.003\n",
    "    \n",
    "    scaler = MinMaxScaler((-max_weight, max_weight))\n",
    "    alpha_initial = q_to_alpha(np.random.randn(N))\n",
    "    alpha_weight = 1.34\n",
    "    A_reversions = []\n",
    "    k = (alpha_weight - 1) / (alpha_weight + (T+1) / (T-1))\n",
    "\n",
    "    for i in tqdm(range(Close.shape[1])):\n",
    "        if i<n:\n",
    "            A.append(alpha_initial)\n",
    "            A_reversions.append(alpha_initial)\n",
    "            \n",
    "        if i>=n:\n",
    "            start_index = 1 if i < T+1 else i-T\n",
    "            volume = Volume.T.iloc[i-1].values / Volume.T.iloc[i-1].values.sum()\n",
    "\n",
    "            '''\n",
    "            Momentum factors\n",
    "            \n",
    "            '''\n",
    "#             q3 = (Close.T.iloc[i-1].values - Close.T.iloc[i-6].values) / Close.T.iloc[i-6].values * volume\n",
    "#             if i > 20:\n",
    "#                 momentum_start_index = i-20 if i > 20 else 0\n",
    "\n",
    "#                 ma = Close.T.iloc[momentum_start_index:i-1].rolling(window=n-1).mean().values\n",
    "#                 average_price = ma[-1] / ma[-2] - 1 \n",
    "#                 q1 = average_price * volume\n",
    "#             else:\n",
    "#                 q1 = q3\n",
    "            q_reversion = (Close.T.iloc[i-n].values - Close.T.iloc[i-1].values) / Close.T.iloc[i-n].values\n",
    "            q_reversion *= volume\n",
    "            \n",
    "            q1 = q_reversion\n",
    "        \n",
    "            '''\n",
    "            reversion: top 200 + volume or top 300 without volume\n",
    "            '''\n",
    "\n",
    "\n",
    "            '''\n",
    "            Volatility factors\n",
    "            '''\n",
    "            q2 = volatilities[i] #* volume\n",
    "            \n",
    "\n",
    "                \n",
    "            '''\n",
    "            good strategy \n",
    "            take top q1 + take top q3 + truncated q3\n",
    "            '''\n",
    "\n",
    "            \n",
    "            \n",
    "            '''\n",
    "            Take Top processing\n",
    "            '''\n",
    "#             q1 = scaler.fit_transform(q1.reshape(-1, 1)).squeeze()\n",
    "#             q3 = scaler.fit_transform(q3.reshape(-1, 1)).squeeze()\n",
    "            \n",
    "#             q_reversion = take_top(q_reversion, 300)\n",
    "            if i < T*3:\n",
    "                q1 = take_top(q1, 300, 'unit')\n",
    "                q1 = q_to_alpha(q1)\n",
    "                q1 = decay(q1, A, 3)\n",
    "                q2 = take_top(q2, 200, 'unit')\n",
    "                c2 = 2e-4\n",
    "                q = (1-c2) * q1  + c2 *q2\n",
    "            elif T*3 <= i < T * 4:\n",
    "                q2 = take_top(q2, 200, 'unit')\n",
    "                q = q2\n",
    "\n",
    "            else:\n",
    "#              \n",
    "                q1 = take_top(q1, 9, 'unit')\n",
    "                q1 = q_to_alpha(q1)\n",
    "#                 q1 = decay(q1, A, 3)\n",
    "                q2 = q2\n",
    "                q2 = take_top(q2, 9, 'unit')\n",
    "                q2 = q_to_alpha(q2)\n",
    "                c2 = 0.7\n",
    "                q = -((1-c2) * q1 + c2 * q2)\n",
    "\n",
    "            '''\n",
    "            Factor aggregation\n",
    "            '''\n",
    "#             q1 = q_to_alpha(q1)\n",
    "#             q2 = q_to_alpha(q2)\n",
    "#             q3 = q_to_alpha(q3)\n",
    "            \n",
    "\n",
    "            \n",
    "            \n",
    "           \n",
    "            \n",
    "           \n",
    "            \n",
    "#             c1 = C1\n",
    "#             c2 = 1-C1\n",
    "# #             c3 = 1 - c1 - c2\n",
    "#             q = c1 * (q1) + c2 * q2 #+ c3 * (-q3)\n",
    "#             q = q_to_alpha(q)\n",
    "\n",
    "        #         q = -q1\n",
    "\n",
    "            '''\n",
    "            Decay processing\n",
    "        '''\n",
    "#             for j, alpha in enumerate(A[-3:]):\n",
    "#                 q += (j+1) / 3 * alpha\n",
    "#             q = q_to_alpha(q)\n",
    "            '''\n",
    "            Truncation processing\n",
    "            '''\n",
    "\n",
    "        #         while max(abs(q)) > max_weight:\n",
    "        #             q = np.clip(q, -max_weight, max_weight)\n",
    "        #             q = q_to_alpha(q)\n",
    "\n",
    "            q = q_to_alpha(q)\n",
    "\n",
    "            assert np.isclose(sum(q), 0, atol=1e-6), sum(q)\n",
    "            assert np.isclose(sum(map(abs, q)), 1, atol=1e-6)\n",
    "\n",
    "            A.append((q))\n",
    "            A_reversions.append(q1)\n",
    "        r = (Close.T.iloc[i].values - Close.T.iloc[i-1].values) / Close.T.iloc[i-1].values\n",
    "\n",
    "\n",
    "        turnover = np.abs(A[i] - A[i-1]).sum() * 100 if i >= n else 0\n",
    "        turnovers.append(turnover)\n",
    "\n",
    "        pnl = (A[i-1] * r).sum() if i >= n else 0\n",
    "        pnls.append(pnl)\n",
    "\n",
    "\n",
    "        sharpe_ratio = np.array(pnls[-T:]).mean() / np.array(pnls[-T:]).std() * (T**0.5)\n",
    "        sharpe_ratios.append(sharpe_ratio)\n",
    "    return pnls, turnovers, sharpe_ratios, A"
   ]
  },
  {
   "cell_type": "code",
   "execution_count": 382,
   "id": "2297ebb5",
   "metadata": {},
   "outputs": [],
   "source": [
    "n = 6\n",
    "T = 252\n",
    "threshold = 0.1\n",
    "\n",
    "alpha_initial = q_to_alpha(np.random.randn(N))\n",
    "max_weight = 0.03\n",
    "alpha_weight = 1.34"
   ]
  },
  {
   "cell_type": "code",
   "execution_count": 383,
   "id": "dc8fcfbc",
   "metadata": {},
   "outputs": [
    {
     "name": "stderr",
     "output_type": "stream",
     "text": [
      "  0%|                                                                                         | 0/1257 [00:00<?, ?it/s]D:\\programs\\Anaconda\\lib\\site-packages\\ipykernel_launcher.py:150: RuntimeWarning: invalid value encountered in double_scalars\n",
      "100%|█████████████████████████████████████████████████████████████████████████████| 1257/1257 [00:05<00:00, 237.89it/s]\n"
     ]
    },
    {
     "name": "stdout",
     "output_type": "stream",
     "text": [
      "For top number 10 sharp is [2.395975996435903, 1.6187092489547201, 1.8087291900115692, 3.6727334451684763, 1.5169326404159522]\n",
      "For top number 10 turnovers is [33.13045713179092, 33.724854169660105, 31.792706713341023, 2.2493386234489736, 30.802390268913108]\n"
     ]
    },
    {
     "data": {
      "image/png": "[encoded data removed]",
      "text/plain": [
       "<Figure size 432x288 with 1 Axes>"
      ]
     },
     "metadata": {
      "needs_background": "light"
     },
     "output_type": "display_data"
    }
   ],
   "source": [
    "pnls, turnovers, sharpe_ratios, A = create_alpha()\n",
    "plt.title('PnL')\n",
    "    \n",
    "plt.plot(np.cumsum(pnls), label=f'Top number {TOP_NUMBER}')\n",
    "sharpe_ratios_year = []\n",
    "turnover_years = []\n",
    "for i in range(5):\n",
    "    sharpe_ratio = np.array(pnls[i * T + n: (i+1) * T+n]).mean() / np.array(pnls[i * T + n: (i+1) * T + n]).std() * (T**0.5)\n",
    "    sharpe_ratios_year.append(sharpe_ratio)\n",
    "    \n",
    "    turnover_year = np.mean(turnovers[i*T +n: (i+1) * T + n])\n",
    "    turnover_years.append(turnover_year)\n",
    "print(f\"For top number {TOP_NUMBER} sharp is {(sharpe_ratios_year)}\")\n",
    "print(f\"For top number {TOP_NUMBER} turnovers is {(turnover_years)}\")\n",
    "\n",
    "plt.legend()\n",
    "plt.show()"
   ]
  },
  {
   "cell_type": "code",
   "execution_count": 344,
   "id": "950ade6f",
   "metadata": {
    "scrolled": false
   },
   "outputs": [
    {
     "name": "stderr",
     "output_type": "stream",
     "text": [
      "  0%|                                                                                         | 0/1257 [00:00<?, ?it/s]D:\\programs\\Anaconda\\lib\\site-packages\\ipykernel_launcher.py:150: RuntimeWarning: invalid value encountered in double_scalars\n",
      "100%|█████████████████████████████████████████████████████████████████████████████| 1257/1257 [00:05<00:00, 235.23it/s]\n"
     ]
    },
    {
     "name": "stdout",
     "output_type": "stream",
     "text": [
      "For Q1_TOP_NUMBER 10 Q2_TOP_NUMBER 10 Q1_DECAY_STEP 2 C2 0.5 sharp is [2.3895556344886297, 1.6187092489547203, 1.8087291900115692, 3.6554072820467645, 1.5591301688213044]\n",
      "For Q1_TOP_NUMBER 10 Q2_TOP_NUMBER 10 Q1_DECAY_STEP 2 C2 0.5 turnovers is [33.12216787316415, 33.724854169660105, 31.792706713341023, 3.0275299097763577, 76.0935315959295]\n"
     ]
    },
    {
     "name": "stderr",
     "output_type": "stream",
     "text": [
      "100%|█████████████████████████████████████████████████████████████████████████████| 1257/1257 [00:05<00:00, 236.46it/s]\n"
     ]
    },
    {
     "name": "stdout",
     "output_type": "stream",
     "text": [
      "For Q1_TOP_NUMBER 10 Q2_TOP_NUMBER 10 Q1_DECAY_STEP 2 C2 0.6 sharp is [2.411255961619665, 1.6187092489547203, 1.8087291900115692, 3.6005711167966163, 1.5273563493111817]\n",
      "For Q1_TOP_NUMBER 10 Q2_TOP_NUMBER 10 Q1_DECAY_STEP 2 C2 0.6 turnovers is [33.12742623778316, 33.724854169660105, 31.792706713341023, 2.5553630490768913, 48.22739178105395]\n"
     ]
    },
    {
     "name": "stderr",
     "output_type": "stream",
     "text": [
      "100%|█████████████████████████████████████████████████████████████████████████████| 1257/1257 [00:05<00:00, 218.65it/s]\n"
     ]
    },
    {
     "name": "stdout",
     "output_type": "stream",
     "text": [
      "For Q1_TOP_NUMBER 10 Q2_TOP_NUMBER 10 Q1_DECAY_STEP 2 C2 0.7 sharp is [2.437876007886045, 1.6187092489547203, 1.8087291900115692, 3.5634693439764815, 1.4460042084749247]\n",
      "For Q1_TOP_NUMBER 10 Q2_TOP_NUMBER 10 Q1_DECAY_STEP 2 C2 0.7 turnovers is [33.13645897484801, 33.724854169660105, 31.792706713341023, 2.241826550692632, 28.203018988712103]\n"
     ]
    },
    {
     "name": "stderr",
     "output_type": "stream",
     "text": [
      "100%|█████████████████████████████████████████████████████████████████████████████| 1257/1257 [00:06<00:00, 194.55it/s]\n"
     ]
    },
    {
     "name": "stdout",
     "output_type": "stream",
     "text": [
      "For Q1_TOP_NUMBER 10 Q2_TOP_NUMBER 10 Q1_DECAY_STEP 2 C2 0.8 sharp is [2.4329400027865797, 1.6187092489547203, 1.8087291900115692, 3.5364188804022745, 1.3583375689536037]\n",
      "For Q1_TOP_NUMBER 10 Q2_TOP_NUMBER 10 Q1_DECAY_STEP 2 C2 0.8 turnovers is [33.12743010608605, 33.724854169660105, 31.792706713341023, 2.0278792510059356, 15.729103285471831]\n"
     ]
    },
    {
     "name": "stderr",
     "output_type": "stream",
     "text": [
      "100%|█████████████████████████████████████████████████████████████████████████████| 1257/1257 [00:06<00:00, 198.93it/s]\n"
     ]
    },
    {
     "name": "stdout",
     "output_type": "stream",
     "text": [
      "For Q1_TOP_NUMBER 10 Q2_TOP_NUMBER 10 Q1_DECAY_STEP 2 C2 0.9 sharp is [2.4398321791609234, 1.6187092489547203, 1.8087291900115692, 3.5172916252842015, 1.2846042896148548]\n",
      "For Q1_TOP_NUMBER 10 Q2_TOP_NUMBER 10 Q1_DECAY_STEP 2 C2 0.9 turnovers is [33.134011942361184, 33.724854169660105, 31.792706713341023, 1.8785635755235934, 7.874382537480113]\n"
     ]
    },
    {
     "name": "stderr",
     "output_type": "stream",
     "text": [
      "100%|█████████████████████████████████████████████████████████████████████████████| 1257/1257 [00:06<00:00, 184.72it/s]\n"
     ]
    },
    {
     "name": "stdout",
     "output_type": "stream",
     "text": [
      "For Q1_TOP_NUMBER 10 Q2_TOP_NUMBER 10 Q1_DECAY_STEP 3 C2 0.5 sharp is [2.414611569722506, 1.6187092489547201, 1.8087291900115692, 3.5916869124331066, 1.5889244592550757]\n",
      "For Q1_TOP_NUMBER 10 Q2_TOP_NUMBER 10 Q1_DECAY_STEP 3 C2 0.5 turnovers is [33.135249741439296, 33.724854169660105, 31.792706713341023, 2.9218532439603977, 75.66065829329625]\n"
     ]
    },
    {
     "name": "stderr",
     "output_type": "stream",
     "text": [
      "100%|█████████████████████████████████████████████████████████████████████████████| 1257/1257 [00:07<00:00, 170.19it/s]\n"
     ]
    },
    {
     "name": "stdout",
     "output_type": "stream",
     "text": [
      "For Q1_TOP_NUMBER 10 Q2_TOP_NUMBER 10 Q1_DECAY_STEP 3 C2 0.6 sharp is [2.4041202185517956, 1.6187092489547203, 1.8087291900115692, 3.5620611517343326, 1.5106893986071035]\n",
      "For Q1_TOP_NUMBER 10 Q2_TOP_NUMBER 10 Q1_DECAY_STEP 3 C2 0.6 turnovers is [33.12526576068733, 33.724854169660105, 31.792706713341023, 2.514689796020365, 45.02591116117267]\n"
     ]
    },
    {
     "name": "stderr",
     "output_type": "stream",
     "text": [
      "100%|█████████████████████████████████████████████████████████████████████████████| 1257/1257 [00:06<00:00, 181.25it/s]\n"
     ]
    },
    {
     "name": "stdout",
     "output_type": "stream",
     "text": [
      "For Q1_TOP_NUMBER 10 Q2_TOP_NUMBER 10 Q1_DECAY_STEP 3 C2 0.7 sharp is [2.406998187384411, 1.6187092489547201, 1.8087291900115692, 3.5432123546658625, 1.410025568072898]\n",
      "For Q1_TOP_NUMBER 10 Q2_TOP_NUMBER 10 Q1_DECAY_STEP 3 C2 0.7 turnovers is [33.136106234829874, 33.724854169660105, 31.792706713341023, 2.2098345123249907, 25.466505414303185]\n"
     ]
    },
    {
     "name": "stderr",
     "output_type": "stream",
     "text": [
      "100%|█████████████████████████████████████████████████████████████████████████████| 1257/1257 [00:05<00:00, 213.32it/s]\n"
     ]
    },
    {
     "name": "stdout",
     "output_type": "stream",
     "text": [
      "For Q1_TOP_NUMBER 10 Q2_TOP_NUMBER 10 Q1_DECAY_STEP 3 C2 0.8 sharp is [2.4175110877598143, 1.6187092489547203, 1.8087291900115692, 3.5263197464699325, 1.3300487473187175]\n",
      "For Q1_TOP_NUMBER 10 Q2_TOP_NUMBER 10 Q1_DECAY_STEP 3 C2 0.8 turnovers is [33.13443149865055, 33.724854169660105, 31.792706713341023, 2.0110431439887266, 14.053479018407902]\n"
     ]
    },
    {
     "name": "stderr",
     "output_type": "stream",
     "text": [
      "100%|█████████████████████████████████████████████████████████████████████████████| 1257/1257 [00:05<00:00, 216.02it/s]\n"
     ]
    },
    {
     "name": "stdout",
     "output_type": "stream",
     "text": [
      "For Q1_TOP_NUMBER 10 Q2_TOP_NUMBER 10 Q1_DECAY_STEP 3 C2 0.9 sharp is [2.4191272201449103, 1.6187092489547203, 1.8087291900115692, 3.5131588185985416, 1.2709400020140333]\n",
      "For Q1_TOP_NUMBER 10 Q2_TOP_NUMBER 10 Q1_DECAY_STEP 3 C2 0.9 turnovers is [33.12342448507588, 33.724854169660105, 31.792706713341023, 1.874219051293683, 7.154487723408679]\n"
     ]
    },
    {
     "name": "stderr",
     "output_type": "stream",
     "text": [
      "100%|█████████████████████████████████████████████████████████████████████████████| 1257/1257 [00:05<00:00, 236.23it/s]\n"
     ]
    },
    {
     "name": "stdout",
     "output_type": "stream",
     "text": [
      "For Q1_TOP_NUMBER 10 Q2_TOP_NUMBER 10 Q1_DECAY_STEP 4 C2 0.5 sharp is [2.3948485466417573, 1.6187092489547203, 1.8087291900115692, 3.5901044918238187, 1.6094227275937794]\n",
      "For Q1_TOP_NUMBER 10 Q2_TOP_NUMBER 10 Q1_DECAY_STEP 4 C2 0.5 turnovers is [33.121161724245546, 33.724854169660105, 31.792706713341023, 2.8227961658157485, 74.85525308036993]\n"
     ]
    },
    {
     "name": "stderr",
     "output_type": "stream",
     "text": [
      "100%|█████████████████████████████████████████████████████████████████████████████| 1257/1257 [00:05<00:00, 238.93it/s]\n"
     ]
    },
    {
     "name": "stdout",
     "output_type": "stream",
     "text": [
      "For Q1_TOP_NUMBER 10 Q2_TOP_NUMBER 10 Q1_DECAY_STEP 4 C2 0.6 sharp is [2.4283391621819517, 1.6187092489547203, 1.8087291900115692, 3.5656783109542793, 1.48236103233102]\n",
      "For Q1_TOP_NUMBER 10 Q2_TOP_NUMBER 10 Q1_DECAY_STEP 4 C2 0.6 turnovers is [33.13362267955553, 33.724854169660105, 31.792706713341023, 2.4217971202166155, 42.32160293881789]\n"
     ]
    },
    {
     "name": "stderr",
     "output_type": "stream",
     "text": [
      "100%|█████████████████████████████████████████████████████████████████████████████| 1257/1257 [00:05<00:00, 240.95it/s]\n"
     ]
    },
    {
     "name": "stdout",
     "output_type": "stream",
     "text": [
      "For Q1_TOP_NUMBER 10 Q2_TOP_NUMBER 10 Q1_DECAY_STEP 4 C2 0.7 sharp is [2.409203695265523, 1.6187092489547203, 1.8087291900115692, 3.543080026923345, 1.3792711413214866]\n",
      "For Q1_TOP_NUMBER 10 Q2_TOP_NUMBER 10 Q1_DECAY_STEP 4 C2 0.7 turnovers is [33.12703009195823, 33.724854169660105, 31.792706713341023, 2.171202693338453, 23.2293786575964]\n"
     ]
    },
    {
     "name": "stderr",
     "output_type": "stream",
     "text": [
      "100%|█████████████████████████████████████████████████████████████████████████████| 1257/1257 [00:05<00:00, 243.42it/s]\n"
     ]
    },
    {
     "name": "stdout",
     "output_type": "stream",
     "text": [
      "For Q1_TOP_NUMBER 10 Q2_TOP_NUMBER 10 Q1_DECAY_STEP 4 C2 0.8 sharp is [2.4232633921896376, 1.6187092489547201, 1.8087291900115692, 3.523707020634213, 1.3113725946580361]\n",
      "For Q1_TOP_NUMBER 10 Q2_TOP_NUMBER 10 Q1_DECAY_STEP 4 C2 0.8 turnovers is [33.128699517822355, 33.724854169660105, 31.792706713341023, 1.9956851717261828, 12.799432416526578]\n"
     ]
    },
    {
     "name": "stderr",
     "output_type": "stream",
     "text": [
      "100%|█████████████████████████████████████████████████████████████████████████████| 1257/1257 [00:05<00:00, 233.21it/s]\n"
     ]
    },
    {
     "name": "stdout",
     "output_type": "stream",
     "text": [
      "For Q1_TOP_NUMBER 10 Q2_TOP_NUMBER 10 Q1_DECAY_STEP 4 C2 0.9 sharp is [2.4099579812425027, 1.6187092489547201, 1.8087291900115692, 3.510945535271246, 1.2627182940578636]\n",
      "For Q1_TOP_NUMBER 10 Q2_TOP_NUMBER 10 Q1_DECAY_STEP 4 C2 0.9 turnovers is [33.12974199457113, 33.724854169660105, 31.792706713341023, 1.8705883997820338, 6.632688819171542]\n"
     ]
    },
    {
     "name": "stderr",
     "output_type": "stream",
     "text": [
      "100%|█████████████████████████████████████████████████████████████████████████████| 1257/1257 [00:05<00:00, 242.85it/s]\n"
     ]
    },
    {
     "name": "stdout",
     "output_type": "stream",
     "text": [
      "For Q1_TOP_NUMBER 10 Q2_TOP_NUMBER 50 Q1_DECAY_STEP 2 C2 0.5 sharp is [2.3993884148232745, 1.6187092489547203, 1.8087291900115692, 3.4711231628714465, 1.324675061425665]\n",
      "For Q1_TOP_NUMBER 10 Q2_TOP_NUMBER 50 Q1_DECAY_STEP 2 C2 0.5 turnovers is [33.1210186632154, 33.724854169660105, 31.792706713341023, 3.137362779245869, 75.93839719207294]\n"
     ]
    },
    {
     "name": "stderr",
     "output_type": "stream",
     "text": [
      "100%|█████████████████████████████████████████████████████████████████████████████| 1257/1257 [00:05<00:00, 245.75it/s]\n"
     ]
    },
    {
     "name": "stdout",
     "output_type": "stream",
     "text": [
      "For Q1_TOP_NUMBER 10 Q2_TOP_NUMBER 50 Q1_DECAY_STEP 2 C2 0.6 sharp is [2.40548838655936, 1.6187092489547203, 1.8087291900115692, 3.343499276658542, 1.1878335230597523]\n",
      "For Q1_TOP_NUMBER 10 Q2_TOP_NUMBER 50 Q1_DECAY_STEP 2 C2 0.6 turnovers is [33.11675583192352, 33.724854169660105, 31.792706713341023, 2.641902972541042, 47.77362581582899]\n"
     ]
    },
    {
     "name": "stderr",
     "output_type": "stream",
     "text": [
      "100%|█████████████████████████████████████████████████████████████████████████████| 1257/1257 [00:05<00:00, 248.56it/s]\n"
     ]
    },
    {
     "name": "stdout",
     "output_type": "stream",
     "text": [
      "For Q1_TOP_NUMBER 10 Q2_TOP_NUMBER 50 Q1_DECAY_STEP 2 C2 0.7 sharp is [2.407548263190053, 1.6187092489547203, 1.8087291900115692, 3.235437114133284, 1.0181561867999929]\n",
      "For Q1_TOP_NUMBER 10 Q2_TOP_NUMBER 50 Q1_DECAY_STEP 2 C2 0.7 turnovers is [33.13086424959853, 33.724854169660105, 31.792706713341023, 2.3102353551748536, 27.635125699024343]\n"
     ]
    },
    {
     "name": "stderr",
     "output_type": "stream",
     "text": [
      "100%|█████████████████████████████████████████████████████████████████████████████| 1257/1257 [00:05<00:00, 234.60it/s]\n"
     ]
    },
    {
     "name": "stdout",
     "output_type": "stream",
     "text": [
      "For Q1_TOP_NUMBER 10 Q2_TOP_NUMBER 50 Q1_DECAY_STEP 2 C2 0.8 sharp is [2.394010274525624, 1.6187092489547203, 1.8087291900115692, 3.1508668012049657, 0.8751379363041055]\n",
      "For Q1_TOP_NUMBER 10 Q2_TOP_NUMBER 50 Q1_DECAY_STEP 2 C2 0.8 turnovers is [33.12578892956101, 33.724854169660105, 31.792706713341023, 2.08765366276382, 14.941470642255645]\n"
     ]
    },
    {
     "name": "stderr",
     "output_type": "stream",
     "text": [
      "100%|█████████████████████████████████████████████████████████████████████████████| 1257/1257 [00:05<00:00, 242.66it/s]\n"
     ]
    },
    {
     "name": "stdout",
     "output_type": "stream",
     "text": [
      "For Q1_TOP_NUMBER 10 Q2_TOP_NUMBER 50 Q1_DECAY_STEP 2 C2 0.9 sharp is [2.406192163341194, 1.6187092489547203, 1.8087291900115692, 3.084313627669565, 0.7681412426009873]\n",
      "For Q1_TOP_NUMBER 10 Q2_TOP_NUMBER 50 Q1_DECAY_STEP 2 C2 0.9 turnovers is [33.12281423414189, 33.724854169660105, 31.792706713341023, 1.9352714098819788, 7.003580142425048]\n"
     ]
    },
    {
     "name": "stderr",
     "output_type": "stream",
     "text": [
      "100%|█████████████████████████████████████████████████████████████████████████████| 1257/1257 [00:05<00:00, 249.25it/s]\n"
     ]
    },
    {
     "name": "stdout",
     "output_type": "stream",
     "text": [
      "For Q1_TOP_NUMBER 10 Q2_TOP_NUMBER 50 Q1_DECAY_STEP 3 C2 0.5 sharp is [2.4385010018423294, 1.6187092489547203, 1.8087291900115692, 3.4132751070053104, 1.4040209815924873]\n",
      "For Q1_TOP_NUMBER 10 Q2_TOP_NUMBER 50 Q1_DECAY_STEP 3 C2 0.5 turnovers is [33.132479737947214, 33.724854169660105, 31.792706713341023, 3.0271351106509985, 75.66261851413122]\n"
     ]
    },
    {
     "name": "stderr",
     "output_type": "stream",
     "text": [
      "100%|█████████████████████████████████████████████████████████████████████████████| 1257/1257 [00:05<00:00, 230.47it/s]\n"
     ]
    },
    {
     "name": "stdout",
     "output_type": "stream",
     "text": [
      "For Q1_TOP_NUMBER 10 Q2_TOP_NUMBER 50 Q1_DECAY_STEP 3 C2 0.6 sharp is [2.412288440170886, 1.6187092489547201, 1.8087291900115692, 3.307230099454405, 1.2074017233234156]\n",
      "For Q1_TOP_NUMBER 10 Q2_TOP_NUMBER 50 Q1_DECAY_STEP 3 C2 0.6 turnovers is [33.12018938348378, 33.724854169660105, 31.792706713341023, 2.602837498896529, 44.672706899027055]\n"
     ]
    },
    {
     "name": "stderr",
     "output_type": "stream",
     "text": [
      "100%|█████████████████████████████████████████████████████████████████████████████| 1257/1257 [00:05<00:00, 241.73it/s]\n"
     ]
    },
    {
     "name": "stdout",
     "output_type": "stream",
     "text": [
      "For Q1_TOP_NUMBER 10 Q2_TOP_NUMBER 50 Q1_DECAY_STEP 3 C2 0.7 sharp is [2.4049707442490798, 1.6187092489547203, 1.8087291900115692, 3.216387939275645, 1.0025670944111407]\n",
      "For Q1_TOP_NUMBER 10 Q2_TOP_NUMBER 50 Q1_DECAY_STEP 3 C2 0.7 turnovers is [33.12986588282052, 33.724854169660105, 31.792706713341023, 2.2874543961949785, 24.790896766549107]\n"
     ]
    },
    {
     "name": "stderr",
     "output_type": "stream",
     "text": [
      "100%|█████████████████████████████████████████████████████████████████████████████| 1257/1257 [00:05<00:00, 249.40it/s]\n"
     ]
    },
    {
     "name": "stdout",
     "output_type": "stream",
     "text": [
      "For Q1_TOP_NUMBER 10 Q2_TOP_NUMBER 50 Q1_DECAY_STEP 3 C2 0.8 sharp is [2.4194286138308607, 1.6187092489547203, 1.8087291900115692, 3.142170670416868, 0.8580536869066102]\n",
      "For Q1_TOP_NUMBER 10 Q2_TOP_NUMBER 50 Q1_DECAY_STEP 3 C2 0.8 turnovers is [33.11973306686633, 33.724854169660105, 31.792706713341023, 2.070093144460316, 13.151611069188592]\n"
     ]
    },
    {
     "name": "stderr",
     "output_type": "stream",
     "text": [
      "100%|█████████████████████████████████████████████████████████████████████████████| 1257/1257 [00:05<00:00, 251.25it/s]\n"
     ]
    },
    {
     "name": "stdout",
     "output_type": "stream",
     "text": [
      "For Q1_TOP_NUMBER 10 Q2_TOP_NUMBER 50 Q1_DECAY_STEP 3 C2 0.9 sharp is [2.4409717418548658, 1.6187092489547201, 1.8087291900115692, 3.0811421530022858, 0.759181407503452]\n",
      "For Q1_TOP_NUMBER 10 Q2_TOP_NUMBER 50 Q1_DECAY_STEP 3 C2 0.9 turnovers is [33.14624184031485, 33.724854169660105, 31.792706713341023, 1.930198518918765, 6.237698794189295]\n"
     ]
    },
    {
     "name": "stderr",
     "output_type": "stream",
     "text": [
      "100%|█████████████████████████████████████████████████████████████████████████████| 1257/1257 [00:05<00:00, 249.25it/s]\n"
     ]
    },
    {
     "name": "stdout",
     "output_type": "stream",
     "text": [
      "For Q1_TOP_NUMBER 10 Q2_TOP_NUMBER 50 Q1_DECAY_STEP 4 C2 0.5 sharp is [2.410733835170352, 1.6187092489547203, 1.8087291900115692, 3.412705288057906, 1.488480732619522]\n",
      "For Q1_TOP_NUMBER 10 Q2_TOP_NUMBER 50 Q1_DECAY_STEP 4 C2 0.5 turnovers is [33.12991599226207, 33.724854169660105, 31.792706713341023, 2.9609417309783423, 75.13541744546173]\n"
     ]
    },
    {
     "name": "stderr",
     "output_type": "stream",
     "text": [
      "100%|█████████████████████████████████████████████████████████████████████████████| 1257/1257 [00:05<00:00, 248.62it/s]\n"
     ]
    },
    {
     "name": "stdout",
     "output_type": "stream",
     "text": [
      "For Q1_TOP_NUMBER 10 Q2_TOP_NUMBER 50 Q1_DECAY_STEP 4 C2 0.6 sharp is [2.4096766082137555, 1.6187092489547201, 1.8087291900115692, 3.3146917002370206, 1.213455684123097]\n",
      "For Q1_TOP_NUMBER 10 Q2_TOP_NUMBER 50 Q1_DECAY_STEP 4 C2 0.6 turnovers is [33.129776422576846, 33.724854169660105, 31.792706713341023, 2.539232934620434, 41.904845408392376]\n"
     ]
    },
    {
     "name": "stderr",
     "output_type": "stream",
     "text": [
      "100%|█████████████████████████████████████████████████████████████████████████████| 1257/1257 [00:05<00:00, 241.73it/s]\n"
     ]
    },
    {
     "name": "stdout",
     "output_type": "stream",
     "text": [
      "For Q1_TOP_NUMBER 10 Q2_TOP_NUMBER 50 Q1_DECAY_STEP 4 C2 0.7 sharp is [2.3988359053916284, 1.6187092489547201, 1.8087291900115692, 3.2219303421630814, 0.9880959323077636]\n",
      "For Q1_TOP_NUMBER 10 Q2_TOP_NUMBER 50 Q1_DECAY_STEP 4 C2 0.7 turnovers is [33.13205512073819, 33.724854169660105, 31.792706713341023, 2.2614908905739637, 22.400517097966343]\n"
     ]
    },
    {
     "name": "stderr",
     "output_type": "stream",
     "text": [
      "100%|█████████████████████████████████████████████████████████████████████████████| 1257/1257 [00:05<00:00, 245.41it/s]\n"
     ]
    },
    {
     "name": "stdout",
     "output_type": "stream",
     "text": [
      "For Q1_TOP_NUMBER 10 Q2_TOP_NUMBER 50 Q1_DECAY_STEP 4 C2 0.8 sharp is [2.397450946879014, 1.6187092489547201, 1.8087291900115692, 3.14422526418805, 0.845458935402515]\n",
      "For Q1_TOP_NUMBER 10 Q2_TOP_NUMBER 50 Q1_DECAY_STEP 4 C2 0.8 turnovers is [33.124729983520254, 33.724854169660105, 31.792706713341023, 2.063873700361656, 11.794005585289339]\n"
     ]
    },
    {
     "name": "stderr",
     "output_type": "stream",
     "text": [
      "100%|█████████████████████████████████████████████████████████████████████████████| 1257/1257 [00:05<00:00, 247.39it/s]\n"
     ]
    },
    {
     "name": "stdout",
     "output_type": "stream",
     "text": [
      "For Q1_TOP_NUMBER 10 Q2_TOP_NUMBER 50 Q1_DECAY_STEP 4 C2 0.9 sharp is [2.4199202658810126, 1.6187092489547201, 1.8087291900115692, 3.081422599229108, 0.7530100385271873]\n",
      "For Q1_TOP_NUMBER 10 Q2_TOP_NUMBER 50 Q1_DECAY_STEP 4 C2 0.9 turnovers is [33.135145074151325, 33.724854169660105, 31.792706713341023, 1.9278177764321303, 5.676900749388864]\n"
     ]
    },
    {
     "name": "stderr",
     "output_type": "stream",
     "text": [
      "100%|█████████████████████████████████████████████████████████████████████████████| 1257/1257 [00:04<00:00, 251.40it/s]\n"
     ]
    },
    {
     "name": "stdout",
     "output_type": "stream",
     "text": [
      "For Q1_TOP_NUMBER 10 Q2_TOP_NUMBER 100 Q1_DECAY_STEP 2 C2 0.5 sharp is [2.4159325905937066, 1.6187092489547201, 1.8087291900115692, 3.5169638444329236, 1.5944631522309851]\n",
      "For Q1_TOP_NUMBER 10 Q2_TOP_NUMBER 100 Q1_DECAY_STEP 2 C2 0.5 turnovers is [33.12939483438421, 33.724854169660105, 31.792706713341023, 3.1269761662857216, 75.61648941394655]\n"
     ]
    },
    {
     "name": "stderr",
     "output_type": "stream",
     "text": [
      "100%|█████████████████████████████████████████████████████████████████████████████| 1257/1257 [00:05<00:00, 233.12it/s]\n"
     ]
    },
    {
     "name": "stdout",
     "output_type": "stream",
     "text": [
      "For Q1_TOP_NUMBER 10 Q2_TOP_NUMBER 100 Q1_DECAY_STEP 2 C2 0.6 sharp is [2.4362998646445417, 1.6187092489547203, 1.8087291900115692, 3.404048851248215, 1.5284268986262377]\n",
      "For Q1_TOP_NUMBER 10 Q2_TOP_NUMBER 100 Q1_DECAY_STEP 2 C2 0.6 turnovers is [33.13526639235685, 33.724854169660105, 31.792706713341023, 2.6162103366141407, 47.20556191072588]\n"
     ]
    },
    {
     "name": "stderr",
     "output_type": "stream",
     "text": [
      "100%|█████████████████████████████████████████████████████████████████████████████| 1257/1257 [00:05<00:00, 250.65it/s]\n"
     ]
    },
    {
     "name": "stdout",
     "output_type": "stream",
     "text": [
      "For Q1_TOP_NUMBER 10 Q2_TOP_NUMBER 100 Q1_DECAY_STEP 2 C2 0.7 sharp is [2.4175936179430115, 1.6187092489547203, 1.8087291900115692, 3.31681387123639, 1.398615183393123]\n",
      "For Q1_TOP_NUMBER 10 Q2_TOP_NUMBER 100 Q1_DECAY_STEP 2 C2 0.7 turnovers is [33.13474408761474, 33.724854169660105, 31.792706713341023, 2.27702061338135, 27.04980879823169]\n"
     ]
    },
    {
     "name": "stderr",
     "output_type": "stream",
     "text": [
      "100%|█████████████████████████████████████████████████████████████████████████████| 1257/1257 [00:05<00:00, 246.71it/s]\n"
     ]
    },
    {
     "name": "stdout",
     "output_type": "stream",
     "text": [
      "For Q1_TOP_NUMBER 10 Q2_TOP_NUMBER 100 Q1_DECAY_STEP 2 C2 0.8 sharp is [2.4169927349725198, 1.6187092489547201, 1.8087291900115692, 3.249348015461996, 1.274240044814266]\n",
      "For Q1_TOP_NUMBER 10 Q2_TOP_NUMBER 100 Q1_DECAY_STEP 2 C2 0.8 turnovers is [33.126575400772246, 33.724854169660105, 31.792706713341023, 2.0632802228254077, 14.720097522715646]\n"
     ]
    },
    {
     "name": "stderr",
     "output_type": "stream",
     "text": [
      "100%|█████████████████████████████████████████████████████████████████████████████| 1257/1257 [00:05<00:00, 245.84it/s]\n"
     ]
    },
    {
     "name": "stdout",
     "output_type": "stream",
     "text": [
      "For Q1_TOP_NUMBER 10 Q2_TOP_NUMBER 100 Q1_DECAY_STEP 2 C2 0.9 sharp is [2.3823283618619446, 1.6187092489547203, 1.8087291900115692, 3.2032587034191113, 1.175991327538033]\n",
      "For Q1_TOP_NUMBER 10 Q2_TOP_NUMBER 100 Q1_DECAY_STEP 2 C2 0.9 turnovers is [33.11542728216906, 33.724854169660105, 31.792706713341023, 1.9006840070624873, 6.753615858321852]\n"
     ]
    },
    {
     "name": "stderr",
     "output_type": "stream",
     "text": [
      "100%|█████████████████████████████████████████████████████████████████████████████| 1257/1257 [00:05<00:00, 246.90it/s]\n"
     ]
    },
    {
     "name": "stdout",
     "output_type": "stream",
     "text": [
      "For Q1_TOP_NUMBER 10 Q2_TOP_NUMBER 100 Q1_DECAY_STEP 3 C2 0.5 sharp is [2.3895745251471605, 1.6187092489547201, 1.8087291900115692, 3.460170953566232, 1.7066815697720175]\n",
      "For Q1_TOP_NUMBER 10 Q2_TOP_NUMBER 100 Q1_DECAY_STEP 3 C2 0.5 turnovers is [33.12494464893353, 33.724854169660105, 31.792706713341023, 3.0439847864280445, 75.2966977099102]\n"
     ]
    },
    {
     "name": "stderr",
     "output_type": "stream",
     "text": [
      "100%|█████████████████████████████████████████████████████████████████████████████| 1257/1257 [00:05<00:00, 249.06it/s]\n"
     ]
    },
    {
     "name": "stdout",
     "output_type": "stream",
     "text": [
      "For Q1_TOP_NUMBER 10 Q2_TOP_NUMBER 100 Q1_DECAY_STEP 3 C2 0.6 sharp is [2.4000158437714987, 1.6187092489547201, 1.8087291900115692, 3.3690568205525073, 1.565181125526419]\n",
      "For Q1_TOP_NUMBER 10 Q2_TOP_NUMBER 100 Q1_DECAY_STEP 3 C2 0.6 turnovers is [33.12042454243251, 33.724854169660105, 31.792706713341023, 2.583286990854689, 44.08080683428514]\n"
     ]
    },
    {
     "name": "stderr",
     "output_type": "stream",
     "text": [
      "100%|█████████████████████████████████████████████████████████████████████████████| 1257/1257 [00:05<00:00, 250.50it/s]\n"
     ]
    },
    {
     "name": "stdout",
     "output_type": "stream",
     "text": [
      "For Q1_TOP_NUMBER 10 Q2_TOP_NUMBER 100 Q1_DECAY_STEP 3 C2 0.7 sharp is [2.4089145910937098, 1.6187092489547203, 1.8087291900115692, 3.301324575499398, 1.3896154804746943]\n",
      "For Q1_TOP_NUMBER 10 Q2_TOP_NUMBER 100 Q1_DECAY_STEP 3 C2 0.7 turnovers is [33.13586626025135, 33.724854169660105, 31.792706713341023, 2.277551706768944, 24.248270511344167]\n"
     ]
    },
    {
     "name": "stderr",
     "output_type": "stream",
     "text": [
      "100%|█████████████████████████████████████████████████████████████████████████████| 1257/1257 [00:05<00:00, 250.25it/s]\n"
     ]
    },
    {
     "name": "stdout",
     "output_type": "stream",
     "text": [
      "For Q1_TOP_NUMBER 10 Q2_TOP_NUMBER 100 Q1_DECAY_STEP 3 C2 0.8 sharp is [2.4038957661595646, 1.6187092489547201, 1.8087291900115692, 3.2444249177536304, 1.257738444422949]\n",
      "For Q1_TOP_NUMBER 10 Q2_TOP_NUMBER 100 Q1_DECAY_STEP 3 C2 0.8 turnovers is [33.121486412229835, 33.724854169660105, 31.792706713341023, 2.0658449458131676, 12.958109756174034]\n"
     ]
    },
    {
     "name": "stderr",
     "output_type": "stream",
     "text": [
      "100%|█████████████████████████████████████████████████████████████████████████████| 1257/1257 [00:05<00:00, 247.25it/s]\n"
     ]
    },
    {
     "name": "stdout",
     "output_type": "stream",
     "text": [
      "For Q1_TOP_NUMBER 10 Q2_TOP_NUMBER 100 Q1_DECAY_STEP 3 C2 0.9 sharp is [2.4215645466677085, 1.6187092489547201, 1.8087291900115692, 3.2022672462206456, 1.1662799139089042]\n",
      "For Q1_TOP_NUMBER 10 Q2_TOP_NUMBER 100 Q1_DECAY_STEP 3 C2 0.9 turnovers is [33.12771683609391, 33.724854169660105, 31.792706713341023, 1.9056408292433669, 5.956465945453027]\n"
     ]
    },
    {
     "name": "stderr",
     "output_type": "stream",
     "text": [
      "100%|█████████████████████████████████████████████████████████████████████████████| 1257/1257 [00:05<00:00, 246.28it/s]\n"
     ]
    },
    {
     "name": "stdout",
     "output_type": "stream",
     "text": [
      "For Q1_TOP_NUMBER 10 Q2_TOP_NUMBER 100 Q1_DECAY_STEP 4 C2 0.5 sharp is [2.3954584977933533, 1.6187092489547203, 1.8087291900115692, 3.4471119982763905, 1.7900302604982075]\n",
      "For Q1_TOP_NUMBER 10 Q2_TOP_NUMBER 100 Q1_DECAY_STEP 4 C2 0.5 turnovers is [33.13389747977033, 33.724854169660105, 31.792706713341023, 2.9964998842544057, 74.81227318742114]\n"
     ]
    },
    {
     "name": "stderr",
     "output_type": "stream",
     "text": [
      "100%|█████████████████████████████████████████████████████████████████████████████| 1257/1257 [00:05<00:00, 250.20it/s]\n"
     ]
    },
    {
     "name": "stdout",
     "output_type": "stream",
     "text": [
      "For Q1_TOP_NUMBER 10 Q2_TOP_NUMBER 100 Q1_DECAY_STEP 4 C2 0.6 sharp is [2.42903652786391, 1.6187092489547203, 1.8087291900115692, 3.3747734969527614, 1.572070411467719]\n",
      "For Q1_TOP_NUMBER 10 Q2_TOP_NUMBER 100 Q1_DECAY_STEP 4 C2 0.6 turnovers is [33.1270519130854, 33.724854169660105, 31.792706713341023, 2.546939264119287, 41.31869570053605]\n"
     ]
    },
    {
     "name": "stderr",
     "output_type": "stream",
     "text": [
      "100%|█████████████████████████████████████████████████████████████████████████████| 1257/1257 [00:05<00:00, 249.11it/s]\n"
     ]
    },
    {
     "name": "stdout",
     "output_type": "stream",
     "text": [
      "For Q1_TOP_NUMBER 10 Q2_TOP_NUMBER 100 Q1_DECAY_STEP 4 C2 0.7 sharp is [2.414843342461306, 1.6187092489547203, 1.8087291900115692, 3.306757473411647, 1.3701986396831396]\n",
      "For Q1_TOP_NUMBER 10 Q2_TOP_NUMBER 100 Q1_DECAY_STEP 4 C2 0.7 turnovers is [33.12499207166703, 33.724854169660105, 31.792706713341023, 2.277755381830811, 21.900162338717752]\n"
     ]
    },
    {
     "name": "stderr",
     "output_type": "stream",
     "text": [
      "100%|█████████████████████████████████████████████████████████████████████████████| 1257/1257 [00:05<00:00, 245.99it/s]\n"
     ]
    },
    {
     "name": "stdout",
     "output_type": "stream",
     "text": [
      "For Q1_TOP_NUMBER 10 Q2_TOP_NUMBER 100 Q1_DECAY_STEP 4 C2 0.8 sharp is [2.3919775383732427, 1.6187092489547203, 1.8087291900115692, 3.2490296667801712, 1.2428120884122198]\n",
      "For Q1_TOP_NUMBER 10 Q2_TOP_NUMBER 100 Q1_DECAY_STEP 4 C2 0.8 turnovers is [33.11247970120133, 33.724854169660105, 31.792706713341023, 2.0758452699547565, 11.567710583976202]\n"
     ]
    },
    {
     "name": "stderr",
     "output_type": "stream",
     "text": [
      "100%|█████████████████████████████████████████████████████████████████████████████| 1257/1257 [00:05<00:00, 238.11it/s]\n"
     ]
    },
    {
     "name": "stdout",
     "output_type": "stream",
     "text": [
      "For Q1_TOP_NUMBER 10 Q2_TOP_NUMBER 100 Q1_DECAY_STEP 4 C2 0.9 sharp is [2.391794641285302, 1.6187092489547203, 1.8087291900115692, 3.2039823434026817, 1.1586052391183799]\n",
      "For Q1_TOP_NUMBER 10 Q2_TOP_NUMBER 100 Q1_DECAY_STEP 4 C2 0.9 turnovers is [33.12211969067096, 33.724854169660105, 31.792706713341023, 1.9146237312971988, 5.374437816258039]\n"
     ]
    },
    {
     "name": "stderr",
     "output_type": "stream",
     "text": [
      "100%|█████████████████████████████████████████████████████████████████████████████| 1257/1257 [00:05<00:00, 248.52it/s]\n"
     ]
    },
    {
     "name": "stdout",
     "output_type": "stream",
     "text": [
      "For Q1_TOP_NUMBER 10 Q2_TOP_NUMBER 200 Q1_DECAY_STEP 2 C2 0.5 sharp is [2.40809497853974, 1.6187092489547203, 1.8087291900115692, 3.5685617199946433, 1.4813294616204928]\n",
      "For Q1_TOP_NUMBER 10 Q2_TOP_NUMBER 200 Q1_DECAY_STEP 2 C2 0.5 turnovers is [33.12488003434326, 33.724854169660105, 31.792706713341023, 3.1646760513928776, 74.99577007453755]\n"
     ]
    },
    {
     "name": "stderr",
     "output_type": "stream",
     "text": [
      "100%|█████████████████████████████████████████████████████████████████████████████| 1257/1257 [00:05<00:00, 250.80it/s]\n"
     ]
    },
    {
     "name": "stdout",
     "output_type": "stream",
     "text": [
      "For Q1_TOP_NUMBER 10 Q2_TOP_NUMBER 200 Q1_DECAY_STEP 2 C2 0.6 sharp is [2.3954096042315514, 1.6187092489547203, 1.8087291900115692, 3.4694479782724885, 1.384127889186301]\n",
      "For Q1_TOP_NUMBER 10 Q2_TOP_NUMBER 200 Q1_DECAY_STEP 2 C2 0.6 turnovers is [33.13077965147639, 33.724854169660105, 31.792706713341023, 2.656837593036294, 46.38455364287625]\n"
     ]
    },
    {
     "name": "stderr",
     "output_type": "stream",
     "text": [
      "100%|█████████████████████████████████████████████████████████████████████████████| 1257/1257 [00:05<00:00, 242.85it/s]\n"
     ]
    },
    {
     "name": "stdout",
     "output_type": "stream",
     "text": [
      "For Q1_TOP_NUMBER 10 Q2_TOP_NUMBER 200 Q1_DECAY_STEP 2 C2 0.7 sharp is [2.4145301653155156, 1.6187092489547203, 1.8087291900115692, 3.4002972482532257, 1.2334370655587277]\n",
      "For Q1_TOP_NUMBER 10 Q2_TOP_NUMBER 200 Q1_DECAY_STEP 2 C2 0.7 turnovers is [33.1254507569345, 33.724854169660105, 31.792706713341023, 2.3074354377994437, 26.142247239613006]\n"
     ]
    },
    {
     "name": "stderr",
     "output_type": "stream",
     "text": [
      "100%|█████████████████████████████████████████████████████████████████████████████| 1257/1257 [00:05<00:00, 250.85it/s]\n"
     ]
    },
    {
     "name": "stdout",
     "output_type": "stream",
     "text": [
      "For Q1_TOP_NUMBER 10 Q2_TOP_NUMBER 200 Q1_DECAY_STEP 2 C2 0.8 sharp is [2.401293203318216, 1.6187092489547201, 1.8087291900115692, 3.349743088661955, 1.0993628837019658]\n",
      "For Q1_TOP_NUMBER 10 Q2_TOP_NUMBER 200 Q1_DECAY_STEP 2 C2 0.8 turnovers is [33.13838355768322, 33.724854169660105, 31.792706713341023, 2.07815658143861, 13.77471223790901]\n"
     ]
    },
    {
     "name": "stderr",
     "output_type": "stream",
     "text": [
      "100%|█████████████████████████████████████████████████████████████████████████████| 1257/1257 [00:05<00:00, 248.76it/s]\n"
     ]
    },
    {
     "name": "stdout",
     "output_type": "stream",
     "text": [
      "For Q1_TOP_NUMBER 10 Q2_TOP_NUMBER 200 Q1_DECAY_STEP 2 C2 0.9 sharp is [2.430406317756541, 1.6187092489547201, 1.8087291900115692, 3.3103503822894504, 0.9969526535319505]\n",
      "For Q1_TOP_NUMBER 10 Q2_TOP_NUMBER 200 Q1_DECAY_STEP 2 C2 0.9 turnovers is [33.12909153234877, 33.724854169660105, 31.792706713341023, 1.9216574629987055, 6.2101851543957]\n"
     ]
    },
    {
     "name": "stderr",
     "output_type": "stream",
     "text": [
      "100%|█████████████████████████████████████████████████████████████████████████████| 1257/1257 [00:05<00:00, 244.55it/s]\n"
     ]
    },
    {
     "name": "stdout",
     "output_type": "stream",
     "text": [
      "For Q1_TOP_NUMBER 10 Q2_TOP_NUMBER 200 Q1_DECAY_STEP 3 C2 0.5 sharp is [2.3960504877043425, 1.6187092489547203, 1.8087291900115692, 3.523499768103338, 1.5721912006538052]\n",
      "For Q1_TOP_NUMBER 10 Q2_TOP_NUMBER 200 Q1_DECAY_STEP 3 C2 0.5 turnovers is [33.12841347380316, 33.724854169660105, 31.792706713341023, 3.147415618438814, 74.88791346534057]\n"
     ]
    },
    {
     "name": "stderr",
     "output_type": "stream",
     "text": [
      "100%|█████████████████████████████████████████████████████████████████████████████| 1257/1257 [00:05<00:00, 249.06it/s]\n"
     ]
    },
    {
     "name": "stdout",
     "output_type": "stream",
     "text": [
      "For Q1_TOP_NUMBER 10 Q2_TOP_NUMBER 200 Q1_DECAY_STEP 3 C2 0.6 sharp is [2.3968430572791464, 1.6187092489547203, 1.8087291900115692, 3.4440912582646077, 1.4048540314515485]\n",
      "For Q1_TOP_NUMBER 10 Q2_TOP_NUMBER 200 Q1_DECAY_STEP 3 C2 0.6 turnovers is [33.126867170510366, 33.724854169660105, 31.792706713341023, 2.6328993568814063, 43.24880117448377]\n"
     ]
    },
    {
     "name": "stderr",
     "output_type": "stream",
     "text": [
      "100%|█████████████████████████████████████████████████████████████████████████████| 1257/1257 [00:05<00:00, 240.44it/s]\n"
     ]
    },
    {
     "name": "stdout",
     "output_type": "stream",
     "text": [
      "For Q1_TOP_NUMBER 10 Q2_TOP_NUMBER 200 Q1_DECAY_STEP 3 C2 0.7 sharp is [2.414292979739387, 1.6187092489547201, 1.8087291900115692, 3.3936923931381573, 1.2155488443606868]\n",
      "For Q1_TOP_NUMBER 10 Q2_TOP_NUMBER 200 Q1_DECAY_STEP 3 C2 0.7 turnovers is [33.12836079418624, 33.724854169660105, 31.792706713341023, 2.3454903839825256, 23.29419547006106]\n"
     ]
    },
    {
     "name": "stderr",
     "output_type": "stream",
     "text": [
      "100%|█████████████████████████████████████████████████████████████████████████████| 1257/1257 [00:04<00:00, 256.27it/s]\n"
     ]
    },
    {
     "name": "stdout",
     "output_type": "stream",
     "text": [
      "For Q1_TOP_NUMBER 10 Q2_TOP_NUMBER 200 Q1_DECAY_STEP 3 C2 0.8 sharp is [2.4103550661854416, 1.6187092489547203, 1.8087291900115692, 3.3518799989734482, 1.0788640916743422]\n",
      "For Q1_TOP_NUMBER 10 Q2_TOP_NUMBER 200 Q1_DECAY_STEP 3 C2 0.8 turnovers is [33.129242081047956, 33.724854169660105, 31.792706713341023, 2.1437661990334202, 12.027728715997943]\n"
     ]
    },
    {
     "name": "stderr",
     "output_type": "stream",
     "text": [
      "100%|█████████████████████████████████████████████████████████████████████████████| 1257/1257 [00:05<00:00, 246.52it/s]\n"
     ]
    },
    {
     "name": "stdout",
     "output_type": "stream",
     "text": [
      "For Q1_TOP_NUMBER 10 Q2_TOP_NUMBER 200 Q1_DECAY_STEP 3 C2 0.9 sharp is [2.389757233264305, 1.6187092489547201, 1.8087291900115692, 3.315296310051345, 0.9863488770214537]\n",
      "For Q1_TOP_NUMBER 10 Q2_TOP_NUMBER 200 Q1_DECAY_STEP 3 C2 0.9 turnovers is [33.126968569866555, 33.724854169660105, 31.792706713341023, 1.9634743851093026, 5.38122213187563]\n"
     ]
    },
    {
     "name": "stderr",
     "output_type": "stream",
     "text": [
      "100%|█████████████████████████████████████████████████████████████████████████████| 1257/1257 [00:05<00:00, 231.32it/s]\n"
     ]
    },
    {
     "name": "stdout",
     "output_type": "stream",
     "text": [
      "For Q1_TOP_NUMBER 10 Q2_TOP_NUMBER 200 Q1_DECAY_STEP 4 C2 0.5 sharp is [2.397193994694981, 1.6187092489547203, 1.8087291900115692, 3.485548236720727, 1.6554859216502213]\n",
      "For Q1_TOP_NUMBER 10 Q2_TOP_NUMBER 200 Q1_DECAY_STEP 4 C2 0.5 turnovers is [33.12309422556495, 33.724854169660105, 31.792706713341023, 3.0667191497048334, 74.4577875833618]\n"
     ]
    },
    {
     "name": "stderr",
     "output_type": "stream",
     "text": [
      "100%|█████████████████████████████████████████████████████████████████████████████| 1257/1257 [00:05<00:00, 245.27it/s]\n"
     ]
    },
    {
     "name": "stdout",
     "output_type": "stream",
     "text": [
      "For Q1_TOP_NUMBER 10 Q2_TOP_NUMBER 200 Q1_DECAY_STEP 4 C2 0.6 sharp is [2.420679714793489, 1.6187092489547203, 1.8087291900115692, 3.427495481943051, 1.4044220519119728]\n",
      "For Q1_TOP_NUMBER 10 Q2_TOP_NUMBER 200 Q1_DECAY_STEP 4 C2 0.6 turnovers is [33.12737395924414, 33.724854169660105, 31.792706713341023, 2.541922211299188, 40.39988484262666]\n"
     ]
    },
    {
     "name": "stderr",
     "output_type": "stream",
     "text": [
      "100%|█████████████████████████████████████████████████████████████████████████████| 1257/1257 [00:05<00:00, 236.59it/s]\n"
     ]
    },
    {
     "name": "stdout",
     "output_type": "stream",
     "text": [
      "For Q1_TOP_NUMBER 10 Q2_TOP_NUMBER 200 Q1_DECAY_STEP 4 C2 0.7 sharp is [2.4151420384640896, 1.6187092489547201, 1.8087291900115692, 3.3845423687670664, 1.1930811616947024]\n",
      "For Q1_TOP_NUMBER 10 Q2_TOP_NUMBER 200 Q1_DECAY_STEP 4 C2 0.7 turnovers is [33.1254846469388, 33.724854169660105, 31.792706713341023, 2.2425255674698135, 20.92110952752259]\n"
     ]
    },
    {
     "name": "stderr",
     "output_type": "stream",
     "text": [
      "100%|█████████████████████████████████████████████████████████████████████████████| 1257/1257 [00:05<00:00, 250.35it/s]\n"
     ]
    },
    {
     "name": "stdout",
     "output_type": "stream",
     "text": [
      "For Q1_TOP_NUMBER 10 Q2_TOP_NUMBER 200 Q1_DECAY_STEP 4 C2 0.8 sharp is [2.402144131684897, 1.6187092489547203, 1.8087291900115692, 3.3455959067684162, 1.0614533620250786]\n",
      "For Q1_TOP_NUMBER 10 Q2_TOP_NUMBER 200 Q1_DECAY_STEP 4 C2 0.8 turnovers is [33.11950180972355, 33.724854169660105, 31.792706713341023, 2.0564449875587534, 10.690452516675476]\n"
     ]
    },
    {
     "name": "stderr",
     "output_type": "stream",
     "text": [
      "100%|█████████████████████████████████████████████████████████████████████████████| 1257/1257 [00:05<00:00, 249.06it/s]\n"
     ]
    },
    {
     "name": "stdout",
     "output_type": "stream",
     "text": [
      "For Q1_TOP_NUMBER 10 Q2_TOP_NUMBER 200 Q1_DECAY_STEP 4 C2 0.9 sharp is [2.413902922183445, 1.6187092489547203, 1.8087291900115692, 3.3124069233057885, 0.9784107916845233]\n",
      "For Q1_TOP_NUMBER 10 Q2_TOP_NUMBER 200 Q1_DECAY_STEP 4 C2 0.9 turnovers is [33.13362669767404, 33.724854169660105, 31.792706713341023, 1.913642713479509, 4.778248617320664]\n"
     ]
    },
    {
     "name": "stderr",
     "output_type": "stream",
     "text": [
      "100%|█████████████████████████████████████████████████████████████████████████████| 1257/1257 [00:04<00:00, 252.15it/s]\n"
     ]
    },
    {
     "name": "stdout",
     "output_type": "stream",
     "text": [
      "For Q1_TOP_NUMBER 10 Q2_TOP_NUMBER 300 Q1_DECAY_STEP 2 C2 0.5 sharp is [2.4010815884711105, 1.6187092489547201, 1.8087291900115692, 3.6094457678872356, 1.508590964919849]\n",
      "For Q1_TOP_NUMBER 10 Q2_TOP_NUMBER 300 Q1_DECAY_STEP 2 C2 0.5 turnovers is [33.12100253720355, 33.724854169660105, 31.792706713341023, 3.281821188078484, 74.82263995817243]\n"
     ]
    },
    {
     "name": "stderr",
     "output_type": "stream",
     "text": [
      "100%|█████████████████████████████████████████████████████████████████████████████| 1257/1257 [00:04<00:00, 253.68it/s]\n"
     ]
    },
    {
     "name": "stdout",
     "output_type": "stream",
     "text": [
      "For Q1_TOP_NUMBER 10 Q2_TOP_NUMBER 300 Q1_DECAY_STEP 2 C2 0.6 sharp is [2.410792114145958, 1.6187092489547201, 1.8087291900115692, 3.5237728878358996, 1.4312277556347337]\n",
      "For Q1_TOP_NUMBER 10 Q2_TOP_NUMBER 300 Q1_DECAY_STEP 2 C2 0.6 turnovers is [33.13068926489779, 33.724854169660105, 31.792706713341023, 2.6830661523680583, 46.175853019067304]\n"
     ]
    },
    {
     "name": "stderr",
     "output_type": "stream",
     "text": [
      "100%|█████████████████████████████████████████████████████████████████████████████| 1257/1257 [00:04<00:00, 251.75it/s]\n"
     ]
    },
    {
     "name": "stdout",
     "output_type": "stream",
     "text": [
      "For Q1_TOP_NUMBER 10 Q2_TOP_NUMBER 300 Q1_DECAY_STEP 2 C2 0.7 sharp is [2.405387273390734, 1.6187092489547201, 1.8087291900115692, 3.466523193118869, 1.2895224089689772]\n",
      "For Q1_TOP_NUMBER 10 Q2_TOP_NUMBER 300 Q1_DECAY_STEP 2 C2 0.7 turnovers is [33.12919805383911, 33.724854169660105, 31.792706713341023, 2.298599711283637, 25.83765437253552]\n"
     ]
    },
    {
     "name": "stderr",
     "output_type": "stream",
     "text": [
      "100%|█████████████████████████████████████████████████████████████████████████████| 1257/1257 [00:05<00:00, 242.01it/s]\n"
     ]
    },
    {
     "name": "stdout",
     "output_type": "stream",
     "text": [
      "For Q1_TOP_NUMBER 10 Q2_TOP_NUMBER 300 Q1_DECAY_STEP 2 C2 0.8 sharp is [2.439906565329959, 1.6187092489547203, 1.8087291900115692, 3.4258737829816583, 1.1536012615755282]\n",
      "For Q1_TOP_NUMBER 10 Q2_TOP_NUMBER 300 Q1_DECAY_STEP 2 C2 0.8 turnovers is [33.13512273634205, 33.724854169660105, 31.792706713341023, 2.0619094422966846, 13.445506898412173]\n"
     ]
    },
    {
     "name": "stderr",
     "output_type": "stream",
     "text": [
      "100%|█████████████████████████████████████████████████████████████████████████████| 1257/1257 [00:04<00:00, 254.20it/s]\n"
     ]
    },
    {
     "name": "stdout",
     "output_type": "stream",
     "text": [
      "For Q1_TOP_NUMBER 10 Q2_TOP_NUMBER 300 Q1_DECAY_STEP 2 C2 0.9 sharp is [2.4096286971754868, 1.6187092489547203, 1.8087291900115692, 3.3939203220374643, 1.0453414710445994]\n",
      "For Q1_TOP_NUMBER 10 Q2_TOP_NUMBER 300 Q1_DECAY_STEP 2 C2 0.9 turnovers is [33.12548139503756, 33.724854169660105, 31.792706713341023, 1.9086469150203187, 5.895786417547719]\n"
     ]
    },
    {
     "name": "stderr",
     "output_type": "stream",
     "text": [
      "100%|█████████████████████████████████████████████████████████████████████████████| 1257/1257 [00:04<00:00, 257.00it/s]\n"
     ]
    },
    {
     "name": "stdout",
     "output_type": "stream",
     "text": [
      "For Q1_TOP_NUMBER 10 Q2_TOP_NUMBER 300 Q1_DECAY_STEP 3 C2 0.5 sharp is [2.421776951128722, 1.6187092489547203, 1.8087291900115692, 3.5550470690417337, 1.608528807706434]\n",
      "For Q1_TOP_NUMBER 10 Q2_TOP_NUMBER 300 Q1_DECAY_STEP 3 C2 0.5 turnovers is [33.12346662444822, 33.724854169660105, 31.792706713341023, 3.1827461640524595, 74.73650985985368]\n"
     ]
    },
    {
     "name": "stderr",
     "output_type": "stream",
     "text": [
      "100%|█████████████████████████████████████████████████████████████████████████████| 1257/1257 [00:04<00:00, 251.90it/s]\n"
     ]
    },
    {
     "name": "stdout",
     "output_type": "stream",
     "text": [
      "For Q1_TOP_NUMBER 10 Q2_TOP_NUMBER 300 Q1_DECAY_STEP 3 C2 0.6 sharp is [2.4036939490710174, 1.6187092489547203, 1.8087291900115692, 3.4881177884481516, 1.4584273565988766]\n",
      "For Q1_TOP_NUMBER 10 Q2_TOP_NUMBER 300 Q1_DECAY_STEP 3 C2 0.6 turnovers is [33.124956068934395, 33.724854169660105, 31.792706713341023, 2.6008151969242106, 43.01130485175519]\n"
     ]
    },
    {
     "name": "stderr",
     "output_type": "stream",
     "text": [
      "100%|█████████████████████████████████████████████████████████████████████████████| 1257/1257 [00:04<00:00, 261.11it/s]\n"
     ]
    },
    {
     "name": "stdout",
     "output_type": "stream",
     "text": [
      "For Q1_TOP_NUMBER 10 Q2_TOP_NUMBER 300 Q1_DECAY_STEP 3 C2 0.7 sharp is [2.3979681373970263, 1.6187092489547201, 1.8087291900115692, 3.4488334748719587, 1.2737010545368717]\n",
      "For Q1_TOP_NUMBER 10 Q2_TOP_NUMBER 300 Q1_DECAY_STEP 3 C2 0.7 turnovers is [33.12541128778864, 33.724854169660105, 31.792706713341023, 2.258226546158484, 22.958495538063776]\n"
     ]
    },
    {
     "name": "stderr",
     "output_type": "stream",
     "text": [
      "100%|█████████████████████████████████████████████████████████████████████████████| 1257/1257 [00:04<00:00, 260.30it/s]\n"
     ]
    },
    {
     "name": "stdout",
     "output_type": "stream",
     "text": [
      "For Q1_TOP_NUMBER 10 Q2_TOP_NUMBER 300 Q1_DECAY_STEP 3 C2 0.8 sharp is [2.4277992968902335, 1.6187092489547203, 1.8087291900115692, 3.4176391403045545, 1.1327773093910631]\n",
      "For Q1_TOP_NUMBER 10 Q2_TOP_NUMBER 300 Q1_DECAY_STEP 3 C2 0.8 turnovers is [33.12488325876314, 33.724854169660105, 31.792706713341023, 2.043032637742952, 11.678816990032757]\n"
     ]
    },
    {
     "name": "stderr",
     "output_type": "stream",
     "text": [
      "100%|█████████████████████████████████████████████████████████████████████████████| 1257/1257 [00:04<00:00, 257.74it/s]\n"
     ]
    },
    {
     "name": "stdout",
     "output_type": "stream",
     "text": [
      "For Q1_TOP_NUMBER 10 Q2_TOP_NUMBER 300 Q1_DECAY_STEP 3 C2 0.9 sharp is [2.4088764368324167, 1.6187092489547203, 1.8087291900115692, 3.390890023493662, 1.0338545544140751]\n",
      "For Q1_TOP_NUMBER 10 Q2_TOP_NUMBER 300 Q1_DECAY_STEP 3 C2 0.9 turnovers is [33.12195998509316, 33.724854169660105, 31.792706713341023, 1.9011199112686343, 5.136927905659835]\n"
     ]
    },
    {
     "name": "stderr",
     "output_type": "stream",
     "text": [
      "100%|█████████████████████████████████████████████████████████████████████████████| 1257/1257 [00:05<00:00, 244.03it/s]\n"
     ]
    },
    {
     "name": "stdout",
     "output_type": "stream",
     "text": [
      "For Q1_TOP_NUMBER 10 Q2_TOP_NUMBER 300 Q1_DECAY_STEP 4 C2 0.5 sharp is [2.411099341203706, 1.6187092489547201, 1.8087291900115692, 3.51909214463963, 1.6947962305737014]\n",
      "For Q1_TOP_NUMBER 10 Q2_TOP_NUMBER 300 Q1_DECAY_STEP 4 C2 0.5 turnovers is [33.12985283101624, 33.724854169660105, 31.792706713341023, 3.158347523697841, 74.39220032449586]\n"
     ]
    },
    {
     "name": "stderr",
     "output_type": "stream",
     "text": [
      "100%|█████████████████████████████████████████████████████████████████████████████| 1257/1257 [00:05<00:00, 244.60it/s]\n"
     ]
    },
    {
     "name": "stdout",
     "output_type": "stream",
     "text": [
      "For Q1_TOP_NUMBER 10 Q2_TOP_NUMBER 300 Q1_DECAY_STEP 4 C2 0.6 sharp is [2.4187423704502877, 1.6187092489547203, 1.8087291900115692, 3.473944099133212, 1.4637041786663503]\n",
      "For Q1_TOP_NUMBER 10 Q2_TOP_NUMBER 300 Q1_DECAY_STEP 4 C2 0.6 turnovers is [33.13186945492577, 33.724854169660105, 31.792706713341023, 2.5604951752157286, 40.14864030876105]\n"
     ]
    },
    {
     "name": "stderr",
     "output_type": "stream",
     "text": [
      "100%|█████████████████████████████████████████████████████████████████████████████| 1257/1257 [00:04<00:00, 259.60it/s]\n"
     ]
    },
    {
     "name": "stdout",
     "output_type": "stream",
     "text": [
      "For Q1_TOP_NUMBER 10 Q2_TOP_NUMBER 300 Q1_DECAY_STEP 4 C2 0.7 sharp is [2.4234758052196437, 1.6187092489547203, 1.8087291900115692, 3.442204858086835, 1.2507387298978907]\n",
      "For Q1_TOP_NUMBER 10 Q2_TOP_NUMBER 300 Q1_DECAY_STEP 4 C2 0.7 turnovers is [33.13115198508182, 33.724854169660105, 31.792706713341023, 2.2324788866963083, 20.589398629895758]\n"
     ]
    },
    {
     "name": "stderr",
     "output_type": "stream",
     "text": [
      "100%|█████████████████████████████████████████████████████████████████████████████| 1257/1257 [00:04<00:00, 257.42it/s]\n"
     ]
    },
    {
     "name": "stdout",
     "output_type": "stream",
     "text": [
      "For Q1_TOP_NUMBER 10 Q2_TOP_NUMBER 300 Q1_DECAY_STEP 4 C2 0.8 sharp is [2.4072791822056145, 1.6187092489547203, 1.8087291900115692, 3.4141503803651396, 1.11457686248359]\n",
      "For Q1_TOP_NUMBER 10 Q2_TOP_NUMBER 300 Q1_DECAY_STEP 4 C2 0.8 turnovers is [33.12492006424642, 33.724854169660105, 31.792706713341023, 2.030823153715593, 10.337910463505063]\n"
     ]
    },
    {
     "name": "stderr",
     "output_type": "stream",
     "text": [
      "100%|█████████████████████████████████████████████████████████████████████████████| 1257/1257 [00:04<00:00, 255.64it/s]\n"
     ]
    },
    {
     "name": "stdout",
     "output_type": "stream",
     "text": [
      "For Q1_TOP_NUMBER 10 Q2_TOP_NUMBER 300 Q1_DECAY_STEP 4 C2 0.9 sharp is [2.3948095476729008, 1.6187092489547203, 1.8087291900115692, 3.389577305618008, 1.0251021557409505]\n",
      "For Q1_TOP_NUMBER 10 Q2_TOP_NUMBER 300 Q1_DECAY_STEP 4 C2 0.9 turnovers is [33.117598147975556, 33.724854169660105, 31.792706713341023, 1.8926379980813923, 4.580810974626599]\n"
     ]
    },
    {
     "name": "stderr",
     "output_type": "stream",
     "text": [
      "100%|█████████████████████████████████████████████████████████████████████████████| 1257/1257 [00:04<00:00, 251.80it/s]\n"
     ]
    },
    {
     "name": "stdout",
     "output_type": "stream",
     "text": [
      "For Q1_TOP_NUMBER 10 Q2_TOP_NUMBER 500 Q1_DECAY_STEP 2 C2 0.5 sharp is [2.4203083147754865, 1.6187092489547203, 1.8087291900115692, 3.648499591801893, 1.5554313310976227]\n",
      "For Q1_TOP_NUMBER 10 Q2_TOP_NUMBER 500 Q1_DECAY_STEP 2 C2 0.5 turnovers is [33.12831328768994, 33.724854169660105, 31.792706713341023, 3.3813737248557985, 74.75499817369355]\n"
     ]
    },
    {
     "name": "stderr",
     "output_type": "stream",
     "text": [
      "100%|█████████████████████████████████████████████████████████████████████████████| 1257/1257 [00:04<00:00, 261.60it/s]\n"
     ]
    },
    {
     "name": "stdout",
     "output_type": "stream",
     "text": [
      "For Q1_TOP_NUMBER 10 Q2_TOP_NUMBER 500 Q1_DECAY_STEP 2 C2 0.6 sharp is [2.3950622760248783, 1.6187092489547203, 1.8087291900115692, 3.5761601376914416, 1.478564707396114]\n",
      "For Q1_TOP_NUMBER 10 Q2_TOP_NUMBER 500 Q1_DECAY_STEP 2 C2 0.6 turnovers is [33.12676791162222, 33.724854169660105, 31.792706713341023, 2.7442669440712737, 46.116700885759684]\n"
     ]
    },
    {
     "name": "stderr",
     "output_type": "stream",
     "text": [
      "100%|█████████████████████████████████████████████████████████████████████████████| 1257/1257 [00:04<00:00, 259.66it/s]\n"
     ]
    },
    {
     "name": "stdout",
     "output_type": "stream",
     "text": [
      "For Q1_TOP_NUMBER 10 Q2_TOP_NUMBER 500 Q1_DECAY_STEP 2 C2 0.7 sharp is [2.432294752296302, 1.6187092489547201, 1.8087291900115692, 3.53177018263158, 1.3127399073527874]\n",
      "For Q1_TOP_NUMBER 10 Q2_TOP_NUMBER 500 Q1_DECAY_STEP 2 C2 0.7 turnovers is [33.12738281759349, 33.724854169660105, 31.792706713341023, 2.328906285262819, 25.781480183708645]\n"
     ]
    },
    {
     "name": "stderr",
     "output_type": "stream",
     "text": [
      "100%|█████████████████████████████████████████████████████████████████████████████| 1257/1257 [00:04<00:00, 260.30it/s]\n"
     ]
    },
    {
     "name": "stdout",
     "output_type": "stream",
     "text": [
      "For Q1_TOP_NUMBER 10 Q2_TOP_NUMBER 500 Q1_DECAY_STEP 2 C2 0.8 sharp is [2.4200311617360075, 1.6187092489547203, 1.8087291900115692, 3.5024352896585786, 1.1464299923442172]\n",
      "For Q1_TOP_NUMBER 10 Q2_TOP_NUMBER 500 Q1_DECAY_STEP 2 C2 0.8 turnovers is [33.128199826024165, 33.724854169660105, 31.792706713341023, 2.0652415641297104, 13.360747096818882]\n"
     ]
    },
    {
     "name": "stderr",
     "output_type": "stream",
     "text": [
      "100%|█████████████████████████████████████████████████████████████████████████████| 1257/1257 [00:04<00:00, 260.68it/s]\n"
     ]
    },
    {
     "name": "stdout",
     "output_type": "stream",
     "text": [
      "For Q1_TOP_NUMBER 10 Q2_TOP_NUMBER 500 Q1_DECAY_STEP 2 C2 0.9 sharp is [2.4011215262215, 1.6187092489547201, 1.8087291900115692, 3.4806540851094456, 1.0150775813029251]\n",
      "For Q1_TOP_NUMBER 10 Q2_TOP_NUMBER 500 Q1_DECAY_STEP 2 C2 0.9 turnovers is [33.12475497948529, 33.724854169660105, 31.792706713341023, 1.9029963961985712, 5.77410623797532]\n"
     ]
    },
    {
     "name": "stderr",
     "output_type": "stream",
     "text": [
      "100%|█████████████████████████████████████████████████████████████████████████████| 1257/1257 [00:04<00:00, 259.44it/s]\n"
     ]
    },
    {
     "name": "stdout",
     "output_type": "stream",
     "text": [
      "For Q1_TOP_NUMBER 10 Q2_TOP_NUMBER 500 Q1_DECAY_STEP 3 C2 0.5 sharp is [2.3994609141925944, 1.6187092489547203, 1.8087291900115692, 3.5891581785618714, 1.6632679284320606]\n",
      "For Q1_TOP_NUMBER 10 Q2_TOP_NUMBER 500 Q1_DECAY_STEP 3 C2 0.5 turnovers is [33.12737892507956, 33.724854169660105, 31.792706713341023, 3.20699637272379, 74.68167757529879]\n"
     ]
    },
    {
     "name": "stderr",
     "output_type": "stream",
     "text": [
      "100%|█████████████████████████████████████████████████████████████████████████████| 1257/1257 [00:04<00:00, 259.17it/s]\n"
     ]
    },
    {
     "name": "stdout",
     "output_type": "stream",
     "text": [
      "For Q1_TOP_NUMBER 10 Q2_TOP_NUMBER 500 Q1_DECAY_STEP 3 C2 0.6 sharp is [2.4243841336584357, 1.6187092489547201, 1.8087291900115692, 3.5367418261107506, 1.4895336756083775]\n",
      "For Q1_TOP_NUMBER 10 Q2_TOP_NUMBER 500 Q1_DECAY_STEP 3 C2 0.6 turnovers is [33.11963060973891, 33.724854169660105, 31.792706713341023, 2.602894119005848, 42.96065987203666]\n"
     ]
    },
    {
     "name": "stderr",
     "output_type": "stream",
     "text": [
      "100%|█████████████████████████████████████████████████████████████████████████████| 1257/1257 [00:04<00:00, 262.09it/s]\n"
     ]
    },
    {
     "name": "stdout",
     "output_type": "stream",
     "text": [
      "For Q1_TOP_NUMBER 10 Q2_TOP_NUMBER 500 Q1_DECAY_STEP 3 C2 0.7 sharp is [2.4021295343439153, 1.6187092489547201, 1.8087291900115692, 3.5108868189856572, 1.2557357775788403]\n",
      "For Q1_TOP_NUMBER 10 Q2_TOP_NUMBER 500 Q1_DECAY_STEP 3 C2 0.7 turnovers is [33.11679437344967, 33.724854169660105, 31.792706713341023, 2.2503841249065446, 22.913735816736942]\n"
     ]
    },
    {
     "name": "stderr",
     "output_type": "stream",
     "text": [
      "100%|█████████████████████████████████████████████████████████████████████████████| 1257/1257 [00:05<00:00, 239.34it/s]\n"
     ]
    },
    {
     "name": "stdout",
     "output_type": "stream",
     "text": [
      "For Q1_TOP_NUMBER 10 Q2_TOP_NUMBER 500 Q1_DECAY_STEP 3 C2 0.8 sharp is [2.4031989778481297, 1.6187092489547201, 1.8087291900115692, 3.4917113976820904, 1.0897800062630048]\n",
      "For Q1_TOP_NUMBER 10 Q2_TOP_NUMBER 500 Q1_DECAY_STEP 3 C2 0.8 turnovers is [33.120417029178775, 33.724854169660105, 31.792706713341023, 2.0298036444698657, 11.580721630006101]\n"
     ]
    },
    {
     "name": "stderr",
     "output_type": "stream",
     "text": [
      "100%|█████████████████████████████████████████████████████████████████████████████| 1257/1257 [00:04<00:00, 254.40it/s]\n"
     ]
    },
    {
     "name": "stdout",
     "output_type": "stream",
     "text": [
      "For Q1_TOP_NUMBER 10 Q2_TOP_NUMBER 500 Q1_DECAY_STEP 3 C2 0.9 sharp is [2.4350334244368836, 1.6187092489547201, 1.8087291900115692, 3.4762521509798274, 0.9854844957810147]\n",
      "For Q1_TOP_NUMBER 10 Q2_TOP_NUMBER 500 Q1_DECAY_STEP 3 C2 0.9 turnovers is [33.12896716521419, 33.724854169660105, 31.792706713341023, 1.8901487187151003, 5.018892047646294]\n"
     ]
    },
    {
     "name": "stderr",
     "output_type": "stream",
     "text": [
      "100%|█████████████████████████████████████████████████████████████████████████████| 1257/1257 [00:05<00:00, 248.07it/s]\n"
     ]
    },
    {
     "name": "stdout",
     "output_type": "stream",
     "text": [
      "For Q1_TOP_NUMBER 10 Q2_TOP_NUMBER 500 Q1_DECAY_STEP 4 C2 0.5 sharp is [2.4431084363402675, 1.6187092489547203, 1.8087291900115692, 3.552726669121922, 1.7264069384719485]\n",
      "For Q1_TOP_NUMBER 10 Q2_TOP_NUMBER 500 Q1_DECAY_STEP 4 C2 0.5 turnovers is [33.12988900544794, 33.724854169660105, 31.792706713341023, 3.222174822378617, 74.44288949466943]\n"
     ]
    },
    {
     "name": "stderr",
     "output_type": "stream",
     "text": [
      "100%|█████████████████████████████████████████████████████████████████████████████| 1257/1257 [00:05<00:00, 240.85it/s]\n"
     ]
    },
    {
     "name": "stdout",
     "output_type": "stream",
     "text": [
      "For Q1_TOP_NUMBER 10 Q2_TOP_NUMBER 500 Q1_DECAY_STEP 4 C2 0.6 sharp is [2.4241638636690164, 1.6187092489547203, 1.8087291900115692, 3.5222695853651462, 1.4375062878689262]\n",
      "For Q1_TOP_NUMBER 10 Q2_TOP_NUMBER 500 Q1_DECAY_STEP 4 C2 0.6 turnovers is [33.130654489238175, 33.724854169660105, 31.792706713341023, 2.5917816900435735, 40.184433511294614]\n"
     ]
    },
    {
     "name": "stderr",
     "output_type": "stream",
     "text": [
      "100%|█████████████████████████████████████████████████████████████████████████████| 1257/1257 [00:05<00:00, 250.01it/s]\n"
     ]
    },
    {
     "name": "stdout",
     "output_type": "stream",
     "text": [
      "For Q1_TOP_NUMBER 10 Q2_TOP_NUMBER 500 Q1_DECAY_STEP 4 C2 0.7 sharp is [2.404329807033582, 1.6187092489547201, 1.8087291900115692, 3.5038760231117787, 1.1712232914411824]\n",
      "For Q1_TOP_NUMBER 10 Q2_TOP_NUMBER 500 Q1_DECAY_STEP 4 C2 0.7 turnovers is [33.12099948923834, 33.724854169660105, 31.792706713341023, 2.248015857406676, 20.54370426236389]\n"
     ]
    },
    {
     "name": "stderr",
     "output_type": "stream",
     "text": [
      "100%|█████████████████████████████████████████████████████████████████████████████| 1257/1257 [00:04<00:00, 259.12it/s]\n"
     ]
    },
    {
     "name": "stdout",
     "output_type": "stream",
     "text": [
      "For Q1_TOP_NUMBER 10 Q2_TOP_NUMBER 500 Q1_DECAY_STEP 4 C2 0.8 sharp is [2.402855068535695, 1.6187092489547203, 1.8087291900115692, 3.4880721415438276, 1.031353513051844]\n",
      "For Q1_TOP_NUMBER 10 Q2_TOP_NUMBER 500 Q1_DECAY_STEP 4 C2 0.8 turnovers is [33.11926335553186, 33.724854169660105, 31.792706713341023, 2.0367080103427444, 10.240706850128651]\n"
     ]
    },
    {
     "name": "stderr",
     "output_type": "stream",
     "text": [
      "100%|█████████████████████████████████████████████████████████████████████████████| 1257/1257 [00:04<00:00, 259.44it/s]\n"
     ]
    },
    {
     "name": "stdout",
     "output_type": "stream",
     "text": [
      "For Q1_TOP_NUMBER 10 Q2_TOP_NUMBER 500 Q1_DECAY_STEP 4 C2 0.9 sharp is [2.41775100580855, 1.6187092489547203, 1.8087291900115692, 3.4746501373049057, 0.9590577528286259]\n",
      "For Q1_TOP_NUMBER 10 Q2_TOP_NUMBER 500 Q1_DECAY_STEP 4 C2 0.9 turnovers is [33.131367236251535, 33.724854169660105, 31.792706713341023, 1.8941362668616157, 4.463925348544095]\n"
     ]
    },
    {
     "name": "stderr",
     "output_type": "stream",
     "text": [
      "100%|█████████████████████████████████████████████████████████████████████████████| 1257/1257 [00:04<00:00, 258.86it/s]\n"
     ]
    },
    {
     "name": "stdout",
     "output_type": "stream",
     "text": [
      "For Q1_TOP_NUMBER 50 Q2_TOP_NUMBER 10 Q1_DECAY_STEP 2 C2 0.5 sharp is [2.4163656264895663, 1.6187092489547203, 1.8087291900115692, 3.5294115473591394, 1.063530776240676]\n",
      "For Q1_TOP_NUMBER 50 Q2_TOP_NUMBER 10 Q1_DECAY_STEP 2 C2 0.5 turnovers is [33.13005960141594, 33.724854169660105, 31.792706713341023, 3.044377835716325, 71.73143315782836]\n"
     ]
    },
    {
     "name": "stderr",
     "output_type": "stream",
     "text": [
      "100%|█████████████████████████████████████████████████████████████████████████████| 1257/1257 [00:04<00:00, 252.16it/s]\n"
     ]
    },
    {
     "name": "stdout",
     "output_type": "stream",
     "text": [
      "For Q1_TOP_NUMBER 50 Q2_TOP_NUMBER 10 Q1_DECAY_STEP 2 C2 0.6 sharp is [2.392790463090775, 1.6187092489547201, 1.8087291900115692, 3.5229426914965036, 1.1547274980882198]\n",
      "For Q1_TOP_NUMBER 50 Q2_TOP_NUMBER 10 Q1_DECAY_STEP 2 C2 0.6 turnovers is [33.11579778335793, 33.724854169660105, 31.792706713341023, 2.5668291305535162, 44.099573876222635]\n"
     ]
    },
    {
     "name": "stderr",
     "output_type": "stream",
     "text": [
      "100%|█████████████████████████████████████████████████████████████████████████████| 1257/1257 [00:04<00:00, 254.25it/s]\n"
     ]
    },
    {
     "name": "stdout",
     "output_type": "stream",
     "text": [
      "For Q1_TOP_NUMBER 50 Q2_TOP_NUMBER 10 Q1_DECAY_STEP 2 C2 0.7 sharp is [2.38775997590223, 1.6187092489547201, 1.8087291900115692, 3.5167650021710832, 1.1961050736106593]\n",
      "For Q1_TOP_NUMBER 50 Q2_TOP_NUMBER 10 Q1_DECAY_STEP 2 C2 0.7 turnovers is [33.12472933771629, 33.724854169660105, 31.792706713341023, 2.250847238569842, 25.340779696249]\n"
     ]
    },
    {
     "name": "stderr",
     "output_type": "stream",
     "text": [
      "100%|█████████████████████████████████████████████████████████████████████████████| 1257/1257 [00:04<00:00, 261.01it/s]\n"
     ]
    },
    {
     "name": "stdout",
     "output_type": "stream",
     "text": [
      "For Q1_TOP_NUMBER 50 Q2_TOP_NUMBER 10 Q1_DECAY_STEP 2 C2 0.8 sharp is [2.4177236326532423, 1.6187092489547203, 1.8087291900115692, 3.5108272504323677, 1.2147045773354548]\n",
      "For Q1_TOP_NUMBER 50 Q2_TOP_NUMBER 10 Q1_DECAY_STEP 2 C2 0.8 turnovers is [33.129505135591, 33.724854169660105, 31.792706713341023, 2.03746546829993, 14.124307853584353]\n"
     ]
    },
    {
     "name": "stderr",
     "output_type": "stream",
     "text": [
      "100%|█████████████████████████████████████████████████████████████████████████████| 1257/1257 [00:04<00:00, 257.37it/s]\n"
     ]
    },
    {
     "name": "stdout",
     "output_type": "stream",
     "text": [
      "For Q1_TOP_NUMBER 50 Q2_TOP_NUMBER 10 Q1_DECAY_STEP 2 C2 0.9 sharp is [2.4151471098727084, 1.6187092489547203, 1.8087291900115692, 3.5062839818579556, 1.2227266258829932]\n",
      "For Q1_TOP_NUMBER 50 Q2_TOP_NUMBER 10 Q1_DECAY_STEP 2 C2 0.9 turnovers is [33.12749829107542, 33.724854169660105, 31.792706713341023, 1.8864948378139361, 7.208964461658469]\n"
     ]
    },
    {
     "name": "stderr",
     "output_type": "stream",
     "text": [
      "100%|█████████████████████████████████████████████████████████████████████████████| 1257/1257 [00:04<00:00, 252.41it/s]\n"
     ]
    },
    {
     "name": "stdout",
     "output_type": "stream",
     "text": [
      "For Q1_TOP_NUMBER 50 Q2_TOP_NUMBER 10 Q1_DECAY_STEP 3 C2 0.5 sharp is [2.4012057381690473, 1.6187092489547201, 1.8087291900115692, 3.5215554143624668, 0.9256042843479888]\n",
      "For Q1_TOP_NUMBER 50 Q2_TOP_NUMBER 10 Q1_DECAY_STEP 3 C2 0.5 turnovers is [33.12319398709631, 33.724854169660105, 31.792706713341023, 2.93066398041385, 72.65862934740026]\n"
     ]
    },
    {
     "name": "stderr",
     "output_type": "stream",
     "text": [
      "100%|█████████████████████████████████████████████████████████████████████████████| 1257/1257 [00:05<00:00, 244.89it/s]\n"
     ]
    },
    {
     "name": "stdout",
     "output_type": "stream",
     "text": [
      "For Q1_TOP_NUMBER 50 Q2_TOP_NUMBER 10 Q1_DECAY_STEP 3 C2 0.6 sharp is [2.3880839067331707, 1.6187092489547203, 1.8087291900115692, 3.5171595055497495, 1.0986330065079681]\n",
      "For Q1_TOP_NUMBER 50 Q2_TOP_NUMBER 10 Q1_DECAY_STEP 3 C2 0.6 turnovers is [33.124078694068224, 33.724854169660105, 31.792706713341023, 2.523132167377771, 41.403680178718425]\n"
     ]
    },
    {
     "name": "stderr",
     "output_type": "stream",
     "text": [
      "100%|█████████████████████████████████████████████████████████████████████████████| 1257/1257 [00:04<00:00, 256.27it/s]\n"
     ]
    },
    {
     "name": "stdout",
     "output_type": "stream",
     "text": [
      "For Q1_TOP_NUMBER 50 Q2_TOP_NUMBER 10 Q1_DECAY_STEP 3 C2 0.7 sharp is [2.3934741538522335, 1.6187092489547203, 1.8087291900115692, 3.51056902464508, 1.1718623099079875]\n",
      "For Q1_TOP_NUMBER 50 Q2_TOP_NUMBER 10 Q1_DECAY_STEP 3 C2 0.7 turnovers is [33.130202448926, 33.724854169660105, 31.792706713341023, 2.223673065221539, 22.993321480470623]\n"
     ]
    },
    {
     "name": "stderr",
     "output_type": "stream",
     "text": [
      "100%|█████████████████████████████████████████████████████████████████████████████| 1257/1257 [00:04<00:00, 259.87it/s]\n"
     ]
    },
    {
     "name": "stdout",
     "output_type": "stream",
     "text": [
      "For Q1_TOP_NUMBER 50 Q2_TOP_NUMBER 10 Q1_DECAY_STEP 3 C2 0.8 sharp is [2.421898367740031, 1.6187092489547203, 1.8087291900115692, 3.5060223968616295, 1.2037783455620454]\n",
      "For Q1_TOP_NUMBER 50 Q2_TOP_NUMBER 10 Q1_DECAY_STEP 3 C2 0.8 turnovers is [33.12773778599372, 33.724854169660105, 31.792706713341023, 2.0234594707736333, 12.704946353395107]\n"
     ]
    },
    {
     "name": "stderr",
     "output_type": "stream",
     "text": [
      "100%|█████████████████████████████████████████████████████████████████████████████| 1257/1257 [00:05<00:00, 249.40it/s]\n"
     ]
    },
    {
     "name": "stdout",
     "output_type": "stream",
     "text": [
      "For Q1_TOP_NUMBER 50 Q2_TOP_NUMBER 10 Q1_DECAY_STEP 3 C2 0.9 sharp is [2.4157730212257102, 1.6187092489547201, 1.8087291900115692, 3.5038970728234995, 1.2187465159790947]\n",
      "For Q1_TOP_NUMBER 50 Q2_TOP_NUMBER 10 Q1_DECAY_STEP 3 C2 0.9 turnovers is [33.129476696740184, 33.724854169660105, 31.792706713341023, 1.8817193836448203, 6.602891540191002]\n"
     ]
    },
    {
     "name": "stderr",
     "output_type": "stream",
     "text": [
      "100%|█████████████████████████████████████████████████████████████████████████████| 1257/1257 [00:05<00:00, 250.00it/s]\n"
     ]
    },
    {
     "name": "stdout",
     "output_type": "stream",
     "text": [
      "For Q1_TOP_NUMBER 50 Q2_TOP_NUMBER 10 Q1_DECAY_STEP 4 C2 0.5 sharp is [2.4290989599697492, 1.6187092489547201, 1.8087291900115692, 3.522985658150376, 0.8773526052884799]\n",
      "For Q1_TOP_NUMBER 50 Q2_TOP_NUMBER 10 Q1_DECAY_STEP 4 C2 0.5 turnovers is [33.13479379188159, 33.724854169660105, 31.792706713341023, 2.866590763646255, 72.8630207804531]\n"
     ]
    },
    {
     "name": "stderr",
     "output_type": "stream",
     "text": [
      "100%|█████████████████████████████████████████████████████████████████████████████| 1257/1257 [00:04<00:00, 261.39it/s]\n"
     ]
    },
    {
     "name": "stdout",
     "output_type": "stream",
     "text": [
      "For Q1_TOP_NUMBER 50 Q2_TOP_NUMBER 10 Q1_DECAY_STEP 4 C2 0.6 sharp is [2.3748003899206265, 1.6187092489547203, 1.8087291900115692, 3.5132949815962395, 1.084453600450826]\n",
      "For Q1_TOP_NUMBER 50 Q2_TOP_NUMBER 10 Q1_DECAY_STEP 4 C2 0.6 turnovers is [33.12711050471774, 33.724854169660105, 31.792706713341023, 2.4470572667696744, 39.066295261442235]\n"
     ]
    },
    {
     "name": "stderr",
     "output_type": "stream",
     "text": [
      "100%|█████████████████████████████████████████████████████████████████████████████| 1257/1257 [00:04<00:00, 254.30it/s]\n"
     ]
    },
    {
     "name": "stdout",
     "output_type": "stream",
     "text": [
      "For Q1_TOP_NUMBER 50 Q2_TOP_NUMBER 10 Q1_DECAY_STEP 4 C2 0.7 sharp is [2.390983853218754, 1.6187092489547203, 1.8087291900115692, 3.506444849386857, 1.1660855529525214]\n",
      "For Q1_TOP_NUMBER 50 Q2_TOP_NUMBER 10 Q1_DECAY_STEP 4 C2 0.7 turnovers is [33.13280422771212, 33.724854169660105, 31.792706713341023, 2.189369490103667, 21.050834471589503]\n"
     ]
    },
    {
     "name": "stderr",
     "output_type": "stream",
     "text": [
      "100%|█████████████████████████████████████████████████████████████████████████████| 1257/1257 [00:04<00:00, 253.02it/s]\n"
     ]
    },
    {
     "name": "stdout",
     "output_type": "stream",
     "text": [
      "For Q1_TOP_NUMBER 50 Q2_TOP_NUMBER 10 Q1_DECAY_STEP 4 C2 0.8 sharp is [2.4295797698065686, 1.6187092489547201, 1.8087291900115692, 3.503019418219961, 1.201611701140491]\n",
      "For Q1_TOP_NUMBER 50 Q2_TOP_NUMBER 10 Q1_DECAY_STEP 4 C2 0.8 turnovers is [33.12120485608884, 33.724854169660105, 31.792706713341023, 2.0108330295842, 11.638227305797084]\n"
     ]
    },
    {
     "name": "stderr",
     "output_type": "stream",
     "text": [
      "100%|█████████████████████████████████████████████████████████████████████████████| 1257/1257 [00:04<00:00, 261.06it/s]\n"
     ]
    },
    {
     "name": "stdout",
     "output_type": "stream",
     "text": [
      "For Q1_TOP_NUMBER 50 Q2_TOP_NUMBER 10 Q1_DECAY_STEP 4 C2 0.9 sharp is [2.4285334640662053, 1.6187092489547201, 1.8087291900115692, 3.5023251542017717, 1.2180220102672237]\n",
      "For Q1_TOP_NUMBER 50 Q2_TOP_NUMBER 10 Q1_DECAY_STEP 4 C2 0.9 turnovers is [33.1335880458094, 33.724854169660105, 31.792706713341023, 1.8779139165708307, 6.162827841608081]\n"
     ]
    },
    {
     "name": "stderr",
     "output_type": "stream",
     "text": [
      "100%|█████████████████████████████████████████████████████████████████████████████| 1257/1257 [00:04<00:00, 255.64it/s]\n"
     ]
    },
    {
     "name": "stdout",
     "output_type": "stream",
     "text": [
      "For Q1_TOP_NUMBER 50 Q2_TOP_NUMBER 50 Q1_DECAY_STEP 2 C2 0.5 sharp is [2.3862614296183584, 1.6187092489547201, 1.8087291900115692, 3.305398184705596, 0.7124330579833456]\n",
      "For Q1_TOP_NUMBER 50 Q2_TOP_NUMBER 50 Q1_DECAY_STEP 2 C2 0.5 turnovers is [33.12929206394811, 33.724854169660105, 31.792706713341023, 3.2124062413998677, 73.96958756752528]\n"
     ]
    },
    {
     "name": "stderr",
     "output_type": "stream",
     "text": [
      "100%|█████████████████████████████████████████████████████████████████████████████| 1257/1257 [00:04<00:00, 260.09it/s]\n"
     ]
    },
    {
     "name": "stdout",
     "output_type": "stream",
     "text": [
      "For Q1_TOP_NUMBER 50 Q2_TOP_NUMBER 50 Q1_DECAY_STEP 2 C2 0.6 sharp is [2.4114484704423886, 1.6187092489547201, 1.8087291900115692, 3.2314064534495324, 0.7477286902297053]\n",
      "For Q1_TOP_NUMBER 50 Q2_TOP_NUMBER 50 Q1_DECAY_STEP 2 C2 0.6 turnovers is [33.12404813363429, 33.724854169660105, 31.792706713341023, 2.6600573175244966, 44.446494836665195]\n"
     ]
    },
    {
     "name": "stderr",
     "output_type": "stream",
     "text": [
      "100%|█████████████████████████████████████████████████████████████████████████████| 1257/1257 [00:04<00:00, 259.87it/s]\n"
     ]
    },
    {
     "name": "stdout",
     "output_type": "stream",
     "text": [
      "For Q1_TOP_NUMBER 50 Q2_TOP_NUMBER 50 Q1_DECAY_STEP 2 C2 0.7 sharp is [2.3943125126884888, 1.6187092489547203, 1.8087291900115692, 3.1678586884299946, 0.7429320635632316]\n",
      "For Q1_TOP_NUMBER 50 Q2_TOP_NUMBER 50 Q1_DECAY_STEP 2 C2 0.7 turnovers is [33.125360015273664, 33.724854169660105, 31.792706713341023, 2.307828962234735, 24.714796141416585]\n"
     ]
    },
    {
     "name": "stderr",
     "output_type": "stream",
     "text": [
      "100%|█████████████████████████████████████████████████████████████████████████████| 1257/1257 [00:04<00:00, 260.73it/s]\n"
     ]
    },
    {
     "name": "stdout",
     "output_type": "stream",
     "text": [
      "For Q1_TOP_NUMBER 50 Q2_TOP_NUMBER 50 Q1_DECAY_STEP 2 C2 0.8 sharp is [2.4114208891125894, 1.6187092489547203, 1.8087291900115692, 3.1140417878633957, 0.7254264331347093]\n",
      "For Q1_TOP_NUMBER 50 Q2_TOP_NUMBER 50 Q1_DECAY_STEP 2 C2 0.8 turnovers is [33.12097689846652, 33.724854169660105, 31.792706713341023, 2.0882599344235255, 13.223531433824112]\n"
     ]
    },
    {
     "name": "stderr",
     "output_type": "stream",
     "text": [
      "100%|█████████████████████████████████████████████████████████████████████████████| 1257/1257 [00:04<00:00, 251.55it/s]\n"
     ]
    },
    {
     "name": "stdout",
     "output_type": "stream",
     "text": [
      "For Q1_TOP_NUMBER 50 Q2_TOP_NUMBER 50 Q1_DECAY_STEP 2 C2 0.9 sharp is [2.413295485540274, 1.6187092489547203, 1.8087291900115692, 3.068817740227511, 0.7066976267689554]\n",
      "For Q1_TOP_NUMBER 50 Q2_TOP_NUMBER 50 Q1_DECAY_STEP 2 C2 0.9 turnovers is [33.12096211156696, 33.724854169660105, 31.792706713341023, 1.938098455494723, 6.292033020437808]\n"
     ]
    },
    {
     "name": "stderr",
     "output_type": "stream",
     "text": [
      "100%|█████████████████████████████████████████████████████████████████████████████| 1257/1257 [00:05<00:00, 234.65it/s]\n"
     ]
    },
    {
     "name": "stdout",
     "output_type": "stream",
     "text": [
      "For Q1_TOP_NUMBER 50 Q2_TOP_NUMBER 50 Q1_DECAY_STEP 3 C2 0.5 sharp is [2.4170001006325883, 1.6187092489547203, 1.8087291900115692, 3.2956375784233023, 0.6310520513491824]\n",
      "For Q1_TOP_NUMBER 50 Q2_TOP_NUMBER 50 Q1_DECAY_STEP 3 C2 0.5 turnovers is [33.12742306036157, 33.724854169660105, 31.792706713341023, 3.0957407947405082, 75.12822450414063]\n"
     ]
    },
    {
     "name": "stderr",
     "output_type": "stream",
     "text": [
      "100%|█████████████████████████████████████████████████████████████████████████████| 1257/1257 [00:04<00:00, 259.55it/s]\n"
     ]
    },
    {
     "name": "stdout",
     "output_type": "stream",
     "text": [
      "For Q1_TOP_NUMBER 50 Q2_TOP_NUMBER 50 Q1_DECAY_STEP 3 C2 0.6 sharp is [2.4132325228746834, 1.6187092489547203, 1.8087291900115692, 3.2266491710686203, 0.7393337641927185]\n",
      "For Q1_TOP_NUMBER 50 Q2_TOP_NUMBER 50 Q1_DECAY_STEP 3 C2 0.6 turnovers is [33.124166722576334, 33.724854169660105, 31.792706713341023, 2.6075334233324634, 41.381445514073974]\n"
     ]
    },
    {
     "name": "stderr",
     "output_type": "stream",
     "text": [
      "100%|█████████████████████████████████████████████████████████████████████████████| 1257/1257 [00:04<00:00, 259.92it/s]\n"
     ]
    },
    {
     "name": "stdout",
     "output_type": "stream",
     "text": [
      "For Q1_TOP_NUMBER 50 Q2_TOP_NUMBER 50 Q1_DECAY_STEP 3 C2 0.7 sharp is [2.388473326517429, 1.6187092489547203, 1.8087291900115692, 3.16318948798748, 0.7441496016640445]\n",
      "For Q1_TOP_NUMBER 50 Q2_TOP_NUMBER 50 Q1_DECAY_STEP 3 C2 0.7 turnovers is [33.125059155461244, 33.724854169660105, 31.792706713341023, 2.279461199676638, 22.06293685729799]\n"
     ]
    },
    {
     "name": "stderr",
     "output_type": "stream",
     "text": [
      "100%|█████████████████████████████████████████████████████████████████████████████| 1257/1257 [00:04<00:00, 259.87it/s]\n"
     ]
    },
    {
     "name": "stdout",
     "output_type": "stream",
     "text": [
      "For Q1_TOP_NUMBER 50 Q2_TOP_NUMBER 50 Q1_DECAY_STEP 3 C2 0.8 sharp is [2.3723623476994993, 1.6187092489547201, 1.8087291900115692, 3.110786280268146, 0.7263629062106013]\n",
      "For Q1_TOP_NUMBER 50 Q2_TOP_NUMBER 50 Q1_DECAY_STEP 3 C2 0.8 turnovers is [33.12512345570705, 33.724854169660105, 31.792706713341023, 2.0707754141436165, 11.650053424966151]\n"
     ]
    },
    {
     "name": "stderr",
     "output_type": "stream",
     "text": [
      "100%|█████████████████████████████████████████████████████████████████████████████| 1257/1257 [00:04<00:00, 260.89it/s]\n"
     ]
    },
    {
     "name": "stdout",
     "output_type": "stream",
     "text": [
      "For Q1_TOP_NUMBER 50 Q2_TOP_NUMBER 50 Q1_DECAY_STEP 3 C2 0.9 sharp is [2.3679520178198823, 1.6187092489547203, 1.8087291900115692, 3.067405873487555, 0.7068489447851504]\n",
      "For Q1_TOP_NUMBER 50 Q2_TOP_NUMBER 50 Q1_DECAY_STEP 3 C2 0.9 turnovers is [33.120462094133416, 33.724854169660105, 31.792706713341023, 1.9327994655264478, 5.625529692306515]\n"
     ]
    },
    {
     "name": "stderr",
     "output_type": "stream",
     "text": [
      "100%|█████████████████████████████████████████████████████████████████████████████| 1257/1257 [00:04<00:00, 260.09it/s]\n"
     ]
    },
    {
     "name": "stdout",
     "output_type": "stream",
     "text": [
      "For Q1_TOP_NUMBER 50 Q2_TOP_NUMBER 50 Q1_DECAY_STEP 4 C2 0.5 sharp is [2.4186715083393735, 1.6187092489547201, 1.8087291900115692, 3.3047204619141612, 0.6550624916636403]\n",
      "For Q1_TOP_NUMBER 50 Q2_TOP_NUMBER 50 Q1_DECAY_STEP 4 C2 0.5 turnovers is [33.1283080128375, 33.724854169660105, 31.792706713341023, 3.051608637569066, 75.47366439878455]\n"
     ]
    },
    {
     "name": "stderr",
     "output_type": "stream",
     "text": [
      "100%|█████████████████████████████████████████████████████████████████████████████| 1257/1257 [00:04<00:00, 261.71it/s]\n"
     ]
    },
    {
     "name": "stdout",
     "output_type": "stream",
     "text": [
      "For Q1_TOP_NUMBER 50 Q2_TOP_NUMBER 50 Q1_DECAY_STEP 4 C2 0.6 sharp is [2.3916363162115806, 1.6187092489547201, 1.8087291900115692, 3.2297479513818446, 0.765416314646687]\n",
      "For Q1_TOP_NUMBER 50 Q2_TOP_NUMBER 50 Q1_DECAY_STEP 4 C2 0.6 turnovers is [33.12822125191717, 33.724854169660105, 31.792706713341023, 2.5494167276203097, 38.628148971688745]\n"
     ]
    },
    {
     "name": "stderr",
     "output_type": "stream",
     "text": [
      "100%|█████████████████████████████████████████████████████████████████████████████| 1257/1257 [00:04<00:00, 259.93it/s]\n"
     ]
    },
    {
     "name": "stdout",
     "output_type": "stream",
     "text": [
      "For Q1_TOP_NUMBER 50 Q2_TOP_NUMBER 50 Q1_DECAY_STEP 4 C2 0.7 sharp is [2.4183038579140907, 1.6187092489547201, 1.8087291900115692, 3.1648915772085586, 0.7555825926457093]\n",
      "For Q1_TOP_NUMBER 50 Q2_TOP_NUMBER 50 Q1_DECAY_STEP 4 C2 0.7 turnovers is [33.12588495415485, 33.724854169660105, 31.792706713341023, 2.257276476290348, 19.885750074994807]\n"
     ]
    },
    {
     "name": "stderr",
     "output_type": "stream",
     "text": [
      "100%|█████████████████████████████████████████████████████████████████████████████| 1257/1257 [00:04<00:00, 254.35it/s]\n"
     ]
    },
    {
     "name": "stdout",
     "output_type": "stream",
     "text": [
      "For Q1_TOP_NUMBER 50 Q2_TOP_NUMBER 50 Q1_DECAY_STEP 4 C2 0.8 sharp is [2.3920501551486204, 1.6187092489547201, 1.8087291900115692, 3.111632474357714, 0.730272830235413]\n",
      "For Q1_TOP_NUMBER 50 Q2_TOP_NUMBER 50 Q1_DECAY_STEP 4 C2 0.8 turnovers is [33.1268640741452, 33.724854169660105, 31.792706713341023, 2.065016805973018, 10.466043953034289]\n"
     ]
    },
    {
     "name": "stderr",
     "output_type": "stream",
     "text": [
      "100%|█████████████████████████████████████████████████████████████████████████████| 1257/1257 [00:04<00:00, 257.27it/s]\n"
     ]
    },
    {
     "name": "stdout",
     "output_type": "stream",
     "text": [
      "For Q1_TOP_NUMBER 50 Q2_TOP_NUMBER 50 Q1_DECAY_STEP 4 C2 0.9 sharp is [2.4094105032175146, 1.6187092489547201, 1.8087291900115692, 3.0679933991863173, 0.7077610883508527]\n",
      "For Q1_TOP_NUMBER 50 Q2_TOP_NUMBER 50 Q1_DECAY_STEP 4 C2 0.9 turnovers is [33.1287504781778, 33.724854169660105, 31.792706713341023, 1.9281109712296471, 5.142965984244343]\n"
     ]
    },
    {
     "name": "stderr",
     "output_type": "stream",
     "text": [
      "100%|█████████████████████████████████████████████████████████████████████████████| 1257/1257 [00:04<00:00, 256.95it/s]\n"
     ]
    },
    {
     "name": "stdout",
     "output_type": "stream",
     "text": [
      "For Q1_TOP_NUMBER 50 Q2_TOP_NUMBER 100 Q1_DECAY_STEP 2 C2 0.5 sharp is [2.4047694192881477, 1.6187092489547203, 1.8087291900115692, 3.352773647555427, 1.0583918496030247]\n",
      "For Q1_TOP_NUMBER 50 Q2_TOP_NUMBER 100 Q1_DECAY_STEP 2 C2 0.5 turnovers is [33.12144155257225, 33.724854169660105, 31.792706713341023, 3.269630722404344, 74.84566141130757]\n"
     ]
    },
    {
     "name": "stderr",
     "output_type": "stream",
     "text": [
      "100%|█████████████████████████████████████████████████████████████████████████████| 1257/1257 [00:04<00:00, 260.84it/s]\n"
     ]
    },
    {
     "name": "stdout",
     "output_type": "stream",
     "text": [
      "For Q1_TOP_NUMBER 50 Q2_TOP_NUMBER 100 Q1_DECAY_STEP 2 C2 0.6 sharp is [2.4043866354068917, 1.6187092489547203, 1.8087291900115692, 3.291528261879759, 1.1376600910077443]\n",
      "For Q1_TOP_NUMBER 50 Q2_TOP_NUMBER 100 Q1_DECAY_STEP 2 C2 0.6 turnovers is [33.13267785531779, 33.724854169660105, 31.792706713341023, 2.6929794733147148, 45.049551413880934]\n"
     ]
    },
    {
     "name": "stderr",
     "output_type": "stream",
     "text": [
      "100%|█████████████████████████████████████████████████████████████████████████████| 1257/1257 [00:04<00:00, 261.28it/s]\n"
     ]
    },
    {
     "name": "stdout",
     "output_type": "stream",
     "text": [
      "For Q1_TOP_NUMBER 50 Q2_TOP_NUMBER 100 Q1_DECAY_STEP 2 C2 0.7 sharp is [2.399962987799167, 1.6187092489547203, 1.8087291900115692, 3.250184286931276, 1.1487454130583126]\n",
      "For Q1_TOP_NUMBER 50 Q2_TOP_NUMBER 100 Q1_DECAY_STEP 2 C2 0.7 turnovers is [33.124571405737306, 33.724854169660105, 31.792706713341023, 2.29588705630293, 24.69334256640249]\n"
     ]
    },
    {
     "name": "stderr",
     "output_type": "stream",
     "text": [
      "100%|█████████████████████████████████████████████████████████████████████████████| 1257/1257 [00:05<00:00, 248.32it/s]\n"
     ]
    },
    {
     "name": "stdout",
     "output_type": "stream",
     "text": [
      "For Q1_TOP_NUMBER 50 Q2_TOP_NUMBER 100 Q1_DECAY_STEP 2 C2 0.8 sharp is [2.4128308540525594, 1.6187092489547203, 1.8087291900115692, 3.217350005008903, 1.1346798023780118]\n",
      "For Q1_TOP_NUMBER 50 Q2_TOP_NUMBER 100 Q1_DECAY_STEP 2 C2 0.8 turnovers is [33.12599424541033, 33.724854169660105, 31.792706713341023, 2.0519776412784068, 12.975372266778665]\n"
     ]
    },
    {
     "name": "stderr",
     "output_type": "stream",
     "text": [
      "100%|█████████████████████████████████████████████████████████████████████████████| 1257/1257 [00:04<00:00, 251.51it/s]\n"
     ]
    },
    {
     "name": "stdout",
     "output_type": "stream",
     "text": [
      "For Q1_TOP_NUMBER 50 Q2_TOP_NUMBER 100 Q1_DECAY_STEP 2 C2 0.9 sharp is [2.3981855473583686, 1.6187092489547203, 1.8087291900115692, 3.190116379942234, 1.1169296595876648]\n",
      "For Q1_TOP_NUMBER 50 Q2_TOP_NUMBER 100 Q1_DECAY_STEP 2 C2 0.9 turnovers is [33.1285121147276, 33.724854169660105, 31.792706713341023, 1.8974152459446936, 5.974400562431086]\n"
     ]
    },
    {
     "name": "stderr",
     "output_type": "stream",
     "text": [
      "100%|█████████████████████████████████████████████████████████████████████████████| 1257/1257 [00:05<00:00, 241.27it/s]\n"
     ]
    },
    {
     "name": "stdout",
     "output_type": "stream",
     "text": [
      "For Q1_TOP_NUMBER 50 Q2_TOP_NUMBER 100 Q1_DECAY_STEP 3 C2 0.5 sharp is [2.414842875156286, 1.6187092489547203, 1.8087291900115692, 3.33971914470755, 0.9959089830341028]\n",
      "For Q1_TOP_NUMBER 50 Q2_TOP_NUMBER 100 Q1_DECAY_STEP 3 C2 0.5 turnovers is [33.13180238846233, 33.724854169660105, 31.792706713341023, 3.176416730379588, 76.46833783640548]\n"
     ]
    },
    {
     "name": "stderr",
     "output_type": "stream",
     "text": [
      "100%|█████████████████████████████████████████████████████████████████████████████| 1257/1257 [00:04<00:00, 251.75it/s]\n"
     ]
    },
    {
     "name": "stdout",
     "output_type": "stream",
     "text": [
      "For Q1_TOP_NUMBER 50 Q2_TOP_NUMBER 100 Q1_DECAY_STEP 3 C2 0.6 sharp is [2.391610202572462, 1.6187092489547201, 1.8087291900115692, 3.287436178715268, 1.1408390292709416]\n",
      "For Q1_TOP_NUMBER 50 Q2_TOP_NUMBER 100 Q1_DECAY_STEP 3 C2 0.6 turnovers is [33.11654470588875, 33.724854169660105, 31.792706713341023, 2.6426705237638366, 42.12946794572021]\n"
     ]
    },
    {
     "name": "stderr",
     "output_type": "stream",
     "text": [
      "100%|█████████████████████████████████████████████████████████████████████████████| 1257/1257 [00:05<00:00, 251.35it/s]\n"
     ]
    },
    {
     "name": "stdout",
     "output_type": "stream",
     "text": [
      "For Q1_TOP_NUMBER 50 Q2_TOP_NUMBER 100 Q1_DECAY_STEP 3 C2 0.7 sharp is [2.4202372949267836, 1.6187092489547203, 1.8087291900115692, 3.248137047763224, 1.1520425716649416]\n",
      "For Q1_TOP_NUMBER 50 Q2_TOP_NUMBER 100 Q1_DECAY_STEP 3 C2 0.7 turnovers is [33.128478593293046, 33.724854169660105, 31.792706713341023, 2.28635742796164, 22.05600197256806]\n"
     ]
    },
    {
     "name": "stderr",
     "output_type": "stream",
     "text": [
      "100%|█████████████████████████████████████████████████████████████████████████████| 1257/1257 [00:04<00:00, 252.86it/s]\n"
     ]
    },
    {
     "name": "stdout",
     "output_type": "stream",
     "text": [
      "For Q1_TOP_NUMBER 50 Q2_TOP_NUMBER 100 Q1_DECAY_STEP 3 C2 0.8 sharp is [2.444363882519195, 1.6187092489547203, 1.8087291900115692, 3.2160474530723873, 1.1345674393449598]\n",
      "For Q1_TOP_NUMBER 50 Q2_TOP_NUMBER 100 Q1_DECAY_STEP 3 C2 0.8 turnovers is [33.12198574879565, 33.724854169660105, 31.792706713341023, 2.055909744521717, 11.410595717175356]\n"
     ]
    },
    {
     "name": "stderr",
     "output_type": "stream",
     "text": [
      "100%|█████████████████████████████████████████████████████████████████████████████| 1257/1257 [00:05<00:00, 250.50it/s]\n"
     ]
    },
    {
     "name": "stdout",
     "output_type": "stream",
     "text": [
      "For Q1_TOP_NUMBER 50 Q2_TOP_NUMBER 100 Q1_DECAY_STEP 3 C2 0.9 sharp is [2.412711349041836, 1.6187092489547201, 1.8087291900115692, 3.189497247804293, 1.1160862762531543]\n",
      "For Q1_TOP_NUMBER 50 Q2_TOP_NUMBER 100 Q1_DECAY_STEP 3 C2 0.9 turnovers is [33.121072571239985, 33.724854169660105, 31.792706713341023, 1.9021039176568764, 5.312688484063818]\n"
     ]
    },
    {
     "name": "stderr",
     "output_type": "stream",
     "text": [
      "100%|█████████████████████████████████████████████████████████████████████████████| 1257/1257 [00:05<00:00, 247.29it/s]\n"
     ]
    },
    {
     "name": "stdout",
     "output_type": "stream",
     "text": [
      "For Q1_TOP_NUMBER 50 Q2_TOP_NUMBER 100 Q1_DECAY_STEP 4 C2 0.5 sharp is [2.3751834162588707, 1.6187092489547203, 1.8087291900115692, 3.3469104256598885, 1.0200354677549628]\n",
      "For Q1_TOP_NUMBER 50 Q2_TOP_NUMBER 100 Q1_DECAY_STEP 4 C2 0.5 turnovers is [33.12898195738801, 33.724854169660105, 31.792706713341023, 3.14681783419356, 77.15903121447185]\n"
     ]
    },
    {
     "name": "stderr",
     "output_type": "stream",
     "text": [
      "100%|█████████████████████████████████████████████████████████████████████████████| 1257/1257 [00:05<00:00, 251.35it/s]\n"
     ]
    },
    {
     "name": "stdout",
     "output_type": "stream",
     "text": [
      "For Q1_TOP_NUMBER 50 Q2_TOP_NUMBER 100 Q1_DECAY_STEP 4 C2 0.6 sharp is [2.42732898079162, 1.6187092489547203, 1.8087291900115692, 3.29148281848585, 1.1648985257562716]\n",
      "For Q1_TOP_NUMBER 50 Q2_TOP_NUMBER 100 Q1_DECAY_STEP 4 C2 0.6 turnovers is [33.12823665955208, 33.724854169660105, 31.792706713341023, 2.5986122554985362, 39.31117611295317]\n"
     ]
    },
    {
     "name": "stderr",
     "output_type": "stream",
     "text": [
      "100%|█████████████████████████████████████████████████████████████████████████████| 1257/1257 [00:05<00:00, 250.35it/s]\n"
     ]
    },
    {
     "name": "stdout",
     "output_type": "stream",
     "text": [
      "For Q1_TOP_NUMBER 50 Q2_TOP_NUMBER 100 Q1_DECAY_STEP 4 C2 0.7 sharp is [2.412259688393096, 1.6187092489547203, 1.8087291900115692, 3.250387540924086, 1.1576410856641057]\n",
      "For Q1_TOP_NUMBER 50 Q2_TOP_NUMBER 100 Q1_DECAY_STEP 4 C2 0.7 turnovers is [33.12296085512132, 33.724854169660105, 31.792706713341023, 2.2782241934930507, 19.805284577922812]\n"
     ]
    },
    {
     "name": "stderr",
     "output_type": "stream",
     "text": [
      "100%|█████████████████████████████████████████████████████████████████████████████| 1257/1257 [00:04<00:00, 253.12it/s]\n"
     ]
    },
    {
     "name": "stdout",
     "output_type": "stream",
     "text": [
      "For Q1_TOP_NUMBER 50 Q2_TOP_NUMBER 100 Q1_DECAY_STEP 4 C2 0.8 sharp is [2.4200379674230623, 1.6187092489547201, 1.8087291900115692, 3.2170121984617635, 1.1345483836687147]\n",
      "For Q1_TOP_NUMBER 50 Q2_TOP_NUMBER 100 Q1_DECAY_STEP 4 C2 0.8 turnovers is [33.131184435308974, 33.724854169660105, 31.792706713341023, 2.0663322490799025, 10.17776745881627]\n"
     ]
    },
    {
     "name": "stderr",
     "output_type": "stream",
     "text": [
      "100%|█████████████████████████████████████████████████████████████████████████████| 1257/1257 [00:05<00:00, 250.55it/s]\n"
     ]
    },
    {
     "name": "stdout",
     "output_type": "stream",
     "text": [
      "For Q1_TOP_NUMBER 50 Q2_TOP_NUMBER 100 Q1_DECAY_STEP 4 C2 0.9 sharp is [2.4231189514319107, 1.6187092489547201, 1.8087291900115692, 3.190016149294946, 1.11520675560654]\n",
      "For Q1_TOP_NUMBER 50 Q2_TOP_NUMBER 100 Q1_DECAY_STEP 4 C2 0.9 turnovers is [33.12548685930027, 33.724854169660105, 31.792706713341023, 1.9097044788352142, 4.808507834176748]\n"
     ]
    },
    {
     "name": "stderr",
     "output_type": "stream",
     "text": [
      "100%|█████████████████████████████████████████████████████████████████████████████| 1257/1257 [00:04<00:00, 253.02it/s]\n"
     ]
    },
    {
     "name": "stdout",
     "output_type": "stream",
     "text": [
      "For Q1_TOP_NUMBER 50 Q2_TOP_NUMBER 200 Q1_DECAY_STEP 2 C2 0.5 sharp is [2.4162071701131986, 1.6187092489547203, 1.8087291900115692, 3.398991633618806, 0.8999784904306342]\n",
      "For Q1_TOP_NUMBER 50 Q2_TOP_NUMBER 200 Q1_DECAY_STEP 2 C2 0.5 turnovers is [33.12062445984041, 33.724854169660105, 31.792706713341023, 3.291913322855169, 74.7297213919872]\n"
     ]
    },
    {
     "name": "stderr",
     "output_type": "stream",
     "text": [
      "100%|█████████████████████████████████████████████████████████████████████████████| 1257/1257 [00:05<00:00, 240.90it/s]\n"
     ]
    },
    {
     "name": "stdout",
     "output_type": "stream",
     "text": [
      "For Q1_TOP_NUMBER 50 Q2_TOP_NUMBER 200 Q1_DECAY_STEP 2 C2 0.6 sharp is [2.3911496529223086, 1.6187092489547203, 1.8087291900115692, 3.35629450478135, 0.9655988384826362]\n",
      "For Q1_TOP_NUMBER 50 Q2_TOP_NUMBER 200 Q1_DECAY_STEP 2 C2 0.6 turnovers is [33.122884476626076, 33.724854169660105, 31.792706713341023, 2.746717822858016, 44.976026182694525]\n"
     ]
    },
    {
     "name": "stderr",
     "output_type": "stream",
     "text": [
      "100%|█████████████████████████████████████████████████████████████████████████████| 1257/1257 [00:05<00:00, 238.52it/s]\n"
     ]
    },
    {
     "name": "stdout",
     "output_type": "stream",
     "text": [
      "For Q1_TOP_NUMBER 50 Q2_TOP_NUMBER 200 Q1_DECAY_STEP 2 C2 0.7 sharp is [2.4063641926028043, 1.6187092489547201, 1.8087291900115692, 3.3281461921293, 0.9744416050094268]\n",
      "For Q1_TOP_NUMBER 50 Q2_TOP_NUMBER 200 Q1_DECAY_STEP 2 C2 0.7 turnovers is [33.122402516548995, 33.724854169660105, 31.792706713341023, 2.347430698984097, 24.54471525217583]\n"
     ]
    },
    {
     "name": "stderr",
     "output_type": "stream",
     "text": [
      "100%|█████████████████████████████████████████████████████████████████████████████| 1257/1257 [00:04<00:00, 251.50it/s]\n"
     ]
    },
    {
     "name": "stdout",
     "output_type": "stream",
     "text": [
      "For Q1_TOP_NUMBER 50 Q2_TOP_NUMBER 200 Q1_DECAY_STEP 2 C2 0.8 sharp is [2.4104082121974644, 1.6187092489547203, 1.8087291900115692, 3.311927314540187, 0.9578906514515411]\n",
      "For Q1_TOP_NUMBER 50 Q2_TOP_NUMBER 200 Q1_DECAY_STEP 2 C2 0.8 turnovers is [33.12677486274116, 33.724854169660105, 31.792706713341023, 2.0794022278244175, 12.473200394885083]\n"
     ]
    },
    {
     "name": "stderr",
     "output_type": "stream",
     "text": [
      "100%|█████████████████████████████████████████████████████████████████████████████| 1257/1257 [00:05<00:00, 247.59it/s]\n"
     ]
    },
    {
     "name": "stdout",
     "output_type": "stream",
     "text": [
      "For Q1_TOP_NUMBER 50 Q2_TOP_NUMBER 200 Q1_DECAY_STEP 2 C2 0.9 sharp is [2.3965915627547205, 1.6187092489547201, 1.8087291900115692, 3.298663614051822, 0.9390089697282172]\n",
      "For Q1_TOP_NUMBER 50 Q2_TOP_NUMBER 200 Q1_DECAY_STEP 2 C2 0.9 turnovers is [33.12694000449197, 33.724854169660105, 31.792706713341023, 1.9110005829665655, 5.381213921513938]\n"
     ]
    },
    {
     "name": "stderr",
     "output_type": "stream",
     "text": [
      "100%|█████████████████████████████████████████████████████████████████████████████| 1257/1257 [00:05<00:00, 244.60it/s]\n"
     ]
    },
    {
     "name": "stdout",
     "output_type": "stream",
     "text": [
      "For Q1_TOP_NUMBER 50 Q2_TOP_NUMBER 200 Q1_DECAY_STEP 3 C2 0.5 sharp is [2.402637919734361, 1.6187092489547203, 1.8087291900115692, 3.383370734547486, 0.8146576552075291]\n",
      "For Q1_TOP_NUMBER 50 Q2_TOP_NUMBER 200 Q1_DECAY_STEP 3 C2 0.5 turnovers is [33.12531933162707, 33.724854169660105, 31.792706713341023, 3.289783133408904, 76.48800613044185]\n"
     ]
    },
    {
     "name": "stderr",
     "output_type": "stream",
     "text": [
      "100%|█████████████████████████████████████████████████████████████████████████████| 1257/1257 [00:05<00:00, 250.05it/s]\n"
     ]
    },
    {
     "name": "stdout",
     "output_type": "stream",
     "text": [
      "For Q1_TOP_NUMBER 50 Q2_TOP_NUMBER 200 Q1_DECAY_STEP 3 C2 0.6 sharp is [2.429798728374175, 1.6187092489547201, 1.8087291900115692, 3.348681832686836, 0.9538191905289355]\n",
      "For Q1_TOP_NUMBER 50 Q2_TOP_NUMBER 200 Q1_DECAY_STEP 3 C2 0.6 turnovers is [33.133725922103444, 33.724854169660105, 31.792706713341023, 2.734351349166109, 42.36423405367921]\n"
     ]
    },
    {
     "name": "stderr",
     "output_type": "stream",
     "text": [
      "100%|█████████████████████████████████████████████████████████████████████████████| 1257/1257 [00:04<00:00, 260.63it/s]\n"
     ]
    },
    {
     "name": "stdout",
     "output_type": "stream",
     "text": [
      "For Q1_TOP_NUMBER 50 Q2_TOP_NUMBER 200 Q1_DECAY_STEP 3 C2 0.7 sharp is [2.399266143392664, 1.6187092489547203, 1.8087291900115692, 3.324764070532183, 0.9720231449770068]\n",
      "For Q1_TOP_NUMBER 50 Q2_TOP_NUMBER 200 Q1_DECAY_STEP 3 C2 0.7 turnovers is [33.12820053268966, 33.724854169660105, 31.792706713341023, 2.3807360811180915, 21.786559257321034]\n"
     ]
    },
    {
     "name": "stderr",
     "output_type": "stream",
     "text": [
      "100%|█████████████████████████████████████████████████████████████████████████████| 1257/1257 [00:04<00:00, 254.86it/s]\n"
     ]
    },
    {
     "name": "stdout",
     "output_type": "stream",
     "text": [
      "For Q1_TOP_NUMBER 50 Q2_TOP_NUMBER 200 Q1_DECAY_STEP 3 C2 0.8 sharp is [2.3989389537522547, 1.6187092489547201, 1.8087291900115692, 3.3098251058507073, 0.954792277384636]\n",
      "For Q1_TOP_NUMBER 50 Q2_TOP_NUMBER 200 Q1_DECAY_STEP 3 C2 0.8 turnovers is [33.130121802543165, 33.724854169660105, 31.792706713341023, 2.1240865988721502, 10.841984652137912]\n"
     ]
    },
    {
     "name": "stderr",
     "output_type": "stream",
     "text": [
      "100%|█████████████████████████████████████████████████████████████████████████████| 1257/1257 [00:05<00:00, 239.98it/s]\n"
     ]
    },
    {
     "name": "stdout",
     "output_type": "stream",
     "text": [
      "For Q1_TOP_NUMBER 50 Q2_TOP_NUMBER 200 Q1_DECAY_STEP 3 C2 0.9 sharp is [2.40243762603672, 1.6187092489547203, 1.8087291900115692, 3.29775202212158, 0.9371935189713235]\n",
      "For Q1_TOP_NUMBER 50 Q2_TOP_NUMBER 200 Q1_DECAY_STEP 3 C2 0.9 turnovers is [33.12498830624224, 33.724854169660105, 31.792706713341023, 1.943002079732144, 4.69715120195919]\n"
     ]
    },
    {
     "name": "stderr",
     "output_type": "stream",
     "text": [
      "100%|█████████████████████████████████████████████████████████████████████████████| 1257/1257 [00:04<00:00, 255.23it/s]\n"
     ]
    },
    {
     "name": "stdout",
     "output_type": "stream",
     "text": [
      "For Q1_TOP_NUMBER 50 Q2_TOP_NUMBER 200 Q1_DECAY_STEP 4 C2 0.5 sharp is [2.3914606089141257, 1.6187092489547203, 1.8087291900115692, 3.383737774030129, 0.8268802475848822]\n",
      "For Q1_TOP_NUMBER 50 Q2_TOP_NUMBER 200 Q1_DECAY_STEP 4 C2 0.5 turnovers is [33.1232430025258, 33.724854169660105, 31.792706713341023, 3.1973423040132967, 77.8736849754281]\n"
     ]
    },
    {
     "name": "stderr",
     "output_type": "stream",
     "text": [
      "100%|█████████████████████████████████████████████████████████████████████████████| 1257/1257 [00:04<00:00, 256.06it/s]\n"
     ]
    },
    {
     "name": "stdout",
     "output_type": "stream",
     "text": [
      "For Q1_TOP_NUMBER 50 Q2_TOP_NUMBER 200 Q1_DECAY_STEP 4 C2 0.6 sharp is [2.3734089824156497, 1.6187092489547203, 1.8087291900115692, 3.3503208468462726, 0.9729513903392124]\n",
      "For Q1_TOP_NUMBER 50 Q2_TOP_NUMBER 200 Q1_DECAY_STEP 4 C2 0.6 turnovers is [33.1171619864588, 33.724854169660105, 31.792706713341023, 2.609118225124542, 39.743154967775254]\n"
     ]
    },
    {
     "name": "stderr",
     "output_type": "stream",
     "text": [
      "100%|█████████████████████████████████████████████████████████████████████████████| 1257/1257 [00:05<00:00, 238.79it/s]\n"
     ]
    },
    {
     "name": "stdout",
     "output_type": "stream",
     "text": [
      "For Q1_TOP_NUMBER 50 Q2_TOP_NUMBER 200 Q1_DECAY_STEP 4 C2 0.7 sharp is [2.4203175231985306, 1.6187092489547201, 1.8087291900115692, 3.326271129945644, 0.9751473443756392]\n",
      "For Q1_TOP_NUMBER 50 Q2_TOP_NUMBER 200 Q1_DECAY_STEP 4 C2 0.7 turnovers is [33.133859479821105, 33.724854169660105, 31.792706713341023, 2.2596108331816436, 19.497795837539357]\n"
     ]
    },
    {
     "name": "stderr",
     "output_type": "stream",
     "text": [
      "100%|█████████████████████████████████████████████████████████████████████████████| 1257/1257 [00:04<00:00, 256.16it/s]\n"
     ]
    },
    {
     "name": "stdout",
     "output_type": "stream",
     "text": [
      "For Q1_TOP_NUMBER 50 Q2_TOP_NUMBER 200 Q1_DECAY_STEP 4 C2 0.8 sharp is [2.4223746496726024, 1.6187092489547203, 1.8087291900115692, 3.3110366484123688, 0.9537493131665288]\n",
      "For Q1_TOP_NUMBER 50 Q2_TOP_NUMBER 200 Q1_DECAY_STEP 4 C2 0.8 turnovers is [33.13424612753268, 33.724854169660105, 31.792706713341023, 2.046411046438845, 9.605983054387938]\n"
     ]
    },
    {
     "name": "stderr",
     "output_type": "stream",
     "text": [
      "100%|█████████████████████████████████████████████████████████████████████████████| 1257/1257 [00:05<00:00, 243.32it/s]\n"
     ]
    },
    {
     "name": "stdout",
     "output_type": "stream",
     "text": [
      "For Q1_TOP_NUMBER 50 Q2_TOP_NUMBER 200 Q1_DECAY_STEP 4 C2 0.9 sharp is [2.422180120037629, 1.6187092489547201, 1.8087291900115692, 3.298152301961274, 0.9360425100940493]\n",
      "For Q1_TOP_NUMBER 50 Q2_TOP_NUMBER 200 Q1_DECAY_STEP 4 C2 0.9 turnovers is [33.12467837044361, 33.724854169660105, 31.792706713341023, 1.9060534571728345, 4.19600764810443]\n"
     ]
    },
    {
     "name": "stderr",
     "output_type": "stream",
     "text": [
      "100%|█████████████████████████████████████████████████████████████████████████████| 1257/1257 [00:05<00:00, 232.03it/s]\n"
     ]
    },
    {
     "name": "stdout",
     "output_type": "stream",
     "text": [
      "For Q1_TOP_NUMBER 50 Q2_TOP_NUMBER 300 Q1_DECAY_STEP 2 C2 0.5 sharp is [2.4169420076915173, 1.6187092489547201, 1.8087291900115692, 3.4475648595044794, 0.934033067217334]\n",
      "For Q1_TOP_NUMBER 50 Q2_TOP_NUMBER 300 Q1_DECAY_STEP 2 C2 0.5 turnovers is [33.125099773319775, 33.724854169660105, 31.792706713341023, 3.3948986196060513, 75.15036096814788]\n"
     ]
    },
    {
     "name": "stderr",
     "output_type": "stream",
     "text": [
      "100%|█████████████████████████████████████████████████████████████████████████████| 1257/1257 [00:04<00:00, 253.22it/s]\n"
     ]
    },
    {
     "name": "stdout",
     "output_type": "stream",
     "text": [
      "For Q1_TOP_NUMBER 50 Q2_TOP_NUMBER 300 Q1_DECAY_STEP 2 C2 0.6 sharp is [2.4175284927535885, 1.6187092489547203, 1.8087291900115692, 3.4176680609206977, 1.0110567822417458]\n",
      "For Q1_TOP_NUMBER 50 Q2_TOP_NUMBER 300 Q1_DECAY_STEP 2 C2 0.6 turnovers is [33.125076094133966, 33.724854169660105, 31.792706713341023, 2.7780692917133427, 45.016130395410094]\n"
     ]
    },
    {
     "name": "stderr",
     "output_type": "stream",
     "text": [
      "100%|█████████████████████████████████████████████████████████████████████████████| 1257/1257 [00:04<00:00, 258.80it/s]\n"
     ]
    },
    {
     "name": "stdout",
     "output_type": "stream",
     "text": [
      "For Q1_TOP_NUMBER 50 Q2_TOP_NUMBER 300 Q1_DECAY_STEP 2 C2 0.7 sharp is [2.401823090581648, 1.6187092489547201, 1.8087291900115692, 3.3986589628166146, 1.0218018033828313]\n",
      "For Q1_TOP_NUMBER 50 Q2_TOP_NUMBER 300 Q1_DECAY_STEP 2 C2 0.7 turnovers is [33.124054776894084, 33.724854169660105, 31.792706713341023, 2.3549216657627583, 24.5098650011693]\n"
     ]
    },
    {
     "name": "stderr",
     "output_type": "stream",
     "text": [
      "100%|█████████████████████████████████████████████████████████████████████████████| 1257/1257 [00:04<00:00, 259.07it/s]\n"
     ]
    },
    {
     "name": "stdout",
     "output_type": "stream",
     "text": [
      "For Q1_TOP_NUMBER 50 Q2_TOP_NUMBER 300 Q1_DECAY_STEP 2 C2 0.8 sharp is [2.3887645877327794, 1.6187092489547201, 1.8087291900115692, 3.386749352863793, 1.0071444161209653]\n",
      "For Q1_TOP_NUMBER 50 Q2_TOP_NUMBER 300 Q1_DECAY_STEP 2 C2 0.8 turnovers is [33.12328407308647, 33.724854169660105, 31.792706713341023, 2.08195590265888, 12.467308949052775]\n"
     ]
    },
    {
     "name": "stderr",
     "output_type": "stream",
     "text": [
      "100%|█████████████████████████████████████████████████████████████████████████████| 1257/1257 [00:04<00:00, 259.18it/s]\n"
     ]
    },
    {
     "name": "stdout",
     "output_type": "stream",
     "text": [
      "For Q1_TOP_NUMBER 50 Q2_TOP_NUMBER 300 Q1_DECAY_STEP 2 C2 0.9 sharp is [2.450478575095119, 1.6187092489547201, 1.8087291900115692, 3.379801600766492, 0.9844386942276621]\n",
      "For Q1_TOP_NUMBER 50 Q2_TOP_NUMBER 300 Q1_DECAY_STEP 2 C2 0.9 turnovers is [33.14326139880407, 33.724854169660105, 31.792706713341023, 1.9045029611467017, 5.235759501008614]\n"
     ]
    },
    {
     "name": "stderr",
     "output_type": "stream",
     "text": [
      "100%|█████████████████████████████████████████████████████████████████████████████| 1257/1257 [00:04<00:00, 260.09it/s]\n"
     ]
    },
    {
     "name": "stdout",
     "output_type": "stream",
     "text": [
      "For Q1_TOP_NUMBER 50 Q2_TOP_NUMBER 300 Q1_DECAY_STEP 3 C2 0.5 sharp is [2.4299401140163934, 1.6187092489547201, 1.8087291900115692, 3.4339685004469964, 0.8437450874677105]\n",
      "For Q1_TOP_NUMBER 50 Q2_TOP_NUMBER 300 Q1_DECAY_STEP 3 C2 0.5 turnovers is [33.12380992608599, 33.724854169660105, 31.792706713341023, 3.3239191516766433, 77.02553094742741]\n"
     ]
    },
    {
     "name": "stderr",
     "output_type": "stream",
     "text": [
      "100%|█████████████████████████████████████████████████████████████████████████████| 1257/1257 [00:04<00:00, 261.99it/s]\n"
     ]
    },
    {
     "name": "stdout",
     "output_type": "stream",
     "text": [
      "For Q1_TOP_NUMBER 50 Q2_TOP_NUMBER 300 Q1_DECAY_STEP 3 C2 0.6 sharp is [2.405431145251719, 1.6187092489547201, 1.8087291900115692, 3.4115596928933805, 1.0002941900783247]\n",
      "For Q1_TOP_NUMBER 50 Q2_TOP_NUMBER 300 Q1_DECAY_STEP 3 C2 0.6 turnovers is [33.131111266914516, 33.724854169660105, 31.792706713341023, 2.7060551274261146, 42.45465690228104]\n"
     ]
    },
    {
     "name": "stderr",
     "output_type": "stream",
     "text": [
      "100%|█████████████████████████████████████████████████████████████████████████████| 1257/1257 [00:04<00:00, 259.93it/s]\n"
     ]
    },
    {
     "name": "stdout",
     "output_type": "stream",
     "text": [
      "For Q1_TOP_NUMBER 50 Q2_TOP_NUMBER 300 Q1_DECAY_STEP 3 C2 0.7 sharp is [2.419074655438452, 1.6187092489547203, 1.8087291900115692, 3.394844553735808, 1.021229185448076]\n",
      "For Q1_TOP_NUMBER 50 Q2_TOP_NUMBER 300 Q1_DECAY_STEP 3 C2 0.7 turnovers is [33.127047673715445, 33.724854169660105, 31.792706713341023, 2.3190097131188088, 21.835616652321423]\n"
     ]
    },
    {
     "name": "stderr",
     "output_type": "stream",
     "text": [
      "100%|█████████████████████████████████████████████████████████████████████████████| 1257/1257 [00:04<00:00, 252.71it/s]\n"
     ]
    },
    {
     "name": "stdout",
     "output_type": "stream",
     "text": [
      "For Q1_TOP_NUMBER 50 Q2_TOP_NUMBER 300 Q1_DECAY_STEP 3 C2 0.8 sharp is [2.3971771548148153, 1.6187092489547201, 1.8087291900115692, 3.384848691320638, 1.003897142110663]\n",
      "For Q1_TOP_NUMBER 50 Q2_TOP_NUMBER 300 Q1_DECAY_STEP 3 C2 0.8 turnovers is [33.123784853470944, 33.724854169660105, 31.792706713341023, 2.062806721278302, 10.776688335389093]\n"
     ]
    },
    {
     "name": "stderr",
     "output_type": "stream",
     "text": [
      "100%|█████████████████████████████████████████████████████████████████████████████| 1257/1257 [00:05<00:00, 250.55it/s]\n"
     ]
    },
    {
     "name": "stdout",
     "output_type": "stream",
     "text": [
      "For Q1_TOP_NUMBER 50 Q2_TOP_NUMBER 300 Q1_DECAY_STEP 3 C2 0.9 sharp is [2.402700374782655, 1.6187092489547203, 1.8087291900115692, 3.3787108389380545, 0.9824059961989047]\n",
      "For Q1_TOP_NUMBER 50 Q2_TOP_NUMBER 300 Q1_DECAY_STEP 3 C2 0.9 turnovers is [33.12120429754784, 33.724854169660105, 31.792706713341023, 1.8979634283922915, 4.534952850764422]\n"
     ]
    },
    {
     "name": "stderr",
     "output_type": "stream",
     "text": [
      "100%|█████████████████████████████████████████████████████████████████████████████| 1257/1257 [00:04<00:00, 260.19it/s]\n"
     ]
    },
    {
     "name": "stdout",
     "output_type": "stream",
     "text": [
      "For Q1_TOP_NUMBER 50 Q2_TOP_NUMBER 300 Q1_DECAY_STEP 4 C2 0.5 sharp is [2.4030072507032534, 1.6187092489547201, 1.8087291900115692, 3.430429317861835, 0.8561741051850315]\n",
      "For Q1_TOP_NUMBER 50 Q2_TOP_NUMBER 300 Q1_DECAY_STEP 4 C2 0.5 turnovers is [33.12823580940459, 33.724854169660105, 31.792706713341023, 3.291608617397138, 78.56102862980114]\n"
     ]
    },
    {
     "name": "stderr",
     "output_type": "stream",
     "text": [
      "100%|█████████████████████████████████████████████████████████████████████████████| 1257/1257 [00:04<00:00, 256.69it/s]\n"
     ]
    },
    {
     "name": "stdout",
     "output_type": "stream",
     "text": [
      "For Q1_TOP_NUMBER 50 Q2_TOP_NUMBER 300 Q1_DECAY_STEP 4 C2 0.6 sharp is [2.416524842878158, 1.6187092489547201, 1.8087291900115692, 3.4086801894109113, 1.0205185414592313]\n",
      "For Q1_TOP_NUMBER 50 Q2_TOP_NUMBER 300 Q1_DECAY_STEP 4 C2 0.6 turnovers is [33.133601430920585, 33.724854169660105, 31.792706713341023, 2.647766687404169, 39.950403394244866]\n"
     ]
    },
    {
     "name": "stderr",
     "output_type": "stream",
     "text": [
      "100%|█████████████████████████████████████████████████████████████████████████████| 1257/1257 [00:05<00:00, 244.50it/s]\n"
     ]
    },
    {
     "name": "stdout",
     "output_type": "stream",
     "text": [
      "For Q1_TOP_NUMBER 50 Q2_TOP_NUMBER 300 Q1_DECAY_STEP 4 C2 0.7 sharp is [2.3891183074142464, 1.6187092489547201, 1.8087291900115692, 3.3927400033168986, 1.026166801572722]\n",
      "For Q1_TOP_NUMBER 50 Q2_TOP_NUMBER 300 Q1_DECAY_STEP 4 C2 0.7 turnovers is [33.12677831361207, 33.724854169660105, 31.792706713341023, 2.2741462797213288, 19.550532267135814]\n"
     ]
    },
    {
     "name": "stderr",
     "output_type": "stream",
     "text": [
      "100%|█████████████████████████████████████████████████████████████████████████████| 1257/1257 [00:05<00:00, 247.78it/s]\n"
     ]
    },
    {
     "name": "stdout",
     "output_type": "stream",
     "text": [
      "For Q1_TOP_NUMBER 50 Q2_TOP_NUMBER 300 Q1_DECAY_STEP 4 C2 0.8 sharp is [2.3911242300053672, 1.6187092489547203, 1.8087291900115692, 3.38364845082857, 1.0024344394305436]\n",
      "For Q1_TOP_NUMBER 50 Q2_TOP_NUMBER 300 Q1_DECAY_STEP 4 C2 0.8 turnovers is [33.11862140693307, 33.724854169660105, 31.792706713341023, 2.041498419473933, 9.499465872202864]\n"
     ]
    },
    {
     "name": "stderr",
     "output_type": "stream",
     "text": [
      "100%|█████████████████████████████████████████████████████████████████████████████| 1257/1257 [00:05<00:00, 248.42it/s]\n"
     ]
    },
    {
     "name": "stdout",
     "output_type": "stream",
     "text": [
      "For Q1_TOP_NUMBER 50 Q2_TOP_NUMBER 300 Q1_DECAY_STEP 4 C2 0.9 sharp is [2.395240881457838, 1.6187092489547203, 1.8087291900115692, 3.3780150928829995, 0.9810111467946832]\n",
      "For Q1_TOP_NUMBER 50 Q2_TOP_NUMBER 300 Q1_DECAY_STEP 4 C2 0.9 turnovers is [33.12337499531029, 33.724854169660105, 31.792706713341023, 1.8896688794737473, 4.022574010914628]\n"
     ]
    },
    {
     "name": "stderr",
     "output_type": "stream",
     "text": [
      "100%|█████████████████████████████████████████████████████████████████████████████| 1257/1257 [00:04<00:00, 259.98it/s]\n"
     ]
    },
    {
     "name": "stdout",
     "output_type": "stream",
     "text": [
      "For Q1_TOP_NUMBER 50 Q2_TOP_NUMBER 500 Q1_DECAY_STEP 2 C2 0.5 sharp is [2.4073661416258596, 1.6187092489547203, 1.8087291900115692, 3.4979425247790927, 0.9897534669159348]\n",
      "For Q1_TOP_NUMBER 50 Q2_TOP_NUMBER 500 Q1_DECAY_STEP 2 C2 0.5 turnovers is [33.128952795581284, 33.724854169660105, 31.792706713341023, 3.467568301164384, 75.86160506265186]\n"
     ]
    },
    {
     "name": "stderr",
     "output_type": "stream",
     "text": [
      "100%|█████████████████████████████████████████████████████████████████████████████| 1257/1257 [00:04<00:00, 259.07it/s]\n"
     ]
    },
    {
     "name": "stdout",
     "output_type": "stream",
     "text": [
      "For Q1_TOP_NUMBER 50 Q2_TOP_NUMBER 500 Q1_DECAY_STEP 2 C2 0.6 sharp is [2.402798932379431, 1.6187092489547203, 1.8087291900115692, 3.4826166326390986, 1.053494062823334]\n",
      "For Q1_TOP_NUMBER 50 Q2_TOP_NUMBER 500 Q1_DECAY_STEP 2 C2 0.6 turnovers is [33.123059665710436, 33.724854169660105, 31.792706713341023, 2.8260765704357405, 45.24752675158087]\n"
     ]
    },
    {
     "name": "stderr",
     "output_type": "stream",
     "text": [
      "100%|█████████████████████████████████████████████████████████████████████████████| 1257/1257 [00:04<00:00, 260.89it/s]\n"
     ]
    },
    {
     "name": "stdout",
     "output_type": "stream",
     "text": [
      "For Q1_TOP_NUMBER 50 Q2_TOP_NUMBER 500 Q1_DECAY_STEP 2 C2 0.7 sharp is [2.405804452819666, 1.6187092489547203, 1.8087291900115692, 3.473961392457435, 1.0206306289849931]\n",
      "For Q1_TOP_NUMBER 50 Q2_TOP_NUMBER 500 Q1_DECAY_STEP 2 C2 0.7 turnovers is [33.125622570661235, 33.724854169660105, 31.792706713341023, 2.395505313129542, 24.580156630748778]\n"
     ]
    },
    {
     "name": "stderr",
     "output_type": "stream",
     "text": [
      "100%|█████████████████████████████████████████████████████████████████████████████| 1257/1257 [00:04<00:00, 258.53it/s]\n"
     ]
    },
    {
     "name": "stdout",
     "output_type": "stream",
     "text": [
      "For Q1_TOP_NUMBER 50 Q2_TOP_NUMBER 500 Q1_DECAY_STEP 2 C2 0.8 sharp is [2.3734961270352146, 1.6187092489547203, 1.8087291900115692, 3.468109505420184, 0.9779965548996983]\n",
      "For Q1_TOP_NUMBER 50 Q2_TOP_NUMBER 500 Q1_DECAY_STEP 2 C2 0.8 turnovers is [33.10955542284554, 33.724854169660105, 31.792706713341023, 2.104652462406723, 12.670623468487326]\n"
     ]
    },
    {
     "name": "stderr",
     "output_type": "stream",
     "text": [
      "100%|█████████████████████████████████████████████████████████████████████████████| 1257/1257 [00:04<00:00, 257.63it/s]\n"
     ]
    },
    {
     "name": "stdout",
     "output_type": "stream",
     "text": [
      "For Q1_TOP_NUMBER 50 Q2_TOP_NUMBER 500 Q1_DECAY_STEP 2 C2 0.9 sharp is [2.419987447445173, 1.6187092489547201, 1.8087291900115692, 3.467061600688199, 0.9445410807411196]\n",
      "For Q1_TOP_NUMBER 50 Q2_TOP_NUMBER 500 Q1_DECAY_STEP 2 C2 0.9 turnovers is [33.12445925972257, 33.724854169660105, 31.792706713341023, 1.9157109905545728, 5.330930118666021]\n"
     ]
    },
    {
     "name": "stderr",
     "output_type": "stream",
     "text": [
      "100%|█████████████████████████████████████████████████████████████████████████████| 1257/1257 [00:04<00:00, 252.21it/s]\n"
     ]
    },
    {
     "name": "stdout",
     "output_type": "stream",
     "text": [
      "For Q1_TOP_NUMBER 50 Q2_TOP_NUMBER 500 Q1_DECAY_STEP 3 C2 0.5 sharp is [2.398353977573183, 1.6187092489547203, 1.8087291900115692, 3.4872903301218554, 0.9406607644457796]\n",
      "For Q1_TOP_NUMBER 50 Q2_TOP_NUMBER 500 Q1_DECAY_STEP 3 C2 0.5 turnovers is [33.12233867892123, 33.724854169660105, 31.792706713341023, 3.3195721388037067, 78.16283767955304]\n"
     ]
    },
    {
     "name": "stderr",
     "output_type": "stream",
     "text": [
      "100%|█████████████████████████████████████████████████████████████████████████████| 1257/1257 [00:04<00:00, 255.80it/s]\n"
     ]
    },
    {
     "name": "stdout",
     "output_type": "stream",
     "text": [
      "For Q1_TOP_NUMBER 50 Q2_TOP_NUMBER 500 Q1_DECAY_STEP 3 C2 0.6 sharp is [2.382484969173701, 1.6187092489547203, 1.8087291900115692, 3.477452846354072, 1.0216539479085007]\n",
      "For Q1_TOP_NUMBER 50 Q2_TOP_NUMBER 500 Q1_DECAY_STEP 3 C2 0.6 turnovers is [33.119465943355834, 33.724854169660105, 31.792706713341023, 2.6922253657409385, 42.77642399338183]\n"
     ]
    },
    {
     "name": "stderr",
     "output_type": "stream",
     "text": [
      "100%|█████████████████████████████████████████████████████████████████████████████| 1257/1257 [00:05<00:00, 242.57it/s]\n"
     ]
    },
    {
     "name": "stdout",
     "output_type": "stream",
     "text": [
      "For Q1_TOP_NUMBER 50 Q2_TOP_NUMBER 500 Q1_DECAY_STEP 3 C2 0.7 sharp is [2.4052469019509597, 1.6187092489547201, 1.8087291900115692, 3.4703493771996223, 0.9722970233760638]\n",
      "For Q1_TOP_NUMBER 50 Q2_TOP_NUMBER 500 Q1_DECAY_STEP 3 C2 0.7 turnovers is [33.12400129131314, 33.724854169660105, 31.792706713341023, 2.305733122841499, 21.966553474707197]\n"
     ]
    },
    {
     "name": "stderr",
     "output_type": "stream",
     "text": [
      "100%|█████████████████████████████████████████████████████████████████████████████| 1257/1257 [00:05<00:00, 235.49it/s]\n"
     ]
    },
    {
     "name": "stdout",
     "output_type": "stream",
     "text": [
      "For Q1_TOP_NUMBER 50 Q2_TOP_NUMBER 500 Q1_DECAY_STEP 3 C2 0.8 sharp is [2.3752570643166186, 1.6187092489547203, 1.8087291900115692, 3.4652838692315227, 0.9390723854132891]\n",
      "For Q1_TOP_NUMBER 50 Q2_TOP_NUMBER 500 Q1_DECAY_STEP 3 C2 0.8 turnovers is [33.12247881238494, 33.724854169660105, 31.792706713341023, 2.0614414508823318, 11.02996075709683]\n"
     ]
    },
    {
     "name": "stderr",
     "output_type": "stream",
     "text": [
      "100%|█████████████████████████████████████████████████████████████████████████████| 1257/1257 [00:05<00:00, 246.37it/s]\n"
     ]
    },
    {
     "name": "stdout",
     "output_type": "stream",
     "text": [
      "For Q1_TOP_NUMBER 50 Q2_TOP_NUMBER 500 Q1_DECAY_STEP 3 C2 0.9 sharp is [2.388933377994342, 1.6187092489547201, 1.8087291900115692, 3.4656234197256133, 0.9252162365785073]\n",
      "For Q1_TOP_NUMBER 50 Q2_TOP_NUMBER 500 Q1_DECAY_STEP 3 C2 0.9 turnovers is [33.12909304502679, 33.724854169660105, 31.792706713341023, 1.9004843106395102, 4.608005796589463]\n"
     ]
    },
    {
     "name": "stderr",
     "output_type": "stream",
     "text": [
      "100%|█████████████████████████████████████████████████████████████████████████████| 1257/1257 [00:05<00:00, 241.59it/s]\n"
     ]
    },
    {
     "name": "stdout",
     "output_type": "stream",
     "text": [
      "For Q1_TOP_NUMBER 50 Q2_TOP_NUMBER 500 Q1_DECAY_STEP 4 C2 0.5 sharp is [2.4076928081586955, 1.6187092489547203, 1.8087291900115692, 3.4791814537671764, 0.9452271680850931]\n",
      "For Q1_TOP_NUMBER 50 Q2_TOP_NUMBER 500 Q1_DECAY_STEP 4 C2 0.5 turnovers is [33.1237725185929, 33.724854169660105, 31.792706713341023, 3.338720575334749, 79.94235124166299]\n"
     ]
    },
    {
     "name": "stderr",
     "output_type": "stream",
     "text": [
      "100%|█████████████████████████████████████████████████████████████████████████████| 1257/1257 [00:05<00:00, 230.90it/s]\n"
     ]
    },
    {
     "name": "stdout",
     "output_type": "stream",
     "text": [
      "For Q1_TOP_NUMBER 50 Q2_TOP_NUMBER 500 Q1_DECAY_STEP 4 C2 0.6 sharp is [2.4263757840303315, 1.6187092489547201, 1.8087291900115692, 3.4697265364377836, 0.9774164758883065]\n",
      "For Q1_TOP_NUMBER 50 Q2_TOP_NUMBER 500 Q1_DECAY_STEP 4 C2 0.6 turnovers is [33.13432249918786, 33.724854169660105, 31.792706713341023, 2.673398072263418, 40.3627819727748]\n"
     ]
    },
    {
     "name": "stderr",
     "output_type": "stream",
     "text": [
      "100%|█████████████████████████████████████████████████████████████████████████████| 1257/1257 [00:05<00:00, 214.17it/s]\n"
     ]
    },
    {
     "name": "stdout",
     "output_type": "stream",
     "text": [
      "For Q1_TOP_NUMBER 50 Q2_TOP_NUMBER 500 Q1_DECAY_STEP 4 C2 0.7 sharp is [2.406677250946941, 1.6187092489547203, 1.8087291900115692, 3.4641898386840393, 0.909333317023071]\n",
      "For Q1_TOP_NUMBER 50 Q2_TOP_NUMBER 500 Q1_DECAY_STEP 4 C2 0.7 turnovers is [33.127581713303066, 33.724854169660105, 31.792706713341023, 2.2927800790265636, 19.736693824381128]\n"
     ]
    },
    {
     "name": "stderr",
     "output_type": "stream",
     "text": [
      "100%|█████████████████████████████████████████████████████████████████████████████| 1257/1257 [00:05<00:00, 214.18it/s]\n"
     ]
    },
    {
     "name": "stdout",
     "output_type": "stream",
     "text": [
      "For Q1_TOP_NUMBER 50 Q2_TOP_NUMBER 500 Q1_DECAY_STEP 4 C2 0.8 sharp is [2.3833179381994056, 1.6187092489547203, 1.8087291900115692, 3.461604972116671, 0.8975630448614006]\n",
      "For Q1_TOP_NUMBER 50 Q2_TOP_NUMBER 500 Q1_DECAY_STEP 4 C2 0.8 turnovers is [33.12514820756505, 33.724854169660105, 31.792706713341023, 2.059588452073232, 9.728212750339866]\n"
     ]
    },
    {
     "name": "stderr",
     "output_type": "stream",
     "text": [
      "100%|█████████████████████████████████████████████████████████████████████████████| 1257/1257 [00:05<00:00, 234.78it/s]\n"
     ]
    },
    {
     "name": "stdout",
     "output_type": "stream",
     "text": [
      "For Q1_TOP_NUMBER 50 Q2_TOP_NUMBER 500 Q1_DECAY_STEP 4 C2 0.9 sharp is [2.430186134141033, 1.6187092489547203, 1.8087291900115692, 3.463716795073947, 0.9069326952447208]\n",
      "For Q1_TOP_NUMBER 50 Q2_TOP_NUMBER 500 Q1_DECAY_STEP 4 C2 0.9 turnovers is [33.13120736999306, 33.724854169660105, 31.792706713341023, 1.9016528060938176, 4.080340461924546]\n"
     ]
    },
    {
     "name": "stderr",
     "output_type": "stream",
     "text": [
      "100%|█████████████████████████████████████████████████████████████████████████████| 1257/1257 [00:05<00:00, 235.74it/s]\n"
     ]
    },
    {
     "name": "stdout",
     "output_type": "stream",
     "text": [
      "For Q1_TOP_NUMBER 100 Q2_TOP_NUMBER 10 Q1_DECAY_STEP 2 C2 0.5 sharp is [2.3899449788141487, 1.6187092489547201, 1.8087291900115692, 3.5822153240423527, 1.1245241967877617]\n",
      "For Q1_TOP_NUMBER 100 Q2_TOP_NUMBER 10 Q1_DECAY_STEP 2 C2 0.5 turnovers is [33.12467367616028, 33.724854169660105, 31.792706713341023, 3.0638663920745515, 69.51404042627743]\n"
     ]
    },
    {
     "name": "stderr",
     "output_type": "stream",
     "text": [
      "100%|█████████████████████████████████████████████████████████████████████████████| 1257/1257 [00:06<00:00, 199.02it/s]\n"
     ]
    },
    {
     "name": "stdout",
     "output_type": "stream",
     "text": [
      "For Q1_TOP_NUMBER 100 Q2_TOP_NUMBER 10 Q1_DECAY_STEP 2 C2 0.6 sharp is [2.3941439273762617, 1.6187092489547201, 1.8087291900115692, 3.5611750480695643, 1.1457112167270156]\n",
      "For Q1_TOP_NUMBER 100 Q2_TOP_NUMBER 10 Q1_DECAY_STEP 2 C2 0.6 turnovers is [33.12670838613586, 33.724854169660105, 31.792706713341023, 2.5800531216932296, 41.96250562967903]\n"
     ]
    },
    {
     "name": "stderr",
     "output_type": "stream",
     "text": [
      "100%|█████████████████████████████████████████████████████████████████████████████| 1257/1257 [00:06<00:00, 190.80it/s]\n"
     ]
    },
    {
     "name": "stdout",
     "output_type": "stream",
     "text": [
      "For Q1_TOP_NUMBER 100 Q2_TOP_NUMBER 10 Q1_DECAY_STEP 2 C2 0.7 sharp is [2.39955702525986, 1.6187092489547201, 1.8087291900115692, 3.541521922678501, 1.170147264936543]\n",
      "For Q1_TOP_NUMBER 100 Q2_TOP_NUMBER 10 Q1_DECAY_STEP 2 C2 0.7 turnovers is [33.12140267845201, 33.724854169660105, 31.792706713341023, 2.262637689986838, 23.90395683454333]\n"
     ]
    },
    {
     "name": "stderr",
     "output_type": "stream",
     "text": [
      "100%|█████████████████████████████████████████████████████████████████████████████| 1257/1257 [00:06<00:00, 182.41it/s]\n"
     ]
    },
    {
     "name": "stdout",
     "output_type": "stream",
     "text": [
      "For Q1_TOP_NUMBER 100 Q2_TOP_NUMBER 10 Q1_DECAY_STEP 2 C2 0.8 sharp is [2.4065376485612893, 1.6187092489547203, 1.8087291900115692, 3.524902207534967, 1.1932961052232705]\n",
      "For Q1_TOP_NUMBER 100 Q2_TOP_NUMBER 10 Q1_DECAY_STEP 2 C2 0.8 turnovers is [33.1284546758762, 33.724854169660105, 31.792706713341023, 2.0458227380072325, 13.337935458221336]\n"
     ]
    },
    {
     "name": "stderr",
     "output_type": "stream",
     "text": [
      "100%|█████████████████████████████████████████████████████████████████████████████| 1257/1257 [00:12<00:00, 103.88it/s]\n"
     ]
    },
    {
     "name": "stdout",
     "output_type": "stream",
     "text": [
      "For Q1_TOP_NUMBER 100 Q2_TOP_NUMBER 10 Q1_DECAY_STEP 2 C2 0.9 sharp is [2.3877662279594243, 1.6187092489547203, 1.8087291900115692, 3.5123005741337483, 1.211763251422804]\n",
      "For Q1_TOP_NUMBER 100 Q2_TOP_NUMBER 10 Q1_DECAY_STEP 2 C2 0.9 turnovers is [33.12012686470192, 33.724854169660105, 31.792706713341023, 1.8906363143459042, 6.887762126168645]\n"
     ]
    },
    {
     "name": "stderr",
     "output_type": "stream",
     "text": [
      "100%|█████████████████████████████████████████████████████████████████████████████| 1257/1257 [00:05<00:00, 210.38it/s]\n"
     ]
    },
    {
     "name": "stdout",
     "output_type": "stream",
     "text": [
      "For Q1_TOP_NUMBER 100 Q2_TOP_NUMBER 10 Q1_DECAY_STEP 3 C2 0.5 sharp is [2.414920325337247, 1.6187092489547203, 1.8087291900115692, 3.5742268275367586, 1.03065033876957]\n",
      "For Q1_TOP_NUMBER 100 Q2_TOP_NUMBER 10 Q1_DECAY_STEP 3 C2 0.5 turnovers is [33.12492958195725, 33.724854169660105, 31.792706713341023, 2.956743007167577, 71.29934435734322]\n"
     ]
    },
    {
     "name": "stderr",
     "output_type": "stream",
     "text": [
      "100%|█████████████████████████████████████████████████████████████████████████████| 1257/1257 [00:05<00:00, 219.87it/s]\n"
     ]
    },
    {
     "name": "stdout",
     "output_type": "stream",
     "text": [
      "For Q1_TOP_NUMBER 100 Q2_TOP_NUMBER 10 Q1_DECAY_STEP 3 C2 0.6 sharp is [2.4092518249067543, 1.6187092489547201, 1.8087291900115692, 3.555589551446764, 1.0933839106241583]\n",
      "For Q1_TOP_NUMBER 100 Q2_TOP_NUMBER 10 Q1_DECAY_STEP 3 C2 0.6 turnovers is [33.120792871534334, 33.724854169660105, 31.792706713341023, 2.5350082915772676, 39.57371303706005]\n"
     ]
    },
    {
     "name": "stderr",
     "output_type": "stream",
     "text": [
      "100%|█████████████████████████████████████████████████████████████████████████████| 1257/1257 [00:05<00:00, 232.69it/s]\n"
     ]
    },
    {
     "name": "stdout",
     "output_type": "stream",
     "text": [
      "For Q1_TOP_NUMBER 100 Q2_TOP_NUMBER 10 Q1_DECAY_STEP 3 C2 0.7 sharp is [2.411882786913806, 1.6187092489547203, 1.8087291900115692, 3.534172693626429, 1.1473930761908204]\n",
      "For Q1_TOP_NUMBER 100 Q2_TOP_NUMBER 10 Q1_DECAY_STEP 3 C2 0.7 turnovers is [33.123893187995726, 33.724854169660105, 31.792706713341023, 2.237789279153231, 21.763022417833593]\n"
     ]
    },
    {
     "name": "stderr",
     "output_type": "stream",
     "text": [
      "100%|█████████████████████████████████████████████████████████████████████████████| 1257/1257 [00:05<00:00, 238.34it/s]\n"
     ]
    },
    {
     "name": "stdout",
     "output_type": "stream",
     "text": [
      "For Q1_TOP_NUMBER 100 Q2_TOP_NUMBER 10 Q1_DECAY_STEP 3 C2 0.8 sharp is [2.426542200413893, 1.6187092489547203, 1.8087291900115692, 3.5185365049481203, 1.1848169250917422]\n",
      "For Q1_TOP_NUMBER 100 Q2_TOP_NUMBER 10 Q1_DECAY_STEP 3 C2 0.8 turnovers is [33.129419619665455, 33.724854169660105, 31.792706713341023, 2.03283974670498, 12.04531668511251]\n"
     ]
    },
    {
     "name": "stderr",
     "output_type": "stream",
     "text": [
      "100%|█████████████████████████████████████████████████████████████████████████████| 1257/1257 [00:05<00:00, 249.90it/s]\n"
     ]
    },
    {
     "name": "stdout",
     "output_type": "stream",
     "text": [
      "For Q1_TOP_NUMBER 100 Q2_TOP_NUMBER 10 Q1_DECAY_STEP 3 C2 0.9 sharp is [2.4022582001038044, 1.6187092489547201, 1.8087291900115692, 3.508998736664092, 1.2094116040697258]\n",
      "For Q1_TOP_NUMBER 100 Q2_TOP_NUMBER 10 Q1_DECAY_STEP 3 C2 0.9 turnovers is [33.1273211811428, 33.724854169660105, 31.792706713341023, 1.8866242169831542, 6.335161106355029]\n"
     ]
    },
    {
     "name": "stderr",
     "output_type": "stream",
     "text": [
      "100%|█████████████████████████████████████████████████████████████████████████████| 1257/1257 [00:05<00:00, 244.69it/s]\n"
     ]
    },
    {
     "name": "stdout",
     "output_type": "stream",
     "text": [
      "For Q1_TOP_NUMBER 100 Q2_TOP_NUMBER 10 Q1_DECAY_STEP 4 C2 0.5 sharp is [2.384239776449643, 1.6187092489547203, 1.8087291900115692, 3.5760498323505026, 0.9895886674176005]\n",
      "For Q1_TOP_NUMBER 100 Q2_TOP_NUMBER 10 Q1_DECAY_STEP 4 C2 0.5 turnovers is [33.11956112157653, 33.724854169660105, 31.792706713341023, 2.9061679965446316, 72.21408169237309]\n"
     ]
    },
    {
     "name": "stderr",
     "output_type": "stream",
     "text": [
      "100%|█████████████████████████████████████████████████████████████████████████████| 1257/1257 [00:05<00:00, 247.20it/s]\n"
     ]
    },
    {
     "name": "stdout",
     "output_type": "stream",
     "text": [
      "For Q1_TOP_NUMBER 100 Q2_TOP_NUMBER 10 Q1_DECAY_STEP 4 C2 0.6 sharp is [2.395232483543171, 1.6187092489547203, 1.8087291900115692, 3.546838269978972, 1.070254742140256]\n",
      "For Q1_TOP_NUMBER 100 Q2_TOP_NUMBER 10 Q1_DECAY_STEP 4 C2 0.6 turnovers is [33.11776368595291, 33.724854169660105, 31.792706713341023, 2.465850593052801, 37.42279474290429]\n"
     ]
    },
    {
     "name": "stderr",
     "output_type": "stream",
     "text": [
      "100%|█████████████████████████████████████████████████████████████████████████████| 1257/1257 [00:05<00:00, 244.84it/s]\n"
     ]
    },
    {
     "name": "stdout",
     "output_type": "stream",
     "text": [
      "For Q1_TOP_NUMBER 100 Q2_TOP_NUMBER 10 Q1_DECAY_STEP 4 C2 0.7 sharp is [2.411372778930206, 1.6187092489547203, 1.8087291900115692, 3.526332299482441, 1.1409939554638098]\n",
      "For Q1_TOP_NUMBER 100 Q2_TOP_NUMBER 10 Q1_DECAY_STEP 4 C2 0.7 turnovers is [33.12553279400475, 33.724854169660105, 31.792706713341023, 2.2009704855763, 19.97224096730485]\n"
     ]
    },
    {
     "name": "stderr",
     "output_type": "stream",
     "text": [
      "100%|█████████████████████████████████████████████████████████████████████████████| 1257/1257 [00:05<00:00, 247.15it/s]\n"
     ]
    },
    {
     "name": "stdout",
     "output_type": "stream",
     "text": [
      "For Q1_TOP_NUMBER 100 Q2_TOP_NUMBER 10 Q1_DECAY_STEP 4 C2 0.8 sharp is [2.38606916056983, 1.6187092489547203, 1.8087291900115692, 3.513707061563483, 1.1840905120460496]\n",
      "For Q1_TOP_NUMBER 100 Q2_TOP_NUMBER 10 Q1_DECAY_STEP 4 C2 0.8 turnovers is [33.11745894159086, 33.724854169660105, 31.792706713341023, 2.0176987490339537, 11.067457521247036]\n"
     ]
    },
    {
     "name": "stderr",
     "output_type": "stream",
     "text": [
      "100%|█████████████████████████████████████████████████████████████████████████████| 1257/1257 [00:05<00:00, 244.12it/s]\n"
     ]
    },
    {
     "name": "stdout",
     "output_type": "stream",
     "text": [
      "For Q1_TOP_NUMBER 100 Q2_TOP_NUMBER 10 Q1_DECAY_STEP 4 C2 0.9 sharp is [2.412813766172625, 1.6187092489547201, 1.8087291900115692, 3.5067389156541178, 1.2097684352620695]\n",
      "For Q1_TOP_NUMBER 100 Q2_TOP_NUMBER 10 Q1_DECAY_STEP 4 C2 0.9 turnovers is [33.12342334235406, 33.724854169660105, 31.792706713341023, 1.8813280155407646, 5.932811329567376]\n"
     ]
    },
    {
     "name": "stderr",
     "output_type": "stream",
     "text": [
      "100%|█████████████████████████████████████████████████████████████████████████████| 1257/1257 [00:05<00:00, 247.78it/s]\n"
     ]
    },
    {
     "name": "stdout",
     "output_type": "stream",
     "text": [
      "For Q1_TOP_NUMBER 100 Q2_TOP_NUMBER 50 Q1_DECAY_STEP 2 C2 0.5 sharp is [2.41907219340427, 1.6187092489547203, 1.8087291900115692, 3.366095502676745, 0.7446870589416703]\n",
      "For Q1_TOP_NUMBER 100 Q2_TOP_NUMBER 50 Q1_DECAY_STEP 2 C2 0.5 turnovers is [33.130198944287, 33.724854169660105, 31.792706713341023, 3.2020627661665078, 71.41736795055171]\n"
     ]
    },
    {
     "name": "stderr",
     "output_type": "stream",
     "text": [
      "100%|█████████████████████████████████████████████████████████████████████████████| 1257/1257 [00:05<00:00, 240.91it/s]\n"
     ]
    },
    {
     "name": "stdout",
     "output_type": "stream",
     "text": [
      "For Q1_TOP_NUMBER 100 Q2_TOP_NUMBER 50 Q1_DECAY_STEP 2 C2 0.6 sharp is [2.397691544719528, 1.6187092489547203, 1.8087291900115692, 3.2755506490285913, 0.7177959004775732]\n",
      "For Q1_TOP_NUMBER 100 Q2_TOP_NUMBER 50 Q1_DECAY_STEP 2 C2 0.6 turnovers is [33.12811356228404, 33.724854169660105, 31.792706713341023, 2.6623435727863445, 41.90939971965974]\n"
     ]
    },
    {
     "name": "stderr",
     "output_type": "stream",
     "text": [
      "100%|█████████████████████████████████████████████████████████████████████████████| 1257/1257 [00:05<00:00, 250.05it/s]\n"
     ]
    },
    {
     "name": "stdout",
     "output_type": "stream",
     "text": [
      "For Q1_TOP_NUMBER 100 Q2_TOP_NUMBER 50 Q1_DECAY_STEP 2 C2 0.7 sharp is [2.406601038940435, 1.6187092489547201, 1.8087291900115692, 3.1960603250255177, 0.7055417995075532]\n",
      "For Q1_TOP_NUMBER 100 Q2_TOP_NUMBER 50 Q1_DECAY_STEP 2 C2 0.7 turnovers is [33.12685097295885, 33.724854169660105, 31.792706713341023, 2.3093195225066063, 23.076429772177956]\n"
     ]
    },
    {
     "name": "stderr",
     "output_type": "stream",
     "text": [
      "100%|█████████████████████████████████████████████████████████████████████████████| 1257/1257 [00:05<00:00, 247.98it/s]\n"
     ]
    },
    {
     "name": "stdout",
     "output_type": "stream",
     "text": [
      "For Q1_TOP_NUMBER 100 Q2_TOP_NUMBER 50 Q1_DECAY_STEP 2 C2 0.8 sharp is [2.4004998873660286, 1.6187092489547201, 1.8087291900115692, 3.129834448456592, 0.6990680302545822]\n",
      "For Q1_TOP_NUMBER 100 Q2_TOP_NUMBER 50 Q1_DECAY_STEP 2 C2 0.8 turnovers is [33.121156791587644, 33.724854169660105, 31.792706713341023, 2.0909934581407397, 12.348427740457632]\n"
     ]
    },
    {
     "name": "stderr",
     "output_type": "stream",
     "text": [
      "100%|█████████████████████████████████████████████████████████████████████████████| 1257/1257 [00:05<00:00, 223.67it/s]\n"
     ]
    },
    {
     "name": "stdout",
     "output_type": "stream",
     "text": [
      "For Q1_TOP_NUMBER 100 Q2_TOP_NUMBER 50 Q1_DECAY_STEP 2 C2 0.9 sharp is [2.4130951118558004, 1.6187092489547203, 1.8087291900115692, 3.0754837095147285, 0.6941274127513739]\n",
      "For Q1_TOP_NUMBER 100 Q2_TOP_NUMBER 50 Q1_DECAY_STEP 2 C2 0.9 turnovers is [33.124955901768196, 33.724854169660105, 31.792706713341023, 1.9401187829463709, 5.938825980389183]\n"
     ]
    },
    {
     "name": "stderr",
     "output_type": "stream",
     "text": [
      "100%|█████████████████████████████████████████████████████████████████████████████| 1257/1257 [00:05<00:00, 234.47it/s]\n"
     ]
    },
    {
     "name": "stdout",
     "output_type": "stream",
     "text": [
      "For Q1_TOP_NUMBER 100 Q2_TOP_NUMBER 50 Q1_DECAY_STEP 3 C2 0.5 sharp is [2.4128388389933053, 1.6187092489547201, 1.8087291900115692, 3.3561589377991443, 0.7137305599868]\n",
      "For Q1_TOP_NUMBER 100 Q2_TOP_NUMBER 50 Q1_DECAY_STEP 3 C2 0.5 turnovers is [33.13267226007013, 33.724854169660105, 31.792706713341023, 3.097669376627852, 73.24063169886041]\n"
     ]
    },
    {
     "name": "stderr",
     "output_type": "stream",
     "text": [
      "100%|█████████████████████████████████████████████████████████████████████████████| 1257/1257 [00:05<00:00, 210.20it/s]\n"
     ]
    },
    {
     "name": "stdout",
     "output_type": "stream",
     "text": [
      "For Q1_TOP_NUMBER 100 Q2_TOP_NUMBER 50 Q1_DECAY_STEP 3 C2 0.6 sharp is [2.4228284140960263, 1.6187092489547203, 1.8087291900115692, 3.2700276740948895, 0.7143657789466582]\n",
      "For Q1_TOP_NUMBER 100 Q2_TOP_NUMBER 50 Q1_DECAY_STEP 3 C2 0.6 turnovers is [33.123550940756104, 33.724854169660105, 31.792706713341023, 2.617940071391681, 39.14471801859059]\n"
     ]
    },
    {
     "name": "stderr",
     "output_type": "stream",
     "text": [
      "100%|█████████████████████████████████████████████████████████████████████████████| 1257/1257 [00:05<00:00, 242.24it/s]\n"
     ]
    },
    {
     "name": "stdout",
     "output_type": "stream",
     "text": [
      "For Q1_TOP_NUMBER 100 Q2_TOP_NUMBER 50 Q1_DECAY_STEP 3 C2 0.7 sharp is [2.4225907261775323, 1.6187092489547203, 1.8087291900115692, 3.190017024939152, 0.7098320333058867]\n",
      "For Q1_TOP_NUMBER 100 Q2_TOP_NUMBER 50 Q1_DECAY_STEP 3 C2 0.7 turnovers is [33.13254066304443, 33.724854169660105, 31.792706713341023, 2.293308319928162, 20.6510248983725]\n"
     ]
    },
    {
     "name": "stderr",
     "output_type": "stream",
     "text": [
      "100%|█████████████████████████████████████████████████████████████████████████████| 1257/1257 [00:05<00:00, 236.10it/s]\n"
     ]
    },
    {
     "name": "stdout",
     "output_type": "stream",
     "text": [
      "For Q1_TOP_NUMBER 100 Q2_TOP_NUMBER 50 Q1_DECAY_STEP 3 C2 0.8 sharp is [2.4637715373079545, 1.6187092489547201, 1.8087291900115692, 3.125041025990577, 0.7031577727438031]\n",
      "For Q1_TOP_NUMBER 100 Q2_TOP_NUMBER 50 Q1_DECAY_STEP 3 C2 0.8 turnovers is [33.131167976598086, 33.724854169660105, 31.792706713341023, 2.0777456039848516, 10.918401640137956]\n"
     ]
    },
    {
     "name": "stderr",
     "output_type": "stream",
     "text": [
      "100%|█████████████████████████████████████████████████████████████████████████████| 1257/1257 [00:05<00:00, 245.47it/s]\n"
     ]
    },
    {
     "name": "stdout",
     "output_type": "stream",
     "text": [
      "For Q1_TOP_NUMBER 100 Q2_TOP_NUMBER 50 Q1_DECAY_STEP 3 C2 0.9 sharp is [2.4169715078550897, 1.6187092489547203, 1.8087291900115692, 3.0732417750729564, 0.6961661839031064]\n",
      "For Q1_TOP_NUMBER 100 Q2_TOP_NUMBER 50 Q1_DECAY_STEP 3 C2 0.9 turnovers is [33.13003048329446, 33.724854169660105, 31.792706713341023, 1.9357925904125155, 5.334080600698767]\n"
     ]
    },
    {
     "name": "stderr",
     "output_type": "stream",
     "text": [
      "100%|█████████████████████████████████████████████████████████████████████████████| 1257/1257 [00:05<00:00, 246.71it/s]\n"
     ]
    },
    {
     "name": "stdout",
     "output_type": "stream",
     "text": [
      "For Q1_TOP_NUMBER 100 Q2_TOP_NUMBER 50 Q1_DECAY_STEP 4 C2 0.5 sharp is [2.404311663473333, 1.6187092489547203, 1.8087291900115692, 3.367134263510876, 0.7458340681498753]\n",
      "For Q1_TOP_NUMBER 100 Q2_TOP_NUMBER 50 Q1_DECAY_STEP 4 C2 0.5 turnovers is [33.129808349858656, 33.724854169660105, 31.792706713341023, 3.061010177519401, 74.2848708005664]\n"
     ]
    },
    {
     "name": "stderr",
     "output_type": "stream",
     "text": [
      "100%|█████████████████████████████████████████████████████████████████████████████| 1257/1257 [00:05<00:00, 238.38it/s]\n"
     ]
    },
    {
     "name": "stdout",
     "output_type": "stream",
     "text": [
      "For Q1_TOP_NUMBER 100 Q2_TOP_NUMBER 50 Q1_DECAY_STEP 4 C2 0.6 sharp is [2.4055559600239778, 1.6187092489547203, 1.8087291900115692, 3.269394732293522, 0.7324678160386774]\n",
      "For Q1_TOP_NUMBER 100 Q2_TOP_NUMBER 50 Q1_DECAY_STEP 4 C2 0.6 turnovers is [33.13318318597207, 33.724854169660105, 31.792706713341023, 2.562139292163367, 36.61296944071817]\n"
     ]
    },
    {
     "name": "stderr",
     "output_type": "stream",
     "text": [
      "100%|█████████████████████████████████████████████████████████████████████████████| 1257/1257 [00:05<00:00, 238.79it/s]\n"
     ]
    },
    {
     "name": "stdout",
     "output_type": "stream",
     "text": [
      "For Q1_TOP_NUMBER 100 Q2_TOP_NUMBER 50 Q1_DECAY_STEP 4 C2 0.7 sharp is [2.4160258499644836, 1.6187092489547203, 1.8087291900115692, 3.188520793010667, 0.7214433756194488]\n",
      "For Q1_TOP_NUMBER 100 Q2_TOP_NUMBER 50 Q1_DECAY_STEP 4 C2 0.7 turnovers is [33.12456118405413, 33.724854169660105, 31.792706713341023, 2.2666619874058704, 18.65549923345978]\n"
     ]
    },
    {
     "name": "stderr",
     "output_type": "stream",
     "text": [
      "100%|█████████████████████████████████████████████████████████████████████████████| 1257/1257 [00:05<00:00, 236.70it/s]\n"
     ]
    },
    {
     "name": "stdout",
     "output_type": "stream",
     "text": [
      "For Q1_TOP_NUMBER 100 Q2_TOP_NUMBER 50 Q1_DECAY_STEP 4 C2 0.8 sharp is [2.3948090212891486, 1.6187092489547203, 1.8087291900115692, 3.1243238228090107, 0.7090846907090053]\n",
      "For Q1_TOP_NUMBER 100 Q2_TOP_NUMBER 50 Q1_DECAY_STEP 4 C2 0.8 turnovers is [33.120132804363294, 33.724854169660105, 31.792706713341023, 2.0716773311761463, 9.83933315570865]\n"
     ]
    },
    {
     "name": "stderr",
     "output_type": "stream",
     "text": [
      "100%|█████████████████████████████████████████████████████████████████████████████| 1257/1257 [00:05<00:00, 227.58it/s]\n"
     ]
    },
    {
     "name": "stdout",
     "output_type": "stream",
     "text": [
      "For Q1_TOP_NUMBER 100 Q2_TOP_NUMBER 50 Q1_DECAY_STEP 4 C2 0.9 sharp is [2.4033279312456206, 1.6187092489547201, 1.8087291900115692, 3.0732205737158345, 0.6984154819627321]\n",
      "For Q1_TOP_NUMBER 100 Q2_TOP_NUMBER 50 Q1_DECAY_STEP 4 C2 0.9 turnovers is [33.1298137238689, 33.724854169660105, 31.792706713341023, 1.931402615944865, 4.894512446568822]\n"
     ]
    },
    {
     "name": "stderr",
     "output_type": "stream",
     "text": [
      "100%|█████████████████████████████████████████████████████████████████████████████| 1257/1257 [00:05<00:00, 245.41it/s]\n"
     ]
    },
    {
     "name": "stdout",
     "output_type": "stream",
     "text": [
      "For Q1_TOP_NUMBER 100 Q2_TOP_NUMBER 100 Q1_DECAY_STEP 2 C2 0.5 sharp is [2.412575625459473, 1.6187092489547203, 1.8087291900115692, 3.4139672816140942, 1.1410206958789801]\n",
      "For Q1_TOP_NUMBER 100 Q2_TOP_NUMBER 100 Q1_DECAY_STEP 2 C2 0.5 turnovers is [33.13024999789936, 33.724854169660105, 31.792706713341023, 3.2950384796911716, 73.9547432414724]\n"
     ]
    },
    {
     "name": "stderr",
     "output_type": "stream",
     "text": [
      "100%|█████████████████████████████████████████████████████████████████████████████| 1257/1257 [00:05<00:00, 216.17it/s]\n"
     ]
    },
    {
     "name": "stdout",
     "output_type": "stream",
     "text": [
      "For Q1_TOP_NUMBER 100 Q2_TOP_NUMBER 100 Q1_DECAY_STEP 2 C2 0.6 sharp is [2.4303090203317206, 1.6187092489547203, 1.8087291900115692, 3.3401895089126117, 1.1321182318864815]\n",
      "For Q1_TOP_NUMBER 100 Q2_TOP_NUMBER 100 Q1_DECAY_STEP 2 C2 0.6 turnovers is [33.13281614880091, 33.724854169660105, 31.792706713341023, 2.681678633063887, 43.0782730048118]\n"
     ]
    },
    {
     "name": "stderr",
     "output_type": "stream",
     "text": [
      "100%|█████████████████████████████████████████████████████████████████████████████| 1257/1257 [00:05<00:00, 210.59it/s]\n"
     ]
    },
    {
     "name": "stdout",
     "output_type": "stream",
     "text": [
      "For Q1_TOP_NUMBER 100 Q2_TOP_NUMBER 100 Q1_DECAY_STEP 2 C2 0.7 sharp is [2.435849461819702, 1.6187092489547203, 1.8087291900115692, 3.281598714875365, 1.1192739873222486]\n",
      "For Q1_TOP_NUMBER 100 Q2_TOP_NUMBER 100 Q1_DECAY_STEP 2 C2 0.7 turnovers is [33.14163525972178, 33.724854169660105, 31.792706713341023, 2.292171405494127, 23.28374813315358]\n"
     ]
    },
    {
     "name": "stderr",
     "output_type": "stream",
     "text": [
      "100%|█████████████████████████████████████████████████████████████████████████████| 1257/1257 [00:04<00:00, 256.54it/s]\n"
     ]
    },
    {
     "name": "stdout",
     "output_type": "stream",
     "text": [
      "For Q1_TOP_NUMBER 100 Q2_TOP_NUMBER 100 Q1_DECAY_STEP 2 C2 0.8 sharp is [2.420469150873531, 1.6187092489547203, 1.8087291900115692, 3.235006014312474, 1.110771885325115]\n",
      "For Q1_TOP_NUMBER 100 Q2_TOP_NUMBER 100 Q1_DECAY_STEP 2 C2 0.8 turnovers is [33.1305647296974, 33.724854169660105, 31.792706713341023, 2.051559832907466, 12.187637809851674]\n"
     ]
    },
    {
     "name": "stderr",
     "output_type": "stream",
     "text": [
      "100%|█████████████████████████████████████████████████████████████████████████████| 1257/1257 [00:04<00:00, 260.19it/s]\n"
     ]
    },
    {
     "name": "stdout",
     "output_type": "stream",
     "text": [
      "For Q1_TOP_NUMBER 100 Q2_TOP_NUMBER 100 Q1_DECAY_STEP 2 C2 0.9 sharp is [2.4026005581079595, 1.6187092489547203, 1.8087291900115692, 3.1976382864997888, 1.1049393916193435]\n",
      "For Q1_TOP_NUMBER 100 Q2_TOP_NUMBER 100 Q1_DECAY_STEP 2 C2 0.9 turnovers is [33.12534978436638, 33.724854169660105, 31.792706713341023, 1.8993743233114733, 5.647522234399099]\n"
     ]
    },
    {
     "name": "stderr",
     "output_type": "stream",
     "text": [
      "100%|█████████████████████████████████████████████████████████████████████████████| 1257/1257 [00:04<00:00, 260.46it/s]\n"
     ]
    },
    {
     "name": "stdout",
     "output_type": "stream",
     "text": [
      "For Q1_TOP_NUMBER 100 Q2_TOP_NUMBER 100 Q1_DECAY_STEP 3 C2 0.5 sharp is [2.4280191575967915, 1.6187092489547203, 1.8087291900115692, 3.40140983409482, 1.1510982929071698]\n",
      "For Q1_TOP_NUMBER 100 Q2_TOP_NUMBER 100 Q1_DECAY_STEP 3 C2 0.5 turnovers is [33.130196974494886, 33.724854169660105, 31.792706713341023, 3.205983011604406, 76.2348787271745]\n"
     ]
    },
    {
     "name": "stderr",
     "output_type": "stream",
     "text": [
      "100%|█████████████████████████████████████████████████████████████████████████████| 1257/1257 [00:05<00:00, 249.11it/s]\n"
     ]
    },
    {
     "name": "stdout",
     "output_type": "stream",
     "text": [
      "For Q1_TOP_NUMBER 100 Q2_TOP_NUMBER 100 Q1_DECAY_STEP 3 C2 0.6 sharp is [2.407584448338606, 1.6187092489547203, 1.8087291900115692, 3.3357805867825916, 1.1418191294781912]\n",
      "For Q1_TOP_NUMBER 100 Q2_TOP_NUMBER 100 Q1_DECAY_STEP 3 C2 0.6 turnovers is [33.11831404829806, 33.724854169660105, 31.792706713341023, 2.638029205961393, 40.07433675960815]\n"
     ]
    },
    {
     "name": "stderr",
     "output_type": "stream",
     "text": [
      "100%|█████████████████████████████████████████████████████████████████████████████| 1257/1257 [00:04<00:00, 258.00it/s]\n"
     ]
    },
    {
     "name": "stdout",
     "output_type": "stream",
     "text": [
      "For Q1_TOP_NUMBER 100 Q2_TOP_NUMBER 100 Q1_DECAY_STEP 3 C2 0.7 sharp is [2.4216241058105057, 1.6187092489547201, 1.8087291900115692, 3.278936768369363, 1.1240235645892331]\n",
      "For Q1_TOP_NUMBER 100 Q2_TOP_NUMBER 100 Q1_DECAY_STEP 3 C2 0.7 turnovers is [33.128580116040794, 33.724854169660105, 31.792706713341023, 2.2861339288548983, 20.649168953398803]\n"
     ]
    },
    {
     "name": "stderr",
     "output_type": "stream",
     "text": [
      "100%|█████████████████████████████████████████████████████████████████████████████| 1257/1257 [00:04<00:00, 260.79it/s]\n"
     ]
    },
    {
     "name": "stdout",
     "output_type": "stream",
     "text": [
      "For Q1_TOP_NUMBER 100 Q2_TOP_NUMBER 100 Q1_DECAY_STEP 3 C2 0.8 sharp is [2.419312888213883, 1.6187092489547203, 1.8087291900115692, 3.232818037755767, 1.1129658866908159]\n",
      "For Q1_TOP_NUMBER 100 Q2_TOP_NUMBER 100 Q1_DECAY_STEP 3 C2 0.8 turnovers is [33.12407497603609, 33.724854169660105, 31.792706713341023, 2.0570361850405567, 10.659634682532632]\n"
     ]
    },
    {
     "name": "stderr",
     "output_type": "stream",
     "text": [
      "100%|█████████████████████████████████████████████████████████████████████████████| 1257/1257 [00:05<00:00, 248.47it/s]\n"
     ]
    },
    {
     "name": "stdout",
     "output_type": "stream",
     "text": [
      "For Q1_TOP_NUMBER 100 Q2_TOP_NUMBER 100 Q1_DECAY_STEP 3 C2 0.9 sharp is [2.4279451764277833, 1.6187092489547203, 1.8087291900115692, 3.1965341137534287, 1.1057362033506788]\n",
      "For Q1_TOP_NUMBER 100 Q2_TOP_NUMBER 100 Q1_DECAY_STEP 3 C2 0.9 turnovers is [33.132052109275236, 33.724854169660105, 31.792706713341023, 1.902094472552805, 5.007735458413749]\n"
     ]
    },
    {
     "name": "stderr",
     "output_type": "stream",
     "text": [
      "100%|█████████████████████████████████████████████████████████████████████████████| 1257/1257 [00:05<00:00, 238.38it/s]\n"
     ]
    },
    {
     "name": "stdout",
     "output_type": "stream",
     "text": [
      "For Q1_TOP_NUMBER 100 Q2_TOP_NUMBER 100 Q1_DECAY_STEP 4 C2 0.5 sharp is [2.4193931690652772, 1.6187092489547203, 1.8087291900115692, 3.4118593171911535, 1.2045148092305735]\n",
      "For Q1_TOP_NUMBER 100 Q2_TOP_NUMBER 100 Q1_DECAY_STEP 4 C2 0.5 turnovers is [33.13071381281351, 33.724854169660105, 31.792706713341023, 3.1728393395138315, 77.50248916435183]\n"
     ]
    },
    {
     "name": "stderr",
     "output_type": "stream",
     "text": [
      "100%|█████████████████████████████████████████████████████████████████████████████| 1257/1257 [00:05<00:00, 250.55it/s]\n"
     ]
    },
    {
     "name": "stdout",
     "output_type": "stream",
     "text": [
      "For Q1_TOP_NUMBER 100 Q2_TOP_NUMBER 100 Q1_DECAY_STEP 4 C2 0.6 sharp is [2.4251157896408904, 1.6187092489547201, 1.8087291900115692, 3.3379998109003357, 1.1531995978529397]\n",
      "For Q1_TOP_NUMBER 100 Q2_TOP_NUMBER 100 Q1_DECAY_STEP 4 C2 0.6 turnovers is [33.128511015969735, 33.724854169660105, 31.792706713341023, 2.6000064896095485, 37.26182665195218]\n"
     ]
    },
    {
     "name": "stderr",
     "output_type": "stream",
     "text": [
      "100%|█████████████████████████████████████████████████████████████████████████████| 1257/1257 [00:05<00:00, 249.06it/s]\n"
     ]
    },
    {
     "name": "stdout",
     "output_type": "stream",
     "text": [
      "For Q1_TOP_NUMBER 100 Q2_TOP_NUMBER 100 Q1_DECAY_STEP 4 C2 0.7 sharp is [2.410497972684706, 1.6187092489547201, 1.8087291900115692, 3.2790914666993256, 1.1276300461310687]\n",
      "For Q1_TOP_NUMBER 100 Q2_TOP_NUMBER 100 Q1_DECAY_STEP 4 C2 0.7 turnovers is [33.14026912981233, 33.724854169660105, 31.792706713341023, 2.280659438244986, 18.518591171331273]\n"
     ]
    },
    {
     "name": "stderr",
     "output_type": "stream",
     "text": [
      "100%|█████████████████████████████████████████████████████████████████████████████| 1257/1257 [00:05<00:00, 249.36it/s]\n"
     ]
    },
    {
     "name": "stdout",
     "output_type": "stream",
     "text": [
      "For Q1_TOP_NUMBER 100 Q2_TOP_NUMBER 100 Q1_DECAY_STEP 4 C2 0.8 sharp is [2.396894251912943, 1.6187092489547203, 1.8087291900115692, 3.2329501405751246, 1.1143365628997772]\n",
      "For Q1_TOP_NUMBER 100 Q2_TOP_NUMBER 100 Q1_DECAY_STEP 4 C2 0.8 turnovers is [33.11879129603198, 33.724854169660105, 31.792706713341023, 2.0671535600372133, 9.52029677305883]\n"
     ]
    },
    {
     "name": "stderr",
     "output_type": "stream",
     "text": [
      "100%|█████████████████████████████████████████████████████████████████████████████| 1257/1257 [00:05<00:00, 225.59it/s]\n"
     ]
    },
    {
     "name": "stdout",
     "output_type": "stream",
     "text": [
      "For Q1_TOP_NUMBER 100 Q2_TOP_NUMBER 100 Q1_DECAY_STEP 4 C2 0.9 sharp is [2.4125026696253764, 1.6187092489547203, 1.8087291900115692, 3.196773446416183, 1.1060908017304907]\n",
      "For Q1_TOP_NUMBER 100 Q2_TOP_NUMBER 100 Q1_DECAY_STEP 4 C2 0.9 turnovers is [33.133608246751905, 33.724854169660105, 31.792706713341023, 1.9100362837500837, 4.546250211173678]\n"
     ]
    },
    {
     "name": "stderr",
     "output_type": "stream",
     "text": [
      "100%|█████████████████████████████████████████████████████████████████████████████| 1257/1257 [00:05<00:00, 250.65it/s]\n"
     ]
    },
    {
     "name": "stdout",
     "output_type": "stream",
     "text": [
      "For Q1_TOP_NUMBER 100 Q2_TOP_NUMBER 200 Q1_DECAY_STEP 2 C2 0.5 sharp is [2.361877084770031, 1.6187092489547203, 1.8087291900115692, 3.464569722404371, 0.9826867976664986]\n",
      "For Q1_TOP_NUMBER 100 Q2_TOP_NUMBER 200 Q1_DECAY_STEP 2 C2 0.5 turnovers is [33.116402849096325, 33.724854169660105, 31.792706713341023, 3.3823426141070203, 76.20254545637864]\n"
     ]
    },
    {
     "name": "stderr",
     "output_type": "stream",
     "text": [
      "100%|█████████████████████████████████████████████████████████████████████████████| 1257/1257 [00:04<00:00, 251.50it/s]\n"
     ]
    },
    {
     "name": "stdout",
     "output_type": "stream",
     "text": [
      "For Q1_TOP_NUMBER 100 Q2_TOP_NUMBER 200 Q1_DECAY_STEP 2 C2 0.6 sharp is [2.39387042962635, 1.6187092489547201, 1.8087291900115692, 3.401596595986504, 0.9588006717149847]\n",
      "For Q1_TOP_NUMBER 100 Q2_TOP_NUMBER 200 Q1_DECAY_STEP 2 C2 0.6 turnovers is [33.11694928060782, 33.724854169660105, 31.792706713341023, 2.781308790519768, 44.588610749540514]\n"
     ]
    },
    {
     "name": "stderr",
     "output_type": "stream",
     "text": [
      "100%|█████████████████████████████████████████████████████████████████████████████| 1257/1257 [00:04<00:00, 253.19it/s]\n"
     ]
    },
    {
     "name": "stdout",
     "output_type": "stream",
     "text": [
      "For Q1_TOP_NUMBER 100 Q2_TOP_NUMBER 200 Q1_DECAY_STEP 2 C2 0.7 sharp is [2.3948913952395303, 1.6187092489547201, 1.8087291900115692, 3.3609943609329975, 0.9411123987176062]\n",
      "For Q1_TOP_NUMBER 100 Q2_TOP_NUMBER 200 Q1_DECAY_STEP 2 C2 0.7 turnovers is [33.12174896978974, 33.724854169660105, 31.792706713341023, 2.3456733354922426, 23.462439592712546]\n"
     ]
    },
    {
     "name": "stderr",
     "output_type": "stream",
     "text": [
      "100%|█████████████████████████████████████████████████████████████████████████████| 1257/1257 [00:04<00:00, 252.11it/s]\n"
     ]
    },
    {
     "name": "stdout",
     "output_type": "stream",
     "text": [
      "For Q1_TOP_NUMBER 100 Q2_TOP_NUMBER 200 Q1_DECAY_STEP 2 C2 0.8 sharp is [2.40640326140254, 1.6187092489547201, 1.8087291900115692, 3.3307270490024865, 0.9314157454942588]\n",
      "For Q1_TOP_NUMBER 100 Q2_TOP_NUMBER 200 Q1_DECAY_STEP 2 C2 0.8 turnovers is [33.126911222347545, 33.724854169660105, 31.792706713341023, 2.0823751565046864, 11.84183397329251]\n"
     ]
    },
    {
     "name": "stderr",
     "output_type": "stream",
     "text": [
      "100%|█████████████████████████████████████████████████████████████████████████████| 1257/1257 [00:04<00:00, 254.14it/s]\n"
     ]
    },
    {
     "name": "stdout",
     "output_type": "stream",
     "text": [
      "For Q1_TOP_NUMBER 100 Q2_TOP_NUMBER 200 Q1_DECAY_STEP 2 C2 0.9 sharp is [2.420412819505387, 1.6187092489547201, 1.8087291900115692, 3.306631410135894, 0.9260682439199208]\n",
      "For Q1_TOP_NUMBER 100 Q2_TOP_NUMBER 200 Q1_DECAY_STEP 2 C2 0.9 turnovers is [33.1232712638516, 33.724854169660105, 31.792706713341023, 1.9122405076911477, 5.118684585683875]\n"
     ]
    },
    {
     "name": "stderr",
     "output_type": "stream",
     "text": [
      "100%|█████████████████████████████████████████████████████████████████████████████| 1257/1257 [00:04<00:00, 255.43it/s]\n"
     ]
    },
    {
     "name": "stdout",
     "output_type": "stream",
     "text": [
      "For Q1_TOP_NUMBER 100 Q2_TOP_NUMBER 200 Q1_DECAY_STEP 3 C2 0.5 sharp is [2.4218322262766057, 1.6187092489547201, 1.8087291900115692, 3.4503838874046817, 0.9549909372122202]\n",
      "For Q1_TOP_NUMBER 100 Q2_TOP_NUMBER 200 Q1_DECAY_STEP 3 C2 0.5 turnovers is [33.12372222207602, 33.724854169660105, 31.792706713341023, 3.4053380653392256, 79.25803510009432]\n"
     ]
    },
    {
     "name": "stderr",
     "output_type": "stream",
     "text": [
      "100%|█████████████████████████████████████████████████████████████████████████████| 1257/1257 [00:04<00:00, 253.89it/s]\n"
     ]
    },
    {
     "name": "stdout",
     "output_type": "stream",
     "text": [
      "For Q1_TOP_NUMBER 100 Q2_TOP_NUMBER 200 Q1_DECAY_STEP 3 C2 0.6 sharp is [2.39165359831663, 1.6187092489547203, 1.8087291900115692, 3.3955112339686977, 0.9515970769406183]\n",
      "For Q1_TOP_NUMBER 100 Q2_TOP_NUMBER 200 Q1_DECAY_STEP 3 C2 0.6 turnovers is [33.12627414894834, 33.724854169660105, 31.792706713341023, 2.749961539432531, 41.87444245057865]\n"
     ]
    },
    {
     "name": "stderr",
     "output_type": "stream",
     "text": [
      "100%|█████████████████████████████████████████████████████████████████████████████| 1257/1257 [00:04<00:00, 254.35it/s]\n"
     ]
    },
    {
     "name": "stdout",
     "output_type": "stream",
     "text": [
      "For Q1_TOP_NUMBER 100 Q2_TOP_NUMBER 200 Q1_DECAY_STEP 3 C2 0.7 sharp is [2.4150081442570115, 1.6187092489547203, 1.8087291900115692, 3.358274022610577, 0.9388027353319074]\n",
      "For Q1_TOP_NUMBER 100 Q2_TOP_NUMBER 200 Q1_DECAY_STEP 3 C2 0.7 turnovers is [33.124519696280984, 33.724854169660105, 31.792706713341023, 2.3643468147087727, 20.84210493630937]\n"
     ]
    },
    {
     "name": "stderr",
     "output_type": "stream",
     "text": [
      "100%|█████████████████████████████████████████████████████████████████████████████| 1257/1257 [00:04<00:00, 254.76it/s]\n"
     ]
    },
    {
     "name": "stdout",
     "output_type": "stream",
     "text": [
      "For Q1_TOP_NUMBER 100 Q2_TOP_NUMBER 200 Q1_DECAY_STEP 3 C2 0.8 sharp is [2.423116048080876, 1.6187092489547203, 1.8087291900115692, 3.3297988243045213, 0.9309093759474084]\n",
      "For Q1_TOP_NUMBER 100 Q2_TOP_NUMBER 200 Q1_DECAY_STEP 3 C2 0.8 turnovers is [33.14456744252102, 33.724854169660105, 31.792706713341023, 2.119262204872314, 10.327762389971488]\n"
     ]
    },
    {
     "name": "stderr",
     "output_type": "stream",
     "text": [
      "100%|█████████████████████████████████████████████████████████████████████████████| 1257/1257 [00:05<00:00, 232.35it/s]\n"
     ]
    },
    {
     "name": "stdout",
     "output_type": "stream",
     "text": [
      "For Q1_TOP_NUMBER 100 Q2_TOP_NUMBER 200 Q1_DECAY_STEP 3 C2 0.9 sharp is [2.4176284921884688, 1.6187092489547201, 1.8087291900115692, 3.3065465205645173, 0.9260472471417316]\n",
      "For Q1_TOP_NUMBER 100 Q2_TOP_NUMBER 200 Q1_DECAY_STEP 3 C2 0.9 turnovers is [33.12925519691797, 33.724854169660105, 31.792706713341023, 1.9399659049912963, 4.487662682438672]\n"
     ]
    },
    {
     "name": "stderr",
     "output_type": "stream",
     "text": [
      "100%|█████████████████████████████████████████████████████████████████████████████| 1257/1257 [00:05<00:00, 241.92it/s]\n"
     ]
    },
    {
     "name": "stdout",
     "output_type": "stream",
     "text": [
      "For Q1_TOP_NUMBER 100 Q2_TOP_NUMBER 200 Q1_DECAY_STEP 4 C2 0.5 sharp is [2.4162558648217285, 1.6187092489547203, 1.8087291900115692, 3.447573928479176, 1.001513955849095]\n",
      "For Q1_TOP_NUMBER 100 Q2_TOP_NUMBER 200 Q1_DECAY_STEP 4 C2 0.5 turnovers is [33.12083572848645, 33.724854169660105, 31.792706713341023, 3.3116354892580033, 81.21970583134187]\n"
     ]
    },
    {
     "name": "stderr",
     "output_type": "stream",
     "text": [
      "100%|█████████████████████████████████████████████████████████████████████████████| 1257/1257 [00:05<00:00, 249.01it/s]\n"
     ]
    },
    {
     "name": "stdout",
     "output_type": "stream",
     "text": [
      "For Q1_TOP_NUMBER 100 Q2_TOP_NUMBER 200 Q1_DECAY_STEP 4 C2 0.6 sharp is [2.4069150248046602, 1.6187092489547203, 1.8087291900115692, 3.3958513103139305, 0.9594054527347043]\n",
      "For Q1_TOP_NUMBER 100 Q2_TOP_NUMBER 200 Q1_DECAY_STEP 4 C2 0.6 turnovers is [33.135403412045605, 33.724854169660105, 31.792706713341023, 2.623997744440785, 38.890790162906285]\n"
     ]
    },
    {
     "name": "stderr",
     "output_type": "stream",
     "text": [
      "100%|█████████████████████████████████████████████████████████████████████████████| 1257/1257 [00:05<00:00, 236.50it/s]\n"
     ]
    },
    {
     "name": "stdout",
     "output_type": "stream",
     "text": [
      "For Q1_TOP_NUMBER 100 Q2_TOP_NUMBER 200 Q1_DECAY_STEP 4 C2 0.7 sharp is [2.3904161270128617, 1.6187092489547203, 1.8087291900115692, 3.3586787583122346, 0.9404377874937055]\n",
      "For Q1_TOP_NUMBER 100 Q2_TOP_NUMBER 200 Q1_DECAY_STEP 4 C2 0.7 turnovers is [33.12295396582348, 33.724854169660105, 31.792706713341023, 2.2498147741089514, 18.52425760623129]\n"
     ]
    },
    {
     "name": "stderr",
     "output_type": "stream",
     "text": [
      "100%|█████████████████████████████████████████████████████████████████████████████| 1257/1257 [00:05<00:00, 249.80it/s]\n"
     ]
    },
    {
     "name": "stdout",
     "output_type": "stream",
     "text": [
      "For Q1_TOP_NUMBER 100 Q2_TOP_NUMBER 200 Q1_DECAY_STEP 4 C2 0.8 sharp is [2.402734913566665, 1.6187092489547203, 1.8087291900115692, 3.3298086821725756, 0.9315878144239454]\n",
      "For Q1_TOP_NUMBER 100 Q2_TOP_NUMBER 200 Q1_DECAY_STEP 4 C2 0.8 turnovers is [33.12171137651738, 33.724854169660105, 31.792706713341023, 2.043665940082588, 9.084108710646936]\n"
     ]
    },
    {
     "name": "stderr",
     "output_type": "stream",
     "text": [
      "100%|█████████████████████████████████████████████████████████████████████████████| 1257/1257 [00:05<00:00, 250.60it/s]\n"
     ]
    },
    {
     "name": "stdout",
     "output_type": "stream",
     "text": [
      "For Q1_TOP_NUMBER 100 Q2_TOP_NUMBER 200 Q1_DECAY_STEP 4 C2 0.9 sharp is [2.400472636107469, 1.6187092489547201, 1.8087291900115692, 3.306420697938285, 0.9261991170439142]\n",
      "For Q1_TOP_NUMBER 100 Q2_TOP_NUMBER 200 Q1_DECAY_STEP 4 C2 0.9 turnovers is [33.12152326600277, 33.724854169660105, 31.792706713341023, 1.9062182094893352, 3.9846495219417473]\n"
     ]
    },
    {
     "name": "stderr",
     "output_type": "stream",
     "text": [
      "100%|█████████████████████████████████████████████████████████████████████████████| 1257/1257 [00:04<00:00, 254.04it/s]\n"
     ]
    },
    {
     "name": "stdout",
     "output_type": "stream",
     "text": [
      "For Q1_TOP_NUMBER 100 Q2_TOP_NUMBER 300 Q1_DECAY_STEP 2 C2 0.5 sharp is [2.3897800703413, 1.6187092489547201, 1.8087291900115692, 3.510107967205449, 1.02067859693242]\n",
      "For Q1_TOP_NUMBER 100 Q2_TOP_NUMBER 300 Q1_DECAY_STEP 2 C2 0.5 turnovers is [33.1245878802879, 33.724854169660105, 31.792706713341023, 3.4852430083081387, 76.99003379346182]\n"
     ]
    },
    {
     "name": "stderr",
     "output_type": "stream",
     "text": [
      "100%|█████████████████████████████████████████████████████████████████████████████| 1257/1257 [00:04<00:00, 254.61it/s]\n"
     ]
    },
    {
     "name": "stdout",
     "output_type": "stream",
     "text": [
      "For Q1_TOP_NUMBER 100 Q2_TOP_NUMBER 300 Q1_DECAY_STEP 2 C2 0.6 sharp is [2.389438357638286, 1.6187092489547203, 1.8087291900115692, 3.4606773505660606, 1.0061344894864717]\n",
      "For Q1_TOP_NUMBER 100 Q2_TOP_NUMBER 300 Q1_DECAY_STEP 2 C2 0.6 turnovers is [33.12313918861157, 33.724854169660105, 31.792706713341023, 2.8245744458294566, 45.55286845949547]\n"
     ]
    },
    {
     "name": "stderr",
     "output_type": "stream",
     "text": [
      "100%|█████████████████████████████████████████████████████████████████████████████| 1257/1257 [00:05<00:00, 224.42it/s]\n"
     ]
    },
    {
     "name": "stdout",
     "output_type": "stream",
     "text": [
      "For Q1_TOP_NUMBER 100 Q2_TOP_NUMBER 300 Q1_DECAY_STEP 2 C2 0.7 sharp is [2.4116996729173827, 1.6187092489547203, 1.8087291900115692, 3.426627881843047, 0.9903036370493646]\n",
      "For Q1_TOP_NUMBER 100 Q2_TOP_NUMBER 300 Q1_DECAY_STEP 2 C2 0.7 turnovers is [33.127136444071766, 33.724854169660105, 31.792706713341023, 2.37050765366647, 23.850653365868027]\n"
     ]
    },
    {
     "name": "stderr",
     "output_type": "stream",
     "text": [
      "100%|█████████████████████████████████████████████████████████████████████████████| 1257/1257 [00:05<00:00, 245.51it/s]\n"
     ]
    },
    {
     "name": "stdout",
     "output_type": "stream",
     "text": [
      "For Q1_TOP_NUMBER 100 Q2_TOP_NUMBER 300 Q1_DECAY_STEP 2 C2 0.8 sharp is [2.4077780070007146, 1.6187092489547203, 1.8087291900115692, 3.4044015650859953, 0.9779725814342882]\n",
      "For Q1_TOP_NUMBER 100 Q2_TOP_NUMBER 300 Q1_DECAY_STEP 2 C2 0.8 turnovers is [33.13058067631741, 33.724854169660105, 31.792706713341023, 2.0862517561221137, 11.805915691779486]\n"
     ]
    },
    {
     "name": "stderr",
     "output_type": "stream",
     "text": [
      "100%|█████████████████████████████████████████████████████████████████████████████| 1257/1257 [00:05<00:00, 237.75it/s]\n"
     ]
    },
    {
     "name": "stdout",
     "output_type": "stream",
     "text": [
      "For Q1_TOP_NUMBER 100 Q2_TOP_NUMBER 300 Q1_DECAY_STEP 2 C2 0.9 sharp is [2.409422024058767, 1.6187092489547203, 1.8087291900115692, 3.3871697742112383, 0.9702438823241705]\n",
      "For Q1_TOP_NUMBER 100 Q2_TOP_NUMBER 300 Q1_DECAY_STEP 2 C2 0.9 turnovers is [33.12653745619518, 33.724854169660105, 31.792706713341023, 1.9065256916078672, 4.964694205853248]\n"
     ]
    },
    {
     "name": "stderr",
     "output_type": "stream",
     "text": [
      "100%|█████████████████████████████████████████████████████████████████████████████| 1257/1257 [00:05<00:00, 238.97it/s]\n"
     ]
    },
    {
     "name": "stdout",
     "output_type": "stream",
     "text": [
      "For Q1_TOP_NUMBER 100 Q2_TOP_NUMBER 300 Q1_DECAY_STEP 3 C2 0.5 sharp is [2.416161629488816, 1.6187092489547203, 1.8087291900115692, 3.4973158572762233, 0.9968711801764422]\n",
      "For Q1_TOP_NUMBER 100 Q2_TOP_NUMBER 300 Q1_DECAY_STEP 3 C2 0.5 turnovers is [33.12624525653923, 33.724854169660105, 31.792706713341023, 3.4522972128926552, 80.46144013696954]\n"
     ]
    },
    {
     "name": "stderr",
     "output_type": "stream",
     "text": [
      "100%|█████████████████████████████████████████████████████████████████████████████| 1257/1257 [00:05<00:00, 229.69it/s]\n"
     ]
    },
    {
     "name": "stdout",
     "output_type": "stream",
     "text": [
      "For Q1_TOP_NUMBER 100 Q2_TOP_NUMBER 300 Q1_DECAY_STEP 3 C2 0.6 sharp is [2.416617420904732, 1.6187092489547201, 1.8087291900115692, 3.4540118596278715, 1.0022611012799543]\n",
      "For Q1_TOP_NUMBER 100 Q2_TOP_NUMBER 300 Q1_DECAY_STEP 3 C2 0.6 turnovers is [33.12586759180454, 33.724854169660105, 31.792706713341023, 2.7621230200120697, 43.25841309373379]\n"
     ]
    },
    {
     "name": "stderr",
     "output_type": "stream",
     "text": [
      "100%|█████████████████████████████████████████████████████████████████████████████| 1257/1257 [00:06<00:00, 205.29it/s]\n"
     ]
    },
    {
     "name": "stdout",
     "output_type": "stream",
     "text": [
      "For Q1_TOP_NUMBER 100 Q2_TOP_NUMBER 300 Q1_DECAY_STEP 3 C2 0.7 sharp is [2.3773525290946687, 1.6187092489547201, 1.8087291900115692, 3.4230271711854945, 0.9895833470121155]\n",
      "For Q1_TOP_NUMBER 100 Q2_TOP_NUMBER 300 Q1_DECAY_STEP 3 C2 0.7 turnovers is [33.12288346893646, 33.724854169660105, 31.792706713341023, 2.32116520484569, 21.179774828343035]\n"
     ]
    },
    {
     "name": "stderr",
     "output_type": "stream",
     "text": [
      "100%|█████████████████████████████████████████████████████████████████████████████| 1257/1257 [00:05<00:00, 243.60it/s]\n"
     ]
    },
    {
     "name": "stdout",
     "output_type": "stream",
     "text": [
      "For Q1_TOP_NUMBER 100 Q2_TOP_NUMBER 300 Q1_DECAY_STEP 3 C2 0.8 sharp is [2.389425809757674, 1.6187092489547203, 1.8087291900115692, 3.4018491465251914, 0.9778012410119789]\n",
      "For Q1_TOP_NUMBER 100 Q2_TOP_NUMBER 300 Q1_DECAY_STEP 3 C2 0.8 turnovers is [33.11068385520176, 33.724854169660105, 31.792706713341023, 2.0627272514797728, 10.262871130505003]\n"
     ]
    },
    {
     "name": "stderr",
     "output_type": "stream",
     "text": [
      "100%|█████████████████████████████████████████████████████████████████████████████| 1257/1257 [00:06<00:00, 183.33it/s]\n"
     ]
    },
    {
     "name": "stdout",
     "output_type": "stream",
     "text": [
      "For Q1_TOP_NUMBER 100 Q2_TOP_NUMBER 300 Q1_DECAY_STEP 3 C2 0.9 sharp is [2.3968671222585036, 1.6187092489547203, 1.8087291900115692, 3.3858416438731536, 0.970219682724393]\n",
      "For Q1_TOP_NUMBER 100 Q2_TOP_NUMBER 300 Q1_DECAY_STEP 3 C2 0.9 turnovers is [33.125563979869, 33.724854169660105, 31.792706713341023, 1.897852383535056, 4.321426414102527]\n"
     ]
    },
    {
     "name": "stderr",
     "output_type": "stream",
     "text": [
      "100%|█████████████████████████████████████████████████████████████████████████████| 1257/1257 [00:05<00:00, 240.21it/s]\n"
     ]
    },
    {
     "name": "stdout",
     "output_type": "stream",
     "text": [
      "For Q1_TOP_NUMBER 100 Q2_TOP_NUMBER 300 Q1_DECAY_STEP 4 C2 0.5 sharp is [2.4352562143867638, 1.6187092489547203, 1.8087291900115692, 3.4925052702033574, 1.0549267357577343]\n",
      "For Q1_TOP_NUMBER 100 Q2_TOP_NUMBER 300 Q1_DECAY_STEP 4 C2 0.5 turnovers is [33.13346359625375, 33.724854169660105, 31.792706713341023, 3.4020941203747017, 83.30212782972195]\n"
     ]
    },
    {
     "name": "stderr",
     "output_type": "stream",
     "text": [
      "100%|█████████████████████████████████████████████████████████████████████████████| 1257/1257 [00:05<00:00, 245.99it/s]\n"
     ]
    },
    {
     "name": "stdout",
     "output_type": "stream",
     "text": [
      "For Q1_TOP_NUMBER 100 Q2_TOP_NUMBER 300 Q1_DECAY_STEP 4 C2 0.6 sharp is [2.419363484703955, 1.6187092489547201, 1.8087291900115692, 3.4510056354705902, 1.0137316347229597]\n",
      "For Q1_TOP_NUMBER 100 Q2_TOP_NUMBER 300 Q1_DECAY_STEP 4 C2 0.6 turnovers is [33.12683865776616, 33.724854169660105, 31.792706713341023, 2.6996418112219565, 40.39058520028799]\n"
     ]
    },
    {
     "name": "stderr",
     "output_type": "stream",
     "text": [
      "100%|█████████████████████████████████████████████████████████████████████████████| 1257/1257 [00:04<00:00, 260.95it/s]\n"
     ]
    },
    {
     "name": "stdout",
     "output_type": "stream",
     "text": [
      "For Q1_TOP_NUMBER 100 Q2_TOP_NUMBER 300 Q1_DECAY_STEP 4 C2 0.7 sharp is [2.398038841406077, 1.6187092489547201, 1.8087291900115692, 3.421146937255326, 0.991357864530996]\n",
      "For Q1_TOP_NUMBER 100 Q2_TOP_NUMBER 300 Q1_DECAY_STEP 4 C2 0.7 turnovers is [33.12963849676052, 33.724854169660105, 31.792706713341023, 2.285293055183365, 18.932426943940552]\n"
     ]
    },
    {
     "name": "stderr",
     "output_type": "stream",
     "text": [
      "100%|█████████████████████████████████████████████████████████████████████████████| 1257/1257 [00:04<00:00, 258.69it/s]\n"
     ]
    },
    {
     "name": "stdout",
     "output_type": "stream",
     "text": [
      "For Q1_TOP_NUMBER 100 Q2_TOP_NUMBER 300 Q1_DECAY_STEP 4 C2 0.8 sharp is [2.4232418883658724, 1.6187092489547201, 1.8087291900115692, 3.4005249978171914, 0.9783654177929835]\n",
      "For Q1_TOP_NUMBER 100 Q2_TOP_NUMBER 300 Q1_DECAY_STEP 4 C2 0.8 turnovers is [33.134108277392514, 33.724854169660105, 31.792706713341023, 2.044078942084793, 9.083144547583963]\n"
     ]
    },
    {
     "name": "stderr",
     "output_type": "stream",
     "text": [
      "100%|█████████████████████████████████████████████████████████████████████████████| 1257/1257 [00:04<00:00, 261.87it/s]\n"
     ]
    },
    {
     "name": "stdout",
     "output_type": "stream",
     "text": [
      "For Q1_TOP_NUMBER 100 Q2_TOP_NUMBER 300 Q1_DECAY_STEP 4 C2 0.9 sharp is [2.4027172640798837, 1.6187092489547203, 1.8087291900115692, 3.385145635941432, 0.9702879969099107]\n",
      "For Q1_TOP_NUMBER 100 Q2_TOP_NUMBER 300 Q1_DECAY_STEP 4 C2 0.9 turnovers is [33.130776200585835, 33.724854169660105, 31.792706713341023, 1.8903917751164416, 3.847667675875443]\n"
     ]
    },
    {
     "name": "stderr",
     "output_type": "stream",
     "text": [
      "100%|█████████████████████████████████████████████████████████████████████████████| 1257/1257 [00:05<00:00, 248.91it/s]\n"
     ]
    },
    {
     "name": "stdout",
     "output_type": "stream",
     "text": [
      "For Q1_TOP_NUMBER 100 Q2_TOP_NUMBER 500 Q1_DECAY_STEP 2 C2 0.5 sharp is [2.3861318834274194, 1.6187092489547203, 1.8087291900115692, 3.557603188741891, 1.086136600990578]\n",
      "For Q1_TOP_NUMBER 100 Q2_TOP_NUMBER 500 Q1_DECAY_STEP 2 C2 0.5 turnovers is [33.12473396228697, 33.724854169660105, 31.792706713341023, 3.580562635682509, 78.85088195954228]\n"
     ]
    },
    {
     "name": "stderr",
     "output_type": "stream",
     "text": [
      "100%|█████████████████████████████████████████████████████████████████████████████| 1257/1257 [00:04<00:00, 261.22it/s]\n"
     ]
    },
    {
     "name": "stdout",
     "output_type": "stream",
     "text": [
      "For Q1_TOP_NUMBER 100 Q2_TOP_NUMBER 500 Q1_DECAY_STEP 2 C2 0.6 sharp is [2.410964650514902, 1.6187092489547203, 1.8087291900115692, 3.524960362544367, 1.0723749400595957]\n",
      "For Q1_TOP_NUMBER 100 Q2_TOP_NUMBER 500 Q1_DECAY_STEP 2 C2 0.6 turnovers is [33.12442144496029, 33.724854169660105, 31.792706713341023, 2.8943793202892034, 46.556065063024306]\n"
     ]
    },
    {
     "name": "stderr",
     "output_type": "stream",
     "text": [
      "100%|█████████████████████████████████████████████████████████████████████████████| 1257/1257 [00:04<00:00, 257.69it/s]\n"
     ]
    },
    {
     "name": "stdout",
     "output_type": "stream",
     "text": [
      "For Q1_TOP_NUMBER 100 Q2_TOP_NUMBER 500 Q1_DECAY_STEP 2 C2 0.7 sharp is [2.400522836418061, 1.6187092489547203, 1.8087291900115692, 3.4996988565305256, 1.008614881344315]\n",
      "For Q1_TOP_NUMBER 100 Q2_TOP_NUMBER 500 Q1_DECAY_STEP 2 C2 0.7 turnovers is [33.12924680754115, 33.724854169660105, 31.792706713341023, 2.427338141256033, 24.774446562500255]\n"
     ]
    },
    {
     "name": "stderr",
     "output_type": "stream",
     "text": [
      "100%|█████████████████████████████████████████████████████████████████████████████| 1257/1257 [00:05<00:00, 242.20it/s]\n"
     ]
    },
    {
     "name": "stdout",
     "output_type": "stream",
     "text": [
      "For Q1_TOP_NUMBER 100 Q2_TOP_NUMBER 500 Q1_DECAY_STEP 2 C2 0.8 sharp is [2.388781325088187, 1.6187092489547203, 1.8087291900115692, 3.4846215629455717, 0.9590695918345208]\n",
      "For Q1_TOP_NUMBER 100 Q2_TOP_NUMBER 500 Q1_DECAY_STEP 2 C2 0.8 turnovers is [33.12332617221642, 33.724854169660105, 31.792706713341023, 2.1193856513204596, 12.187388469601444]\n"
     ]
    },
    {
     "name": "stderr",
     "output_type": "stream",
     "text": [
      "100%|█████████████████████████████████████████████████████████████████████████████| 1257/1257 [00:05<00:00, 249.85it/s]\n"
     ]
    },
    {
     "name": "stdout",
     "output_type": "stream",
     "text": [
      "For Q1_TOP_NUMBER 100 Q2_TOP_NUMBER 500 Q1_DECAY_STEP 2 C2 0.9 sharp is [2.4007855647595138, 1.6187092489547201, 1.8087291900115692, 3.474172487996395, 0.9332438666630041]\n",
      "For Q1_TOP_NUMBER 100 Q2_TOP_NUMBER 500 Q1_DECAY_STEP 2 C2 0.9 turnovers is [33.13560994495541, 33.724854169660105, 31.792706713341023, 1.9199470950770692, 5.057889443450162]\n"
     ]
    },
    {
     "name": "stderr",
     "output_type": "stream",
     "text": [
      "100%|█████████████████████████████████████████████████████████████████████████████| 1257/1257 [00:04<00:00, 261.44it/s]\n"
     ]
    },
    {
     "name": "stdout",
     "output_type": "stream",
     "text": [
      "For Q1_TOP_NUMBER 100 Q2_TOP_NUMBER 500 Q1_DECAY_STEP 3 C2 0.5 sharp is [2.4047384876956897, 1.6187092489547201, 1.8087291900115692, 3.5472460963544705, 1.1293137163094538]\n",
      "For Q1_TOP_NUMBER 100 Q2_TOP_NUMBER 500 Q1_DECAY_STEP 3 C2 0.5 turnovers is [33.1311288052814, 33.724854169660105, 31.792706713341023, 3.4523211281800434, 82.47432874820504]\n"
     ]
    },
    {
     "name": "stderr",
     "output_type": "stream",
     "text": [
      "100%|█████████████████████████████████████████████████████████████████████████████| 1257/1257 [00:04<00:00, 261.06it/s]\n"
     ]
    },
    {
     "name": "stdout",
     "output_type": "stream",
     "text": [
      "For Q1_TOP_NUMBER 100 Q2_TOP_NUMBER 500 Q1_DECAY_STEP 3 C2 0.6 sharp is [2.396202923782226, 1.6187092489547201, 1.8087291900115692, 3.5182557116847173, 1.0599085429768529]\n",
      "For Q1_TOP_NUMBER 100 Q2_TOP_NUMBER 500 Q1_DECAY_STEP 3 C2 0.6 turnovers is [33.12231886291688, 33.724854169660105, 31.792706713341023, 2.756374383246038, 44.710398781496515]\n"
     ]
    },
    {
     "name": "stderr",
     "output_type": "stream",
     "text": [
      "100%|█████████████████████████████████████████████████████████████████████████████| 1257/1257 [00:05<00:00, 246.52it/s]\n"
     ]
    },
    {
     "name": "stdout",
     "output_type": "stream",
     "text": [
      "For Q1_TOP_NUMBER 100 Q2_TOP_NUMBER 500 Q1_DECAY_STEP 3 C2 0.7 sharp is [2.4200822356806166, 1.6187092489547203, 1.8087291900115692, 3.4947912002379398, 0.9619265502390608]\n",
      "For Q1_TOP_NUMBER 100 Q2_TOP_NUMBER 500 Q1_DECAY_STEP 3 C2 0.7 turnovers is [33.12635621613557, 33.724854169660105, 31.792706713341023, 2.332991646571399, 22.06542185199342]\n"
     ]
    },
    {
     "name": "stderr",
     "output_type": "stream",
     "text": [
      "100%|█████████████████████████████████████████████████████████████████████████████| 1257/1257 [00:05<00:00, 227.67it/s]\n"
     ]
    },
    {
     "name": "stdout",
     "output_type": "stream",
     "text": [
      "For Q1_TOP_NUMBER 100 Q2_TOP_NUMBER 500 Q1_DECAY_STEP 3 C2 0.8 sharp is [2.4171305222590105, 1.6187092489547203, 1.8087291900115692, 3.4809845229393677, 0.9208972516383288]\n",
      "For Q1_TOP_NUMBER 100 Q2_TOP_NUMBER 500 Q1_DECAY_STEP 3 C2 0.8 turnovers is [33.12728209291503, 33.724854169660105, 31.792706713341023, 2.0703406695696094, 10.558482490489105]\n"
     ]
    },
    {
     "name": "stderr",
     "output_type": "stream",
     "text": [
      "100%|█████████████████████████████████████████████████████████████████████████████| 1257/1257 [00:04<00:00, 257.00it/s]\n"
     ]
    },
    {
     "name": "stdout",
     "output_type": "stream",
     "text": [
      "For Q1_TOP_NUMBER 100 Q2_TOP_NUMBER 500 Q1_DECAY_STEP 3 C2 0.9 sharp is [2.4294508017874814, 1.6187092489547203, 1.8087291900115692, 3.4721808098657596, 0.9152133376455309]\n",
      "For Q1_TOP_NUMBER 100 Q2_TOP_NUMBER 500 Q1_DECAY_STEP 3 C2 0.9 turnovers is [33.13023763216282, 33.724854169660105, 31.792706713341023, 1.9025298799672083, 4.393611210376233]\n"
     ]
    },
    {
     "name": "stderr",
     "output_type": "stream",
     "text": [
      "100%|█████████████████████████████████████████████████████████████████████████████| 1257/1257 [00:04<00:00, 252.92it/s]\n"
     ]
    },
    {
     "name": "stdout",
     "output_type": "stream",
     "text": [
      "For Q1_TOP_NUMBER 100 Q2_TOP_NUMBER 500 Q1_DECAY_STEP 4 C2 0.5 sharp is [2.4158128848545406, 1.6187092489547201, 1.8087291900115692, 3.5413387484822056, 1.2014613788258994]\n",
      "For Q1_TOP_NUMBER 100 Q2_TOP_NUMBER 500 Q1_DECAY_STEP 4 C2 0.5 turnovers is [33.12343866280977, 33.724854169660105, 31.792706713341023, 3.439613391709128, 86.1671765019077]\n"
     ]
    },
    {
     "name": "stderr",
     "output_type": "stream",
     "text": [
      "100%|█████████████████████████████████████████████████████████████████████████████| 1257/1257 [00:05<00:00, 234.92it/s]\n"
     ]
    },
    {
     "name": "stdout",
     "output_type": "stream",
     "text": [
      "For Q1_TOP_NUMBER 100 Q2_TOP_NUMBER 500 Q1_DECAY_STEP 4 C2 0.6 sharp is [2.416481623512385, 1.6187092489547203, 1.8087291900115692, 3.5110235530365306, 1.0112761569815445]\n",
      "For Q1_TOP_NUMBER 100 Q2_TOP_NUMBER 500 Q1_DECAY_STEP 4 C2 0.6 turnovers is [33.11766412659414, 33.724854169660105, 31.792706713341023, 2.730255430374483, 42.580154149683146]\n"
     ]
    },
    {
     "name": "stderr",
     "output_type": "stream",
     "text": [
      "100%|█████████████████████████████████████████████████████████████████████████████| 1257/1257 [00:05<00:00, 215.57it/s]\n"
     ]
    },
    {
     "name": "stdout",
     "output_type": "stream",
     "text": [
      "For Q1_TOP_NUMBER 100 Q2_TOP_NUMBER 500 Q1_DECAY_STEP 4 C2 0.7 sharp is [2.402335585694594, 1.6187092489547203, 1.8087291900115692, 3.4893146739060583, 0.8950730095893401]\n",
      "For Q1_TOP_NUMBER 100 Q2_TOP_NUMBER 500 Q1_DECAY_STEP 4 C2 0.7 turnovers is [33.12212063274197, 33.724854169660105, 31.792706713341023, 2.313278609712014, 19.78480979328246]\n"
     ]
    },
    {
     "name": "stderr",
     "output_type": "stream",
     "text": [
      "100%|█████████████████████████████████████████████████████████████████████████████| 1257/1257 [00:05<00:00, 232.79it/s]\n"
     ]
    },
    {
     "name": "stdout",
     "output_type": "stream",
     "text": [
      "For Q1_TOP_NUMBER 100 Q2_TOP_NUMBER 500 Q1_DECAY_STEP 4 C2 0.8 sharp is [2.429341333041424, 1.6187092489547203, 1.8087291900115692, 3.4774392772159577, 0.8791799271388201]\n",
      "For Q1_TOP_NUMBER 100 Q2_TOP_NUMBER 500 Q1_DECAY_STEP 4 C2 0.8 turnovers is [33.14131578102644, 33.724854169660105, 31.792706713341023, 2.0649479032761797, 9.320706579888059]\n"
     ]
    },
    {
     "name": "stderr",
     "output_type": "stream",
     "text": [
      "100%|█████████████████████████████████████████████████████████████████████████████| 1257/1257 [00:05<00:00, 238.70it/s]\n"
     ]
    },
    {
     "name": "stdout",
     "output_type": "stream",
     "text": [
      "For Q1_TOP_NUMBER 100 Q2_TOP_NUMBER 500 Q1_DECAY_STEP 4 C2 0.9 sharp is [2.37396343083675, 1.6187092489547201, 1.8087291900115692, 3.4704399234782053, 0.8976200692917339]\n",
      "For Q1_TOP_NUMBER 100 Q2_TOP_NUMBER 500 Q1_DECAY_STEP 4 C2 0.9 turnovers is [33.11770809621255, 33.724854169660105, 31.792706713341023, 1.9028216764668076, 3.905219505078637]\n"
     ]
    },
    {
     "name": "stderr",
     "output_type": "stream",
     "text": [
      "100%|█████████████████████████████████████████████████████████████████████████████| 1257/1257 [00:05<00:00, 246.23it/s]\n"
     ]
    },
    {
     "name": "stdout",
     "output_type": "stream",
     "text": [
      "For Q1_TOP_NUMBER 200 Q2_TOP_NUMBER 10 Q1_DECAY_STEP 2 C2 0.5 sharp is [2.4365622804694165, 1.6187092489547203, 1.8087291900115692, 3.574539158858993, 0.9600670056413938]\n",
      "For Q1_TOP_NUMBER 200 Q2_TOP_NUMBER 10 Q1_DECAY_STEP 2 C2 0.5 turnovers is [33.127865251456214, 33.724854169660105, 31.792706713341023, 3.02536530356937, 67.5765206817984]\n"
     ]
    },
    {
     "name": "stderr",
     "output_type": "stream",
     "text": [
      "100%|█████████████████████████████████████████████████████████████████████████████| 1257/1257 [00:05<00:00, 242.52it/s]\n"
     ]
    },
    {
     "name": "stdout",
     "output_type": "stream",
     "text": [
      "For Q1_TOP_NUMBER 200 Q2_TOP_NUMBER 10 Q1_DECAY_STEP 2 C2 0.6 sharp is [2.438144438241175, 1.6187092489547203, 1.8087291900115692, 3.5539527550624967, 1.0495886168396997]\n",
      "For Q1_TOP_NUMBER 200 Q2_TOP_NUMBER 10 Q1_DECAY_STEP 2 C2 0.6 turnovers is [33.13749709373111, 33.724854169660105, 31.792706713341023, 2.5464957980202807, 39.9695366984994]\n"
     ]
    },
    {
     "name": "stderr",
     "output_type": "stream",
     "text": [
      "100%|█████████████████████████████████████████████████████████████████████████████| 1257/1257 [00:05<00:00, 247.68it/s]\n"
     ]
    },
    {
     "name": "stdout",
     "output_type": "stream",
     "text": [
      "For Q1_TOP_NUMBER 200 Q2_TOP_NUMBER 10 Q1_DECAY_STEP 2 C2 0.7 sharp is [2.4146075075010427, 1.6187092489547203, 1.8087291900115692, 3.5350633398598017, 1.1160777611608934]\n",
      "For Q1_TOP_NUMBER 200 Q2_TOP_NUMBER 10 Q1_DECAY_STEP 2 C2 0.7 turnovers is [33.13120191574501, 33.724854169660105, 31.792706713341023, 2.2389065221516846, 22.578497043607936]\n"
     ]
    },
    {
     "name": "stderr",
     "output_type": "stream",
     "text": [
      "100%|█████████████████████████████████████████████████████████████████████████████| 1257/1257 [00:05<00:00, 246.62it/s]\n"
     ]
    },
    {
     "name": "stdout",
     "output_type": "stream",
     "text": [
      "For Q1_TOP_NUMBER 200 Q2_TOP_NUMBER 10 Q1_DECAY_STEP 2 C2 0.8 sharp is [2.393005560051815, 1.6187092489547201, 1.8087291900115692, 3.520173342729405, 1.164395032748395]\n",
      "For Q1_TOP_NUMBER 200 Q2_TOP_NUMBER 10 Q1_DECAY_STEP 2 C2 0.8 turnovers is [33.13030568051177, 33.724854169660105, 31.792706713341023, 2.0322896188921193, 12.621675886372653]\n"
     ]
    },
    {
     "name": "stderr",
     "output_type": "stream",
     "text": [
      "100%|█████████████████████████████████████████████████████████████████████████████| 1257/1257 [00:05<00:00, 249.85it/s]\n"
     ]
    },
    {
     "name": "stdout",
     "output_type": "stream",
     "text": [
      "For Q1_TOP_NUMBER 200 Q2_TOP_NUMBER 10 Q1_DECAY_STEP 2 C2 0.9 sharp is [2.3947633749353874, 1.6187092489547203, 1.8087291900115692, 3.5099262467080212, 1.1995832311919037]\n",
      "For Q1_TOP_NUMBER 200 Q2_TOP_NUMBER 10 Q1_DECAY_STEP 2 C2 0.9 turnovers is [33.111960511170125, 33.724854169660105, 31.792706713341023, 1.884858912835958, 6.596832442358508]\n"
     ]
    },
    {
     "name": "stderr",
     "output_type": "stream",
     "text": [
      "100%|█████████████████████████████████████████████████████████████████████████████| 1257/1257 [00:05<00:00, 237.12it/s]\n"
     ]
    },
    {
     "name": "stdout",
     "output_type": "stream",
     "text": [
      "For Q1_TOP_NUMBER 200 Q2_TOP_NUMBER 10 Q1_DECAY_STEP 3 C2 0.5 sharp is [2.389938495793474, 1.6187092489547201, 1.8087291900115692, 3.562463668486937, 0.8842308486293187]\n",
      "For Q1_TOP_NUMBER 200 Q2_TOP_NUMBER 10 Q1_DECAY_STEP 3 C2 0.5 turnovers is [33.131260405354766, 33.724854169660105, 31.792706713341023, 2.9111345097186185, 70.05955098628807]\n"
     ]
    },
    {
     "name": "stderr",
     "output_type": "stream",
     "text": [
      "100%|█████████████████████████████████████████████████████████████████████████████| 1257/1257 [00:05<00:00, 233.83it/s]\n"
     ]
    },
    {
     "name": "stdout",
     "output_type": "stream",
     "text": [
      "For Q1_TOP_NUMBER 200 Q2_TOP_NUMBER 10 Q1_DECAY_STEP 3 C2 0.6 sharp is [2.4244544720032573, 1.6187092489547203, 1.8087291900115692, 3.545018862099371, 1.0170460164384396]\n",
      "For Q1_TOP_NUMBER 200 Q2_TOP_NUMBER 10 Q1_DECAY_STEP 3 C2 0.6 turnovers is [33.12770979152896, 33.724854169660105, 31.792706713341023, 2.4908644270552256, 37.852098888378976]\n"
     ]
    },
    {
     "name": "stderr",
     "output_type": "stream",
     "text": [
      "100%|█████████████████████████████████████████████████████████████████████████████| 1257/1257 [00:05<00:00, 244.98it/s]\n"
     ]
    },
    {
     "name": "stdout",
     "output_type": "stream",
     "text": [
      "For Q1_TOP_NUMBER 200 Q2_TOP_NUMBER 10 Q1_DECAY_STEP 3 C2 0.7 sharp is [2.4126340579718737, 1.6187092489547203, 1.8087291900115692, 3.52632703626449, 1.1045756669280555]\n",
      "For Q1_TOP_NUMBER 200 Q2_TOP_NUMBER 10 Q1_DECAY_STEP 3 C2 0.7 turnovers is [33.12768397227263, 33.724854169660105, 31.792706713341023, 2.208569978917463, 20.622071298608095]\n"
     ]
    },
    {
     "name": "stderr",
     "output_type": "stream",
     "text": [
      "100%|█████████████████████████████████████████████████████████████████████████████| 1257/1257 [00:05<00:00, 216.65it/s]\n"
     ]
    },
    {
     "name": "stdout",
     "output_type": "stream",
     "text": [
      "For Q1_TOP_NUMBER 200 Q2_TOP_NUMBER 10 Q1_DECAY_STEP 3 C2 0.8 sharp is [2.417227572762032, 1.6187092489547203, 1.8087291900115692, 3.513841100555802, 1.161349887590754]\n",
      "For Q1_TOP_NUMBER 200 Q2_TOP_NUMBER 10 Q1_DECAY_STEP 3 C2 0.8 turnovers is [33.135372911619534, 33.724854169660105, 31.792706713341023, 2.0171172902195713, 11.4436201847715]\n"
     ]
    },
    {
     "name": "stderr",
     "output_type": "stream",
     "text": [
      "100%|█████████████████████████████████████████████████████████████████████████████| 1257/1257 [00:05<00:00, 234.86it/s]\n"
     ]
    },
    {
     "name": "stdout",
     "output_type": "stream",
     "text": [
      "For Q1_TOP_NUMBER 200 Q2_TOP_NUMBER 10 Q1_DECAY_STEP 3 C2 0.9 sharp is [2.383718576246293, 1.6187092489547203, 1.8087291900115692, 3.5068974032717226, 1.199343457601105]\n",
      "For Q1_TOP_NUMBER 200 Q2_TOP_NUMBER 10 Q1_DECAY_STEP 3 C2 0.9 turnovers is [33.123742287424385, 33.724854169660105, 31.792706713341023, 1.8800234000206422, 6.093314994098916]\n"
     ]
    },
    {
     "name": "stderr",
     "output_type": "stream",
     "text": [
      "100%|█████████████████████████████████████████████████████████████████████████████| 1257/1257 [00:05<00:00, 237.35it/s]\n"
     ]
    },
    {
     "name": "stdout",
     "output_type": "stream",
     "text": [
      "For Q1_TOP_NUMBER 200 Q2_TOP_NUMBER 10 Q1_DECAY_STEP 4 C2 0.5 sharp is [2.430050949687636, 1.6187092489547203, 1.8087291900115692, 3.5625473166425885, 0.8483354026650268]\n",
      "For Q1_TOP_NUMBER 200 Q2_TOP_NUMBER 10 Q1_DECAY_STEP 4 C2 0.5 turnovers is [33.131100577102686, 33.724854169660105, 31.792706713341023, 2.864765713330566, 71.73224354133266]\n"
     ]
    },
    {
     "name": "stderr",
     "output_type": "stream",
     "text": [
      "100%|█████████████████████████████████████████████████████████████████████████████| 1257/1257 [00:05<00:00, 220.06it/s]\n"
     ]
    },
    {
     "name": "stdout",
     "output_type": "stream",
     "text": [
      "For Q1_TOP_NUMBER 200 Q2_TOP_NUMBER 10 Q1_DECAY_STEP 4 C2 0.6 sharp is [2.4089371061750797, 1.6187092489547201, 1.8087291900115692, 3.5382519662610847, 1.0063463291686585]\n",
      "For Q1_TOP_NUMBER 200 Q2_TOP_NUMBER 10 Q1_DECAY_STEP 4 C2 0.6 turnovers is [33.12716019137894, 33.724854169660105, 31.792706713341023, 2.4298625316896034, 35.88689780543017]\n"
     ]
    },
    {
     "name": "stderr",
     "output_type": "stream",
     "text": [
      "100%|█████████████████████████████████████████████████████████████████████████████| 1257/1257 [00:05<00:00, 232.76it/s]\n"
     ]
    },
    {
     "name": "stdout",
     "output_type": "stream",
     "text": [
      "For Q1_TOP_NUMBER 200 Q2_TOP_NUMBER 10 Q1_DECAY_STEP 4 C2 0.7 sharp is [2.416293459147672, 1.6187092489547203, 1.8087291900115692, 3.520413794333726, 1.1047737144850007]\n",
      "For Q1_TOP_NUMBER 200 Q2_TOP_NUMBER 10 Q1_DECAY_STEP 4 C2 0.7 turnovers is [33.11923009019112, 33.724854169660105, 31.792706713341023, 2.176205619221576, 18.980868252570083]\n"
     ]
    },
    {
     "name": "stderr",
     "output_type": "stream",
     "text": [
      "100%|█████████████████████████████████████████████████████████████████████████████| 1257/1257 [00:05<00:00, 231.89it/s]\n"
     ]
    },
    {
     "name": "stdout",
     "output_type": "stream",
     "text": [
      "For Q1_TOP_NUMBER 200 Q2_TOP_NUMBER 10 Q1_DECAY_STEP 4 C2 0.8 sharp is [2.382459383319883, 1.6187092489547201, 1.8087291900115692, 3.5098539549702283, 1.1638867959827]\n",
      "For Q1_TOP_NUMBER 200 Q2_TOP_NUMBER 10 Q1_DECAY_STEP 4 C2 0.8 turnovers is [33.12121474241661, 33.724854169660105, 31.792706713341023, 2.0032703709065034, 10.547534419879772]\n"
     ]
    },
    {
     "name": "stderr",
     "output_type": "stream",
     "text": [
      "100%|█████████████████████████████████████████████████████████████████████████████| 1257/1257 [00:05<00:00, 244.36it/s]\n"
     ]
    },
    {
     "name": "stdout",
     "output_type": "stream",
     "text": [
      "For Q1_TOP_NUMBER 200 Q2_TOP_NUMBER 10 Q1_DECAY_STEP 4 C2 0.9 sharp is [2.399194352829649, 1.6187092489547203, 1.8087291900115692, 3.5048352493466517, 1.2010832315593403]\n",
      "For Q1_TOP_NUMBER 200 Q2_TOP_NUMBER 10 Q1_DECAY_STEP 4 C2 0.9 turnovers is [33.12770942107913, 33.724854169660105, 31.792706713341023, 1.8748053076130782, 5.724672981480626]\n"
     ]
    },
    {
     "name": "stderr",
     "output_type": "stream",
     "text": [
      "100%|█████████████████████████████████████████████████████████████████████████████| 1257/1257 [00:05<00:00, 245.15it/s]\n"
     ]
    },
    {
     "name": "stdout",
     "output_type": "stream",
     "text": [
      "For Q1_TOP_NUMBER 200 Q2_TOP_NUMBER 50 Q1_DECAY_STEP 2 C2 0.5 sharp is [2.382387548156875, 1.6187092489547203, 1.8087291900115692, 3.3571764242439617, 0.5650548554741401]\n",
      "For Q1_TOP_NUMBER 200 Q2_TOP_NUMBER 50 Q1_DECAY_STEP 2 C2 0.5 turnovers is [33.12788440948803, 33.724854169660105, 31.792706713341023, 3.138417566919429, 69.00094854344596]\n"
     ]
    },
    {
     "name": "stderr",
     "output_type": "stream",
     "text": [
      "100%|█████████████████████████████████████████████████████████████████████████████| 1257/1257 [00:05<00:00, 219.44it/s]\n"
     ]
    },
    {
     "name": "stdout",
     "output_type": "stream",
     "text": [
      "For Q1_TOP_NUMBER 200 Q2_TOP_NUMBER 50 Q1_DECAY_STEP 2 C2 0.6 sharp is [2.3980550715476285, 1.6187092489547201, 1.8087291900115692, 3.2680381449246636, 0.6145585430470261]\n",
      "For Q1_TOP_NUMBER 200 Q2_TOP_NUMBER 50 Q1_DECAY_STEP 2 C2 0.6 turnovers is [33.11872268747687, 33.724854169660105, 31.792706713341023, 2.6123497851076993, 39.61352013799694]\n"
     ]
    },
    {
     "name": "stderr",
     "output_type": "stream",
     "text": [
      "100%|█████████████████████████████████████████████████████████████████████████████| 1257/1257 [00:05<00:00, 226.75it/s]\n"
     ]
    },
    {
     "name": "stdout",
     "output_type": "stream",
     "text": [
      "For Q1_TOP_NUMBER 200 Q2_TOP_NUMBER 50 Q1_DECAY_STEP 2 C2 0.7 sharp is [2.3780710642648937, 1.6187092489547203, 1.8087291900115692, 3.1898308770925663, 0.6476690127675925]\n",
      "For Q1_TOP_NUMBER 200 Q2_TOP_NUMBER 50 Q1_DECAY_STEP 2 C2 0.7 turnovers is [33.128236411436625, 33.724854169660105, 31.792706713341023, 2.278957184965529, 21.618547949369276]\n"
     ]
    },
    {
     "name": "stderr",
     "output_type": "stream",
     "text": [
      "100%|█████████████████████████████████████████████████████████████████████████████| 1257/1257 [00:05<00:00, 240.84it/s]\n"
     ]
    },
    {
     "name": "stdout",
     "output_type": "stream",
     "text": [
      "For Q1_TOP_NUMBER 200 Q2_TOP_NUMBER 50 Q1_DECAY_STEP 2 C2 0.8 sharp is [2.404679541201222, 1.6187092489547203, 1.8087291900115692, 3.1255248667808813, 0.6681637148880707]\n",
      "For Q1_TOP_NUMBER 200 Q2_TOP_NUMBER 50 Q1_DECAY_STEP 2 C2 0.8 turnovers is [33.12238143368767, 33.724854169660105, 31.792706713341023, 2.0750110992166584, 11.57622624163263]\n"
     ]
    },
    {
     "name": "stderr",
     "output_type": "stream",
     "text": [
      "100%|█████████████████████████████████████████████████████████████████████████████| 1257/1257 [00:05<00:00, 238.64it/s]\n"
     ]
    },
    {
     "name": "stdout",
     "output_type": "stream",
     "text": [
      "For Q1_TOP_NUMBER 200 Q2_TOP_NUMBER 50 Q1_DECAY_STEP 2 C2 0.9 sharp is [2.386986187113958, 1.6187092489547201, 1.8087291900115692, 3.07343467338883, 0.6811385866244657]\n",
      "For Q1_TOP_NUMBER 200 Q2_TOP_NUMBER 50 Q1_DECAY_STEP 2 C2 0.9 turnovers is [33.12732852150665, 33.724854169660105, 31.792706713341023, 1.9337173486721606, 5.6268082679652]\n"
     ]
    },
    {
     "name": "stderr",
     "output_type": "stream",
     "text": [
      "100%|█████████████████████████████████████████████████████████████████████████████| 1257/1257 [00:05<00:00, 230.58it/s]\n"
     ]
    },
    {
     "name": "stdout",
     "output_type": "stream",
     "text": [
      "For Q1_TOP_NUMBER 200 Q2_TOP_NUMBER 50 Q1_DECAY_STEP 3 C2 0.5 sharp is [2.4075820811190196, 1.6187092489547203, 1.8087291900115692, 3.3433396436930667, 0.5593463421849197]\n",
      "For Q1_TOP_NUMBER 200 Q2_TOP_NUMBER 50 Q1_DECAY_STEP 3 C2 0.5 turnovers is [33.12752674512944, 33.724854169660105, 31.792706713341023, 3.0402653892323643, 71.49238640661811]\n"
     ]
    },
    {
     "name": "stderr",
     "output_type": "stream",
     "text": [
      "100%|█████████████████████████████████████████████████████████████████████████████| 1257/1257 [00:05<00:00, 227.77it/s]\n"
     ]
    },
    {
     "name": "stdout",
     "output_type": "stream",
     "text": [
      "For Q1_TOP_NUMBER 200 Q2_TOP_NUMBER 50 Q1_DECAY_STEP 3 C2 0.6 sharp is [2.4085823237142825, 1.6187092489547201, 1.8087291900115692, 3.259027976434482, 0.6323587000803707]\n",
      "For Q1_TOP_NUMBER 200 Q2_TOP_NUMBER 50 Q1_DECAY_STEP 3 C2 0.6 turnovers is [33.129592608564785, 33.724854169660105, 31.792706713341023, 2.5684537668848284, 37.16667224210963]\n"
     ]
    },
    {
     "name": "stderr",
     "output_type": "stream",
     "text": [
      "100%|█████████████████████████████████████████████████████████████████████████████| 1257/1257 [00:06<00:00, 208.74it/s]\n"
     ]
    },
    {
     "name": "stdout",
     "output_type": "stream",
     "text": [
      "For Q1_TOP_NUMBER 200 Q2_TOP_NUMBER 50 Q1_DECAY_STEP 3 C2 0.7 sharp is [2.425942880642655, 1.6187092489547203, 1.8087291900115692, 3.181717336350288, 0.6639023887336739]\n",
      "For Q1_TOP_NUMBER 200 Q2_TOP_NUMBER 50 Q1_DECAY_STEP 3 C2 0.7 turnovers is [33.128544033571885, 33.724854169660105, 31.792706713341023, 2.260736983618449, 19.404460526524513]\n"
     ]
    },
    {
     "name": "stderr",
     "output_type": "stream",
     "text": [
      "100%|█████████████████████████████████████████████████████████████████████████████| 1257/1257 [00:05<00:00, 229.01it/s]\n"
     ]
    },
    {
     "name": "stdout",
     "output_type": "stream",
     "text": [
      "For Q1_TOP_NUMBER 200 Q2_TOP_NUMBER 50 Q1_DECAY_STEP 3 C2 0.8 sharp is [2.4381461380307976, 1.6187092489547203, 1.8087291900115692, 3.1201876822951418, 0.6781029365511981]\n",
      "For Q1_TOP_NUMBER 200 Q2_TOP_NUMBER 50 Q1_DECAY_STEP 3 C2 0.8 turnovers is [33.12835732486469, 33.724854169660105, 31.792706713341023, 2.062104711420383, 10.272490284795456]\n"
     ]
    },
    {
     "name": "stderr",
     "output_type": "stream",
     "text": [
      "100%|█████████████████████████████████████████████████████████████████████████████| 1257/1257 [00:05<00:00, 247.10it/s]\n"
     ]
    },
    {
     "name": "stdout",
     "output_type": "stream",
     "text": [
      "For Q1_TOP_NUMBER 200 Q2_TOP_NUMBER 50 Q1_DECAY_STEP 3 C2 0.9 sharp is [2.3981066627118297, 1.6187092489547203, 1.8087291900115692, 3.07110854108374, 0.6854722790462682]\n",
      "For Q1_TOP_NUMBER 200 Q2_TOP_NUMBER 50 Q1_DECAY_STEP 3 C2 0.9 turnovers is [33.118672517297455, 33.724854169660105, 31.792706713341023, 1.9293424239529717, 5.076370013253858]\n"
     ]
    },
    {
     "name": "stderr",
     "output_type": "stream",
     "text": [
      "100%|█████████████████████████████████████████████████████████████████████████████| 1257/1257 [00:05<00:00, 239.82it/s]\n"
     ]
    },
    {
     "name": "stdout",
     "output_type": "stream",
     "text": [
      "For Q1_TOP_NUMBER 200 Q2_TOP_NUMBER 50 Q1_DECAY_STEP 4 C2 0.5 sharp is [2.419504735345007, 1.6187092489547203, 1.8087291900115692, 3.3507744969493642, 0.5982842966484995]\n",
      "For Q1_TOP_NUMBER 200 Q2_TOP_NUMBER 50 Q1_DECAY_STEP 4 C2 0.5 turnovers is [33.1304940079082, 33.724854169660105, 31.792706713341023, 3.0046179594583586, 73.29681781846783]\n"
     ]
    },
    {
     "name": "stderr",
     "output_type": "stream",
     "text": [
      "100%|█████████████████████████████████████████████████████████████████████████████| 1257/1257 [00:05<00:00, 224.15it/s]\n"
     ]
    },
    {
     "name": "stdout",
     "output_type": "stream",
     "text": [
      "For Q1_TOP_NUMBER 200 Q2_TOP_NUMBER 50 Q1_DECAY_STEP 4 C2 0.6 sharp is [2.4051618317157284, 1.6187092489547201, 1.8087291900115692, 3.259480608891439, 0.6650863997505052]\n",
      "For Q1_TOP_NUMBER 200 Q2_TOP_NUMBER 50 Q1_DECAY_STEP 4 C2 0.6 turnovers is [33.13148077772618, 33.724854169660105, 31.792706713341023, 2.517902279567426, 34.831247260121046]\n"
     ]
    },
    {
     "name": "stderr",
     "output_type": "stream",
     "text": [
      "100%|█████████████████████████████████████████████████████████████████████████████| 1257/1257 [00:05<00:00, 240.09it/s]\n"
     ]
    },
    {
     "name": "stdout",
     "output_type": "stream",
     "text": [
      "For Q1_TOP_NUMBER 200 Q2_TOP_NUMBER 50 Q1_DECAY_STEP 4 C2 0.7 sharp is [2.4004851172160224, 1.6187092489547201, 1.8087291900115692, 3.181916140443444, 0.6828206842409225]\n",
      "For Q1_TOP_NUMBER 200 Q2_TOP_NUMBER 50 Q1_DECAY_STEP 4 C2 0.7 turnovers is [33.12959308483402, 33.724854169660105, 31.792706713341023, 2.238360193327885, 17.569495429745313]\n"
     ]
    },
    {
     "name": "stderr",
     "output_type": "stream",
     "text": [
      "100%|█████████████████████████████████████████████████████████████████████████████| 1257/1257 [00:05<00:00, 245.21it/s]\n"
     ]
    },
    {
     "name": "stdout",
     "output_type": "stream",
     "text": [
      "For Q1_TOP_NUMBER 200 Q2_TOP_NUMBER 50 Q1_DECAY_STEP 4 C2 0.8 sharp is [2.4257046829410642, 1.6187092489547201, 1.8087291900115692, 3.1201692030888957, 0.6876260490245469]\n",
      "For Q1_TOP_NUMBER 200 Q2_TOP_NUMBER 50 Q1_DECAY_STEP 4 C2 0.8 turnovers is [33.128124806753725, 33.724854169660105, 31.792706713341023, 2.05602170037635, 9.284816042158976]\n"
     ]
    },
    {
     "name": "stderr",
     "output_type": "stream",
     "text": [
      "100%|█████████████████████████████████████████████████████████████████████████████| 1257/1257 [00:05<00:00, 214.87it/s]\n"
     ]
    },
    {
     "name": "stdout",
     "output_type": "stream",
     "text": [
      "For Q1_TOP_NUMBER 200 Q2_TOP_NUMBER 50 Q1_DECAY_STEP 4 C2 0.9 sharp is [2.4157079491027695, 1.6187092489547203, 1.8087291900115692, 3.071149677305783, 0.6892130191888106]\n",
      "For Q1_TOP_NUMBER 200 Q2_TOP_NUMBER 50 Q1_DECAY_STEP 4 C2 0.9 turnovers is [33.11994113428931, 33.724854169660105, 31.792706713341023, 1.9249131128483825, 4.674589719951494]\n"
     ]
    },
    {
     "name": "stderr",
     "output_type": "stream",
     "text": [
      "100%|█████████████████████████████████████████████████████████████████████████████| 1257/1257 [00:07<00:00, 176.94it/s]\n"
     ]
    },
    {
     "name": "stdout",
     "output_type": "stream",
     "text": [
      "For Q1_TOP_NUMBER 200 Q2_TOP_NUMBER 100 Q1_DECAY_STEP 2 C2 0.5 sharp is [2.4247868075120027, 1.6187092489547203, 1.8087291900115692, 3.4051118853376714, 0.9722117701340677]\n",
      "For Q1_TOP_NUMBER 200 Q2_TOP_NUMBER 100 Q1_DECAY_STEP 2 C2 0.5 turnovers is [33.11865826406171, 33.724854169660105, 31.792706713341023, 3.2084481586948246, 72.08237554251426]\n"
     ]
    },
    {
     "name": "stderr",
     "output_type": "stream",
     "text": [
      "100%|█████████████████████████████████████████████████████████████████████████████| 1257/1257 [00:05<00:00, 211.78it/s]\n"
     ]
    },
    {
     "name": "stdout",
     "output_type": "stream",
     "text": [
      "For Q1_TOP_NUMBER 200 Q2_TOP_NUMBER 100 Q1_DECAY_STEP 2 C2 0.6 sharp is [2.418663348542603, 1.6187092489547203, 1.8087291900115692, 3.3354604080433217, 1.0299353810525698]\n",
      "For Q1_TOP_NUMBER 200 Q2_TOP_NUMBER 100 Q1_DECAY_STEP 2 C2 0.6 turnovers is [33.139547759307135, 33.724854169660105, 31.792706713341023, 2.620069964889355, 40.62903226334105]\n"
     ]
    },
    {
     "name": "stderr",
     "output_type": "stream",
     "text": [
      "100%|█████████████████████████████████████████████████████████████████████████████| 1257/1257 [00:05<00:00, 218.63it/s]\n"
     ]
    },
    {
     "name": "stdout",
     "output_type": "stream",
     "text": [
      "For Q1_TOP_NUMBER 200 Q2_TOP_NUMBER 100 Q1_DECAY_STEP 2 C2 0.7 sharp is [2.403570157681027, 1.6187092489547201, 1.8087291900115692, 3.2780533862582013, 1.0602148067524675]\n",
      "For Q1_TOP_NUMBER 200 Q2_TOP_NUMBER 100 Q1_DECAY_STEP 2 C2 0.7 turnovers is [33.12729895799106, 33.724854169660105, 31.792706713341023, 2.257167409237146, 21.731806214680606]\n"
     ]
    },
    {
     "name": "stderr",
     "output_type": "stream",
     "text": [
      "100%|█████████████████████████████████████████████████████████████████████████████| 1257/1257 [00:05<00:00, 241.12it/s]\n"
     ]
    },
    {
     "name": "stdout",
     "output_type": "stream",
     "text": [
      "For Q1_TOP_NUMBER 200 Q2_TOP_NUMBER 100 Q1_DECAY_STEP 2 C2 0.8 sharp is [2.409566678435895, 1.6187092489547201, 1.8087291900115692, 3.232520518037585, 1.0787241194201445]\n",
      "For Q1_TOP_NUMBER 200 Q2_TOP_NUMBER 100 Q1_DECAY_STEP 2 C2 0.8 turnovers is [33.11634207886012, 33.724854169660105, 31.792706713341023, 2.033995128067792, 11.372676082330662]\n"
     ]
    },
    {
     "name": "stderr",
     "output_type": "stream",
     "text": [
      "100%|█████████████████████████████████████████████████████████████████████████████| 1257/1257 [00:05<00:00, 231.24it/s]\n"
     ]
    },
    {
     "name": "stdout",
     "output_type": "stream",
     "text": [
      "For Q1_TOP_NUMBER 200 Q2_TOP_NUMBER 100 Q1_DECAY_STEP 2 C2 0.9 sharp is [2.425591728148446, 1.6187092489547203, 1.8087291900115692, 3.196428991234243, 1.0913353528633798]\n",
      "For Q1_TOP_NUMBER 200 Q2_TOP_NUMBER 100 Q1_DECAY_STEP 2 C2 0.9 turnovers is [33.12210464189175, 33.724854169660105, 31.792706713341023, 1.8912222955541789, 5.320694110820249]\n"
     ]
    },
    {
     "name": "stderr",
     "output_type": "stream",
     "text": [
      "100%|█████████████████████████████████████████████████████████████████████████████| 1257/1257 [00:05<00:00, 233.70it/s]\n"
     ]
    },
    {
     "name": "stdout",
     "output_type": "stream",
     "text": [
      "For Q1_TOP_NUMBER 200 Q2_TOP_NUMBER 100 Q1_DECAY_STEP 3 C2 0.5 sharp is [2.3927673861883316, 1.6187092489547203, 1.8087291900115692, 3.3900947543902498, 1.0092205192770074]\n",
      "For Q1_TOP_NUMBER 200 Q2_TOP_NUMBER 100 Q1_DECAY_STEP 3 C2 0.5 turnovers is [33.12650400657882, 33.724854169660105, 31.792706713341023, 3.128505194102986, 74.66722535157173]\n"
     ]
    },
    {
     "name": "stderr",
     "output_type": "stream",
     "text": [
      "100%|█████████████████████████████████████████████████████████████████████████████| 1257/1257 [00:05<00:00, 231.26it/s]\n"
     ]
    },
    {
     "name": "stdout",
     "output_type": "stream",
     "text": [
      "For Q1_TOP_NUMBER 200 Q2_TOP_NUMBER 100 Q1_DECAY_STEP 3 C2 0.6 sharp is [2.4029345396529465, 1.6187092489547201, 1.8087291900115692, 3.3285217799581286, 1.0605629321165588]\n",
      "For Q1_TOP_NUMBER 200 Q2_TOP_NUMBER 100 Q1_DECAY_STEP 3 C2 0.6 turnovers is [33.124154340733455, 33.724854169660105, 31.792706713341023, 2.583658008633083, 37.897322812797825]\n"
     ]
    },
    {
     "name": "stderr",
     "output_type": "stream",
     "text": [
      "100%|█████████████████████████████████████████████████████████████████████████████| 1257/1257 [00:05<00:00, 241.03it/s]\n"
     ]
    },
    {
     "name": "stdout",
     "output_type": "stream",
     "text": [
      "For Q1_TOP_NUMBER 200 Q2_TOP_NUMBER 100 Q1_DECAY_STEP 3 C2 0.7 sharp is [2.4147059063568994, 1.6187092489547201, 1.8087291900115692, 3.2732667831045554, 1.0770039463265138]\n",
      "For Q1_TOP_NUMBER 200 Q2_TOP_NUMBER 100 Q1_DECAY_STEP 3 C2 0.7 turnovers is [33.12722758495844, 33.724854169660105, 31.792706713341023, 2.2574667063625395, 19.30956411800484]\n"
     ]
    },
    {
     "name": "stderr",
     "output_type": "stream",
     "text": [
      "100%|█████████████████████████████████████████████████████████████████████████████| 1257/1257 [00:05<00:00, 243.78it/s]\n"
     ]
    },
    {
     "name": "stdout",
     "output_type": "stream",
     "text": [
      "For Q1_TOP_NUMBER 200 Q2_TOP_NUMBER 100 Q1_DECAY_STEP 3 C2 0.8 sharp is [2.435652130869099, 1.6187092489547201, 1.8087291900115692, 3.2294171723912077, 1.0868985827384052]\n",
      "For Q1_TOP_NUMBER 200 Q2_TOP_NUMBER 100 Q1_DECAY_STEP 3 C2 0.8 turnovers is [33.12470240558835, 33.724854169660105, 31.792706713341023, 2.0432734900715066, 9.974526258388572]\n"
     ]
    },
    {
     "name": "stderr",
     "output_type": "stream",
     "text": [
      "100%|█████████████████████████████████████████████████████████████████████████████| 1257/1257 [00:05<00:00, 229.90it/s]\n"
     ]
    },
    {
     "name": "stdout",
     "output_type": "stream",
     "text": [
      "For Q1_TOP_NUMBER 200 Q2_TOP_NUMBER 100 Q1_DECAY_STEP 3 C2 0.9 sharp is [2.4126408029642885, 1.6187092489547201, 1.8087291900115692, 3.194984356770616, 1.0945107178105595]\n",
      "For Q1_TOP_NUMBER 200 Q2_TOP_NUMBER 100 Q1_DECAY_STEP 3 C2 0.9 turnovers is [33.130422131180225, 33.724854169660105, 31.792706713341023, 1.8972550747088668, 4.737250281717255]\n"
     ]
    },
    {
     "name": "stderr",
     "output_type": "stream",
     "text": [
      "100%|█████████████████████████████████████████████████████████████████████████████| 1257/1257 [00:05<00:00, 234.06it/s]\n"
     ]
    },
    {
     "name": "stdout",
     "output_type": "stream",
     "text": [
      "For Q1_TOP_NUMBER 200 Q2_TOP_NUMBER 100 Q1_DECAY_STEP 4 C2 0.5 sharp is [2.3897383267094687, 1.6187092489547203, 1.8087291900115692, 3.3954731686168733, 1.0695434601395626]\n",
      "For Q1_TOP_NUMBER 200 Q2_TOP_NUMBER 100 Q1_DECAY_STEP 4 C2 0.5 turnovers is [33.13109056078491, 33.724854169660105, 31.792706713341023, 3.096055253119515, 76.65207637850297]\n"
     ]
    },
    {
     "name": "stderr",
     "output_type": "stream",
     "text": [
      "100%|█████████████████████████████████████████████████████████████████████████████| 1257/1257 [00:05<00:00, 229.78it/s]\n"
     ]
    },
    {
     "name": "stdout",
     "output_type": "stream",
     "text": [
      "For Q1_TOP_NUMBER 200 Q2_TOP_NUMBER 100 Q1_DECAY_STEP 4 C2 0.6 sharp is [2.4218369404113282, 1.6187092489547201, 1.8087291900115692, 3.3298558589444514, 1.0855318744651818]\n",
      "For Q1_TOP_NUMBER 200 Q2_TOP_NUMBER 100 Q1_DECAY_STEP 4 C2 0.6 turnovers is [33.13061987119433, 33.724854169660105, 31.792706713341023, 2.550382797985988, 35.27929764123287]\n"
     ]
    },
    {
     "name": "stderr",
     "output_type": "stream",
     "text": [
      "100%|█████████████████████████████████████████████████████████████████████████████| 1257/1257 [00:05<00:00, 222.67it/s]\n"
     ]
    },
    {
     "name": "stdout",
     "output_type": "stream",
     "text": [
      "For Q1_TOP_NUMBER 200 Q2_TOP_NUMBER 100 Q1_DECAY_STEP 4 C2 0.7 sharp is [2.4132132745181987, 1.6187092489547201, 1.8087291900115692, 3.2738217601269337, 1.087533475445436]\n",
      "For Q1_TOP_NUMBER 200 Q2_TOP_NUMBER 100 Q1_DECAY_STEP 4 C2 0.7 turnovers is [33.13628426198092, 33.724854169660105, 31.792706713341023, 2.255148454068289, 17.341201448752884]\n"
     ]
    },
    {
     "name": "stderr",
     "output_type": "stream",
     "text": [
      "100%|█████████████████████████████████████████████████████████████████████████████| 1257/1257 [00:05<00:00, 231.75it/s]\n"
     ]
    },
    {
     "name": "stdout",
     "output_type": "stream",
     "text": [
      "For Q1_TOP_NUMBER 200 Q2_TOP_NUMBER 100 Q1_DECAY_STEP 4 C2 0.8 sharp is [2.3874227388874116, 1.6187092489547203, 1.8087291900115692, 3.2296393589150063, 1.0918349775031588]\n",
      "For Q1_TOP_NUMBER 200 Q2_TOP_NUMBER 100 Q1_DECAY_STEP 4 C2 0.8 turnovers is [33.11951451392534, 33.724854169660105, 31.792706713341023, 2.055264798914226, 8.931612051004796]\n"
     ]
    },
    {
     "name": "stderr",
     "output_type": "stream",
     "text": [
      "100%|█████████████████████████████████████████████████████████████████████████████| 1257/1257 [00:05<00:00, 221.96it/s]\n"
     ]
    },
    {
     "name": "stdout",
     "output_type": "stream",
     "text": [
      "For Q1_TOP_NUMBER 200 Q2_TOP_NUMBER 100 Q1_DECAY_STEP 4 C2 0.9 sharp is [2.409836667485321, 1.6187092489547203, 1.8087291900115692, 3.1951050066559614, 1.0964270766465807]\n",
      "For Q1_TOP_NUMBER 200 Q2_TOP_NUMBER 100 Q1_DECAY_STEP 4 C2 0.9 turnovers is [33.1293344348192, 33.724854169660105, 31.792706713341023, 1.9062654138973247, 4.3163884394568655]\n"
     ]
    },
    {
     "name": "stderr",
     "output_type": "stream",
     "text": [
      "100%|█████████████████████████████████████████████████████████████████████████████| 1257/1257 [00:05<00:00, 243.66it/s]\n"
     ]
    },
    {
     "name": "stdout",
     "output_type": "stream",
     "text": [
      "For Q1_TOP_NUMBER 200 Q2_TOP_NUMBER 200 Q1_DECAY_STEP 2 C2 0.5 sharp is [2.390238366381998, 1.6187092489547203, 1.8087291900115692, 3.4482416934675335, 0.8083420848275258]\n",
      "For Q1_TOP_NUMBER 200 Q2_TOP_NUMBER 200 Q1_DECAY_STEP 2 C2 0.5 turnovers is [33.12873504389862, 33.724854169660105, 31.792706713341023, 3.3766989070719884, 77.44828742623554]\n"
     ]
    },
    {
     "name": "stderr",
     "output_type": "stream",
     "text": [
      "100%|█████████████████████████████████████████████████████████████████████████████| 1257/1257 [00:05<00:00, 242.80it/s]\n"
     ]
    },
    {
     "name": "stdout",
     "output_type": "stream",
     "text": [
      "For Q1_TOP_NUMBER 200 Q2_TOP_NUMBER 200 Q1_DECAY_STEP 2 C2 0.6 sharp is [2.4156326080758057, 1.6187092489547203, 1.8087291900115692, 3.397154265740325, 0.8562349674416128]\n",
      "For Q1_TOP_NUMBER 200 Q2_TOP_NUMBER 200 Q1_DECAY_STEP 2 C2 0.6 turnovers is [33.13087869349143, 33.724854169660105, 31.792706713341023, 2.705314614632403, 43.11990499434913]\n"
     ]
    },
    {
     "name": "stderr",
     "output_type": "stream",
     "text": [
      "100%|█████████████████████████████████████████████████████████████████████████████| 1257/1257 [00:05<00:00, 215.16it/s]\n"
     ]
    },
    {
     "name": "stdout",
     "output_type": "stream",
     "text": [
      "For Q1_TOP_NUMBER 200 Q2_TOP_NUMBER 200 Q1_DECAY_STEP 2 C2 0.7 sharp is [2.4266738610515306, 1.6187092489547201, 1.8087291900115692, 3.3588885068089587, 0.8818268063974838]\n",
      "For Q1_TOP_NUMBER 200 Q2_TOP_NUMBER 200 Q1_DECAY_STEP 2 C2 0.7 turnovers is [33.13239121783198, 33.724854169660105, 31.792706713341023, 2.3037929099395624, 22.262146216431475]\n"
     ]
    },
    {
     "name": "stderr",
     "output_type": "stream",
     "text": [
      "100%|█████████████████████████████████████████████████████████████████████████████| 1257/1257 [00:05<00:00, 228.45it/s]\n"
     ]
    },
    {
     "name": "stdout",
     "output_type": "stream",
     "text": [
      "For Q1_TOP_NUMBER 200 Q2_TOP_NUMBER 200 Q1_DECAY_STEP 2 C2 0.8 sharp is [2.4319592931914378, 1.6187092489547203, 1.8087291900115692, 3.3291895864441674, 0.8993298299705751]\n",
      "For Q1_TOP_NUMBER 200 Q2_TOP_NUMBER 200 Q1_DECAY_STEP 2 C2 0.8 turnovers is [33.12829098936208, 33.724854169660105, 31.792706713341023, 2.062195076219399, 11.172847220012903]\n"
     ]
    },
    {
     "name": "stderr",
     "output_type": "stream",
     "text": [
      "100%|█████████████████████████████████████████████████████████████████████████████| 1257/1257 [00:05<00:00, 240.80it/s]\n"
     ]
    },
    {
     "name": "stdout",
     "output_type": "stream",
     "text": [
      "For Q1_TOP_NUMBER 200 Q2_TOP_NUMBER 200 Q1_DECAY_STEP 2 C2 0.9 sharp is [2.4043148564635395, 1.6187092489547203, 1.8087291900115692, 3.3058200718613753, 0.9124207839982953]\n",
      "For Q1_TOP_NUMBER 200 Q2_TOP_NUMBER 200 Q1_DECAY_STEP 2 C2 0.9 turnovers is [33.12737907895413, 33.724854169660105, 31.792706713341023, 1.9046127117132357, 4.845774346816328]\n"
     ]
    },
    {
     "name": "stderr",
     "output_type": "stream",
     "text": [
      "100%|█████████████████████████████████████████████████████████████████████████████| 1257/1257 [00:05<00:00, 243.56it/s]\n"
     ]
    },
    {
     "name": "stdout",
     "output_type": "stream",
     "text": [
      "For Q1_TOP_NUMBER 200 Q2_TOP_NUMBER 200 Q1_DECAY_STEP 3 C2 0.5 sharp is [2.432462499269284, 1.6187092489547203, 1.8087291900115692, 3.433624379137208, 0.8113108277565095]\n",
      "For Q1_TOP_NUMBER 200 Q2_TOP_NUMBER 200 Q1_DECAY_STEP 3 C2 0.5 turnovers is [33.12400790488273, 33.724854169660105, 31.792706713341023, 3.3532759792972375, 80.77578119092942]\n"
     ]
    },
    {
     "name": "stderr",
     "output_type": "stream",
     "text": [
      "100%|█████████████████████████████████████████████████████████████████████████████| 1257/1257 [00:05<00:00, 245.36it/s]\n"
     ]
    },
    {
     "name": "stdout",
     "output_type": "stream",
     "text": [
      "For Q1_TOP_NUMBER 200 Q2_TOP_NUMBER 200 Q1_DECAY_STEP 3 C2 0.6 sharp is [2.4061612242907846, 1.6187092489547203, 1.8087291900115692, 3.390162040310249, 0.8738014493104462]\n",
      "For Q1_TOP_NUMBER 200 Q2_TOP_NUMBER 200 Q1_DECAY_STEP 3 C2 0.6 turnovers is [33.12113917473361, 33.724854169660105, 31.792706713341023, 2.668671234603324, 39.9058196974618]\n"
     ]
    },
    {
     "name": "stderr",
     "output_type": "stream",
     "text": [
      "100%|█████████████████████████████████████████████████████████████████████████████| 1257/1257 [00:05<00:00, 245.99it/s]\n"
     ]
    },
    {
     "name": "stdout",
     "output_type": "stream",
     "text": [
      "For Q1_TOP_NUMBER 200 Q2_TOP_NUMBER 200 Q1_DECAY_STEP 3 C2 0.7 sharp is [2.4143396567707835, 1.6187092489547201, 1.8087291900115692, 3.35460467213276, 0.892355661000913]\n",
      "For Q1_TOP_NUMBER 200 Q2_TOP_NUMBER 200 Q1_DECAY_STEP 3 C2 0.7 turnovers is [33.13092560895201, 33.724854169660105, 31.792706713341023, 2.3209455145012243, 19.436258502378656]\n"
     ]
    },
    {
     "name": "stderr",
     "output_type": "stream",
     "text": [
      "100%|█████████████████████████████████████████████████████████████████████████████| 1257/1257 [00:05<00:00, 246.23it/s]\n"
     ]
    },
    {
     "name": "stdout",
     "output_type": "stream",
     "text": [
      "For Q1_TOP_NUMBER 200 Q2_TOP_NUMBER 200 Q1_DECAY_STEP 3 C2 0.8 sharp is [2.4166649738553274, 1.6187092489547201, 1.8087291900115692, 3.326712274388826, 0.9048770918352977]\n",
      "For Q1_TOP_NUMBER 200 Q2_TOP_NUMBER 200 Q1_DECAY_STEP 3 C2 0.8 turnovers is [33.12418323478252, 33.724854169660105, 31.792706713341023, 2.101106981576525, 9.596149346350915]\n"
     ]
    },
    {
     "name": "stderr",
     "output_type": "stream",
     "text": [
      "100%|█████████████████████████████████████████████████████████████████████████████| 1257/1257 [00:05<00:00, 233.12it/s]\n"
     ]
    },
    {
     "name": "stdout",
     "output_type": "stream",
     "text": [
      "For Q1_TOP_NUMBER 200 Q2_TOP_NUMBER 200 Q1_DECAY_STEP 3 C2 0.9 sharp is [2.4048241539438724, 1.6187092489547201, 1.8087291900115692, 3.3047237130691234, 0.9147561638619409]\n",
      "For Q1_TOP_NUMBER 200 Q2_TOP_NUMBER 200 Q1_DECAY_STEP 3 C2 0.9 turnovers is [33.134201274858576, 33.724854169660105, 31.792706713341023, 1.9346843379065446, 4.198357060990895]\n"
     ]
    },
    {
     "name": "stderr",
     "output_type": "stream",
     "text": [
      "100%|█████████████████████████████████████████████████████████████████████████████| 1257/1257 [00:05<00:00, 246.28it/s]\n"
     ]
    },
    {
     "name": "stdout",
     "output_type": "stream",
     "text": [
      "For Q1_TOP_NUMBER 200 Q2_TOP_NUMBER 200 Q1_DECAY_STEP 4 C2 0.5 sharp is [2.4095506675706977, 1.6187092489547203, 1.8087291900115692, 3.4288644422362524, 0.8658991212154007]\n",
      "For Q1_TOP_NUMBER 200 Q2_TOP_NUMBER 200 Q1_DECAY_STEP 4 C2 0.5 turnovers is [33.12942302324747, 33.724854169660105, 31.792706713341023, 3.2676613551056457, 83.21271161255328]\n"
     ]
    },
    {
     "name": "stderr",
     "output_type": "stream",
     "text": [
      "100%|█████████████████████████████████████████████████████████████████████████████| 1257/1257 [00:05<00:00, 246.52it/s]\n"
     ]
    },
    {
     "name": "stdout",
     "output_type": "stream",
     "text": [
      "For Q1_TOP_NUMBER 200 Q2_TOP_NUMBER 200 Q1_DECAY_STEP 4 C2 0.6 sharp is [2.3907861613264814, 1.6187092489547203, 1.8087291900115692, 3.387219222794106, 0.8940208342320477]\n",
      "For Q1_TOP_NUMBER 200 Q2_TOP_NUMBER 200 Q1_DECAY_STEP 4 C2 0.6 turnovers is [33.119608835513546, 33.724854169660105, 31.792706713341023, 2.5643615210862207, 36.697209148861255]\n"
     ]
    },
    {
     "name": "stderr",
     "output_type": "stream",
     "text": [
      "100%|█████████████████████████████████████████████████████████████████████████████| 1257/1257 [00:05<00:00, 244.41it/s]\n"
     ]
    },
    {
     "name": "stdout",
     "output_type": "stream",
     "text": [
      "For Q1_TOP_NUMBER 200 Q2_TOP_NUMBER 200 Q1_DECAY_STEP 4 C2 0.7 sharp is [2.4394102133678417, 1.6187092489547201, 1.8087291900115692, 3.3529428378877317, 0.9004767386141799]\n",
      "For Q1_TOP_NUMBER 200 Q2_TOP_NUMBER 200 Q1_DECAY_STEP 4 C2 0.7 turnovers is [33.132167719581375, 33.724854169660105, 31.792706713341023, 2.22884194630667, 17.197496238883666]\n"
     ]
    },
    {
     "name": "stderr",
     "output_type": "stream",
     "text": [
      "100%|█████████████████████████████████████████████████████████████████████████████| 1257/1257 [00:05<00:00, 249.16it/s]\n"
     ]
    },
    {
     "name": "stdout",
     "output_type": "stream",
     "text": [
      "For Q1_TOP_NUMBER 200 Q2_TOP_NUMBER 200 Q1_DECAY_STEP 4 C2 0.8 sharp is [2.405645344049113, 1.6187092489547203, 1.8087291900115692, 3.3258321850331654, 0.9089643165323268]\n",
      "For Q1_TOP_NUMBER 200 Q2_TOP_NUMBER 200 Q1_DECAY_STEP 4 C2 0.8 turnovers is [33.129636183005516, 33.724854169660105, 31.792706713341023, 2.035246325508588, 8.436143680315022]\n"
     ]
    },
    {
     "name": "stderr",
     "output_type": "stream",
     "text": [
      "100%|█████████████████████████████████████████████████████████████████████████████| 1257/1257 [00:05<00:00, 246.18it/s]\n"
     ]
    },
    {
     "name": "stdout",
     "output_type": "stream",
     "text": [
      "For Q1_TOP_NUMBER 200 Q2_TOP_NUMBER 200 Q1_DECAY_STEP 4 C2 0.9 sharp is [2.4016308752197975, 1.6187092489547201, 1.8087291900115692, 3.3043299440789364, 0.9164512828933284]\n",
      "For Q1_TOP_NUMBER 200 Q2_TOP_NUMBER 200 Q1_DECAY_STEP 4 C2 0.9 turnovers is [33.126670506721524, 33.724854169660105, 31.792706713341023, 1.904456070118556, 3.736955046176056]\n"
     ]
    },
    {
     "name": "stderr",
     "output_type": "stream",
     "text": [
      "100%|█████████████████████████████████████████████████████████████████████████████| 1257/1257 [00:05<00:00, 247.25it/s]\n"
     ]
    },
    {
     "name": "stdout",
     "output_type": "stream",
     "text": [
      "For Q1_TOP_NUMBER 200 Q2_TOP_NUMBER 300 Q1_DECAY_STEP 2 C2 0.5 sharp is [2.4238711304980383, 1.6187092489547203, 1.8087291900115692, 3.493672040950789, 0.8557506228784121]\n",
      "For Q1_TOP_NUMBER 200 Q2_TOP_NUMBER 300 Q1_DECAY_STEP 2 C2 0.5 turnovers is [33.123077532620144, 33.724854169660105, 31.792706713341023, 3.569265348999748, 81.88509812704173]\n"
     ]
    },
    {
     "name": "stderr",
     "output_type": "stream",
     "text": [
      "100%|█████████████████████████████████████████████████████████████████████████████| 1257/1257 [00:05<00:00, 246.52it/s]\n"
     ]
    },
    {
     "name": "stdout",
     "output_type": "stream",
     "text": [
      "For Q1_TOP_NUMBER 200 Q2_TOP_NUMBER 300 Q1_DECAY_STEP 2 C2 0.6 sharp is [2.407027981524951, 1.6187092489547203, 1.8087291900115692, 3.4522381513864224, 0.9138953414199307]\n",
      "For Q1_TOP_NUMBER 200 Q2_TOP_NUMBER 300 Q1_DECAY_STEP 2 C2 0.6 turnovers is [33.12651905845218, 33.724854169660105, 31.792706713341023, 2.7944862450702543, 45.96738687812208]\n"
     ]
    },
    {
     "name": "stderr",
     "output_type": "stream",
     "text": [
      "100%|█████████████████████████████████████████████████████████████████████████████| 1257/1257 [00:05<00:00, 244.70it/s]\n"
     ]
    },
    {
     "name": "stdout",
     "output_type": "stream",
     "text": [
      "For Q1_TOP_NUMBER 200 Q2_TOP_NUMBER 300 Q1_DECAY_STEP 2 C2 0.7 sharp is [2.384881644407258, 1.6187092489547203, 1.8087291900115692, 3.4238666432295597, 0.9331980220276437]\n",
      "For Q1_TOP_NUMBER 200 Q2_TOP_NUMBER 300 Q1_DECAY_STEP 2 C2 0.7 turnovers is [33.12681840048179, 33.724854169660105, 31.792706713341023, 2.3257525833383443, 23.303284177784217]\n"
     ]
    },
    {
     "name": "stderr",
     "output_type": "stream",
     "text": [
      "100%|█████████████████████████████████████████████████████████████████████████████| 1257/1257 [00:05<00:00, 248.42it/s]\n"
     ]
    },
    {
     "name": "stdout",
     "output_type": "stream",
     "text": [
      "For Q1_TOP_NUMBER 200 Q2_TOP_NUMBER 300 Q1_DECAY_STEP 2 C2 0.8 sharp is [2.4116443087061348, 1.6187092489547203, 1.8087291900115692, 3.402475658443016, 0.9462631442689325]\n",
      "For Q1_TOP_NUMBER 200 Q2_TOP_NUMBER 300 Q1_DECAY_STEP 2 C2 0.8 turnovers is [33.1366433407894, 33.724854169660105, 31.792706713341023, 2.0625232888939267, 11.48082023452946]\n"
     ]
    },
    {
     "name": "stderr",
     "output_type": "stream",
     "text": [
      "100%|█████████████████████████████████████████████████████████████████████████████| 1257/1257 [00:05<00:00, 242.94it/s]\n"
     ]
    },
    {
     "name": "stdout",
     "output_type": "stream",
     "text": [
      "For Q1_TOP_NUMBER 200 Q2_TOP_NUMBER 300 Q1_DECAY_STEP 2 C2 0.9 sharp is [2.406028555626695, 1.6187092489547203, 1.8087291900115692, 3.3861589390459046, 0.9565455933477869]\n",
      "For Q1_TOP_NUMBER 200 Q2_TOP_NUMBER 300 Q1_DECAY_STEP 2 C2 0.9 turnovers is [33.120411512424546, 33.724854169660105, 31.792706713341023, 1.8972070609863307, 4.826343375735061]\n"
     ]
    },
    {
     "name": "stderr",
     "output_type": "stream",
     "text": [
      "100%|█████████████████████████████████████████████████████████████████████████████| 1257/1257 [00:05<00:00, 246.03it/s]\n"
     ]
    },
    {
     "name": "stdout",
     "output_type": "stream",
     "text": [
      "For Q1_TOP_NUMBER 200 Q2_TOP_NUMBER 300 Q1_DECAY_STEP 3 C2 0.5 sharp is [2.3965165075265364, 1.6187092489547201, 1.8087291900115692, 3.478809591626654, 0.8520311446531426]\n",
      "For Q1_TOP_NUMBER 200 Q2_TOP_NUMBER 300 Q1_DECAY_STEP 3 C2 0.5 turnovers is [33.12148002277516, 33.724854169660105, 31.792706713341023, 3.515416566184376, 85.4566489912465]\n"
     ]
    },
    {
     "name": "stderr",
     "output_type": "stream",
     "text": [
      "100%|█████████████████████████████████████████████████████████████████████████████| 1257/1257 [00:05<00:00, 244.13it/s]\n"
     ]
    },
    {
     "name": "stdout",
     "output_type": "stream",
     "text": [
      "For Q1_TOP_NUMBER 200 Q2_TOP_NUMBER 300 Q1_DECAY_STEP 3 C2 0.6 sharp is [2.4072658225535837, 1.6187092489547203, 1.8087291900115692, 3.4446995014911033, 0.9317740885118995]\n",
      "For Q1_TOP_NUMBER 200 Q2_TOP_NUMBER 300 Q1_DECAY_STEP 3 C2 0.6 turnovers is [33.11644541619167, 33.724854169660105, 31.792706713341023, 2.7113546270768034, 42.89729672463705]\n"
     ]
    },
    {
     "name": "stderr",
     "output_type": "stream",
     "text": [
      "100%|█████████████████████████████████████████████████████████████████████████████| 1257/1257 [00:05<00:00, 232.99it/s]\n"
     ]
    },
    {
     "name": "stdout",
     "output_type": "stream",
     "text": [
      "For Q1_TOP_NUMBER 200 Q2_TOP_NUMBER 300 Q1_DECAY_STEP 3 C2 0.7 sharp is [2.412399008133012, 1.6187092489547203, 1.8087291900115692, 3.4182235176265365, 0.9442535443945466]\n",
      "For Q1_TOP_NUMBER 200 Q2_TOP_NUMBER 300 Q1_DECAY_STEP 3 C2 0.7 turnovers is [33.128620121850375, 33.724854169660105, 31.792706713341023, 2.2865645797702894, 20.30313690085597]\n"
     ]
    },
    {
     "name": "stderr",
     "output_type": "stream",
     "text": [
      "100%|█████████████████████████████████████████████████████████████████████████████| 1257/1257 [00:05<00:00, 247.39it/s]\n"
     ]
    },
    {
     "name": "stdout",
     "output_type": "stream",
     "text": [
      "For Q1_TOP_NUMBER 200 Q2_TOP_NUMBER 300 Q1_DECAY_STEP 3 C2 0.8 sharp is [2.4134875953919237, 1.6187092489547203, 1.8087291900115692, 3.398499739535611, 0.9518934589672091]\n",
      "For Q1_TOP_NUMBER 200 Q2_TOP_NUMBER 300 Q1_DECAY_STEP 3 C2 0.8 turnovers is [33.12575436194861, 33.724854169660105, 31.792706713341023, 2.047130150053367, 9.77865269387068]\n"
     ]
    },
    {
     "name": "stderr",
     "output_type": "stream",
     "text": [
      "100%|█████████████████████████████████████████████████████████████████████████████| 1257/1257 [00:05<00:00, 243.89it/s]\n"
     ]
    },
    {
     "name": "stdout",
     "output_type": "stream",
     "text": [
      "For Q1_TOP_NUMBER 200 Q2_TOP_NUMBER 300 Q1_DECAY_STEP 3 C2 0.9 sharp is [2.4055091710544674, 1.6187092489547203, 1.8087291900115692, 3.384117577219949, 0.9588336866083405]\n",
      "For Q1_TOP_NUMBER 200 Q2_TOP_NUMBER 300 Q1_DECAY_STEP 3 C2 0.9 turnovers is [33.12920506492707, 33.724854169660105, 31.792706713341023, 1.8924074779308555, 4.122851818905789]\n"
     ]
    },
    {
     "name": "stderr",
     "output_type": "stream",
     "text": [
      "100%|█████████████████████████████████████████████████████████████████████████████| 1257/1257 [00:05<00:00, 244.79it/s]\n"
     ]
    },
    {
     "name": "stdout",
     "output_type": "stream",
     "text": [
      "For Q1_TOP_NUMBER 200 Q2_TOP_NUMBER 300 Q1_DECAY_STEP 4 C2 0.5 sharp is [2.4160028713583017, 1.6187092489547203, 1.8087291900115692, 3.4718041395099184, 0.9078409269685701]\n",
      "For Q1_TOP_NUMBER 200 Q2_TOP_NUMBER 300 Q1_DECAY_STEP 4 C2 0.5 turnovers is [33.12313805027322, 33.724854169660105, 31.792706713341023, 3.471196943976983, 88.50384348741923]\n"
     ]
    },
    {
     "name": "stderr",
     "output_type": "stream",
     "text": [
      "100%|█████████████████████████████████████████████████████████████████████████████| 1257/1257 [00:05<00:00, 246.81it/s]\n"
     ]
    },
    {
     "name": "stdout",
     "output_type": "stream",
     "text": [
      "For Q1_TOP_NUMBER 200 Q2_TOP_NUMBER 300 Q1_DECAY_STEP 4 C2 0.6 sharp is [2.3581611355825656, 1.6187092489547201, 1.8087291900115692, 3.438585314057816, 0.9552080620190961]\n",
      "For Q1_TOP_NUMBER 200 Q2_TOP_NUMBER 300 Q1_DECAY_STEP 4 C2 0.6 turnovers is [33.11766366247781, 33.724854169660105, 31.792706713341023, 2.6625766331839036, 39.257020998533584]\n"
     ]
    },
    {
     "name": "stderr",
     "output_type": "stream",
     "text": [
      "100%|█████████████████████████████████████████████████████████████████████████████| 1257/1257 [00:05<00:00, 247.05it/s]\n"
     ]
    },
    {
     "name": "stdout",
     "output_type": "stream",
     "text": [
      "For Q1_TOP_NUMBER 200 Q2_TOP_NUMBER 300 Q1_DECAY_STEP 4 C2 0.7 sharp is [2.451052438361645, 1.6187092489547203, 1.8087291900115692, 3.4138777859949885, 0.9520280208179749]\n",
      "For Q1_TOP_NUMBER 200 Q2_TOP_NUMBER 300 Q1_DECAY_STEP 4 C2 0.7 turnovers is [33.128642985832236, 33.724854169660105, 31.792706713341023, 2.258030199383622, 17.781590961002788]\n"
     ]
    },
    {
     "name": "stderr",
     "output_type": "stream",
     "text": [
      "100%|█████████████████████████████████████████████████████████████████████████████| 1257/1257 [00:05<00:00, 247.34it/s]\n"
     ]
    },
    {
     "name": "stdout",
     "output_type": "stream",
     "text": [
      "For Q1_TOP_NUMBER 200 Q2_TOP_NUMBER 300 Q1_DECAY_STEP 4 C2 0.8 sharp is [2.4223671635039645, 1.6187092489547201, 1.8087291900115692, 3.395753049139026, 0.9556020455457639]\n",
      "For Q1_TOP_NUMBER 200 Q2_TOP_NUMBER 300 Q1_DECAY_STEP 4 C2 0.8 turnovers is [33.12060501999149, 33.724854169660105, 31.792706713341023, 2.0320495862421386, 8.499155682558612]\n"
     ]
    },
    {
     "name": "stderr",
     "output_type": "stream",
     "text": [
      "100%|█████████████████████████████████████████████████████████████████████████████| 1257/1257 [00:05<00:00, 248.22it/s]\n"
     ]
    },
    {
     "name": "stdout",
     "output_type": "stream",
     "text": [
      "For Q1_TOP_NUMBER 200 Q2_TOP_NUMBER 300 Q1_DECAY_STEP 4 C2 0.9 sharp is [2.40306159140865, 1.6187092489547201, 1.8087291900115692, 3.3828057218088006, 0.9603693064281428]\n",
      "For Q1_TOP_NUMBER 200 Q2_TOP_NUMBER 300 Q1_DECAY_STEP 4 C2 0.9 turnovers is [33.130131937395824, 33.724854169660105, 31.792706713341023, 1.886058979712786, 3.621604433972972]\n"
     ]
    },
    {
     "name": "stderr",
     "output_type": "stream",
     "text": [
      "100%|█████████████████████████████████████████████████████████████████████████████| 1257/1257 [00:05<00:00, 246.18it/s]\n"
     ]
    },
    {
     "name": "stdout",
     "output_type": "stream",
     "text": [
      "For Q1_TOP_NUMBER 200 Q2_TOP_NUMBER 500 Q1_DECAY_STEP 2 C2 0.5 sharp is [2.4460273306991116, 1.6187092489547203, 1.8087291900115692, 3.5431591794559307, 0.9040974284717518]\n",
      "For Q1_TOP_NUMBER 200 Q2_TOP_NUMBER 500 Q1_DECAY_STEP 2 C2 0.5 turnovers is [33.12691108232681, 33.724854169660105, 31.792706713341023, 3.737102415685407, 87.5658066382355]\n"
     ]
    },
    {
     "name": "stderr",
     "output_type": "stream",
     "text": [
      "100%|█████████████████████████████████████████████████████████████████████████████| 1257/1257 [00:05<00:00, 246.42it/s]\n"
     ]
    },
    {
     "name": "stdout",
     "output_type": "stream",
     "text": [
      "For Q1_TOP_NUMBER 200 Q2_TOP_NUMBER 500 Q1_DECAY_STEP 2 C2 0.6 sharp is [2.4210826367981464, 1.6187092489547203, 1.8087291900115692, 3.5141277112907847, 0.9960062319709821]\n",
      "For Q1_TOP_NUMBER 200 Q2_TOP_NUMBER 500 Q1_DECAY_STEP 2 C2 0.6 turnovers is [33.126297611098366, 33.724854169660105, 31.792706713341023, 2.9506860608821524, 51.39736946370575]\n"
     ]
    },
    {
     "name": "stderr",
     "output_type": "stream",
     "text": [
      "100%|█████████████████████████████████████████████████████████████████████████████| 1257/1257 [00:05<00:00, 245.84it/s]\n"
     ]
    },
    {
     "name": "stdout",
     "output_type": "stream",
     "text": [
      "For Q1_TOP_NUMBER 200 Q2_TOP_NUMBER 500 Q1_DECAY_STEP 2 C2 0.7 sharp is [2.415058390482253, 1.6187092489547203, 1.8087291900115692, 3.4940895535730814, 0.964458456801902]\n",
      "For Q1_TOP_NUMBER 200 Q2_TOP_NUMBER 500 Q1_DECAY_STEP 2 C2 0.7 turnovers is [33.13834293581565, 33.724854169660105, 31.792706713341023, 2.408284515983694, 25.31623473506292]\n"
     ]
    },
    {
     "name": "stderr",
     "output_type": "stream",
     "text": [
      "100%|█████████████████████████████████████████████████████████████████████████████| 1257/1257 [00:05<00:00, 248.42it/s]\n"
     ]
    },
    {
     "name": "stdout",
     "output_type": "stream",
     "text": [
      "For Q1_TOP_NUMBER 200 Q2_TOP_NUMBER 500 Q1_DECAY_STEP 2 C2 0.8 sharp is [2.4100681742502434, 1.6187092489547201, 1.8087291900115692, 3.4815069179588525, 0.9296878312097528]\n",
      "For Q1_TOP_NUMBER 200 Q2_TOP_NUMBER 500 Q1_DECAY_STEP 2 C2 0.8 turnovers is [33.11878714464922, 33.724854169660105, 31.792706713341023, 2.093136623621138, 12.060372364464827]\n"
     ]
    },
    {
     "name": "stderr",
     "output_type": "stream",
     "text": [
      "100%|█████████████████████████████████████████████████████████████████████████████| 1257/1257 [00:05<00:00, 235.61it/s]\n"
     ]
    },
    {
     "name": "stdout",
     "output_type": "stream",
     "text": [
      "For Q1_TOP_NUMBER 200 Q2_TOP_NUMBER 500 Q1_DECAY_STEP 2 C2 0.9 sharp is [2.430432948130757, 1.6187092489547201, 1.8087291900115692, 3.4726178834002326, 0.9199823903102877]\n",
      "For Q1_TOP_NUMBER 200 Q2_TOP_NUMBER 500 Q1_DECAY_STEP 2 C2 0.9 turnovers is [33.13525233130776, 33.724854169660105, 31.792706713341023, 1.908864969338596, 4.9733476301957955]\n"
     ]
    },
    {
     "name": "stderr",
     "output_type": "stream",
     "text": [
      "100%|█████████████████████████████████████████████████████████████████████████████| 1257/1257 [00:05<00:00, 223.87it/s]\n"
     ]
    },
    {
     "name": "stdout",
     "output_type": "stream",
     "text": [
      "For Q1_TOP_NUMBER 200 Q2_TOP_NUMBER 500 Q1_DECAY_STEP 3 C2 0.5 sharp is [2.422236141451136, 1.6187092489547201, 1.8087291900115692, 3.5285454337138806, 0.9830422398241262]\n",
      "For Q1_TOP_NUMBER 200 Q2_TOP_NUMBER 500 Q1_DECAY_STEP 3 C2 0.5 turnovers is [33.12122403986173, 33.724854169660105, 31.792706713341023, 3.618147535885042, 92.7877625621443]\n"
     ]
    },
    {
     "name": "stderr",
     "output_type": "stream",
     "text": [
      "100%|█████████████████████████████████████████████████████████████████████████████| 1257/1257 [00:05<00:00, 235.39it/s]\n"
     ]
    },
    {
     "name": "stdout",
     "output_type": "stream",
     "text": [
      "For Q1_TOP_NUMBER 200 Q2_TOP_NUMBER 500 Q1_DECAY_STEP 3 C2 0.6 sharp is [2.4015407079723556, 1.6187092489547203, 1.8087291900115692, 3.506471619971849, 1.0206075458043016]\n",
      "For Q1_TOP_NUMBER 200 Q2_TOP_NUMBER 500 Q1_DECAY_STEP 3 C2 0.6 turnovers is [33.129524362888226, 33.724854169660105, 31.792706713341023, 2.7950662704958917, 49.544570711193764]\n"
     ]
    },
    {
     "name": "stderr",
     "output_type": "stream",
     "text": [
      "100%|█████████████████████████████████████████████████████████████████████████████| 1257/1257 [00:05<00:00, 239.87it/s]\n"
     ]
    },
    {
     "name": "stdout",
     "output_type": "stream",
     "text": [
      "For Q1_TOP_NUMBER 200 Q2_TOP_NUMBER 500 Q1_DECAY_STEP 3 C2 0.7 sharp is [2.426543362038785, 1.6187092489547203, 1.8087291900115692, 3.487942999321068, 0.9271734425469809]\n",
      "For Q1_TOP_NUMBER 200 Q2_TOP_NUMBER 500 Q1_DECAY_STEP 3 C2 0.7 turnovers is [33.13304197513199, 33.724854169660105, 31.792706713341023, 2.311441623239585, 22.674500438018725]\n"
     ]
    },
    {
     "name": "stderr",
     "output_type": "stream",
     "text": [
      "100%|█████████████████████████████████████████████████████████████████████████████| 1257/1257 [00:05<00:00, 241.73it/s]\n"
     ]
    },
    {
     "name": "stdout",
     "output_type": "stream",
     "text": [
      "For Q1_TOP_NUMBER 200 Q2_TOP_NUMBER 500 Q1_DECAY_STEP 3 C2 0.8 sharp is [2.3880866043846525, 1.6187092489547203, 1.8087291900115692, 3.4769199295396453, 0.8954970302831703]\n",
      "For Q1_TOP_NUMBER 200 Q2_TOP_NUMBER 500 Q1_DECAY_STEP 3 C2 0.8 turnovers is [33.115949486218796, 33.724854169660105, 31.792706713341023, 2.0538770544575367, 10.567038052191974]\n"
     ]
    },
    {
     "name": "stderr",
     "output_type": "stream",
     "text": [
      "100%|█████████████████████████████████████████████████████████████████████████████| 1257/1257 [00:05<00:00, 242.01it/s]\n"
     ]
    },
    {
     "name": "stdout",
     "output_type": "stream",
     "text": [
      "For Q1_TOP_NUMBER 200 Q2_TOP_NUMBER 500 Q1_DECAY_STEP 3 C2 0.9 sharp is [2.4223350312176386, 1.6187092489547201, 1.8087291900115692, 3.470220883421942, 0.9032242875715376]\n",
      "For Q1_TOP_NUMBER 200 Q2_TOP_NUMBER 500 Q1_DECAY_STEP 3 C2 0.9 turnovers is [33.13211357906204, 33.724854169660105, 31.792706713341023, 1.8952136136242324, 4.357299821124375]\n"
     ]
    },
    {
     "name": "stderr",
     "output_type": "stream",
     "text": [
      "100%|█████████████████████████████████████████████████████████████████████████████| 1257/1257 [00:05<00:00, 239.38it/s]\n"
     ]
    },
    {
     "name": "stdout",
     "output_type": "stream",
     "text": [
      "For Q1_TOP_NUMBER 200 Q2_TOP_NUMBER 500 Q1_DECAY_STEP 4 C2 0.5 sharp is [2.39836503743601, 1.6187092489547201, 1.8087291900115692, 3.519664152725642, 1.0503240714918747]\n",
      "For Q1_TOP_NUMBER 200 Q2_TOP_NUMBER 500 Q1_DECAY_STEP 4 C2 0.5 turnovers is [33.124206001271624, 33.724854169660105, 31.792706713341023, 3.6010529044210924, 97.09569171984164]\n"
     ]
    },
    {
     "name": "stderr",
     "output_type": "stream",
     "text": [
      "100%|█████████████████████████████████████████████████████████████████████████████| 1257/1257 [00:05<00:00, 240.90it/s]\n"
     ]
    },
    {
     "name": "stdout",
     "output_type": "stream",
     "text": [
      "For Q1_TOP_NUMBER 200 Q2_TOP_NUMBER 500 Q1_DECAY_STEP 4 C2 0.6 sharp is [2.3940434872307352, 1.6187092489547203, 1.8087291900115692, 3.495808546751295, 0.9859752399983652]\n",
      "For Q1_TOP_NUMBER 200 Q2_TOP_NUMBER 500 Q1_DECAY_STEP 4 C2 0.6 turnovers is [33.12877760755407, 33.724854169660105, 31.792706713341023, 2.7660594919798833, 45.628413811287835]\n"
     ]
    },
    {
     "name": "stderr",
     "output_type": "stream",
     "text": [
      "100%|█████████████████████████████████████████████████████████████████████████████| 1257/1257 [00:05<00:00, 250.90it/s]\n"
     ]
    },
    {
     "name": "stdout",
     "output_type": "stream",
     "text": [
      "For Q1_TOP_NUMBER 200 Q2_TOP_NUMBER 500 Q1_DECAY_STEP 4 C2 0.7 sharp is [2.399881639329131, 1.6187092489547201, 1.8087291900115692, 3.4802311663433927, 0.85864977077438]\n",
      "For Q1_TOP_NUMBER 200 Q2_TOP_NUMBER 500 Q1_DECAY_STEP 4 C2 0.7 turnovers is [33.12089902708558, 33.724854169660105, 31.792706713341023, 2.3016205846681976, 19.957801303836092]\n"
     ]
    },
    {
     "name": "stderr",
     "output_type": "stream",
     "text": [
      "100%|█████████████████████████████████████████████████████████████████████████████| 1257/1257 [00:05<00:00, 245.12it/s]\n"
     ]
    },
    {
     "name": "stdout",
     "output_type": "stream",
     "text": [
      "For Q1_TOP_NUMBER 200 Q2_TOP_NUMBER 500 Q1_DECAY_STEP 4 C2 0.8 sharp is [2.404302188277628, 1.6187092489547203, 1.8087291900115692, 3.472024645493443, 0.8540532108668611]\n",
      "For Q1_TOP_NUMBER 200 Q2_TOP_NUMBER 500 Q1_DECAY_STEP 4 C2 0.8 turnovers is [33.12739132912881, 33.724854169660105, 31.792706713341023, 2.050654522699705, 9.296611394389831]\n"
     ]
    },
    {
     "name": "stderr",
     "output_type": "stream",
     "text": [
      "100%|█████████████████████████████████████████████████████████████████████████████| 1257/1257 [00:05<00:00, 247.49it/s]\n"
     ]
    },
    {
     "name": "stdout",
     "output_type": "stream",
     "text": [
      "For Q1_TOP_NUMBER 200 Q2_TOP_NUMBER 500 Q1_DECAY_STEP 4 C2 0.9 sharp is [2.3975162144802113, 1.6187092489547203, 1.8087291900115692, 3.4678962509993134, 0.8858953082093911]\n",
      "For Q1_TOP_NUMBER 200 Q2_TOP_NUMBER 500 Q1_DECAY_STEP 4 C2 0.9 turnovers is [33.133651871808105, 33.724854169660105, 31.792706713341023, 1.8954487899831611, 3.881928384855022]\n"
     ]
    },
    {
     "name": "stderr",
     "output_type": "stream",
     "text": [
      "100%|█████████████████████████████████████████████████████████████████████████████| 1257/1257 [00:05<00:00, 220.06it/s]\n"
     ]
    },
    {
     "name": "stdout",
     "output_type": "stream",
     "text": [
      "For Q1_TOP_NUMBER 300 Q2_TOP_NUMBER 10 Q1_DECAY_STEP 2 C2 0.5 sharp is [2.4062626409191266, 1.6187092489547201, 1.8087291900115692, 3.5574755513927987, 1.2677063399721367]\n",
      "For Q1_TOP_NUMBER 300 Q2_TOP_NUMBER 10 Q1_DECAY_STEP 2 C2 0.5 turnovers is [33.132701881213585, 33.724854169660105, 31.792706713341023, 2.9869517719936374, 66.69208956626736]\n"
     ]
    },
    {
     "name": "stderr",
     "output_type": "stream",
     "text": [
      "100%|█████████████████████████████████████████████████████████████████████████████| 1257/1257 [00:05<00:00, 223.31it/s]\n"
     ]
    },
    {
     "name": "stdout",
     "output_type": "stream",
     "text": [
      "For Q1_TOP_NUMBER 300 Q2_TOP_NUMBER 10 Q1_DECAY_STEP 2 C2 0.6 sharp is [2.3974245013987265, 1.6187092489547203, 1.8087291900115692, 3.5402426022484206, 1.3630981650415626]\n",
      "For Q1_TOP_NUMBER 300 Q2_TOP_NUMBER 10 Q1_DECAY_STEP 2 C2 0.6 turnovers is [33.12489139210675, 33.724854169660105, 31.792706713341023, 2.5055745192177827, 38.905538374010966]\n"
     ]
    },
    {
     "name": "stderr",
     "output_type": "stream",
     "text": [
      "100%|█████████████████████████████████████████████████████████████████████████████| 1257/1257 [00:07<00:00, 178.02it/s]\n"
     ]
    },
    {
     "name": "stdout",
     "output_type": "stream",
     "text": [
      "For Q1_TOP_NUMBER 300 Q2_TOP_NUMBER 10 Q1_DECAY_STEP 2 C2 0.7 sharp is [2.407429064136662, 1.6187092489547203, 1.8087291900115692, 3.525400434645876, 1.3621937479047965]\n",
      "For Q1_TOP_NUMBER 300 Q2_TOP_NUMBER 10 Q1_DECAY_STEP 2 C2 0.7 turnovers is [33.129396793753756, 33.724854169660105, 31.792706713341023, 2.210536834130382, 21.875912229666653]\n"
     ]
    },
    {
     "name": "stderr",
     "output_type": "stream",
     "text": [
      "100%|█████████████████████████████████████████████████████████████████████████████| 1257/1257 [00:05<00:00, 235.12it/s]\n"
     ]
    },
    {
     "name": "stdout",
     "output_type": "stream",
     "text": [
      "For Q1_TOP_NUMBER 300 Q2_TOP_NUMBER 10 Q1_DECAY_STEP 2 C2 0.8 sharp is [2.414785375636878, 1.6187092489547203, 1.8087291900115692, 3.5143248488283607, 1.3128993167600722]\n",
      "For Q1_TOP_NUMBER 300 Q2_TOP_NUMBER 10 Q1_DECAY_STEP 2 C2 0.8 turnovers is [33.12005768531021, 33.724854169660105, 31.792706713341023, 2.016500384706777, 12.242376475514723]\n"
     ]
    },
    {
     "name": "stderr",
     "output_type": "stream",
     "text": [
      "100%|█████████████████████████████████████████████████████████████████████████████| 1257/1257 [00:05<00:00, 241.59it/s]\n"
     ]
    },
    {
     "name": "stdout",
     "output_type": "stream",
     "text": [
      "For Q1_TOP_NUMBER 300 Q2_TOP_NUMBER 10 Q1_DECAY_STEP 2 C2 0.9 sharp is [2.453661842277733, 1.6187092489547201, 1.8087291900115692, 3.507313087603043, 1.264007914380489]\n",
      "For Q1_TOP_NUMBER 300 Q2_TOP_NUMBER 10 Q1_DECAY_STEP 2 C2 0.9 turnovers is [33.13382513382405, 33.724854169660105, 31.792706713341023, 1.8783682997782802, 6.4430983703612865]\n"
     ]
    },
    {
     "name": "stderr",
     "output_type": "stream",
     "text": [
      "100%|█████████████████████████████████████████████████████████████████████████████| 1257/1257 [00:05<00:00, 247.83it/s]\n"
     ]
    },
    {
     "name": "stdout",
     "output_type": "stream",
     "text": [
      "For Q1_TOP_NUMBER 300 Q2_TOP_NUMBER 10 Q1_DECAY_STEP 3 C2 0.5 sharp is [2.407741312530272, 1.6187092489547201, 1.8087291900115692, 3.543425655947308, 1.2225686629583814]\n",
      "For Q1_TOP_NUMBER 300 Q2_TOP_NUMBER 10 Q1_DECAY_STEP 3 C2 0.5 turnovers is [33.13375635977993, 33.724854169660105, 31.792706713341023, 2.873803065662763, 69.5279404186998]\n"
     ]
    },
    {
     "name": "stderr",
     "output_type": "stream",
     "text": [
      "100%|█████████████████████████████████████████████████████████████████████████████| 1257/1257 [00:05<00:00, 249.11it/s]\n"
     ]
    },
    {
     "name": "stdout",
     "output_type": "stream",
     "text": [
      "For Q1_TOP_NUMBER 300 Q2_TOP_NUMBER 10 Q1_DECAY_STEP 3 C2 0.6 sharp is [2.408153999951169, 1.6187092489547201, 1.8087291900115692, 3.529981578684243, 1.34596205275691]\n",
      "For Q1_TOP_NUMBER 300 Q2_TOP_NUMBER 10 Q1_DECAY_STEP 3 C2 0.6 turnovers is [33.12088923348539, 33.724854169660105, 31.792706713341023, 2.451250117871069, 36.94238411435468]\n"
     ]
    },
    {
     "name": "stderr",
     "output_type": "stream",
     "text": [
      "100%|█████████████████████████████████████████████████████████████████████████████| 1257/1257 [00:05<00:00, 251.30it/s]\n"
     ]
    },
    {
     "name": "stdout",
     "output_type": "stream",
     "text": [
      "For Q1_TOP_NUMBER 300 Q2_TOP_NUMBER 10 Q1_DECAY_STEP 3 C2 0.7 sharp is [2.406748555871553, 1.6187092489547201, 1.8087291900115692, 3.516398582732574, 1.337649917744702]\n",
      "For Q1_TOP_NUMBER 300 Q2_TOP_NUMBER 10 Q1_DECAY_STEP 3 C2 0.7 turnovers is [33.1251651472937, 33.724854169660105, 31.792706713341023, 2.181863529661618, 20.011031608364906]\n"
     ]
    },
    {
     "name": "stderr",
     "output_type": "stream",
     "text": [
      "100%|█████████████████████████████████████████████████████████████████████████████| 1257/1257 [00:05<00:00, 246.54it/s]\n"
     ]
    },
    {
     "name": "stdout",
     "output_type": "stream",
     "text": [
      "For Q1_TOP_NUMBER 300 Q2_TOP_NUMBER 10 Q1_DECAY_STEP 3 C2 0.8 sharp is [2.4315488077829683, 1.6187092489547203, 1.8087291900115692, 3.5082564073084814, 1.2918840722369622]\n",
      "For Q1_TOP_NUMBER 300 Q2_TOP_NUMBER 10 Q1_DECAY_STEP 3 C2 0.8 turnovers is [33.132106917057925, 33.724854169660105, 31.792706713341023, 2.0017811349932573, 11.122203585599296]\n"
     ]
    },
    {
     "name": "stderr",
     "output_type": "stream",
     "text": [
      "100%|█████████████████████████████████████████████████████████████████████████████| 1257/1257 [00:05<00:00, 241.50it/s]\n"
     ]
    },
    {
     "name": "stdout",
     "output_type": "stream",
     "text": [
      "For Q1_TOP_NUMBER 300 Q2_TOP_NUMBER 10 Q1_DECAY_STEP 3 C2 0.9 sharp is [2.428206052058393, 1.6187092489547201, 1.8087291900115692, 3.5044892083135366, 1.2539240965619194]\n",
      "For Q1_TOP_NUMBER 300 Q2_TOP_NUMBER 10 Q1_DECAY_STEP 3 C2 0.9 turnovers is [33.13479187639921, 33.724854169660105, 31.792706713341023, 1.8734909578111416, 5.964293654047772]\n"
     ]
    },
    {
     "name": "stderr",
     "output_type": "stream",
     "text": [
      "100%|█████████████████████████████████████████████████████████████████████████████| 1257/1257 [00:05<00:00, 249.01it/s]\n"
     ]
    },
    {
     "name": "stdout",
     "output_type": "stream",
     "text": [
      "For Q1_TOP_NUMBER 300 Q2_TOP_NUMBER 10 Q1_DECAY_STEP 4 C2 0.5 sharp is [2.393574517414511, 1.6187092489547201, 1.8087291900115692, 3.5442782520572074, 1.2063230252772443]\n",
      "For Q1_TOP_NUMBER 300 Q2_TOP_NUMBER 10 Q1_DECAY_STEP 4 C2 0.5 turnovers is [33.12567860532712, 33.724854169660105, 31.792706713341023, 2.8289017462872126, 71.6365555002692]\n"
     ]
    },
    {
     "name": "stderr",
     "output_type": "stream",
     "text": [
      "100%|█████████████████████████████████████████████████████████████████████████████| 1257/1257 [00:05<00:00, 246.52it/s]\n"
     ]
    },
    {
     "name": "stdout",
     "output_type": "stream",
     "text": [
      "For Q1_TOP_NUMBER 300 Q2_TOP_NUMBER 10 Q1_DECAY_STEP 4 C2 0.6 sharp is [2.3960376280754585, 1.6187092489547201, 1.8087291900115692, 3.525191808282514, 1.3262828611496302]\n",
      "For Q1_TOP_NUMBER 300 Q2_TOP_NUMBER 10 Q1_DECAY_STEP 4 C2 0.6 turnovers is [33.12023379764824, 33.724854169660105, 31.792706713341023, 2.3961353207799485, 35.050371604121096]\n"
     ]
    },
    {
     "name": "stderr",
     "output_type": "stream",
     "text": [
      "100%|█████████████████████████████████████████████████████████████████████████████| 1257/1257 [00:04<00:00, 253.73it/s]\n"
     ]
    },
    {
     "name": "stdout",
     "output_type": "stream",
     "text": [
      "For Q1_TOP_NUMBER 300 Q2_TOP_NUMBER 10 Q1_DECAY_STEP 4 C2 0.7 sharp is [2.407005491369031, 1.6187092489547201, 1.8087291900115692, 3.5118192945611835, 1.312169557176835]\n",
      "For Q1_TOP_NUMBER 300 Q2_TOP_NUMBER 10 Q1_DECAY_STEP 4 C2 0.7 turnovers is [33.12149385959963, 33.724854169660105, 31.792706713341023, 2.15408377795261, 18.44087911712055]\n"
     ]
    },
    {
     "name": "stderr",
     "output_type": "stream",
     "text": [
      "100%|█████████████████████████████████████████████████████████████████████████████| 1257/1257 [00:04<00:00, 255.54it/s]\n"
     ]
    },
    {
     "name": "stdout",
     "output_type": "stream",
     "text": [
      "For Q1_TOP_NUMBER 300 Q2_TOP_NUMBER 10 Q1_DECAY_STEP 4 C2 0.8 sharp is [2.4120017052591933, 1.6187092489547201, 1.8087291900115692, 3.5048089448486555, 1.2764876221378525]\n",
      "For Q1_TOP_NUMBER 300 Q2_TOP_NUMBER 10 Q1_DECAY_STEP 4 C2 0.8 turnovers is [33.126894470704435, 33.724854169660105, 31.792706713341023, 1.990870377338783, 10.268546487532104]\n"
     ]
    },
    {
     "name": "stderr",
     "output_type": "stream",
     "text": [
      "100%|█████████████████████████████████████████████████████████████████████████████| 1257/1257 [00:04<00:00, 258.96it/s]\n"
     ]
    },
    {
     "name": "stdout",
     "output_type": "stream",
     "text": [
      "For Q1_TOP_NUMBER 300 Q2_TOP_NUMBER 10 Q1_DECAY_STEP 4 C2 0.9 sharp is [2.4242459228481046, 1.6187092489547203, 1.8087291900115692, 3.502612634690657, 1.2478401620787698]\n",
      "For Q1_TOP_NUMBER 300 Q2_TOP_NUMBER 10 Q1_DECAY_STEP 4 C2 0.9 turnovers is [33.12686579997895, 33.724854169660105, 31.792706713341023, 1.8696185425032377, 5.613803141298777]\n"
     ]
    },
    {
     "name": "stderr",
     "output_type": "stream",
     "text": [
      "100%|█████████████████████████████████████████████████████████████████████████████| 1257/1257 [00:04<00:00, 253.17it/s]\n"
     ]
    },
    {
     "name": "stdout",
     "output_type": "stream",
     "text": [
      "For Q1_TOP_NUMBER 300 Q2_TOP_NUMBER 50 Q1_DECAY_STEP 2 C2 0.5 sharp is [2.4352148973888705, 1.6187092489547203, 1.8087291900115692, 3.3387662925290646, 1.1059996235619616]\n",
      "For Q1_TOP_NUMBER 300 Q2_TOP_NUMBER 50 Q1_DECAY_STEP 2 C2 0.5 turnovers is [33.13474999756671, 33.724854169660105, 31.792706713341023, 3.086498562766599, 68.0312035210183]\n"
     ]
    },
    {
     "name": "stderr",
     "output_type": "stream",
     "text": [
      "100%|█████████████████████████████████████████████████████████████████████████████| 1257/1257 [00:05<00:00, 221.97it/s]\n"
     ]
    },
    {
     "name": "stdout",
     "output_type": "stream",
     "text": [
      "For Q1_TOP_NUMBER 300 Q2_TOP_NUMBER 50 Q1_DECAY_STEP 2 C2 0.6 sharp is [2.383527722840409, 1.6187092489547201, 1.8087291900115692, 3.253503243601109, 1.0823980089284424]\n",
      "For Q1_TOP_NUMBER 300 Q2_TOP_NUMBER 50 Q1_DECAY_STEP 2 C2 0.6 turnovers is [33.119227092285804, 33.724854169660105, 31.792706713341023, 2.567408105803502, 38.450460343408395]\n"
     ]
    },
    {
     "name": "stderr",
     "output_type": "stream",
     "text": [
      "100%|█████████████████████████████████████████████████████████████████████████████| 1257/1257 [00:05<00:00, 241.50it/s]\n"
     ]
    },
    {
     "name": "stdout",
     "output_type": "stream",
     "text": [
      "For Q1_TOP_NUMBER 300 Q2_TOP_NUMBER 50 Q1_DECAY_STEP 2 C2 0.7 sharp is [2.427097035537634, 1.6187092489547203, 1.8087291900115692, 3.179829337539875, 0.9603803979485728]\n",
      "For Q1_TOP_NUMBER 300 Q2_TOP_NUMBER 50 Q1_DECAY_STEP 2 C2 0.7 turnovers is [33.137084847425605, 33.724854169660105, 31.792706713341023, 2.250609273444001, 20.86316819739829]\n"
     ]
    },
    {
     "name": "stderr",
     "output_type": "stream",
     "text": [
      "100%|█████████████████████████████████████████████████████████████████████████████| 1257/1257 [00:04<00:00, 255.38it/s]\n"
     ]
    },
    {
     "name": "stdout",
     "output_type": "stream",
     "text": [
      "For Q1_TOP_NUMBER 300 Q2_TOP_NUMBER 50 Q1_DECAY_STEP 2 C2 0.8 sharp is [2.438057733064888, 1.6187092489547201, 1.8087291900115692, 3.1196094627033077, 0.8382612919189781]\n",
      "For Q1_TOP_NUMBER 300 Q2_TOP_NUMBER 50 Q1_DECAY_STEP 2 C2 0.8 turnovers is [33.13155139989532, 33.724854169660105, 31.792706713341023, 2.059597408611746, 11.173022580651825]\n"
     ]
    },
    {
     "name": "stderr",
     "output_type": "stream",
     "text": [
      "100%|█████████████████████████████████████████████████████████████████████████████| 1257/1257 [00:04<00:00, 254.25it/s]\n"
     ]
    },
    {
     "name": "stdout",
     "output_type": "stream",
     "text": [
      "For Q1_TOP_NUMBER 300 Q2_TOP_NUMBER 50 Q1_DECAY_STEP 2 C2 0.9 sharp is [2.406996974969688, 1.6187092489547203, 1.8087291900115692, 3.070841102612819, 0.7504822974413201]\n",
      "For Q1_TOP_NUMBER 300 Q2_TOP_NUMBER 50 Q1_DECAY_STEP 2 C2 0.9 turnovers is [33.12115411523815, 33.724854169660105, 31.792706713341023, 1.927515112057718, 5.463646894048611]\n"
     ]
    },
    {
     "name": "stderr",
     "output_type": "stream",
     "text": [
      "100%|█████████████████████████████████████████████████████████████████████████████| 1257/1257 [00:05<00:00, 250.40it/s]\n"
     ]
    },
    {
     "name": "stdout",
     "output_type": "stream",
     "text": [
      "For Q1_TOP_NUMBER 300 Q2_TOP_NUMBER 50 Q1_DECAY_STEP 3 C2 0.5 sharp is [2.4287364519325405, 1.6187092489547203, 1.8087291900115692, 3.3241026270834175, 1.1263922195941953]\n",
      "For Q1_TOP_NUMBER 300 Q2_TOP_NUMBER 50 Q1_DECAY_STEP 3 C2 0.5 turnovers is [33.13335608627998, 33.724854169660105, 31.792706713341023, 2.9922558694468644, 70.83901356316328]\n"
     ]
    },
    {
     "name": "stderr",
     "output_type": "stream",
     "text": [
      "100%|█████████████████████████████████████████████████████████████████████████████| 1257/1257 [00:04<00:00, 252.87it/s]\n"
     ]
    },
    {
     "name": "stdout",
     "output_type": "stream",
     "text": [
      "For Q1_TOP_NUMBER 300 Q2_TOP_NUMBER 50 Q1_DECAY_STEP 3 C2 0.6 sharp is [2.3922296572096893, 1.6187092489547203, 1.8087291900115692, 3.243833713612289, 1.107382864729943]\n",
      "For Q1_TOP_NUMBER 300 Q2_TOP_NUMBER 50 Q1_DECAY_STEP 3 C2 0.6 turnovers is [33.12513711153167, 33.724854169660105, 31.792706713341023, 2.5243385906858262, 36.164618087694805]\n"
     ]
    },
    {
     "name": "stderr",
     "output_type": "stream",
     "text": [
      "100%|█████████████████████████████████████████████████████████████████████████████| 1257/1257 [00:04<00:00, 254.04it/s]\n"
     ]
    },
    {
     "name": "stdout",
     "output_type": "stream",
     "text": [
      "For Q1_TOP_NUMBER 300 Q2_TOP_NUMBER 50 Q1_DECAY_STEP 3 C2 0.7 sharp is [2.4146248811278395, 1.6187092489547203, 1.8087291900115692, 3.1715933132086045, 0.9514990278698582]\n",
      "For Q1_TOP_NUMBER 300 Q2_TOP_NUMBER 50 Q1_DECAY_STEP 3 C2 0.7 turnovers is [33.11729738416969, 33.724854169660105, 31.792706713341023, 2.232662733359617, 18.74783431332582]\n"
     ]
    },
    {
     "name": "stderr",
     "output_type": "stream",
     "text": [
      "100%|█████████████████████████████████████████████████████████████████████████████| 1257/1257 [00:04<00:00, 255.49it/s]\n"
     ]
    },
    {
     "name": "stdout",
     "output_type": "stream",
     "text": [
      "For Q1_TOP_NUMBER 300 Q2_TOP_NUMBER 50 Q1_DECAY_STEP 3 C2 0.8 sharp is [2.407091547731213, 1.6187092489547203, 1.8087291900115692, 3.1144791588230456, 0.8250867646503889]\n",
      "For Q1_TOP_NUMBER 300 Q2_TOP_NUMBER 50 Q1_DECAY_STEP 3 C2 0.8 turnovers is [33.12166608869114, 33.724854169660105, 31.792706713341023, 2.0465345751941046, 9.930851990034965]\n"
     ]
    },
    {
     "name": "stderr",
     "output_type": "stream",
     "text": [
      "100%|█████████████████████████████████████████████████████████████████████████████| 1257/1257 [00:04<00:00, 251.55it/s]\n"
     ]
    },
    {
     "name": "stdout",
     "output_type": "stream",
     "text": [
      "For Q1_TOP_NUMBER 300 Q2_TOP_NUMBER 50 Q1_DECAY_STEP 3 C2 0.9 sharp is [2.415644421851928, 1.6187092489547203, 1.8087291900115692, 3.068629890657185, 0.7438188312774098]\n",
      "For Q1_TOP_NUMBER 300 Q2_TOP_NUMBER 50 Q1_DECAY_STEP 3 C2 0.9 turnovers is [33.131609382362775, 33.724854169660105, 31.792706713341023, 1.9228691114112324, 4.940033622205981]\n"
     ]
    },
    {
     "name": "stderr",
     "output_type": "stream",
     "text": [
      "100%|█████████████████████████████████████████████████████████████████████████████| 1257/1257 [00:04<00:00, 253.77it/s]\n"
     ]
    },
    {
     "name": "stdout",
     "output_type": "stream",
     "text": [
      "For Q1_TOP_NUMBER 300 Q2_TOP_NUMBER 50 Q1_DECAY_STEP 4 C2 0.5 sharp is [2.424914201971937, 1.6187092489547201, 1.8087291900115692, 3.33242796474102, 1.1480780208065757]\n",
      "For Q1_TOP_NUMBER 300 Q2_TOP_NUMBER 50 Q1_DECAY_STEP 4 C2 0.5 turnovers is [33.13495102185744, 33.724854169660105, 31.792706713341023, 2.9595793105985218, 73.09088014467316]\n"
     ]
    },
    {
     "name": "stderr",
     "output_type": "stream",
     "text": [
      "100%|█████████████████████████████████████████████████████████████████████████████| 1257/1257 [00:04<00:00, 254.40it/s]\n"
     ]
    },
    {
     "name": "stdout",
     "output_type": "stream",
     "text": [
      "For Q1_TOP_NUMBER 300 Q2_TOP_NUMBER 50 Q1_DECAY_STEP 4 C2 0.6 sharp is [2.4315681084898255, 1.6187092489547203, 1.8087291900115692, 3.2460583425637672, 1.1044271312972282]\n",
      "For Q1_TOP_NUMBER 300 Q2_TOP_NUMBER 50 Q1_DECAY_STEP 4 C2 0.6 turnovers is [33.13631771415245, 33.724854169660105, 31.792706713341023, 2.480257986266856, 33.90739592037465]\n"
     ]
    },
    {
     "name": "stderr",
     "output_type": "stream",
     "text": [
      "100%|█████████████████████████████████████████████████████████████████████████████| 1257/1257 [00:04<00:00, 256.37it/s]\n"
     ]
    },
    {
     "name": "stdout",
     "output_type": "stream",
     "text": [
      "For Q1_TOP_NUMBER 300 Q2_TOP_NUMBER 50 Q1_DECAY_STEP 4 C2 0.7 sharp is [2.4044904550319113, 1.6187092489547201, 1.8087291900115692, 3.1728867493291024, 0.9316152207412149]\n",
      "For Q1_TOP_NUMBER 300 Q2_TOP_NUMBER 50 Q1_DECAY_STEP 4 C2 0.7 turnovers is [33.125577530899804, 33.724854169660105, 31.792706713341023, 2.215052825636361, 16.988079773643666]\n"
     ]
    },
    {
     "name": "stderr",
     "output_type": "stream",
     "text": [
      "100%|█████████████████████████████████████████████████████████████████████████████| 1257/1257 [00:04<00:00, 254.86it/s]\n"
     ]
    },
    {
     "name": "stdout",
     "output_type": "stream",
     "text": [
      "For Q1_TOP_NUMBER 300 Q2_TOP_NUMBER 50 Q1_DECAY_STEP 4 C2 0.8 sharp is [2.4091254423550734, 1.6187092489547201, 1.8087291900115692, 3.114757497274587, 0.8128743313835007]\n",
      "For Q1_TOP_NUMBER 300 Q2_TOP_NUMBER 50 Q1_DECAY_STEP 4 C2 0.8 turnovers is [33.11708620491796, 33.724854169660105, 31.792706713341023, 2.04189115428889, 8.987120828634152]\n"
     ]
    },
    {
     "name": "stderr",
     "output_type": "stream",
     "text": [
      "100%|█████████████████████████████████████████████████████████████████████████████| 1257/1257 [00:05<00:00, 228.67it/s]\n"
     ]
    },
    {
     "name": "stdout",
     "output_type": "stream",
     "text": [
      "For Q1_TOP_NUMBER 300 Q2_TOP_NUMBER 50 Q1_DECAY_STEP 4 C2 0.9 sharp is [2.397584145846409, 1.6187092489547201, 1.8087291900115692, 3.0686899105409218, 0.7389579489679553]\n",
      "For Q1_TOP_NUMBER 300 Q2_TOP_NUMBER 50 Q1_DECAY_STEP 4 C2 0.9 turnovers is [33.12713014184853, 33.724854169660105, 31.792706713341023, 1.919330256459173, 4.557146093748578]\n"
     ]
    },
    {
     "name": "stderr",
     "output_type": "stream",
     "text": [
      "100%|█████████████████████████████████████████████████████████████████████████████| 1257/1257 [00:04<00:00, 252.61it/s]\n"
     ]
    },
    {
     "name": "stdout",
     "output_type": "stream",
     "text": [
      "For Q1_TOP_NUMBER 300 Q2_TOP_NUMBER 100 Q1_DECAY_STEP 2 C2 0.5 sharp is [2.402012482380819, 1.6187092489547203, 1.8087291900115692, 3.3865555640349814, 1.3458538705614345]\n",
      "For Q1_TOP_NUMBER 300 Q2_TOP_NUMBER 100 Q1_DECAY_STEP 2 C2 0.5 turnovers is [33.12136204847914, 33.724854169660105, 31.792706713341023, 3.147325717161439, 71.12627208011644]\n"
     ]
    },
    {
     "name": "stderr",
     "output_type": "stream",
     "text": [
      "100%|█████████████████████████████████████████████████████████████████████████████| 1257/1257 [00:05<00:00, 251.00it/s]\n"
     ]
    },
    {
     "name": "stdout",
     "output_type": "stream",
     "text": [
      "For Q1_TOP_NUMBER 300 Q2_TOP_NUMBER 100 Q1_DECAY_STEP 2 C2 0.6 sharp is [2.4208433751082152, 1.6187092489547203, 1.8087291900115692, 3.32120055504659, 1.4343963300703442]\n",
      "For Q1_TOP_NUMBER 300 Q2_TOP_NUMBER 100 Q1_DECAY_STEP 2 C2 0.6 turnovers is [33.125547970119264, 33.724854169660105, 31.792706713341023, 2.563683125814545, 39.37371459304007]\n"
     ]
    },
    {
     "name": "stderr",
     "output_type": "stream",
     "text": [
      "100%|█████████████████████████████████████████████████████████████████████████████| 1257/1257 [00:04<00:00, 255.90it/s]\n"
     ]
    },
    {
     "name": "stdout",
     "output_type": "stream",
     "text": [
      "For Q1_TOP_NUMBER 300 Q2_TOP_NUMBER 100 Q1_DECAY_STEP 2 C2 0.7 sharp is [2.4093900427289876, 1.6187092489547203, 1.8087291900115692, 3.2685426945475076, 1.3693975845578725]\n",
      "For Q1_TOP_NUMBER 300 Q2_TOP_NUMBER 100 Q1_DECAY_STEP 2 C2 0.7 turnovers is [33.125158350568256, 33.724854169660105, 31.792706713341023, 2.2234584876224153, 20.91435611769578]\n"
     ]
    },
    {
     "name": "stderr",
     "output_type": "stream",
     "text": [
      "100%|█████████████████████████████████████████████████████████████████████████████| 1257/1257 [00:04<00:00, 254.50it/s]\n"
     ]
    },
    {
     "name": "stdout",
     "output_type": "stream",
     "text": [
      "For Q1_TOP_NUMBER 300 Q2_TOP_NUMBER 100 Q1_DECAY_STEP 2 C2 0.8 sharp is [2.400727405156381, 1.6187092489547201, 1.8087291900115692, 3.2270094493082366, 1.256917306947248]\n",
      "For Q1_TOP_NUMBER 300 Q2_TOP_NUMBER 100 Q1_DECAY_STEP 2 C2 0.8 turnovers is [33.129630247640236, 33.724854169660105, 31.792706713341023, 2.0159359574980975, 10.945283269339873]\n"
     ]
    },
    {
     "name": "stderr",
     "output_type": "stream",
     "text": [
      "100%|█████████████████████████████████████████████████████████████████████████████| 1257/1257 [00:04<00:00, 253.78it/s]\n"
     ]
    },
    {
     "name": "stdout",
     "output_type": "stream",
     "text": [
      "For Q1_TOP_NUMBER 300 Q2_TOP_NUMBER 100 Q1_DECAY_STEP 2 C2 0.9 sharp is [2.4309954071268582, 1.6187092489547203, 1.8087291900115692, 3.194030311759574, 1.1659367969832994]\n",
      "For Q1_TOP_NUMBER 300 Q2_TOP_NUMBER 100 Q1_DECAY_STEP 2 C2 0.9 turnovers is [33.13140408252561, 33.724854169660105, 31.792706713341023, 1.884027360945479, 5.151206944467129]\n"
     ]
    },
    {
     "name": "stderr",
     "output_type": "stream",
     "text": [
      "100%|█████████████████████████████████████████████████████████████████████████████| 1257/1257 [00:04<00:00, 254.35it/s]\n"
     ]
    },
    {
     "name": "stdout",
     "output_type": "stream",
     "text": [
      "For Q1_TOP_NUMBER 300 Q2_TOP_NUMBER 100 Q1_DECAY_STEP 3 C2 0.5 sharp is [2.420626350578468, 1.6187092489547201, 1.8087291900115692, 3.370925867273341, 1.3446888212874712]\n",
      "For Q1_TOP_NUMBER 300 Q2_TOP_NUMBER 100 Q1_DECAY_STEP 3 C2 0.5 turnovers is [33.130285395879746, 33.724854169660105, 31.792706713341023, 3.0694701637756547, 74.00740690344742]\n"
     ]
    },
    {
     "name": "stderr",
     "output_type": "stream",
     "text": [
      "100%|█████████████████████████████████████████████████████████████████████████████| 1257/1257 [00:04<00:00, 254.97it/s]\n"
     ]
    },
    {
     "name": "stdout",
     "output_type": "stream",
     "text": [
      "For Q1_TOP_NUMBER 300 Q2_TOP_NUMBER 100 Q1_DECAY_STEP 3 C2 0.6 sharp is [2.39515274132501, 1.6187092489547203, 1.8087291900115692, 3.3136123883126087, 1.471160502413479]\n",
      "For Q1_TOP_NUMBER 300 Q2_TOP_NUMBER 100 Q1_DECAY_STEP 3 C2 0.6 turnovers is [33.11946457331503, 33.724854169660105, 31.792706713341023, 2.536966525407972, 36.80488141428522]\n"
     ]
    },
    {
     "name": "stderr",
     "output_type": "stream",
     "text": [
      "100%|█████████████████████████████████████████████████████████████████████████████| 1257/1257 [00:04<00:00, 254.25it/s]\n"
     ]
    },
    {
     "name": "stdout",
     "output_type": "stream",
     "text": [
      "For Q1_TOP_NUMBER 300 Q2_TOP_NUMBER 100 Q1_DECAY_STEP 3 C2 0.7 sharp is [2.3950105737094463, 1.6187092489547203, 1.8087291900115692, 3.2634463781531164, 1.3653322146483091]\n",
      "For Q1_TOP_NUMBER 300 Q2_TOP_NUMBER 100 Q1_DECAY_STEP 3 C2 0.7 turnovers is [33.12619102065054, 33.724854169660105, 31.792706713341023, 2.229405516115272, 18.610601106823545]\n"
     ]
    },
    {
     "name": "stderr",
     "output_type": "stream",
     "text": [
      "100%|█████████████████████████████████████████████████████████████████████████████| 1257/1257 [00:04<00:00, 254.76it/s]\n"
     ]
    },
    {
     "name": "stdout",
     "output_type": "stream",
     "text": [
      "For Q1_TOP_NUMBER 300 Q2_TOP_NUMBER 100 Q1_DECAY_STEP 3 C2 0.8 sharp is [2.4124231476762668, 1.6187092489547203, 1.8087291900115692, 3.223970771892961, 1.241625898529188]\n",
      "For Q1_TOP_NUMBER 300 Q2_TOP_NUMBER 100 Q1_DECAY_STEP 3 C2 0.8 turnovers is [33.13090389519699, 33.724854169660105, 31.792706713341023, 2.028727263925949, 9.618016326412082]\n"
     ]
    },
    {
     "name": "stderr",
     "output_type": "stream",
     "text": [
      "100%|█████████████████████████████████████████████████████████████████████████████| 1257/1257 [00:04<00:00, 255.59it/s]\n"
     ]
    },
    {
     "name": "stdout",
     "output_type": "stream",
     "text": [
      "For Q1_TOP_NUMBER 300 Q2_TOP_NUMBER 100 Q1_DECAY_STEP 3 C2 0.9 sharp is [2.4344344920806713, 1.6187092489547201, 1.8087291900115692, 3.1926662641275723, 1.1572054873502118]\n",
      "For Q1_TOP_NUMBER 300 Q2_TOP_NUMBER 100 Q1_DECAY_STEP 3 C2 0.9 turnovers is [33.12634558253314, 33.724854169660105, 31.792706713341023, 1.8911685251238894, 4.596566758542286]\n"
     ]
    },
    {
     "name": "stderr",
     "output_type": "stream",
     "text": [
      "100%|█████████████████████████████████████████████████████████████████████████████| 1257/1257 [00:04<00:00, 254.50it/s]\n"
     ]
    },
    {
     "name": "stdout",
     "output_type": "stream",
     "text": [
      "For Q1_TOP_NUMBER 300 Q2_TOP_NUMBER 100 Q1_DECAY_STEP 4 C2 0.5 sharp is [2.3802849483642166, 1.6187092489547203, 1.8087291900115692, 3.3759558408878023, 1.3770744707550737]\n",
      "For Q1_TOP_NUMBER 300 Q2_TOP_NUMBER 100 Q1_DECAY_STEP 4 C2 0.5 turnovers is [33.12848799722206, 33.724854169660105, 31.792706713341023, 3.0418669653193517, 76.42958743777555]\n"
     ]
    },
    {
     "name": "stderr",
     "output_type": "stream",
     "text": [
      "100%|█████████████████████████████████████████████████████████████████████████████| 1257/1257 [00:04<00:00, 254.66it/s]\n"
     ]
    },
    {
     "name": "stdout",
     "output_type": "stream",
     "text": [
      "For Q1_TOP_NUMBER 300 Q2_TOP_NUMBER 100 Q1_DECAY_STEP 4 C2 0.6 sharp is [2.3847235463706156, 1.6187092489547201, 1.8087291900115692, 3.3152932100854486, 1.4808240346898904]\n",
      "For Q1_TOP_NUMBER 300 Q2_TOP_NUMBER 100 Q1_DECAY_STEP 4 C2 0.6 turnovers is [33.11785871031234, 33.724854169660105, 31.792706713341023, 2.5041646269495628, 34.274963872881735]\n"
     ]
    },
    {
     "name": "stderr",
     "output_type": "stream",
     "text": [
      "100%|█████████████████████████████████████████████████████████████████████████████| 1257/1257 [00:05<00:00, 242.34it/s]\n"
     ]
    },
    {
     "name": "stdout",
     "output_type": "stream",
     "text": [
      "For Q1_TOP_NUMBER 300 Q2_TOP_NUMBER 100 Q1_DECAY_STEP 4 C2 0.7 sharp is [2.399799917256558, 1.6187092489547203, 1.8087291900115692, 3.2644531219209068, 1.340738640849056]\n",
      "For Q1_TOP_NUMBER 300 Q2_TOP_NUMBER 100 Q1_DECAY_STEP 4 C2 0.7 turnovers is [33.1262151641475, 33.724854169660105, 31.792706713341023, 2.2273428799728263, 16.728526378883764]\n"
     ]
    },
    {
     "name": "stderr",
     "output_type": "stream",
     "text": [
      "100%|█████████████████████████████████████████████████████████████████████████████| 1257/1257 [00:05<00:00, 248.03it/s]\n"
     ]
    },
    {
     "name": "stdout",
     "output_type": "stream",
     "text": [
      "For Q1_TOP_NUMBER 300 Q2_TOP_NUMBER 100 Q1_DECAY_STEP 4 C2 0.8 sharp is [2.4148549437511906, 1.6187092489547203, 1.8087291900115692, 3.2243243265960104, 1.2239976201487897]\n",
      "For Q1_TOP_NUMBER 300 Q2_TOP_NUMBER 100 Q1_DECAY_STEP 4 C2 0.8 turnovers is [33.12208989938968, 33.724854169660105, 31.792706713341023, 2.042014404719836, 8.622803599859848]\n"
     ]
    },
    {
     "name": "stderr",
     "output_type": "stream",
     "text": [
      "100%|█████████████████████████████████████████████████████████████████████████████| 1257/1257 [00:05<00:00, 250.45it/s]\n"
     ]
    },
    {
     "name": "stdout",
     "output_type": "stream",
     "text": [
      "For Q1_TOP_NUMBER 300 Q2_TOP_NUMBER 100 Q1_DECAY_STEP 4 C2 0.9 sharp is [2.424359435897884, 1.6187092489547203, 1.8087291900115692, 3.1928045816825583, 1.1498062646188831]\n",
      "For Q1_TOP_NUMBER 300 Q2_TOP_NUMBER 100 Q1_DECAY_STEP 4 C2 0.9 turnovers is [33.133603906016255, 33.724854169660105, 31.792706713341023, 1.9014987869246944, 4.195464162714978]\n"
     ]
    },
    {
     "name": "stderr",
     "output_type": "stream",
     "text": [
      "100%|█████████████████████████████████████████████████████████████████████████████| 1257/1257 [00:04<00:00, 253.22it/s]\n"
     ]
    },
    {
     "name": "stdout",
     "output_type": "stream",
     "text": [
      "For Q1_TOP_NUMBER 300 Q2_TOP_NUMBER 200 Q1_DECAY_STEP 2 C2 0.5 sharp is [2.4192342833406606, 1.6187092489547201, 1.8087291900115692, 3.4256251260488906, 1.2318670618912966]\n",
      "For Q1_TOP_NUMBER 300 Q2_TOP_NUMBER 200 Q1_DECAY_STEP 2 C2 0.5 turnovers is [33.12899724745739, 33.724854169660105, 31.792706713341023, 3.316155208286888, 78.270296327907]\n"
     ]
    },
    {
     "name": "stderr",
     "output_type": "stream",
     "text": [
      "100%|█████████████████████████████████████████████████████████████████████████████| 1257/1257 [00:04<00:00, 257.00it/s]\n"
     ]
    },
    {
     "name": "stdout",
     "output_type": "stream",
     "text": [
      "For Q1_TOP_NUMBER 300 Q2_TOP_NUMBER 200 Q1_DECAY_STEP 2 C2 0.6 sharp is [2.400632621776109, 1.6187092489547203, 1.8087291900115692, 3.382171451893501, 1.2896867259803446]\n",
      "For Q1_TOP_NUMBER 300 Q2_TOP_NUMBER 200 Q1_DECAY_STEP 2 C2 0.6 turnovers is [33.12920016654859, 33.724854169660105, 31.792706713341023, 2.648840332058762, 41.915106592733245]\n"
     ]
    },
    {
     "name": "stderr",
     "output_type": "stream",
     "text": [
      "100%|█████████████████████████████████████████████████████████████████████████████| 1257/1257 [00:04<00:00, 251.50it/s]\n"
     ]
    },
    {
     "name": "stdout",
     "output_type": "stream",
     "text": [
      "For Q1_TOP_NUMBER 300 Q2_TOP_NUMBER 200 Q1_DECAY_STEP 2 C2 0.7 sharp is [2.3912658044931776, 1.6187092489547201, 1.8087291900115692, 3.34941280157579, 1.2096197700485114]\n",
      "For Q1_TOP_NUMBER 300 Q2_TOP_NUMBER 200 Q1_DECAY_STEP 2 C2 0.7 turnovers is [33.117858389851556, 33.724854169660105, 31.792706713341023, 2.2718303648501235, 21.40285648143845]\n"
     ]
    },
    {
     "name": "stderr",
     "output_type": "stream",
     "text": [
      "100%|█████████████████████████████████████████████████████████████████████████████| 1257/1257 [00:04<00:00, 255.54it/s]\n"
     ]
    },
    {
     "name": "stdout",
     "output_type": "stream",
     "text": [
      "For Q1_TOP_NUMBER 300 Q2_TOP_NUMBER 200 Q1_DECAY_STEP 2 C2 0.8 sharp is [2.406589041823468, 1.6187092489547201, 1.8087291900115692, 3.3238450354869262, 1.0878318207523527]\n",
      "For Q1_TOP_NUMBER 300 Q2_TOP_NUMBER 200 Q1_DECAY_STEP 2 C2 0.8 turnovers is [33.13677581483391, 33.724854169660105, 31.792706713341023, 2.0469942143267406, 10.727817183129648]\n"
     ]
    },
    {
     "name": "stderr",
     "output_type": "stream",
     "text": [
      "100%|█████████████████████████████████████████████████████████████████████████████| 1257/1257 [00:04<00:00, 254.09it/s]\n"
     ]
    },
    {
     "name": "stdout",
     "output_type": "stream",
     "text": [
      "For Q1_TOP_NUMBER 300 Q2_TOP_NUMBER 200 Q1_DECAY_STEP 2 C2 0.9 sharp is [2.4214634226682135, 1.6187092489547201, 1.8087291900115692, 3.303517729978085, 0.9912173384475228]\n",
      "For Q1_TOP_NUMBER 300 Q2_TOP_NUMBER 200 Q1_DECAY_STEP 2 C2 0.9 turnovers is [33.12955595028775, 33.724854169660105, 31.792706713341023, 1.8992941036185522, 4.670833720564632]\n"
     ]
    },
    {
     "name": "stderr",
     "output_type": "stream",
     "text": [
      "100%|█████████████████████████████████████████████████████████████████████████████| 1257/1257 [00:04<00:00, 254.35it/s]\n"
     ]
    },
    {
     "name": "stdout",
     "output_type": "stream",
     "text": [
      "For Q1_TOP_NUMBER 300 Q2_TOP_NUMBER 200 Q1_DECAY_STEP 3 C2 0.5 sharp is [2.4339968680916972, 1.6187092489547203, 1.8087291900115692, 3.4122048714547972, 1.229676266140089]\n",
      "For Q1_TOP_NUMBER 300 Q2_TOP_NUMBER 200 Q1_DECAY_STEP 3 C2 0.5 turnovers is [33.13626778138437, 33.724854169660105, 31.792706713341023, 3.2974629272824143, 81.43885987490022]\n"
     ]
    },
    {
     "name": "stderr",
     "output_type": "stream",
     "text": [
      "100%|█████████████████████████████████████████████████████████████████████████████| 1257/1257 [00:04<00:00, 253.77it/s]\n"
     ]
    },
    {
     "name": "stdout",
     "output_type": "stream",
     "text": [
      "For Q1_TOP_NUMBER 300 Q2_TOP_NUMBER 200 Q1_DECAY_STEP 3 C2 0.6 sharp is [2.38302008795273, 1.6187092489547203, 1.8087291900115692, 3.3747087095711445, 1.3170434815029455]\n",
      "For Q1_TOP_NUMBER 300 Q2_TOP_NUMBER 200 Q1_DECAY_STEP 3 C2 0.6 turnovers is [33.127053408256096, 33.724854169660105, 31.792706713341023, 2.61222018095066, 38.74082983746445]\n"
     ]
    },
    {
     "name": "stderr",
     "output_type": "stream",
     "text": [
      "100%|█████████████████████████████████████████████████████████████████████████████| 1257/1257 [00:04<00:00, 255.28it/s]\n"
     ]
    },
    {
     "name": "stdout",
     "output_type": "stream",
     "text": [
      "For Q1_TOP_NUMBER 300 Q2_TOP_NUMBER 200 Q1_DECAY_STEP 3 C2 0.7 sharp is [2.418162769854907, 1.6187092489547201, 1.8087291900115692, 3.344509225017989, 1.1979378398758096]\n",
      "For Q1_TOP_NUMBER 300 Q2_TOP_NUMBER 200 Q1_DECAY_STEP 3 C2 0.7 turnovers is [33.11918778502925, 33.724854169660105, 31.792706713341023, 2.292381870294677, 18.69112233601678]\n"
     ]
    },
    {
     "name": "stderr",
     "output_type": "stream",
     "text": [
      "100%|█████████████████████████████████████████████████████████████████████████████| 1257/1257 [00:04<00:00, 253.89it/s]\n"
     ]
    },
    {
     "name": "stdout",
     "output_type": "stream",
     "text": [
      "For Q1_TOP_NUMBER 300 Q2_TOP_NUMBER 200 Q1_DECAY_STEP 3 C2 0.8 sharp is [2.4145241125886776, 1.6187092489547201, 1.8087291900115692, 3.3209200877221985, 1.0680640697327828]\n",
      "For Q1_TOP_NUMBER 300 Q2_TOP_NUMBER 200 Q1_DECAY_STEP 3 C2 0.8 turnovers is [33.134061485330854, 33.724854169660105, 31.792706713341023, 2.087339763586709, 9.221101401563809]\n"
     ]
    },
    {
     "name": "stderr",
     "output_type": "stream",
     "text": [
      "100%|█████████████████████████████████████████████████████████████████████████████| 1257/1257 [00:04<00:00, 255.44it/s]\n"
     ]
    },
    {
     "name": "stdout",
     "output_type": "stream",
     "text": [
      "For Q1_TOP_NUMBER 300 Q2_TOP_NUMBER 200 Q1_DECAY_STEP 3 C2 0.9 sharp is [2.4134331677752123, 1.6187092489547203, 1.8087291900115692, 3.3022008648823755, 0.98073552643926]\n",
      "For Q1_TOP_NUMBER 300 Q2_TOP_NUMBER 200 Q1_DECAY_STEP 3 C2 0.9 turnovers is [33.12034549173822, 33.724854169660105, 31.792706713341023, 1.929832727888266, 4.052335373600592]\n"
     ]
    },
    {
     "name": "stderr",
     "output_type": "stream",
     "text": [
      "100%|█████████████████████████████████████████████████████████████████████████████| 1257/1257 [00:05<00:00, 244.98it/s]\n"
     ]
    },
    {
     "name": "stdout",
     "output_type": "stream",
     "text": [
      "For Q1_TOP_NUMBER 300 Q2_TOP_NUMBER 200 Q1_DECAY_STEP 4 C2 0.5 sharp is [2.385386681970032, 1.6187092489547203, 1.8087291900115692, 3.4088465786294035, 1.2554776351143957]\n",
      "For Q1_TOP_NUMBER 300 Q2_TOP_NUMBER 200 Q1_DECAY_STEP 4 C2 0.5 turnovers is [33.13435854599258, 33.724854169660105, 31.792706713341023, 3.2360188792497637, 84.3115454833067]\n"
     ]
    },
    {
     "name": "stderr",
     "output_type": "stream",
     "text": [
      "100%|█████████████████████████████████████████████████████████████████████████████| 1257/1257 [00:05<00:00, 238.97it/s]\n"
     ]
    },
    {
     "name": "stdout",
     "output_type": "stream",
     "text": [
      "For Q1_TOP_NUMBER 300 Q2_TOP_NUMBER 200 Q1_DECAY_STEP 4 C2 0.6 sharp is [2.400401417057509, 1.6187092489547203, 1.8087291900115692, 3.3720357851026956, 1.3170438790656467]\n",
      "For Q1_TOP_NUMBER 300 Q2_TOP_NUMBER 200 Q1_DECAY_STEP 4 C2 0.6 turnovers is [33.132800957472526, 33.724854169660105, 31.792706713341023, 2.5190809138241366, 35.6047021728413]\n"
     ]
    },
    {
     "name": "stderr",
     "output_type": "stream",
     "text": [
      "100%|█████████████████████████████████████████████████████████████████████████████| 1257/1257 [00:04<00:00, 253.48it/s]\n"
     ]
    },
    {
     "name": "stdout",
     "output_type": "stream",
     "text": [
      "For Q1_TOP_NUMBER 300 Q2_TOP_NUMBER 200 Q1_DECAY_STEP 4 C2 0.7 sharp is [2.3967520961484285, 1.6187092489547203, 1.8087291900115692, 3.3427488751901553, 1.1672234459211135]\n",
      "For Q1_TOP_NUMBER 300 Q2_TOP_NUMBER 200 Q1_DECAY_STEP 4 C2 0.7 turnovers is [33.125782341060024, 33.724854169660105, 31.792706713341023, 2.2033322261078743, 16.53896992225106]\n"
     ]
    },
    {
     "name": "stderr",
     "output_type": "stream",
     "text": [
      "100%|█████████████████████████████████████████████████████████████████████████████| 1257/1257 [00:04<00:00, 253.89it/s]\n"
     ]
    },
    {
     "name": "stdout",
     "output_type": "stream",
     "text": [
      "For Q1_TOP_NUMBER 300 Q2_TOP_NUMBER 200 Q1_DECAY_STEP 4 C2 0.8 sharp is [2.4134310476760072, 1.6187092489547201, 1.8087291900115692, 3.319866367019806, 1.0476445384242914]\n",
      "For Q1_TOP_NUMBER 300 Q2_TOP_NUMBER 200 Q1_DECAY_STEP 4 C2 0.8 turnovers is [33.12429549560986, 33.724854169660105, 31.792706713341023, 2.026681423942407, 8.111236558976644]\n"
     ]
    },
    {
     "name": "stderr",
     "output_type": "stream",
     "text": [
      "100%|█████████████████████████████████████████████████████████████████████████████| 1257/1257 [00:04<00:00, 254.35it/s]\n"
     ]
    },
    {
     "name": "stdout",
     "output_type": "stream",
     "text": [
      "For Q1_TOP_NUMBER 300 Q2_TOP_NUMBER 200 Q1_DECAY_STEP 4 C2 0.9 sharp is [2.437123266190654, 1.6187092489547203, 1.8087291900115692, 3.301696045534758, 0.9723997430617768]\n",
      "For Q1_TOP_NUMBER 300 Q2_TOP_NUMBER 200 Q1_DECAY_STEP 4 C2 0.9 turnovers is [33.134268021415984, 33.724854169660105, 31.792706713341023, 1.9019101761764734, 3.611841780332244]\n"
     ]
    },
    {
     "name": "stderr",
     "output_type": "stream",
     "text": [
      "100%|█████████████████████████████████████████████████████████████████████████████| 1257/1257 [00:04<00:00, 255.38it/s]\n"
     ]
    },
    {
     "name": "stdout",
     "output_type": "stream",
     "text": [
      "For Q1_TOP_NUMBER 300 Q2_TOP_NUMBER 300 Q1_DECAY_STEP 2 C2 0.5 sharp is [2.4067218406970063, 1.6187092489547201, 1.8087291900115692, 3.4698200944124076, 1.2313584271038187]\n",
      "For Q1_TOP_NUMBER 300 Q2_TOP_NUMBER 300 Q1_DECAY_STEP 2 C2 0.5 turnovers is [33.1246249366511, 33.724854169660105, 31.792706713341023, 3.5829444979671816, 84.98840630554523]\n"
     ]
    },
    {
     "name": "stderr",
     "output_type": "stream",
     "text": [
      "100%|█████████████████████████████████████████████████████████████████████████████| 1257/1257 [00:05<00:00, 250.90it/s]\n"
     ]
    },
    {
     "name": "stdout",
     "output_type": "stream",
     "text": [
      "For Q1_TOP_NUMBER 300 Q2_TOP_NUMBER 300 Q1_DECAY_STEP 2 C2 0.6 sharp is [2.411568257355335, 1.6187092489547203, 1.8087291900115692, 3.4365045555579514, 1.3224777863536639]\n",
      "For Q1_TOP_NUMBER 300 Q2_TOP_NUMBER 300 Q1_DECAY_STEP 2 C2 0.6 turnovers is [33.13159886949372, 33.724854169660105, 31.792706713341023, 2.7350441306701248, 45.65571629795275]\n"
     ]
    },
    {
     "name": "stderr",
     "output_type": "stream",
     "text": [
      "100%|█████████████████████████████████████████████████████████████████████████████| 1257/1257 [00:04<00:00, 255.70it/s]\n"
     ]
    },
    {
     "name": "stdout",
     "output_type": "stream",
     "text": [
      "For Q1_TOP_NUMBER 300 Q2_TOP_NUMBER 300 Q1_DECAY_STEP 2 C2 0.7 sharp is [2.413968706673585, 1.6187092489547203, 1.8087291900115692, 3.414203189912898, 1.2716297163101693]\n",
      "For Q1_TOP_NUMBER 300 Q2_TOP_NUMBER 300 Q1_DECAY_STEP 2 C2 0.7 turnovers is [33.13189901858202, 33.724854169660105, 31.792706713341023, 2.287328171159211, 22.653437285032993]\n"
     ]
    },
    {
     "name": "stderr",
     "output_type": "stream",
     "text": [
      "100%|█████████████████████████████████████████████████████████████████████████████| 1257/1257 [00:04<00:00, 252.82it/s]\n"
     ]
    },
    {
     "name": "stdout",
     "output_type": "stream",
     "text": [
      "For Q1_TOP_NUMBER 300 Q2_TOP_NUMBER 300 Q1_DECAY_STEP 2 C2 0.8 sharp is [2.4247012028196044, 1.6187092489547203, 1.8087291900115692, 3.3969760673043634, 1.14957718869957]\n",
      "For Q1_TOP_NUMBER 300 Q2_TOP_NUMBER 300 Q1_DECAY_STEP 2 C2 0.8 turnovers is [33.12510334975678, 33.724854169660105, 31.792706713341023, 2.0432695512838293, 11.06253500566499]\n"
     ]
    },
    {
     "name": "stderr",
     "output_type": "stream",
     "text": [
      "100%|█████████████████████████████████████████████████████████████████████████████| 1257/1257 [00:04<00:00, 254.87it/s]\n"
     ]
    },
    {
     "name": "stdout",
     "output_type": "stream",
     "text": [
      "For Q1_TOP_NUMBER 300 Q2_TOP_NUMBER 300 Q1_DECAY_STEP 2 C2 0.9 sharp is [2.411853463261224, 1.6187092489547201, 1.8087291900115692, 3.383766541927952, 1.0430602207942041]\n",
      "For Q1_TOP_NUMBER 300 Q2_TOP_NUMBER 300 Q1_DECAY_STEP 2 C2 0.9 turnovers is [33.12244624998956, 33.724854169660105, 31.792706713341023, 1.8898297597153373, 4.6471361778222136]\n"
     ]
    },
    {
     "name": "stderr",
     "output_type": "stream",
     "text": [
      "100%|█████████████████████████████████████████████████████████████████████████████| 1257/1257 [00:04<00:00, 253.33it/s]\n"
     ]
    },
    {
     "name": "stdout",
     "output_type": "stream",
     "text": [
      "For Q1_TOP_NUMBER 300 Q2_TOP_NUMBER 300 Q1_DECAY_STEP 3 C2 0.5 sharp is [2.3995317835661085, 1.6187092489547203, 1.8087291900115692, 3.4563539250958195, 1.2178209531395334]\n",
      "For Q1_TOP_NUMBER 300 Q2_TOP_NUMBER 300 Q1_DECAY_STEP 3 C2 0.5 turnovers is [33.11877940026579, 33.724854169660105, 31.792706713341023, 3.5151199619933142, 88.95452287670864]\n"
     ]
    },
    {
     "name": "stderr",
     "output_type": "stream",
     "text": [
      "100%|█████████████████████████████████████████████████████████████████████████████| 1257/1257 [00:05<00:00, 228.50it/s]\n"
     ]
    },
    {
     "name": "stdout",
     "output_type": "stream",
     "text": [
      "For Q1_TOP_NUMBER 300 Q2_TOP_NUMBER 300 Q1_DECAY_STEP 3 C2 0.6 sharp is [2.4131606851627283, 1.6187092489547203, 1.8087291900115692, 3.429051385147087, 1.3523001745409606]\n",
      "For Q1_TOP_NUMBER 300 Q2_TOP_NUMBER 300 Q1_DECAY_STEP 3 C2 0.6 turnovers is [33.11707008115955, 33.724854169660105, 31.792706713341023, 2.657467957604232, 41.981209120104296]\n"
     ]
    },
    {
     "name": "stderr",
     "output_type": "stream",
     "text": [
      "100%|█████████████████████████████████████████████████████████████████████████████| 1257/1257 [00:05<00:00, 249.60it/s]\n"
     ]
    },
    {
     "name": "stdout",
     "output_type": "stream",
     "text": [
      "For Q1_TOP_NUMBER 300 Q2_TOP_NUMBER 300 Q1_DECAY_STEP 3 C2 0.7 sharp is [2.396924986124307, 1.6187092489547203, 1.8087291900115692, 3.408277405875788, 1.2622733534460484]\n",
      "For Q1_TOP_NUMBER 300 Q2_TOP_NUMBER 300 Q1_DECAY_STEP 3 C2 0.7 turnovers is [33.12352204900038, 33.724854169660105, 31.792706713341023, 2.2550704867282256, 19.498492981977037]\n"
     ]
    },
    {
     "name": "stderr",
     "output_type": "stream",
     "text": [
      "100%|█████████████████████████████████████████████████████████████████████████████| 1257/1257 [00:05<00:00, 249.70it/s]\n"
     ]
    },
    {
     "name": "stdout",
     "output_type": "stream",
     "text": [
      "For Q1_TOP_NUMBER 300 Q2_TOP_NUMBER 300 Q1_DECAY_STEP 3 C2 0.8 sharp is [2.419307867927258, 1.6187092489547201, 1.8087291900115692, 3.3928376998254963, 1.1276194549371583]\n",
      "For Q1_TOP_NUMBER 300 Q2_TOP_NUMBER 300 Q1_DECAY_STEP 3 C2 0.8 turnovers is [33.131470751437156, 33.724854169660105, 31.792706713341023, 2.0315111741444483, 9.371905733520139]\n"
     ]
    },
    {
     "name": "stderr",
     "output_type": "stream",
     "text": [
      "100%|█████████████████████████████████████████████████████████████████████████████| 1257/1257 [00:05<00:00, 244.79it/s]\n"
     ]
    },
    {
     "name": "stdout",
     "output_type": "stream",
     "text": [
      "For Q1_TOP_NUMBER 300 Q2_TOP_NUMBER 300 Q1_DECAY_STEP 3 C2 0.9 sharp is [2.3998166568263137, 1.6187092489547203, 1.8087291900115692, 3.3816672335300977, 1.0308418061238838]\n",
      "For Q1_TOP_NUMBER 300 Q2_TOP_NUMBER 300 Q1_DECAY_STEP 3 C2 0.9 turnovers is [33.1187522912184, 33.724854169660105, 31.792706713341023, 1.8871202022514992, 3.966546532630277]\n"
     ]
    },
    {
     "name": "stderr",
     "output_type": "stream",
     "text": [
      "100%|█████████████████████████████████████████████████████████████████████████████| 1257/1257 [00:05<00:00, 248.57it/s]\n"
     ]
    },
    {
     "name": "stdout",
     "output_type": "stream",
     "text": [
      "For Q1_TOP_NUMBER 300 Q2_TOP_NUMBER 300 Q1_DECAY_STEP 4 C2 0.5 sharp is [2.4096788563861966, 1.6187092489547201, 1.8087291900115692, 3.449579452079688, 1.2442442113027756]\n",
      "For Q1_TOP_NUMBER 300 Q2_TOP_NUMBER 300 Q1_DECAY_STEP 4 C2 0.5 turnovers is [33.12492466156737, 33.724854169660105, 31.792706713341023, 3.471471511086769, 92.2177372360523]\n"
     ]
    },
    {
     "name": "stderr",
     "output_type": "stream",
     "text": [
      "100%|█████████████████████████████████████████████████████████████████████████████| 1257/1257 [00:04<00:00, 253.07it/s]\n"
     ]
    },
    {
     "name": "stdout",
     "output_type": "stream",
     "text": [
      "For Q1_TOP_NUMBER 300 Q2_TOP_NUMBER 300 Q1_DECAY_STEP 4 C2 0.6 sharp is [2.416380639312436, 1.6187092489547203, 1.8087291900115692, 3.4230114042239115, 1.3630124369280956]\n",
      "For Q1_TOP_NUMBER 300 Q2_TOP_NUMBER 300 Q1_DECAY_STEP 4 C2 0.6 turnovers is [33.1262189436398, 33.724854169660105, 31.792706713341023, 2.608462292155722, 38.123699943942654]\n"
     ]
    },
    {
     "name": "stderr",
     "output_type": "stream",
     "text": [
      "100%|█████████████████████████████████████████████████████████████████████████████| 1257/1257 [00:04<00:00, 254.92it/s]\n"
     ]
    },
    {
     "name": "stdout",
     "output_type": "stream",
     "text": [
      "For Q1_TOP_NUMBER 300 Q2_TOP_NUMBER 300 Q1_DECAY_STEP 4 C2 0.7 sharp is [2.4072734852440805, 1.6187092489547201, 1.8087291900115692, 3.403658823246741, 1.2317323073807727]\n",
      "For Q1_TOP_NUMBER 300 Q2_TOP_NUMBER 300 Q1_DECAY_STEP 4 C2 0.7 turnovers is [33.135205933415705, 33.724854169660105, 31.792706713341023, 2.22524058639987, 17.0581246920313]\n"
     ]
    },
    {
     "name": "stderr",
     "output_type": "stream",
     "text": [
      "100%|█████████████████████████████████████████████████████████████████████████████| 1257/1257 [00:04<00:00, 251.75it/s]\n"
     ]
    },
    {
     "name": "stdout",
     "output_type": "stream",
     "text": [
      "For Q1_TOP_NUMBER 300 Q2_TOP_NUMBER 300 Q1_DECAY_STEP 4 C2 0.8 sharp is [2.414364882818663, 1.6187092489547203, 1.8087291900115692, 3.3898298844682886, 1.1049035893416648]\n",
      "For Q1_TOP_NUMBER 300 Q2_TOP_NUMBER 300 Q1_DECAY_STEP 4 C2 0.8 turnovers is [33.12465153850091, 33.724854169660105, 31.792706713341023, 2.0150175986068057, 8.14894406186861]\n"
     ]
    },
    {
     "name": "stderr",
     "output_type": "stream",
     "text": [
      "100%|█████████████████████████████████████████████████████████████████████████████| 1257/1257 [00:04<00:00, 255.33it/s]\n"
     ]
    },
    {
     "name": "stdout",
     "output_type": "stream",
     "text": [
      "For Q1_TOP_NUMBER 300 Q2_TOP_NUMBER 300 Q1_DECAY_STEP 4 C2 0.9 sharp is [2.418785182017156, 1.6187092489547201, 1.8087291900115692, 3.3802062187406197, 1.021247205226104]\n",
      "For Q1_TOP_NUMBER 300 Q2_TOP_NUMBER 300 Q1_DECAY_STEP 4 C2 0.9 turnovers is [33.12181858064738, 33.724854169660105, 31.792706713341023, 1.8795864975950867, 3.488364082014145]\n"
     ]
    },
    {
     "name": "stderr",
     "output_type": "stream",
     "text": [
      "100%|█████████████████████████████████████████████████████████████████████████████| 1257/1257 [00:04<00:00, 253.27it/s]\n"
     ]
    },
    {
     "name": "stdout",
     "output_type": "stream",
     "text": [
      "For Q1_TOP_NUMBER 300 Q2_TOP_NUMBER 500 Q1_DECAY_STEP 2 C2 0.5 sharp is [2.4159111955467187, 1.6187092489547203, 1.8087291900115692, 3.520359502081777, 1.1589163523176]\n",
      "For Q1_TOP_NUMBER 300 Q2_TOP_NUMBER 500 Q1_DECAY_STEP 2 C2 0.5 turnovers is [33.136760903560166, 33.724854169660105, 31.792706713341023, 3.869603448334202, 96.78694119417969]\n"
     ]
    },
    {
     "name": "stderr",
     "output_type": "stream",
     "text": [
      "100%|█████████████████████████████████████████████████████████████████████████████| 1257/1257 [00:04<00:00, 253.22it/s]\n"
     ]
    },
    {
     "name": "stdout",
     "output_type": "stream",
     "text": [
      "For Q1_TOP_NUMBER 300 Q2_TOP_NUMBER 500 Q1_DECAY_STEP 2 C2 0.6 sharp is [2.399990061720506, 1.6187092489547203, 1.8087291900115692, 3.497924339194956, 1.2809845670548141]\n",
      "For Q1_TOP_NUMBER 300 Q2_TOP_NUMBER 500 Q1_DECAY_STEP 2 C2 0.6 turnovers is [33.13001683509056, 33.724854169660105, 31.792706713341023, 2.945469045982918, 54.94406560685293]\n"
     ]
    },
    {
     "name": "stderr",
     "output_type": "stream",
     "text": [
      "100%|█████████████████████████████████████████████████████████████████████████████| 1257/1257 [00:04<00:00, 253.99it/s]\n"
     ]
    },
    {
     "name": "stdout",
     "output_type": "stream",
     "text": [
      "For Q1_TOP_NUMBER 300 Q2_TOP_NUMBER 500 Q1_DECAY_STEP 2 C2 0.7 sharp is [2.4224006488980145, 1.6187092489547201, 1.8087291900115692, 3.485318339530594, 1.2852964908852305]\n",
      "For Q1_TOP_NUMBER 300 Q2_TOP_NUMBER 500 Q1_DECAY_STEP 2 C2 0.7 turnovers is [33.130276017906276, 33.724854169660105, 31.792706713341023, 2.376922635068862, 26.297933120883897]\n"
     ]
    },
    {
     "name": "stderr",
     "output_type": "stream",
     "text": [
      "100%|█████████████████████████████████████████████████████████████████████████████| 1257/1257 [00:04<00:00, 254.55it/s]\n"
     ]
    },
    {
     "name": "stdout",
     "output_type": "stream",
     "text": [
      "For Q1_TOP_NUMBER 300 Q2_TOP_NUMBER 500 Q1_DECAY_STEP 2 C2 0.8 sharp is [2.4236185276012545, 1.6187092489547203, 1.8087291900115692, 3.4767857717336974, 1.1572232078229507]\n",
      "For Q1_TOP_NUMBER 300 Q2_TOP_NUMBER 500 Q1_DECAY_STEP 2 C2 0.8 turnovers is [33.129250260674084, 33.724854169660105, 31.792706713341023, 2.0764927803538553, 12.443951331648602]\n"
     ]
    },
    {
     "name": "stderr",
     "output_type": "stream",
     "text": [
      "100%|█████████████████████████████████████████████████████████████████████████████| 1257/1257 [00:04<00:00, 253.84it/s]\n"
     ]
    },
    {
     "name": "stdout",
     "output_type": "stream",
     "text": [
      "For Q1_TOP_NUMBER 300 Q2_TOP_NUMBER 500 Q1_DECAY_STEP 2 C2 0.9 sharp is [2.417040350405277, 1.6187092489547203, 1.8087291900115692, 3.470605354218823, 1.0213921539587911]\n",
      "For Q1_TOP_NUMBER 300 Q2_TOP_NUMBER 500 Q1_DECAY_STEP 2 C2 0.9 turnovers is [33.12643300276264, 33.724854169660105, 31.792706713341023, 1.9019782009502486, 5.085094154234215]\n"
     ]
    },
    {
     "name": "stderr",
     "output_type": "stream",
     "text": [
      "100%|█████████████████████████████████████████████████████████████████████████████| 1257/1257 [00:04<00:00, 254.66it/s]\n"
     ]
    },
    {
     "name": "stdout",
     "output_type": "stream",
     "text": [
      "For Q1_TOP_NUMBER 300 Q2_TOP_NUMBER 500 Q1_DECAY_STEP 3 C2 0.5 sharp is [2.408011986810775, 1.6187092489547201, 1.8087291900115692, 3.5057266954725055, 1.1328786028408135]\n",
      "For Q1_TOP_NUMBER 300 Q2_TOP_NUMBER 500 Q1_DECAY_STEP 3 C2 0.5 turnovers is [33.12069092429814, 33.724854169660105, 31.792706713341023, 3.7583969044837136, 101.32169011256929]\n"
     ]
    },
    {
     "name": "stderr",
     "output_type": "stream",
     "text": [
      "100%|█████████████████████████████████████████████████████████████████████████████| 1257/1257 [00:05<00:00, 250.55it/s]\n"
     ]
    },
    {
     "name": "stdout",
     "output_type": "stream",
     "text": [
      "For Q1_TOP_NUMBER 300 Q2_TOP_NUMBER 500 Q1_DECAY_STEP 3 C2 0.6 sharp is [2.404841468600683, 1.6187092489547203, 1.8087291900115692, 3.489335891201086, 1.2984721155789738]\n",
      "For Q1_TOP_NUMBER 300 Q2_TOP_NUMBER 500 Q1_DECAY_STEP 3 C2 0.6 turnovers is [33.135681842858986, 33.724854169660105, 31.792706713341023, 2.7813016383008846, 51.37808808630115]\n"
     ]
    },
    {
     "name": "stderr",
     "output_type": "stream",
     "text": [
      "100%|█████████████████████████████████████████████████████████████████████████████| 1257/1257 [00:05<00:00, 246.71it/s]\n"
     ]
    },
    {
     "name": "stdout",
     "output_type": "stream",
     "text": [
      "For Q1_TOP_NUMBER 300 Q2_TOP_NUMBER 500 Q1_DECAY_STEP 3 C2 0.7 sharp is [2.406295605102522, 1.6187092489547201, 1.8087291900115692, 3.4785616514690036, 1.2642917500526494]\n",
      "For Q1_TOP_NUMBER 300 Q2_TOP_NUMBER 500 Q1_DECAY_STEP 3 C2 0.7 turnovers is [33.12129442416268, 33.724854169660105, 31.792706713341023, 2.2920882623293632, 22.65633653441131]\n"
     ]
    },
    {
     "name": "stderr",
     "output_type": "stream",
     "text": [
      "100%|█████████████████████████████████████████████████████████████████████████████| 1257/1257 [00:05<00:00, 241.13it/s]\n"
     ]
    },
    {
     "name": "stdout",
     "output_type": "stream",
     "text": [
      "For Q1_TOP_NUMBER 300 Q2_TOP_NUMBER 500 Q1_DECAY_STEP 3 C2 0.8 sharp is [2.4156643473837494, 1.6187092489547201, 1.8087291900115692, 3.471703558973999, 1.103404208774622]\n",
      "For Q1_TOP_NUMBER 300 Q2_TOP_NUMBER 500 Q1_DECAY_STEP 3 C2 0.8 turnovers is [33.117919392973434, 33.724854169660105, 31.792706713341023, 2.0420485875476095, 10.514192799295797]\n"
     ]
    },
    {
     "name": "stderr",
     "output_type": "stream",
     "text": [
      "100%|█████████████████████████████████████████████████████████████████████████████| 1257/1257 [00:04<00:00, 252.61it/s]\n"
     ]
    },
    {
     "name": "stdout",
     "output_type": "stream",
     "text": [
      "For Q1_TOP_NUMBER 300 Q2_TOP_NUMBER 500 Q1_DECAY_STEP 3 C2 0.9 sharp is [2.4014578066747525, 1.6187092489547203, 1.8087291900115692, 3.467982688029079, 0.9890513154280278]\n",
      "For Q1_TOP_NUMBER 300 Q2_TOP_NUMBER 500 Q1_DECAY_STEP 3 C2 0.9 turnovers is [33.131541113244424, 33.724854169660105, 31.792706713341023, 1.8903553308765266, 4.33411809268067]\n"
     ]
    },
    {
     "name": "stderr",
     "output_type": "stream",
     "text": [
      "100%|█████████████████████████████████████████████████████████████████████████████| 1257/1257 [00:04<00:00, 252.92it/s]\n"
     ]
    },
    {
     "name": "stdout",
     "output_type": "stream",
     "text": [
      "For Q1_TOP_NUMBER 300 Q2_TOP_NUMBER 500 Q1_DECAY_STEP 4 C2 0.5 sharp is [2.4290762566987705, 1.6187092489547203, 1.8087291900115692, 3.496912676412041, 1.1407685905645604]\n",
      "For Q1_TOP_NUMBER 300 Q2_TOP_NUMBER 500 Q1_DECAY_STEP 4 C2 0.5 turnovers is [33.129477211645, 33.724854169660105, 31.792706713341023, 3.7130181542554808, 105.96417446042476]\n"
     ]
    },
    {
     "name": "stderr",
     "output_type": "stream",
     "text": [
      "100%|█████████████████████████████████████████████████████████████████████████████| 1257/1257 [00:04<00:00, 255.33it/s]\n"
     ]
    },
    {
     "name": "stdout",
     "output_type": "stream",
     "text": [
      "For Q1_TOP_NUMBER 300 Q2_TOP_NUMBER 500 Q1_DECAY_STEP 4 C2 0.6 sharp is [2.4121631287039156, 1.6187092489547201, 1.8087291900115692, 3.4783186758242453, 1.3151141854166764]\n",
      "For Q1_TOP_NUMBER 300 Q2_TOP_NUMBER 500 Q1_DECAY_STEP 4 C2 0.6 turnovers is [33.131002019374606, 33.724854169660105, 31.792706713341023, 2.7459080908051745, 46.476271494598194]\n"
     ]
    },
    {
     "name": "stderr",
     "output_type": "stream",
     "text": [
      "100%|█████████████████████████████████████████████████████████████████████████████| 1257/1257 [00:04<00:00, 255.95it/s]\n"
     ]
    },
    {
     "name": "stdout",
     "output_type": "stream",
     "text": [
      "For Q1_TOP_NUMBER 300 Q2_TOP_NUMBER 500 Q1_DECAY_STEP 4 C2 0.7 sharp is [2.3894858880216674, 1.6187092489547203, 1.8087291900115692, 3.4702234312072737, 1.1947791122704055]\n",
      "For Q1_TOP_NUMBER 300 Q2_TOP_NUMBER 500 Q1_DECAY_STEP 4 C2 0.7 turnovers is [33.13163003537236, 33.724854169660105, 31.792706713341023, 2.274867454578448, 19.445789019878433]\n"
     ]
    },
    {
     "name": "stderr",
     "output_type": "stream",
     "text": [
      "100%|█████████████████████████████████████████████████████████████████████████████| 1257/1257 [00:04<00:00, 253.94it/s]\n"
     ]
    },
    {
     "name": "stdout",
     "output_type": "stream",
     "text": [
      "For Q1_TOP_NUMBER 300 Q2_TOP_NUMBER 500 Q1_DECAY_STEP 4 C2 0.8 sharp is [2.4107131069205594, 1.6187092489547203, 1.8087291900115692, 3.4663553152747277, 1.0369216119566647]\n",
      "For Q1_TOP_NUMBER 300 Q2_TOP_NUMBER 500 Q1_DECAY_STEP 4 C2 0.8 turnovers is [33.12016875730147, 33.724854169660105, 31.792706713341023, 2.036153900092475, 8.98257907566283]\n"
     ]
    },
    {
     "name": "stderr",
     "output_type": "stream",
     "text": [
      "100%|█████████████████████████████████████████████████████████████████████████████| 1257/1257 [00:04<00:00, 254.45it/s]\n"
     ]
    },
    {
     "name": "stdout",
     "output_type": "stream",
     "text": [
      "For Q1_TOP_NUMBER 300 Q2_TOP_NUMBER 500 Q1_DECAY_STEP 4 C2 0.9 sharp is [2.430319140829379, 1.6187092489547203, 1.8087291900115692, 3.465435654095664, 0.9589463726954293]\n",
      "For Q1_TOP_NUMBER 300 Q2_TOP_NUMBER 500 Q1_DECAY_STEP 4 C2 0.9 turnovers is [33.13329904903173, 33.724854169660105, 31.792706713341023, 1.8889984430603193, 3.7542808044217795]\n"
     ]
    },
    {
     "name": "stderr",
     "output_type": "stream",
     "text": [
      "100%|█████████████████████████████████████████████████████████████████████████████| 1257/1257 [00:04<00:00, 253.73it/s]\n"
     ]
    },
    {
     "name": "stdout",
     "output_type": "stream",
     "text": [
      "For Q1_TOP_NUMBER 500 Q2_TOP_NUMBER 10 Q1_DECAY_STEP 2 C2 0.5 sharp is [2.406068877985182, 1.6187092489547203, 1.8087291900115692, 3.5587870056013795, 1.2626315512932187]\n",
      "For Q1_TOP_NUMBER 500 Q2_TOP_NUMBER 10 Q1_DECAY_STEP 2 C2 0.5 turnovers is [33.12580342880399, 33.724854169660105, 31.792706713341023, 2.9677155542787057, 65.67326045962108]\n"
     ]
    },
    {
     "name": "stderr",
     "output_type": "stream",
     "text": [
      "100%|█████████████████████████████████████████████████████████████████████████████| 1257/1257 [00:04<00:00, 254.56it/s]\n"
     ]
    },
    {
     "name": "stdout",
     "output_type": "stream",
     "text": [
      "For Q1_TOP_NUMBER 500 Q2_TOP_NUMBER 10 Q1_DECAY_STEP 2 C2 0.6 sharp is [2.3805948602543205, 1.6187092489547201, 1.8087291900115692, 3.5406571933929913, 1.2919691587940134]\n",
      "For Q1_TOP_NUMBER 500 Q2_TOP_NUMBER 10 Q1_DECAY_STEP 2 C2 0.6 turnovers is [33.12590465784686, 33.724854169660105, 31.792706713341023, 2.48317334044958, 37.411208109506354]\n"
     ]
    },
    {
     "name": "stderr",
     "output_type": "stream",
     "text": [
      "100%|█████████████████████████████████████████████████████████████████████████████| 1257/1257 [00:04<00:00, 253.43it/s]\n"
     ]
    },
    {
     "name": "stdout",
     "output_type": "stream",
     "text": [
      "For Q1_TOP_NUMBER 500 Q2_TOP_NUMBER 10 Q1_DECAY_STEP 2 C2 0.7 sharp is [2.405422391588214, 1.6187092489547203, 1.8087291900115692, 3.525539805442784, 1.2715808123627752]\n",
      "For Q1_TOP_NUMBER 500 Q2_TOP_NUMBER 10 Q1_DECAY_STEP 2 C2 0.7 turnovers is [33.12025290190237, 33.724854169660105, 31.792706713341023, 2.1945130399818615, 20.883029702466306]\n"
     ]
    },
    {
     "name": "stderr",
     "output_type": "stream",
     "text": [
      "100%|█████████████████████████████████████████████████████████████████████████████| 1257/1257 [00:04<00:00, 252.51it/s]\n"
     ]
    },
    {
     "name": "stdout",
     "output_type": "stream",
     "text": [
      "For Q1_TOP_NUMBER 500 Q2_TOP_NUMBER 10 Q1_DECAY_STEP 2 C2 0.8 sharp is [2.4341390207371667, 1.6187092489547203, 1.8087291900115692, 3.5143916698335325, 1.2488273944926038]\n",
      "For Q1_TOP_NUMBER 500 Q2_TOP_NUMBER 10 Q1_DECAY_STEP 2 C2 0.8 turnovers is [33.13055807373095, 33.724854169660105, 31.792706713341023, 2.0071314217037934, 11.706764433884809]\n"
     ]
    },
    {
     "name": "stderr",
     "output_type": "stream",
     "text": [
      "100%|█████████████████████████████████████████████████████████████████████████████| 1257/1257 [00:04<00:00, 255.95it/s]\n"
     ]
    },
    {
     "name": "stdout",
     "output_type": "stream",
     "text": [
      "For Q1_TOP_NUMBER 500 Q2_TOP_NUMBER 10 Q1_DECAY_STEP 2 C2 0.9 sharp is [2.3931924900175714, 1.6187092489547203, 1.8087291900115692, 3.5073395627416875, 1.2343706206399896]\n",
      "For Q1_TOP_NUMBER 500 Q2_TOP_NUMBER 10 Q1_DECAY_STEP 2 C2 0.9 turnovers is [33.12118817378759, 33.724854169660105, 31.792706713341023, 1.8738891477069692, 6.224213938264133]\n"
     ]
    },
    {
     "name": "stderr",
     "output_type": "stream",
     "text": [
      "100%|█████████████████████████████████████████████████████████████████████████████| 1257/1257 [00:05<00:00, 250.10it/s]\n"
     ]
    },
    {
     "name": "stdout",
     "output_type": "stream",
     "text": [
      "For Q1_TOP_NUMBER 500 Q2_TOP_NUMBER 10 Q1_DECAY_STEP 3 C2 0.5 sharp is [2.428937923055905, 1.6187092489547203, 1.8087291900115692, 3.539897541279304, 1.223836985851461]\n",
      "For Q1_TOP_NUMBER 500 Q2_TOP_NUMBER 10 Q1_DECAY_STEP 3 C2 0.5 turnovers is [33.12008663979159, 33.724854169660105, 31.792706713341023, 2.845031945047544, 68.89837886206787]\n"
     ]
    },
    {
     "name": "stderr",
     "output_type": "stream",
     "text": [
      "100%|█████████████████████████████████████████████████████████████████████████████| 1257/1257 [00:05<00:00, 247.54it/s]\n"
     ]
    },
    {
     "name": "stdout",
     "output_type": "stream",
     "text": [
      "For Q1_TOP_NUMBER 500 Q2_TOP_NUMBER 10 Q1_DECAY_STEP 3 C2 0.6 sharp is [2.413023423781619, 1.6187092489547203, 1.8087291900115692, 3.5284628055728664, 1.2682956951578042]\n",
      "For Q1_TOP_NUMBER 500 Q2_TOP_NUMBER 10 Q1_DECAY_STEP 3 C2 0.6 turnovers is [33.127216142601036, 33.724854169660105, 31.792706713341023, 2.419036762671066, 35.649358347622695]\n"
     ]
    },
    {
     "name": "stderr",
     "output_type": "stream",
     "text": [
      "100%|█████████████████████████████████████████████████████████████████████████████| 1257/1257 [00:04<00:00, 251.95it/s]\n"
     ]
    },
    {
     "name": "stdout",
     "output_type": "stream",
     "text": [
      "For Q1_TOP_NUMBER 500 Q2_TOP_NUMBER 10 Q1_DECAY_STEP 3 C2 0.7 sharp is [2.3875624138175264, 1.6187092489547201, 1.8087291900115692, 3.5156979807470385, 1.2478904465283558]\n",
      "For Q1_TOP_NUMBER 500 Q2_TOP_NUMBER 10 Q1_DECAY_STEP 3 C2 0.7 turnovers is [33.12745626011921, 33.724854169660105, 31.792706713341023, 2.1615690242244794, 19.151621303777933]\n"
     ]
    },
    {
     "name": "stderr",
     "output_type": "stream",
     "text": [
      "100%|█████████████████████████████████████████████████████████████████████████████| 1257/1257 [00:04<00:00, 253.99it/s]\n"
     ]
    },
    {
     "name": "stdout",
     "output_type": "stream",
     "text": [
      "For Q1_TOP_NUMBER 500 Q2_TOP_NUMBER 10 Q1_DECAY_STEP 3 C2 0.8 sharp is [2.4186413076146502, 1.6187092489547203, 1.8087291900115692, 3.507875313275288, 1.2344225238161408]\n",
      "For Q1_TOP_NUMBER 500 Q2_TOP_NUMBER 10 Q1_DECAY_STEP 3 C2 0.8 turnovers is [33.13040921639699, 33.724854169660105, 31.792706713341023, 1.9904822878155284, 10.6683579402208]\n"
     ]
    },
    {
     "name": "stderr",
     "output_type": "stream",
     "text": [
      "100%|█████████████████████████████████████████████████████████████████████████████| 1257/1257 [00:04<00:00, 254.66it/s]\n"
     ]
    },
    {
     "name": "stdout",
     "output_type": "stream",
     "text": [
      "For Q1_TOP_NUMBER 500 Q2_TOP_NUMBER 10 Q1_DECAY_STEP 3 C2 0.9 sharp is [2.4272098887858222, 1.6187092489547203, 1.8087291900115692, 3.5043019071855315, 1.2286490007714512]\n",
      "For Q1_TOP_NUMBER 500 Q2_TOP_NUMBER 10 Q1_DECAY_STEP 3 C2 0.9 turnovers is [33.12950970162737, 33.724854169660105, 31.792706713341023, 1.86832419959328, 5.780946594556759]\n"
     ]
    },
    {
     "name": "stderr",
     "output_type": "stream",
     "text": [
      "100%|█████████████████████████████████████████████████████████████████████████████| 1257/1257 [00:04<00:00, 254.92it/s]\n"
     ]
    },
    {
     "name": "stdout",
     "output_type": "stream",
     "text": [
      "For Q1_TOP_NUMBER 500 Q2_TOP_NUMBER 10 Q1_DECAY_STEP 4 C2 0.5 sharp is [2.400018734461188, 1.6187092489547203, 1.8087291900115692, 3.5392771920584245, 1.18261979052985]\n",
      "For Q1_TOP_NUMBER 500 Q2_TOP_NUMBER 10 Q1_DECAY_STEP 4 C2 0.5 turnovers is [33.120275018546145, 33.724854169660105, 31.792706713341023, 2.811808305359276, 71.69387371872858]\n"
     ]
    },
    {
     "name": "stderr",
     "output_type": "stream",
     "text": [
      "100%|█████████████████████████████████████████████████████████████████████████████| 1257/1257 [00:04<00:00, 255.28it/s]\n"
     ]
    },
    {
     "name": "stdout",
     "output_type": "stream",
     "text": [
      "For Q1_TOP_NUMBER 500 Q2_TOP_NUMBER 10 Q1_DECAY_STEP 4 C2 0.6 sharp is [2.392794056850544, 1.6187092489547203, 1.8087291900115692, 3.5225032164986514, 1.2345536866636382]\n",
      "For Q1_TOP_NUMBER 500 Q2_TOP_NUMBER 10 Q1_DECAY_STEP 4 C2 0.6 turnovers is [33.125569497918185, 33.724854169660105, 31.792706713341023, 2.3742772758441038, 33.89907659738909]\n"
     ]
    },
    {
     "name": "stderr",
     "output_type": "stream",
     "text": [
      "100%|█████████████████████████████████████████████████████████████████████████████| 1257/1257 [00:04<00:00, 255.95it/s]\n"
     ]
    },
    {
     "name": "stdout",
     "output_type": "stream",
     "text": [
      "For Q1_TOP_NUMBER 500 Q2_TOP_NUMBER 10 Q1_DECAY_STEP 4 C2 0.7 sharp is [2.4039365731110873, 1.6187092489547203, 1.8087291900115692, 3.5105336655211348, 1.2272805247697758]\n",
      "For Q1_TOP_NUMBER 500 Q2_TOP_NUMBER 10 Q1_DECAY_STEP 4 C2 0.7 turnovers is [33.123489082175716, 33.724854169660105, 31.792706713341023, 2.1362676826211895, 17.697173785530016]\n"
     ]
    },
    {
     "name": "stderr",
     "output_type": "stream",
     "text": [
      "100%|█████████████████████████████████████████████████████████████████████████████| 1257/1257 [00:04<00:00, 254.04it/s]\n"
     ]
    },
    {
     "name": "stdout",
     "output_type": "stream",
     "text": [
      "For Q1_TOP_NUMBER 500 Q2_TOP_NUMBER 10 Q1_DECAY_STEP 4 C2 0.8 sharp is [2.412728432454184, 1.6187092489547203, 1.8087291900115692, 3.504458532446919, 1.225754232001706]\n",
      "For Q1_TOP_NUMBER 500 Q2_TOP_NUMBER 10 Q1_DECAY_STEP 4 C2 0.8 turnovers is [33.12295725880538, 33.724854169660105, 31.792706713341023, 1.9800582015567925, 9.877028415123872]\n"
     ]
    },
    {
     "name": "stderr",
     "output_type": "stream",
     "text": [
      "100%|█████████████████████████████████████████████████████████████████████████████| 1257/1257 [00:04<00:00, 254.71it/s]\n"
     ]
    },
    {
     "name": "stdout",
     "output_type": "stream",
     "text": [
      "For Q1_TOP_NUMBER 500 Q2_TOP_NUMBER 10 Q1_DECAY_STEP 4 C2 0.9 sharp is [2.401116265310004, 1.6187092489547201, 1.8087291900115692, 3.5026391581474434, 1.226017904383698]\n",
      "For Q1_TOP_NUMBER 500 Q2_TOP_NUMBER 10 Q1_DECAY_STEP 4 C2 0.9 turnovers is [33.13055919954669, 33.724854169660105, 31.792706713341023, 1.864839066558586, 5.456432183953215]\n"
     ]
    },
    {
     "name": "stderr",
     "output_type": "stream",
     "text": [
      "100%|█████████████████████████████████████████████████████████████████████████████| 1257/1257 [00:04<00:00, 254.66it/s]\n"
     ]
    },
    {
     "name": "stdout",
     "output_type": "stream",
     "text": [
      "For Q1_TOP_NUMBER 500 Q2_TOP_NUMBER 50 Q1_DECAY_STEP 2 C2 0.5 sharp is [2.4121627538259003, 1.6187092489547203, 1.8087291900115692, 3.341559239398191, 1.0220844898269215]\n",
      "For Q1_TOP_NUMBER 500 Q2_TOP_NUMBER 50 Q1_DECAY_STEP 2 C2 0.5 turnovers is [33.130227791124774, 33.724854169660105, 31.792706713341023, 3.067218734398265, 67.06352212389837]\n"
     ]
    },
    {
     "name": "stderr",
     "output_type": "stream",
     "text": [
      "100%|█████████████████████████████████████████████████████████████████████████████| 1257/1257 [00:04<00:00, 254.35it/s]\n"
     ]
    },
    {
     "name": "stdout",
     "output_type": "stream",
     "text": [
      "For Q1_TOP_NUMBER 500 Q2_TOP_NUMBER 50 Q1_DECAY_STEP 2 C2 0.6 sharp is [2.4399183346682847, 1.6187092489547203, 1.8087291900115692, 3.2546796660099098, 0.9332717780531501]\n",
      "For Q1_TOP_NUMBER 500 Q2_TOP_NUMBER 50 Q1_DECAY_STEP 2 C2 0.6 turnovers is [33.13739440239431, 33.724854169660105, 31.792706713341023, 2.541678546279222, 36.84675759382287]\n"
     ]
    },
    {
     "name": "stderr",
     "output_type": "stream",
     "text": [
      "100%|█████████████████████████████████████████████████████████████████████████████| 1257/1257 [00:05<00:00, 250.35it/s]\n"
     ]
    },
    {
     "name": "stdout",
     "output_type": "stream",
     "text": [
      "For Q1_TOP_NUMBER 500 Q2_TOP_NUMBER 50 Q1_DECAY_STEP 2 C2 0.7 sharp is [2.373013127876864, 1.6187092489547201, 1.8087291900115692, 3.1805740716325612, 0.8312197965793837]\n",
      "For Q1_TOP_NUMBER 500 Q2_TOP_NUMBER 50 Q1_DECAY_STEP 2 C2 0.7 turnovers is [33.1227575723664, 33.724854169660105, 31.792706713341023, 2.232854075717852, 19.788725026439447]\n"
     ]
    },
    {
     "name": "stderr",
     "output_type": "stream",
     "text": [
      "100%|█████████████████████████████████████████████████████████████████████████████| 1257/1257 [00:04<00:00, 254.09it/s]\n"
     ]
    },
    {
     "name": "stdout",
     "output_type": "stream",
     "text": [
      "For Q1_TOP_NUMBER 500 Q2_TOP_NUMBER 50 Q1_DECAY_STEP 2 C2 0.8 sharp is [2.3802975156557498, 1.6187092489547203, 1.8087291900115692, 3.120194325387919, 0.7620333577401232]\n",
      "For Q1_TOP_NUMBER 500 Q2_TOP_NUMBER 50 Q1_DECAY_STEP 2 C2 0.8 turnovers is [33.12048854041579, 33.724854169660105, 31.792706713341023, 2.0504308772940174, 10.595621921065026]\n"
     ]
    },
    {
     "name": "stderr",
     "output_type": "stream",
     "text": [
      "100%|█████████████████████████████████████████████████████████████████████████████| 1257/1257 [00:05<00:00, 239.88it/s]\n"
     ]
    },
    {
     "name": "stdout",
     "output_type": "stream",
     "text": [
      "For Q1_TOP_NUMBER 500 Q2_TOP_NUMBER 50 Q1_DECAY_STEP 2 C2 0.9 sharp is [2.394236419493424, 1.6187092489547201, 1.8087291900115692, 3.0712002453749725, 0.71855542366365]\n",
      "For Q1_TOP_NUMBER 500 Q2_TOP_NUMBER 50 Q1_DECAY_STEP 2 C2 0.9 turnovers is [33.1275481320879, 33.724854169660105, 31.792706713341023, 1.9231715236874156, 5.229680466757904]\n"
     ]
    },
    {
     "name": "stderr",
     "output_type": "stream",
     "text": [
      "100%|█████████████████████████████████████████████████████████████████████████████| 1257/1257 [00:04<00:00, 253.12it/s]\n"
     ]
    },
    {
     "name": "stdout",
     "output_type": "stream",
     "text": [
      "For Q1_TOP_NUMBER 500 Q2_TOP_NUMBER 50 Q1_DECAY_STEP 3 C2 0.5 sharp is [2.4103326631071385, 1.6187092489547203, 1.8087291900115692, 3.322549584054055, 1.0746917811197287]\n",
      "For Q1_TOP_NUMBER 500 Q2_TOP_NUMBER 50 Q1_DECAY_STEP 3 C2 0.5 turnovers is [33.1270194064651, 33.724854169660105, 31.792706713341023, 2.9635870492102105, 70.23949230752488]\n"
     ]
    },
    {
     "name": "stderr",
     "output_type": "stream",
     "text": [
      "100%|█████████████████████████████████████████████████████████████████████████████| 1257/1257 [00:04<00:00, 255.75it/s]\n"
     ]
    },
    {
     "name": "stdout",
     "output_type": "stream",
     "text": [
      "For Q1_TOP_NUMBER 500 Q2_TOP_NUMBER 50 Q1_DECAY_STEP 3 C2 0.6 sharp is [2.409559224664049, 1.6187092489547201, 1.8087291900115692, 3.2435488320758243, 0.9579774841049497]\n",
      "For Q1_TOP_NUMBER 500 Q2_TOP_NUMBER 50 Q1_DECAY_STEP 3 C2 0.6 turnovers is [33.125487804319235, 33.724854169660105, 31.792706713341023, 2.489260051486336, 34.75113194747265]\n"
     ]
    },
    {
     "name": "stderr",
     "output_type": "stream",
     "text": [
      "100%|█████████████████████████████████████████████████████████████████████████████| 1257/1257 [00:04<00:00, 255.17it/s]\n"
     ]
    },
    {
     "name": "stdout",
     "output_type": "stream",
     "text": [
      "For Q1_TOP_NUMBER 500 Q2_TOP_NUMBER 50 Q1_DECAY_STEP 3 C2 0.7 sharp is [2.4121142704433134, 1.6187092489547203, 1.8087291900115692, 3.1717909368314774, 0.8300841930519621]\n",
      "For Q1_TOP_NUMBER 500 Q2_TOP_NUMBER 50 Q1_DECAY_STEP 3 C2 0.7 turnovers is [33.120468740370576, 33.724854169660105, 31.792706713341023, 2.2098328103337694, 17.81096685581707]\n"
     ]
    },
    {
     "name": "stderr",
     "output_type": "stream",
     "text": [
      "100%|█████████████████████████████████████████████████████████████████████████████| 1257/1257 [00:04<00:00, 254.71it/s]\n"
     ]
    },
    {
     "name": "stdout",
     "output_type": "stream",
     "text": [
      "For Q1_TOP_NUMBER 500 Q2_TOP_NUMBER 50 Q1_DECAY_STEP 3 C2 0.8 sharp is [2.3955130793810113, 1.6187092489547201, 1.8087291900115692, 3.1146824968627236, 0.7585023531130706]\n",
      "For Q1_TOP_NUMBER 500 Q2_TOP_NUMBER 50 Q1_DECAY_STEP 3 C2 0.8 turnovers is [33.131493680272506, 33.724854169660105, 31.792706713341023, 2.0341151518017604, 9.442441628203749]\n"
     ]
    },
    {
     "name": "stderr",
     "output_type": "stream",
     "text": [
      "100%|█████████████████████████████████████████████████████████████████████████████| 1257/1257 [00:04<00:00, 253.74it/s]\n"
     ]
    },
    {
     "name": "stdout",
     "output_type": "stream",
     "text": [
      "For Q1_TOP_NUMBER 500 Q2_TOP_NUMBER 50 Q1_DECAY_STEP 3 C2 0.9 sharp is [2.4038791013971905, 1.6187092489547201, 1.8087291900115692, 3.0687391192189812, 0.7168539821815284]\n",
      "For Q1_TOP_NUMBER 500 Q2_TOP_NUMBER 50 Q1_DECAY_STEP 3 C2 0.9 turnovers is [33.13415620259797, 33.724854169660105, 31.792706713341023, 1.9179354466645397, 4.743905637690994]\n"
     ]
    },
    {
     "name": "stderr",
     "output_type": "stream",
     "text": [
      "100%|█████████████████████████████████████████████████████████████████████████████| 1257/1257 [00:04<00:00, 253.44it/s]\n"
     ]
    },
    {
     "name": "stdout",
     "output_type": "stream",
     "text": [
      "For Q1_TOP_NUMBER 500 Q2_TOP_NUMBER 50 Q1_DECAY_STEP 4 C2 0.5 sharp is [2.429446891959917, 1.6187092489547203, 1.8087291900115692, 3.329246868684019, 1.0848584778585686]\n",
      "For Q1_TOP_NUMBER 500 Q2_TOP_NUMBER 50 Q1_DECAY_STEP 4 C2 0.5 turnovers is [33.12448115610065, 33.724854169660105, 31.792706713341023, 2.9423851723969494, 73.12592265176927]\n"
     ]
    },
    {
     "name": "stderr",
     "output_type": "stream",
     "text": [
      "100%|█████████████████████████████████████████████████████████████████████████████| 1257/1257 [00:05<00:00, 248.86it/s]\n"
     ]
    },
    {
     "name": "stdout",
     "output_type": "stream",
     "text": [
      "For Q1_TOP_NUMBER 500 Q2_TOP_NUMBER 50 Q1_DECAY_STEP 4 C2 0.6 sharp is [2.380037772035993, 1.6187092489547201, 1.8087291900115692, 3.2446104369309756, 0.9516527164208256]\n",
      "For Q1_TOP_NUMBER 500 Q2_TOP_NUMBER 50 Q1_DECAY_STEP 4 C2 0.6 turnovers is [33.12711185239626, 33.724854169660105, 31.792706713341023, 2.4585609580386985, 32.625402016128284]\n"
     ]
    },
    {
     "name": "stderr",
     "output_type": "stream",
     "text": [
      "100%|█████████████████████████████████████████████████████████████████████████████| 1257/1257 [00:05<00:00, 251.05it/s]\n"
     ]
    },
    {
     "name": "stdout",
     "output_type": "stream",
     "text": [
      "For Q1_TOP_NUMBER 500 Q2_TOP_NUMBER 50 Q1_DECAY_STEP 4 C2 0.7 sharp is [2.428846296870152, 1.6187092489547203, 1.8087291900115692, 3.1723457034179154, 0.8225708510105201]\n",
      "For Q1_TOP_NUMBER 500 Q2_TOP_NUMBER 50 Q1_DECAY_STEP 4 C2 0.7 turnovers is [33.12941147415739, 33.724854169660105, 31.792706713341023, 2.1981842379334697, 16.172529201401577]\n"
     ]
    },
    {
     "name": "stderr",
     "output_type": "stream",
     "text": [
      "100%|█████████████████████████████████████████████████████████████████████████████| 1257/1257 [00:04<00:00, 254.09it/s]\n"
     ]
    },
    {
     "name": "stdout",
     "output_type": "stream",
     "text": [
      "For Q1_TOP_NUMBER 500 Q2_TOP_NUMBER 50 Q1_DECAY_STEP 4 C2 0.8 sharp is [2.4354722372372155, 1.6187092489547201, 1.8087291900115692, 3.1150396650622127, 0.755248246041282]\n",
      "For Q1_TOP_NUMBER 500 Q2_TOP_NUMBER 50 Q1_DECAY_STEP 4 C2 0.8 turnovers is [33.13141968503667, 33.724854169660105, 31.792706713341023, 2.0305970905996307, 8.56487429828001]\n"
     ]
    },
    {
     "name": "stderr",
     "output_type": "stream",
     "text": [
      "100%|█████████████████████████████████████████████████████████████████████████████| 1257/1257 [00:04<00:00, 256.01it/s]\n"
     ]
    },
    {
     "name": "stdout",
     "output_type": "stream",
     "text": [
      "For Q1_TOP_NUMBER 500 Q2_TOP_NUMBER 50 Q1_DECAY_STEP 4 C2 0.9 sharp is [2.4084394464837624, 1.6187092489547203, 1.8087291900115692, 3.0691070851562605, 0.7158577181672875]\n",
      "For Q1_TOP_NUMBER 500 Q2_TOP_NUMBER 50 Q1_DECAY_STEP 4 C2 0.9 turnovers is [33.1223269617927, 33.724854169660105, 31.792706713341023, 1.9145155116966175, 4.38861997116771]\n"
     ]
    },
    {
     "name": "stderr",
     "output_type": "stream",
     "text": [
      "100%|█████████████████████████████████████████████████████████████████████████████| 1257/1257 [00:04<00:00, 253.27it/s]\n"
     ]
    },
    {
     "name": "stdout",
     "output_type": "stream",
     "text": [
      "For Q1_TOP_NUMBER 500 Q2_TOP_NUMBER 100 Q1_DECAY_STEP 2 C2 0.5 sharp is [2.412532849567392, 1.6187092489547201, 1.8087291900115692, 3.389385718160166, 1.3641607167292016]\n",
      "For Q1_TOP_NUMBER 500 Q2_TOP_NUMBER 100 Q1_DECAY_STEP 2 C2 0.5 turnovers is [33.13332029959204, 33.724854169660105, 31.792706713341023, 3.106972901676475, 70.57435752203851]\n"
     ]
    },
    {
     "name": "stderr",
     "output_type": "stream",
     "text": [
      "100%|█████████████████████████████████████████████████████████████████████████████| 1257/1257 [00:04<00:00, 254.30it/s]\n"
     ]
    },
    {
     "name": "stdout",
     "output_type": "stream",
     "text": [
      "For Q1_TOP_NUMBER 500 Q2_TOP_NUMBER 100 Q1_DECAY_STEP 2 C2 0.6 sharp is [2.4074844953634664, 1.6187092489547203, 1.8087291900115692, 3.3234795017816627, 1.3450322294030024]\n",
      "For Q1_TOP_NUMBER 500 Q2_TOP_NUMBER 100 Q1_DECAY_STEP 2 C2 0.6 turnovers is [33.13455250514462, 33.724854169660105, 31.792706713341023, 2.5299133234948714, 37.81674920316144]\n"
     ]
    },
    {
     "name": "stderr",
     "output_type": "stream",
     "text": [
      "100%|█████████████████████████████████████████████████████████████████████████████| 1257/1257 [00:05<00:00, 242.62it/s]\n"
     ]
    },
    {
     "name": "stdout",
     "output_type": "stream",
     "text": [
      "For Q1_TOP_NUMBER 500 Q2_TOP_NUMBER 100 Q1_DECAY_STEP 2 C2 0.7 sharp is [2.406525552877781, 1.6187092489547201, 1.8087291900115692, 3.2704563088695866, 1.255016340436394]\n",
      "For Q1_TOP_NUMBER 500 Q2_TOP_NUMBER 100 Q1_DECAY_STEP 2 C2 0.7 turnovers is [33.12006090017166, 33.724854169660105, 31.792706713341023, 2.2002311118219127, 19.850487683312632]\n"
     ]
    },
    {
     "name": "stderr",
     "output_type": "stream",
     "text": [
      "100%|█████████████████████████████████████████████████████████████████████████████| 1257/1257 [00:05<00:00, 248.76it/s]\n"
     ]
    },
    {
     "name": "stdout",
     "output_type": "stream",
     "text": [
      "For Q1_TOP_NUMBER 500 Q2_TOP_NUMBER 100 Q1_DECAY_STEP 2 C2 0.8 sharp is [2.4058418790392815, 1.6187092489547201, 1.8087291900115692, 3.2283760737624845, 1.18128196336936]\n",
      "For Q1_TOP_NUMBER 500 Q2_TOP_NUMBER 100 Q1_DECAY_STEP 2 C2 0.8 turnovers is [33.13850095671738, 33.724854169660105, 31.792706713341023, 2.0034448493223915, 10.377787834006691]\n"
     ]
    },
    {
     "name": "stderr",
     "output_type": "stream",
     "text": [
      "100%|█████████████████████████████████████████████████████████████████████████████| 1257/1257 [00:04<00:00, 254.09it/s]\n"
     ]
    },
    {
     "name": "stdout",
     "output_type": "stream",
     "text": [
      "For Q1_TOP_NUMBER 500 Q2_TOP_NUMBER 100 Q1_DECAY_STEP 2 C2 0.9 sharp is [2.4085053714751745, 1.6187092489547201, 1.8087291900115692, 3.194741366060048, 1.1327399564715894]\n",
      "For Q1_TOP_NUMBER 500 Q2_TOP_NUMBER 100 Q1_DECAY_STEP 2 C2 0.9 turnovers is [33.14193509340937, 33.724854169660105, 31.792706713341023, 1.8788315089153365, 4.9235089044145806]\n"
     ]
    },
    {
     "name": "stderr",
     "output_type": "stream",
     "text": [
      "100%|█████████████████████████████████████████████████████████████████████████████| 1257/1257 [00:04<00:00, 255.12it/s]\n"
     ]
    },
    {
     "name": "stdout",
     "output_type": "stream",
     "text": [
      "For Q1_TOP_NUMBER 500 Q2_TOP_NUMBER 100 Q1_DECAY_STEP 3 C2 0.5 sharp is [2.37558006143321, 1.6187092489547203, 1.8087291900115692, 3.3685925204993414, 1.4016031008510426]\n",
      "For Q1_TOP_NUMBER 500 Q2_TOP_NUMBER 100 Q1_DECAY_STEP 3 C2 0.5 turnovers is [33.12119316632942, 33.724854169660105, 31.792706713341023, 3.0346451611545815, 73.83610867327182]\n"
     ]
    },
    {
     "name": "stderr",
     "output_type": "stream",
     "text": [
      "100%|█████████████████████████████████████████████████████████████████████████████| 1257/1257 [00:04<00:00, 251.50it/s]\n"
     ]
    },
    {
     "name": "stdout",
     "output_type": "stream",
     "text": [
      "For Q1_TOP_NUMBER 500 Q2_TOP_NUMBER 100 Q1_DECAY_STEP 3 C2 0.6 sharp is [2.40893779674098, 1.6187092489547203, 1.8087291900115692, 3.314215654418022, 1.3823618251887928]\n",
      "For Q1_TOP_NUMBER 500 Q2_TOP_NUMBER 100 Q1_DECAY_STEP 3 C2 0.6 turnovers is [33.11990311712051, 33.724854169660105, 31.792706713341023, 2.501591729246082, 35.43905391106783]\n"
     ]
    },
    {
     "name": "stderr",
     "output_type": "stream",
     "text": [
      "100%|█████████████████████████████████████████████████████████████████████████████| 1257/1257 [00:04<00:00, 254.35it/s]\n"
     ]
    },
    {
     "name": "stdout",
     "output_type": "stream",
     "text": [
      "For Q1_TOP_NUMBER 500 Q2_TOP_NUMBER 100 Q1_DECAY_STEP 3 C2 0.7 sharp is [2.411053330935445, 1.6187092489547203, 1.8087291900115692, 3.2648190198647273, 1.254201703372377]\n",
      "For Q1_TOP_NUMBER 500 Q2_TOP_NUMBER 100 Q1_DECAY_STEP 3 C2 0.7 turnovers is [33.123134461592684, 33.724854169660105, 31.792706713341023, 2.2066367319228504, 17.676136757774657]\n"
     ]
    },
    {
     "name": "stderr",
     "output_type": "stream",
     "text": [
      "100%|█████████████████████████████████████████████████████████████████████████████| 1257/1257 [00:04<00:00, 254.30it/s]\n"
     ]
    },
    {
     "name": "stdout",
     "output_type": "stream",
     "text": [
      "For Q1_TOP_NUMBER 500 Q2_TOP_NUMBER 100 Q1_DECAY_STEP 3 C2 0.8 sharp is [2.408758925807757, 1.6187092489547203, 1.8087291900115692, 3.225161729842028, 1.1746733554414799]\n",
      "For Q1_TOP_NUMBER 500 Q2_TOP_NUMBER 100 Q1_DECAY_STEP 3 C2 0.8 turnovers is [33.11511783679321, 33.724854169660105, 31.792706713341023, 2.0172769408480127, 9.13521601372613]\n"
     ]
    },
    {
     "name": "stderr",
     "output_type": "stream",
     "text": [
      "100%|█████████████████████████████████████████████████████████████████████████████| 1257/1257 [00:04<00:00, 251.90it/s]\n"
     ]
    },
    {
     "name": "stdout",
     "output_type": "stream",
     "text": [
      "For Q1_TOP_NUMBER 500 Q2_TOP_NUMBER 100 Q1_DECAY_STEP 3 C2 0.9 sharp is [2.41519926274817, 1.6187092489547203, 1.8087291900115692, 3.1933229962765677, 1.12912347527917]\n",
      "For Q1_TOP_NUMBER 500 Q2_TOP_NUMBER 100 Q1_DECAY_STEP 3 C2 0.9 turnovers is [33.13255923419735, 33.724854169660105, 31.792706713341023, 1.8864125563850187, 4.405899791142233]\n"
     ]
    },
    {
     "name": "stderr",
     "output_type": "stream",
     "text": [
      "100%|█████████████████████████████████████████████████████████████████████████████| 1257/1257 [00:05<00:00, 250.80it/s]\n"
     ]
    },
    {
     "name": "stdout",
     "output_type": "stream",
     "text": [
      "For Q1_TOP_NUMBER 500 Q2_TOP_NUMBER 100 Q1_DECAY_STEP 4 C2 0.5 sharp is [2.4174172203183164, 1.6187092489547201, 1.8087291900115692, 3.3706122194012536, 1.4317785004875039]\n",
      "For Q1_TOP_NUMBER 500 Q2_TOP_NUMBER 100 Q1_DECAY_STEP 4 C2 0.5 turnovers is [33.12794534635619, 33.724854169660105, 31.792706713341023, 3.0104272868854194, 76.95031131905928]\n"
     ]
    },
    {
     "name": "stderr",
     "output_type": "stream",
     "text": [
      "100%|█████████████████████████████████████████████████████████████████████████████| 1257/1257 [00:05<00:00, 251.20it/s]\n"
     ]
    },
    {
     "name": "stdout",
     "output_type": "stream",
     "text": [
      "For Q1_TOP_NUMBER 500 Q2_TOP_NUMBER 100 Q1_DECAY_STEP 4 C2 0.6 sharp is [2.391795636097893, 1.6187092489547203, 1.8087291900115692, 3.314485270903892, 1.375217770622849]\n",
      "For Q1_TOP_NUMBER 500 Q2_TOP_NUMBER 100 Q1_DECAY_STEP 4 C2 0.6 turnovers is [33.13217150641362, 33.724854169660105, 31.792706713341023, 2.476810211583914, 33.011422768314745]\n"
     ]
    },
    {
     "name": "stderr",
     "output_type": "stream",
     "text": [
      "100%|█████████████████████████████████████████████████████████████████████████████| 1257/1257 [00:04<00:00, 254.14it/s]\n"
     ]
    },
    {
     "name": "stdout",
     "output_type": "stream",
     "text": [
      "For Q1_TOP_NUMBER 500 Q2_TOP_NUMBER 100 Q1_DECAY_STEP 4 C2 0.7 sharp is [2.41311296705135, 1.6187092489547201, 1.8087291900115692, 3.2651085450521498, 1.2371936885609376]\n",
      "For Q1_TOP_NUMBER 500 Q2_TOP_NUMBER 100 Q1_DECAY_STEP 4 C2 0.7 turnovers is [33.123844352606824, 33.724854169660105, 31.792706713341023, 2.2109092624132525, 15.90546401361783]\n"
     ]
    },
    {
     "name": "stderr",
     "output_type": "stream",
     "text": [
      "100%|█████████████████████████████████████████████████████████████████████████████| 1257/1257 [00:05<00:00, 249.11it/s]\n"
     ]
    },
    {
     "name": "stdout",
     "output_type": "stream",
     "text": [
      "For Q1_TOP_NUMBER 500 Q2_TOP_NUMBER 100 Q1_DECAY_STEP 4 C2 0.8 sharp is [2.420603486278027, 1.6187092489547203, 1.8087291900115692, 3.2253716311027087, 1.1655001631603137]\n",
      "For Q1_TOP_NUMBER 500 Q2_TOP_NUMBER 100 Q1_DECAY_STEP 4 C2 0.8 turnovers is [33.122817641738834, 33.724854169660105, 31.792706713341023, 2.0342824267641895, 8.202322015970914]\n"
     ]
    },
    {
     "name": "stderr",
     "output_type": "stream",
     "text": [
      "100%|█████████████████████████████████████████████████████████████████████████████| 1257/1257 [00:04<00:00, 254.25it/s]\n"
     ]
    },
    {
     "name": "stdout",
     "output_type": "stream",
     "text": [
      "For Q1_TOP_NUMBER 500 Q2_TOP_NUMBER 100 Q1_DECAY_STEP 4 C2 0.9 sharp is [2.3869209660130415, 1.6187092489547201, 1.8087291900115692, 3.193542460026191, 1.1256943902925562]\n",
      "For Q1_TOP_NUMBER 500 Q2_TOP_NUMBER 100 Q1_DECAY_STEP 4 C2 0.9 turnovers is [33.13127508739912, 33.724854169660105, 31.792706713341023, 1.8991120761440583, 4.030508913807322]\n"
     ]
    },
    {
     "name": "stderr",
     "output_type": "stream",
     "text": [
      "100%|█████████████████████████████████████████████████████████████████████████████| 1257/1257 [00:05<00:00, 243.13it/s]\n"
     ]
    },
    {
     "name": "stdout",
     "output_type": "stream",
     "text": [
      "For Q1_TOP_NUMBER 500 Q2_TOP_NUMBER 200 Q1_DECAY_STEP 2 C2 0.5 sharp is [2.4469908975483197, 1.6187092489547201, 1.8087291900115692, 3.426518960422525, 1.2312043273652573]\n",
      "For Q1_TOP_NUMBER 500 Q2_TOP_NUMBER 200 Q1_DECAY_STEP 2 C2 0.5 turnovers is [33.134107633662694, 33.724854169660105, 31.792706713341023, 3.292942550153128, 79.26893168680569]\n"
     ]
    },
    {
     "name": "stderr",
     "output_type": "stream",
     "text": [
      "100%|█████████████████████████████████████████████████████████████████████████████| 1257/1257 [00:05<00:00, 247.88it/s]\n"
     ]
    },
    {
     "name": "stdout",
     "output_type": "stream",
     "text": [
      "For Q1_TOP_NUMBER 500 Q2_TOP_NUMBER 200 Q1_DECAY_STEP 2 C2 0.6 sharp is [2.397116839340622, 1.6187092489547201, 1.8087291900115692, 3.385258979362207, 1.189222893859031]\n",
      "For Q1_TOP_NUMBER 500 Q2_TOP_NUMBER 200 Q1_DECAY_STEP 2 C2 0.6 turnovers is [33.13230503955716, 33.724854169660105, 31.792706713341023, 2.612948404209708, 40.39782955403227]\n"
     ]
    },
    {
     "name": "stderr",
     "output_type": "stream",
     "text": [
      "100%|█████████████████████████████████████████████████████████████████████████████| 1257/1257 [00:04<00:00, 255.85it/s]\n"
     ]
    },
    {
     "name": "stdout",
     "output_type": "stream",
     "text": [
      "For Q1_TOP_NUMBER 500 Q2_TOP_NUMBER 200 Q1_DECAY_STEP 2 C2 0.7 sharp is [2.4178396838084155, 1.6187092489547201, 1.8087291900115692, 3.3522764956662816, 1.087187525099845]\n",
      "For Q1_TOP_NUMBER 500 Q2_TOP_NUMBER 200 Q1_DECAY_STEP 2 C2 0.7 turnovers is [33.13136259055532, 33.724854169660105, 31.792706713341023, 2.2518508449331893, 20.295856743057474]\n"
     ]
    },
    {
     "name": "stderr",
     "output_type": "stream",
     "text": [
      "100%|█████████████████████████████████████████████████████████████████████████████| 1257/1257 [00:04<00:00, 253.79it/s]\n"
     ]
    },
    {
     "name": "stdout",
     "output_type": "stream",
     "text": [
      "For Q1_TOP_NUMBER 500 Q2_TOP_NUMBER 200 Q1_DECAY_STEP 2 C2 0.8 sharp is [2.407362876179236, 1.6187092489547201, 1.8087291900115692, 3.3258525693149177, 1.0076496890702515]\n",
      "For Q1_TOP_NUMBER 500 Q2_TOP_NUMBER 200 Q1_DECAY_STEP 2 C2 0.8 turnovers is [33.123783245259546, 33.724854169660105, 31.792706713341023, 2.036950019542754, 10.141061109522592]\n"
     ]
    },
    {
     "name": "stderr",
     "output_type": "stream",
     "text": [
      "100%|█████████████████████████████████████████████████████████████████████████████| 1257/1257 [00:04<00:00, 252.36it/s]\n"
     ]
    },
    {
     "name": "stdout",
     "output_type": "stream",
     "text": [
      "For Q1_TOP_NUMBER 500 Q2_TOP_NUMBER 200 Q1_DECAY_STEP 2 C2 0.9 sharp is [2.3943384438150868, 1.6187092489547203, 1.8087291900115692, 3.304517314964205, 0.9562858818426505]\n",
      "For Q1_TOP_NUMBER 500 Q2_TOP_NUMBER 200 Q1_DECAY_STEP 2 C2 0.9 turnovers is [33.112624001274945, 33.724854169660105, 31.792706713341023, 1.89504709360176, 4.439892772822958]\n"
     ]
    },
    {
     "name": "stderr",
     "output_type": "stream",
     "text": [
      "100%|█████████████████████████████████████████████████████████████████████████████| 1257/1257 [00:04<00:00, 251.50it/s]\n"
     ]
    },
    {
     "name": "stdout",
     "output_type": "stream",
     "text": [
      "For Q1_TOP_NUMBER 500 Q2_TOP_NUMBER 200 Q1_DECAY_STEP 3 C2 0.5 sharp is [2.4238810240732955, 1.6187092489547201, 1.8087291900115692, 3.4077285469384995, 1.2617492040834228]\n",
      "For Q1_TOP_NUMBER 500 Q2_TOP_NUMBER 200 Q1_DECAY_STEP 3 C2 0.5 turnovers is [33.12287249184925, 33.724854169660105, 31.792706713341023, 3.2628881299988826, 82.71844128858673]\n"
     ]
    },
    {
     "name": "stderr",
     "output_type": "stream",
     "text": [
      "100%|█████████████████████████████████████████████████████████████████████████████| 1257/1257 [00:04<00:00, 253.38it/s]\n"
     ]
    },
    {
     "name": "stdout",
     "output_type": "stream",
     "text": [
      "For Q1_TOP_NUMBER 500 Q2_TOP_NUMBER 200 Q1_DECAY_STEP 3 C2 0.6 sharp is [2.42638571876197, 1.6187092489547203, 1.8087291900115692, 3.376690436054211, 1.2149405275344038]\n",
      "For Q1_TOP_NUMBER 500 Q2_TOP_NUMBER 200 Q1_DECAY_STEP 3 C2 0.6 turnovers is [33.12262448448212, 33.724854169660105, 31.792706713341023, 2.5803624943366246, 37.379721044881535]\n"
     ]
    },
    {
     "name": "stderr",
     "output_type": "stream",
     "text": [
      "100%|█████████████████████████████████████████████████████████████████████████████| 1257/1257 [00:04<00:00, 253.17it/s]\n"
     ]
    },
    {
     "name": "stdout",
     "output_type": "stream",
     "text": [
      "For Q1_TOP_NUMBER 500 Q2_TOP_NUMBER 200 Q1_DECAY_STEP 3 C2 0.7 sharp is [2.403291187247716, 1.6187092489547203, 1.8087291900115692, 3.3474423446766886, 1.0791264900102413]\n",
      "For Q1_TOP_NUMBER 500 Q2_TOP_NUMBER 200 Q1_DECAY_STEP 3 C2 0.7 turnovers is [33.13178312667951, 33.724854169660105, 31.792706713341023, 2.2736161553694845, 17.719051095048943]\n"
     ]
    },
    {
     "name": "stderr",
     "output_type": "stream",
     "text": [
      "100%|█████████████████████████████████████████████████████████████████████████████| 1257/1257 [00:04<00:00, 252.05it/s]\n"
     ]
    },
    {
     "name": "stdout",
     "output_type": "stream",
     "text": [
      "For Q1_TOP_NUMBER 500 Q2_TOP_NUMBER 200 Q1_DECAY_STEP 3 C2 0.8 sharp is [2.431334769096944, 1.6187092489547203, 1.8087291900115692, 3.323343038796848, 0.9974015777732904]\n",
      "For Q1_TOP_NUMBER 500 Q2_TOP_NUMBER 200 Q1_DECAY_STEP 3 C2 0.8 turnovers is [33.129857135888535, 33.724854169660105, 31.792706713341023, 2.077387551075602, 8.72241752760767]\n"
     ]
    },
    {
     "name": "stderr",
     "output_type": "stream",
     "text": [
      "100%|█████████████████████████████████████████████████████████████████████████████| 1257/1257 [00:04<00:00, 255.23it/s]\n"
     ]
    },
    {
     "name": "stdout",
     "output_type": "stream",
     "text": [
      "For Q1_TOP_NUMBER 500 Q2_TOP_NUMBER 200 Q1_DECAY_STEP 3 C2 0.9 sharp is [2.426612503204022, 1.6187092489547203, 1.8087291900115692, 3.303539144583404, 0.9513078181082659]\n",
      "For Q1_TOP_NUMBER 500 Q2_TOP_NUMBER 200 Q1_DECAY_STEP 3 C2 0.9 turnovers is [33.1306090749475, 33.724854169660105, 31.792706713341023, 1.9257176463428738, 3.8582652105418855]\n"
     ]
    },
    {
     "name": "stderr",
     "output_type": "stream",
     "text": [
      "100%|█████████████████████████████████████████████████████████████████████████████| 1257/1257 [00:04<00:00, 255.28it/s]\n"
     ]
    },
    {
     "name": "stdout",
     "output_type": "stream",
     "text": [
      "For Q1_TOP_NUMBER 500 Q2_TOP_NUMBER 200 Q1_DECAY_STEP 4 C2 0.5 sharp is [2.4052134721445944, 1.6187092489547203, 1.8087291900115692, 3.3994586245653924, 1.2775373503100382]\n",
      "For Q1_TOP_NUMBER 500 Q2_TOP_NUMBER 200 Q1_DECAY_STEP 4 C2 0.5 turnovers is [33.1248077435253, 33.724854169660105, 31.792706713341023, 3.1856446801563814, 86.34273842698376]\n"
     ]
    },
    {
     "name": "stderr",
     "output_type": "stream",
     "text": [
      "100%|█████████████████████████████████████████████████████████████████████████████| 1257/1257 [00:04<00:00, 254.45it/s]\n"
     ]
    },
    {
     "name": "stdout",
     "output_type": "stream",
     "text": [
      "For Q1_TOP_NUMBER 500 Q2_TOP_NUMBER 200 Q1_DECAY_STEP 4 C2 0.6 sharp is [2.4044420832124263, 1.6187092489547201, 1.8087291900115692, 3.3708564368082623, 1.1989649050826396]\n",
      "For Q1_TOP_NUMBER 500 Q2_TOP_NUMBER 200 Q1_DECAY_STEP 4 C2 0.6 turnovers is [33.12342331179114, 33.724854169660105, 31.792706713341023, 2.486059224501651, 34.31462783351671]\n"
     ]
    },
    {
     "name": "stderr",
     "output_type": "stream",
     "text": [
      "100%|█████████████████████████████████████████████████████████████████████████████| 1257/1257 [00:04<00:00, 254.66it/s]\n"
     ]
    },
    {
     "name": "stdout",
     "output_type": "stream",
     "text": [
      "For Q1_TOP_NUMBER 500 Q2_TOP_NUMBER 200 Q1_DECAY_STEP 4 C2 0.7 sharp is [2.3932440806490014, 1.6187092489547201, 1.8087291900115692, 3.343696484585057, 1.0573564665908233]\n",
      "For Q1_TOP_NUMBER 500 Q2_TOP_NUMBER 200 Q1_DECAY_STEP 4 C2 0.7 turnovers is [33.12671128567379, 33.724854169660105, 31.792706713341023, 2.1845600936943055, 15.676526866423245]\n"
     ]
    },
    {
     "name": "stderr",
     "output_type": "stream",
     "text": [
      "100%|█████████████████████████████████████████████████████████████████████████████| 1257/1257 [00:05<00:00, 248.42it/s]\n"
     ]
    },
    {
     "name": "stdout",
     "output_type": "stream",
     "text": [
      "For Q1_TOP_NUMBER 500 Q2_TOP_NUMBER 200 Q1_DECAY_STEP 4 C2 0.8 sharp is [2.416643243953638, 1.6187092489547203, 1.8087291900115692, 3.321154718407449, 0.9863010247877022]\n",
      "For Q1_TOP_NUMBER 500 Q2_TOP_NUMBER 200 Q1_DECAY_STEP 4 C2 0.8 turnovers is [33.12933396863517, 33.724854169660105, 31.792706713341023, 2.017334845260401, 7.676784660714127]\n"
     ]
    },
    {
     "name": "stderr",
     "output_type": "stream",
     "text": [
      "100%|█████████████████████████████████████████████████████████████████████████████| 1257/1257 [00:05<00:00, 242.10it/s]\n"
     ]
    },
    {
     "name": "stdout",
     "output_type": "stream",
     "text": [
      "For Q1_TOP_NUMBER 500 Q2_TOP_NUMBER 200 Q1_DECAY_STEP 4 C2 0.9 sharp is [2.4225112225172074, 1.6187092489547203, 1.8087291900115692, 3.3025484728401455, 0.9472711665827376]\n",
      "For Q1_TOP_NUMBER 500 Q2_TOP_NUMBER 200 Q1_DECAY_STEP 4 C2 0.9 turnovers is [33.12897488637671, 33.724854169660105, 31.792706713341023, 1.8993008033355858, 3.4441057709779566]\n"
     ]
    },
    {
     "name": "stderr",
     "output_type": "stream",
     "text": [
      "100%|█████████████████████████████████████████████████████████████████████████████| 1257/1257 [00:04<00:00, 252.77it/s]\n"
     ]
    },
    {
     "name": "stdout",
     "output_type": "stream",
     "text": [
      "For Q1_TOP_NUMBER 500 Q2_TOP_NUMBER 300 Q1_DECAY_STEP 2 C2 0.5 sharp is [2.388464522042836, 1.6187092489547203, 1.8087291900115692, 3.470886374787773, 1.2624687409506135]\n",
      "For Q1_TOP_NUMBER 500 Q2_TOP_NUMBER 300 Q1_DECAY_STEP 2 C2 0.5 turnovers is [33.124617226253406, 33.724854169660105, 31.792706713341023, 3.603878232035229, 90.1093517944836]\n"
     ]
    },
    {
     "name": "stderr",
     "output_type": "stream",
     "text": [
      "100%|█████████████████████████████████████████████████████████████████████████████| 1257/1257 [00:04<00:00, 254.97it/s]\n"
     ]
    },
    {
     "name": "stdout",
     "output_type": "stream",
     "text": [
      "For Q1_TOP_NUMBER 500 Q2_TOP_NUMBER 300 Q1_DECAY_STEP 2 C2 0.6 sharp is [2.418581752148246, 1.6187092489547201, 1.8087291900115692, 3.4406431231146737, 1.2534844265865428]\n",
      "For Q1_TOP_NUMBER 500 Q2_TOP_NUMBER 300 Q1_DECAY_STEP 2 C2 0.6 turnovers is [33.125021436513364, 33.724854169660105, 31.792706713341023, 2.6972244130505105, 44.44447279416897]\n"
     ]
    },
    {
     "name": "stderr",
     "output_type": "stream",
     "text": [
      "100%|█████████████████████████████████████████████████████████████████████████████| 1257/1257 [00:04<00:00, 252.61it/s]\n"
     ]
    },
    {
     "name": "stdout",
     "output_type": "stream",
     "text": [
      "For Q1_TOP_NUMBER 500 Q2_TOP_NUMBER 300 Q1_DECAY_STEP 2 C2 0.7 sharp is [2.403428662234881, 1.6187092489547201, 1.8087291900115692, 3.417739265016221, 1.1537867904681542]\n",
      "For Q1_TOP_NUMBER 500 Q2_TOP_NUMBER 300 Q1_DECAY_STEP 2 C2 0.7 turnovers is [33.11884592321974, 33.724854169660105, 31.792706713341023, 2.2641652800623797, 21.51217065212348]\n"
     ]
    },
    {
     "name": "stderr",
     "output_type": "stream",
     "text": [
      "100%|█████████████████████████████████████████████████████████████████████████████| 1257/1257 [00:05<00:00, 250.35it/s]\n"
     ]
    },
    {
     "name": "stdout",
     "output_type": "stream",
     "text": [
      "For Q1_TOP_NUMBER 500 Q2_TOP_NUMBER 300 Q1_DECAY_STEP 2 C2 0.8 sharp is [2.4132634426176693, 1.6187092489547201, 1.8087291900115692, 3.399335459723501, 1.064851592447254]\n",
      "For Q1_TOP_NUMBER 500 Q2_TOP_NUMBER 300 Q1_DECAY_STEP 2 C2 0.8 turnovers is [33.11610846861653, 33.724854169660105, 31.792706713341023, 2.0310840105446397, 10.45928485192562]\n"
     ]
    },
    {
     "name": "stderr",
     "output_type": "stream",
     "text": [
      "100%|█████████████████████████████████████████████████████████████████████████████| 1257/1257 [00:04<00:00, 253.53it/s]\n"
     ]
    },
    {
     "name": "stdout",
     "output_type": "stream",
     "text": [
      "For Q1_TOP_NUMBER 500 Q2_TOP_NUMBER 300 Q1_DECAY_STEP 2 C2 0.9 sharp is [2.3841181899501382, 1.6187092489547201, 1.8087291900115692, 3.384906732291135, 1.0049035903161645]\n",
      "For Q1_TOP_NUMBER 500 Q2_TOP_NUMBER 300 Q1_DECAY_STEP 2 C2 0.9 turnovers is [33.129669680530704, 33.724854169660105, 31.792706713341023, 1.88490876577565, 4.413179722449605]\n"
     ]
    },
    {
     "name": "stderr",
     "output_type": "stream",
     "text": [
      "100%|█████████████████████████████████████████████████████████████████████████████| 1257/1257 [00:04<00:00, 255.69it/s]\n"
     ]
    },
    {
     "name": "stdout",
     "output_type": "stream",
     "text": [
      "For Q1_TOP_NUMBER 500 Q2_TOP_NUMBER 300 Q1_DECAY_STEP 3 C2 0.5 sharp is [2.3901743546818492, 1.6187092489547203, 1.8087291900115692, 3.448492916944223, 1.2792311693113823]\n",
      "For Q1_TOP_NUMBER 500 Q2_TOP_NUMBER 300 Q1_DECAY_STEP 3 C2 0.5 turnovers is [33.12924515641232, 33.724854169660105, 31.792706713341023, 3.5370746375258073, 93.99639332464879]\n"
     ]
    },
    {
     "name": "stderr",
     "output_type": "stream",
     "text": [
      "100%|█████████████████████████████████████████████████████████████████████████████| 1257/1257 [00:04<00:00, 252.71it/s]\n"
     ]
    },
    {
     "name": "stdout",
     "output_type": "stream",
     "text": [
      "For Q1_TOP_NUMBER 500 Q2_TOP_NUMBER 300 Q1_DECAY_STEP 3 C2 0.6 sharp is [2.413943666294693, 1.6187092489547203, 1.8087291900115692, 3.4306470268325637, 1.2836425345584392]\n",
      "For Q1_TOP_NUMBER 500 Q2_TOP_NUMBER 300 Q1_DECAY_STEP 3 C2 0.6 turnovers is [33.12889292163649, 33.724854169660105, 31.792706713341023, 2.6265715574598834, 40.6304093754086]\n"
     ]
    },
    {
     "name": "stderr",
     "output_type": "stream",
     "text": [
      "100%|█████████████████████████████████████████████████████████████████████████████| 1257/1257 [00:04<00:00, 253.89it/s]\n"
     ]
    },
    {
     "name": "stdout",
     "output_type": "stream",
     "text": [
      "For Q1_TOP_NUMBER 500 Q2_TOP_NUMBER 300 Q1_DECAY_STEP 3 C2 0.7 sharp is [2.4165701958215093, 1.6187092489547201, 1.8087291900115692, 3.4107317641660777, 1.145464495454245]\n",
      "For Q1_TOP_NUMBER 500 Q2_TOP_NUMBER 300 Q1_DECAY_STEP 3 C2 0.7 turnovers is [33.13327300678863, 33.724854169660105, 31.792706713341023, 2.240987392765374, 18.489514854169478]\n"
     ]
    },
    {
     "name": "stderr",
     "output_type": "stream",
     "text": [
      "100%|█████████████████████████████████████████████████████████████████████████████| 1257/1257 [00:04<00:00, 253.99it/s]\n"
     ]
    },
    {
     "name": "stdout",
     "output_type": "stream",
     "text": [
      "For Q1_TOP_NUMBER 500 Q2_TOP_NUMBER 300 Q1_DECAY_STEP 3 C2 0.8 sharp is [2.433858909008139, 1.6187092489547201, 1.8087291900115692, 3.394750076987214, 1.0527529601976018]\n",
      "For Q1_TOP_NUMBER 500 Q2_TOP_NUMBER 300 Q1_DECAY_STEP 3 C2 0.8 turnovers is [33.12140746349292, 33.724854169660105, 31.792706713341023, 2.0259698789921594, 8.86038773206162]\n"
     ]
    },
    {
     "name": "stderr",
     "output_type": "stream",
     "text": [
      "100%|█████████████████████████████████████████████████████████████████████████████| 1257/1257 [00:04<00:00, 254.04it/s]\n"
     ]
    },
    {
     "name": "stdout",
     "output_type": "stream",
     "text": [
      "For Q1_TOP_NUMBER 500 Q2_TOP_NUMBER 300 Q1_DECAY_STEP 3 C2 0.9 sharp is [2.4154783390224144, 1.6187092489547201, 1.8087291900115692, 3.3826636640018726, 0.9988635764206966]\n",
      "For Q1_TOP_NUMBER 500 Q2_TOP_NUMBER 300 Q1_DECAY_STEP 3 C2 0.9 turnovers is [33.12234971056849, 33.724854169660105, 31.792706713341023, 1.8848825628544743, 3.770845500416358]\n"
     ]
    },
    {
     "name": "stderr",
     "output_type": "stream",
     "text": [
      "100%|█████████████████████████████████████████████████████████████████████████████| 1257/1257 [00:05<00:00, 249.50it/s]\n"
     ]
    },
    {
     "name": "stdout",
     "output_type": "stream",
     "text": [
      "For Q1_TOP_NUMBER 500 Q2_TOP_NUMBER 300 Q1_DECAY_STEP 4 C2 0.5 sharp is [2.417574994802787, 1.6187092489547203, 1.8087291900115692, 3.435879405270777, 1.293013076826147]\n",
      "For Q1_TOP_NUMBER 500 Q2_TOP_NUMBER 300 Q1_DECAY_STEP 4 C2 0.5 turnovers is [33.13120080057942, 33.724854169660105, 31.792706713341023, 3.480046719444962, 98.01649694550476]\n"
     ]
    },
    {
     "name": "stderr",
     "output_type": "stream",
     "text": [
      "100%|█████████████████████████████████████████████████████████████████████████████| 1257/1257 [00:04<00:00, 251.50it/s]\n"
     ]
    },
    {
     "name": "stdout",
     "output_type": "stream",
     "text": [
      "For Q1_TOP_NUMBER 500 Q2_TOP_NUMBER 300 Q1_DECAY_STEP 4 C2 0.6 sharp is [2.388224851171003, 1.6187092489547203, 1.8087291900115692, 3.4215421569472175, 1.2722422075553859]\n",
      "For Q1_TOP_NUMBER 500 Q2_TOP_NUMBER 300 Q1_DECAY_STEP 4 C2 0.6 turnovers is [33.122433672599186, 33.724854169660105, 31.792706713341023, 2.56526901695654, 36.79649544724442]\n"
     ]
    },
    {
     "name": "stderr",
     "output_type": "stream",
     "text": [
      "100%|█████████████████████████████████████████████████████████████████████████████| 1257/1257 [00:05<00:00, 244.17it/s]\n"
     ]
    },
    {
     "name": "stdout",
     "output_type": "stream",
     "text": [
      "For Q1_TOP_NUMBER 500 Q2_TOP_NUMBER 300 Q1_DECAY_STEP 4 C2 0.7 sharp is [2.4263635897934916, 1.6187092489547203, 1.8087291900115692, 3.4043931702354797, 1.1212090415908327]\n",
      "For Q1_TOP_NUMBER 500 Q2_TOP_NUMBER 300 Q1_DECAY_STEP 4 C2 0.7 turnovers is [33.12816748232452, 33.724854169660105, 31.792706713341023, 2.1999259252862937, 16.15966368133796]\n"
     ]
    },
    {
     "name": "stderr",
     "output_type": "stream",
     "text": [
      "100%|█████████████████████████████████████████████████████████████████████████████| 1257/1257 [00:04<00:00, 253.17it/s]\n"
     ]
    },
    {
     "name": "stdout",
     "output_type": "stream",
     "text": [
      "For Q1_TOP_NUMBER 500 Q2_TOP_NUMBER 300 Q1_DECAY_STEP 4 C2 0.8 sharp is [2.4146129081043393, 1.6187092489547203, 1.8087291900115692, 3.390840918039777, 1.0397365810331831]\n",
      "For Q1_TOP_NUMBER 500 Q2_TOP_NUMBER 300 Q1_DECAY_STEP 4 C2 0.8 turnovers is [33.12516918150846, 33.724854169660105, 31.792706713341023, 2.002023469652954, 7.706012831379662]\n"
     ]
    },
    {
     "name": "stderr",
     "output_type": "stream",
     "text": [
      "100%|█████████████████████████████████████████████████████████████████████████████| 1257/1257 [00:04<00:00, 252.92it/s]\n"
     ]
    },
    {
     "name": "stdout",
     "output_type": "stream",
     "text": [
      "For Q1_TOP_NUMBER 500 Q2_TOP_NUMBER 300 Q1_DECAY_STEP 4 C2 0.9 sharp is [2.404936042797044, 1.6187092489547203, 1.8087291900115692, 3.3808371108199675, 0.9939920095466296]\n",
      "For Q1_TOP_NUMBER 500 Q2_TOP_NUMBER 300 Q1_DECAY_STEP 4 C2 0.9 turnovers is [33.12375943750833, 33.724854169660105, 31.792706713341023, 1.8742326122719624, 3.320284923232556]\n"
     ]
    },
    {
     "name": "stderr",
     "output_type": "stream",
     "text": [
      "100%|█████████████████████████████████████████████████████████████████████████████| 1257/1257 [00:04<00:00, 252.41it/s]\n"
     ]
    },
    {
     "name": "stdout",
     "output_type": "stream",
     "text": [
      "For Q1_TOP_NUMBER 500 Q2_TOP_NUMBER 500 Q1_DECAY_STEP 2 C2 0.5 sharp is [2.4110397511058124, 1.6187092489547203, 1.8087291900115692, 3.5220695341538915, 1.1786940170422995]\n",
      "For Q1_TOP_NUMBER 500 Q2_TOP_NUMBER 500 Q1_DECAY_STEP 2 C2 0.5 turnovers is [33.13119741118034, 33.724854169660105, 31.792706713341023, 4.051979265962596, 109.95017503913493]\n"
     ]
    },
    {
     "name": "stderr",
     "output_type": "stream",
     "text": [
      "100%|█████████████████████████████████████████████████████████████████████████████| 1257/1257 [00:04<00:00, 253.02it/s]\n"
     ]
    },
    {
     "name": "stdout",
     "output_type": "stream",
     "text": [
      "For Q1_TOP_NUMBER 500 Q2_TOP_NUMBER 500 Q1_DECAY_STEP 2 C2 0.6 sharp is [2.408517534464155, 1.6187092489547203, 1.8087291900115692, 3.500160517218077, 1.27149107020658]\n",
      "For Q1_TOP_NUMBER 500 Q2_TOP_NUMBER 500 Q1_DECAY_STEP 2 C2 0.6 turnovers is [33.12049385427793, 33.724854169660105, 31.792706713341023, 2.9521478747940724, 57.2501542308878]\n"
     ]
    },
    {
     "name": "stderr",
     "output_type": "stream",
     "text": [
      "100%|█████████████████████████████████████████████████████████████████████████████| 1257/1257 [00:04<00:00, 252.11it/s]\n"
     ]
    },
    {
     "name": "stdout",
     "output_type": "stream",
     "text": [
      "For Q1_TOP_NUMBER 500 Q2_TOP_NUMBER 500 Q1_DECAY_STEP 2 C2 0.7 sharp is [2.419286293811075, 1.6187092489547203, 1.8087291900115692, 3.488419332620686, 1.1970466642385482]\n",
      "For Q1_TOP_NUMBER 500 Q2_TOP_NUMBER 500 Q1_DECAY_STEP 2 C2 0.7 turnovers is [33.13981174437834, 33.724854169660105, 31.792706713341023, 2.3597023956286196, 25.792478320248502]\n"
     ]
    },
    {
     "name": "stderr",
     "output_type": "stream",
     "text": [
      "100%|█████████████████████████████████████████████████████████████████████████████| 1257/1257 [00:04<00:00, 251.95it/s]\n"
     ]
    },
    {
     "name": "stdout",
     "output_type": "stream",
     "text": [
      "For Q1_TOP_NUMBER 500 Q2_TOP_NUMBER 500 Q1_DECAY_STEP 2 C2 0.8 sharp is [2.4080868890405402, 1.6187092489547201, 1.8087291900115692, 3.4786051922249976, 1.0701381591238375]\n",
      "For Q1_TOP_NUMBER 500 Q2_TOP_NUMBER 500 Q1_DECAY_STEP 2 C2 0.8 turnovers is [33.126961099821315, 33.724854169660105, 31.792706713341023, 2.0680560850588177, 11.989093116679667]\n"
     ]
    },
    {
     "name": "stderr",
     "output_type": "stream",
     "text": [
      "100%|█████████████████████████████████████████████████████████████████████████████| 1257/1257 [00:04<00:00, 254.45it/s]\n"
     ]
    },
    {
     "name": "stdout",
     "output_type": "stream",
     "text": [
      "For Q1_TOP_NUMBER 500 Q2_TOP_NUMBER 500 Q1_DECAY_STEP 2 C2 0.9 sharp is [2.4131003479116844, 1.6187092489547201, 1.8087291900115692, 3.471414799971645, 0.9784592112032584]\n",
      "For Q1_TOP_NUMBER 500 Q2_TOP_NUMBER 500 Q1_DECAY_STEP 2 C2 0.9 turnovers is [33.12975181483605, 33.724854169660105, 31.792706713341023, 1.8987462323223125, 4.905702929196631]\n"
     ]
    },
    {
     "name": "stderr",
     "output_type": "stream",
     "text": [
      "100%|█████████████████████████████████████████████████████████████████████████████| 1257/1257 [00:04<00:00, 253.07it/s]\n"
     ]
    },
    {
     "name": "stdout",
     "output_type": "stream",
     "text": [
      "For Q1_TOP_NUMBER 500 Q2_TOP_NUMBER 500 Q1_DECAY_STEP 3 C2 0.5 sharp is [2.3752946689747385, 1.6187092489547201, 1.8087291900115692, 3.493583737314809, 1.1778257354253328]\n",
      "For Q1_TOP_NUMBER 500 Q2_TOP_NUMBER 500 Q1_DECAY_STEP 3 C2 0.5 turnovers is [33.1280820934683, 33.724854169660105, 31.792706713341023, 3.8836922723206433, 115.09236949774201]\n"
     ]
    },
    {
     "name": "stderr",
     "output_type": "stream",
     "text": [
      "100%|█████████████████████████████████████████████████████████████████████████████| 1257/1257 [00:04<00:00, 253.89it/s]\n"
     ]
    },
    {
     "name": "stdout",
     "output_type": "stream",
     "text": [
      "For Q1_TOP_NUMBER 500 Q2_TOP_NUMBER 500 Q1_DECAY_STEP 3 C2 0.6 sharp is [2.3881036244000517, 1.6187092489547201, 1.8087291900115692, 3.487571814853585, 1.2938019452110616]\n",
      "For Q1_TOP_NUMBER 500 Q2_TOP_NUMBER 500 Q1_DECAY_STEP 3 C2 0.6 turnovers is [33.114978461534236, 33.724854169660105, 31.792706713341023, 2.7633733396199562, 51.369481015630015]\n"
     ]
    },
    {
     "name": "stderr",
     "output_type": "stream",
     "text": [
      "100%|█████████████████████████████████████████████████████████████████████████████| 1257/1257 [00:04<00:00, 252.97it/s]\n"
     ]
    },
    {
     "name": "stdout",
     "output_type": "stream",
     "text": [
      "For Q1_TOP_NUMBER 500 Q2_TOP_NUMBER 500 Q1_DECAY_STEP 3 C2 0.7 sharp is [2.391904727044605, 1.6187092489547201, 1.8087291900115692, 3.479547604963658, 1.155479961834704]\n",
      "For Q1_TOP_NUMBER 500 Q2_TOP_NUMBER 500 Q1_DECAY_STEP 3 C2 0.7 turnovers is [33.121685352817366, 33.724854169660105, 31.792706713341023, 2.2765815573253514, 21.442610923464734]\n"
     ]
    },
    {
     "name": "stderr",
     "output_type": "stream",
     "text": [
      "100%|█████████████████████████████████████████████████████████████████████████████| 1257/1257 [00:04<00:00, 256.01it/s]\n"
     ]
    },
    {
     "name": "stdout",
     "output_type": "stream",
     "text": [
      "For Q1_TOP_NUMBER 500 Q2_TOP_NUMBER 500 Q1_DECAY_STEP 3 C2 0.8 sharp is [2.4096389962314917, 1.6187092489547203, 1.8087291900115692, 3.4725576567525898, 1.0167886666330619]\n",
      "For Q1_TOP_NUMBER 500 Q2_TOP_NUMBER 500 Q1_DECAY_STEP 3 C2 0.8 turnovers is [33.11886162540994, 33.724854169660105, 31.792706713341023, 2.0340328826592717, 9.891843780258109]\n"
     ]
    },
    {
     "name": "stderr",
     "output_type": "stream",
     "text": [
      "100%|█████████████████████████████████████████████████████████████████████████████| 1257/1257 [00:04<00:00, 255.33it/s]\n"
     ]
    },
    {
     "name": "stdout",
     "output_type": "stream",
     "text": [
      "For Q1_TOP_NUMBER 500 Q2_TOP_NUMBER 500 Q1_DECAY_STEP 3 C2 0.9 sharp is [2.4103882526414875, 1.6187092489547201, 1.8087291900115692, 3.4684180197213936, 0.9508962452186004]\n",
      "For Q1_TOP_NUMBER 500 Q2_TOP_NUMBER 500 Q1_DECAY_STEP 3 C2 0.9 turnovers is [33.123012631640336, 33.724854169660105, 31.792706713341023, 1.8861339255850147, 4.101337881703892]\n"
     ]
    },
    {
     "name": "stderr",
     "output_type": "stream",
     "text": [
      "100%|█████████████████████████████████████████████████████████████████████████████| 1257/1257 [00:05<00:00, 238.16it/s]\n"
     ]
    },
    {
     "name": "stdout",
     "output_type": "stream",
     "text": [
      "For Q1_TOP_NUMBER 500 Q2_TOP_NUMBER 500 Q1_DECAY_STEP 4 C2 0.5 sharp is [2.4071867274584933, 1.6187092489547203, 1.8087291900115692, 3.47838627003455, 1.1615076147083636]\n",
      "For Q1_TOP_NUMBER 500 Q2_TOP_NUMBER 500 Q1_DECAY_STEP 4 C2 0.5 turnovers is [33.12771133965055, 33.724854169660105, 31.792706713341023, 3.834052574485918, 119.52501821302772]\n"
     ]
    },
    {
     "name": "stderr",
     "output_type": "stream",
     "text": [
      "100%|█████████████████████████████████████████████████████████████████████████████| 1257/1257 [00:04<00:00, 253.12it/s]\n"
     ]
    },
    {
     "name": "stdout",
     "output_type": "stream",
     "text": [
      "For Q1_TOP_NUMBER 500 Q2_TOP_NUMBER 500 Q1_DECAY_STEP 4 C2 0.6 sharp is [2.3900114156240835, 1.6187092489547203, 1.8087291900115692, 3.473432997857004, 1.2815207045279682]\n",
      "For Q1_TOP_NUMBER 500 Q2_TOP_NUMBER 500 Q1_DECAY_STEP 4 C2 0.6 turnovers is [33.130953518247054, 33.724854169660105, 31.792706713341023, 2.7302927387850633, 45.08455418401604]\n"
     ]
    },
    {
     "name": "stderr",
     "output_type": "stream",
     "text": [
      "100%|█████████████████████████████████████████████████████████████████████████████| 1257/1257 [00:04<00:00, 251.75it/s]\n"
     ]
    },
    {
     "name": "stdout",
     "output_type": "stream",
     "text": [
      "For Q1_TOP_NUMBER 500 Q2_TOP_NUMBER 500 Q1_DECAY_STEP 4 C2 0.7 sharp is [2.3854609358142738, 1.6187092489547203, 1.8087291900115692, 3.469544693715684, 1.069195393244152]\n",
      "For Q1_TOP_NUMBER 500 Q2_TOP_NUMBER 500 Q1_DECAY_STEP 4 C2 0.7 turnovers is [33.11611532813198, 33.724854169660105, 31.792706713341023, 2.2541991900198473, 18.302480140624123]\n"
     ]
    },
    {
     "name": "stderr",
     "output_type": "stream",
     "text": [
      "100%|█████████████████████████████████████████████████████████████████████████████| 1257/1257 [00:04<00:00, 255.75it/s]\n"
     ]
    },
    {
     "name": "stdout",
     "output_type": "stream",
     "text": [
      "For Q1_TOP_NUMBER 500 Q2_TOP_NUMBER 500 Q1_DECAY_STEP 4 C2 0.8 sharp is [2.3948715885520118, 1.6187092489547203, 1.8087291900115692, 3.4663724867359478, 0.9578128663510714]\n",
      "For Q1_TOP_NUMBER 500 Q2_TOP_NUMBER 500 Q1_DECAY_STEP 4 C2 0.8 turnovers is [33.119803161259945, 33.724854169660105, 31.792706713341023, 2.024045218073777, 8.44786122311809]\n"
     ]
    },
    {
     "name": "stderr",
     "output_type": "stream",
     "text": [
      "100%|█████████████████████████████████████████████████████████████████████████████| 1257/1257 [00:04<00:00, 251.95it/s]"
     ]
    },
    {
     "name": "stdout",
     "output_type": "stream",
     "text": [
      "For Q1_TOP_NUMBER 500 Q2_TOP_NUMBER 500 Q1_DECAY_STEP 4 C2 0.9 sharp is [2.415098524594401, 1.6187092489547201, 1.8087291900115692, 3.465532533771895, 0.9262352766257164]\n",
      "For Q1_TOP_NUMBER 500 Q2_TOP_NUMBER 500 Q1_DECAY_STEP 4 C2 0.9 turnovers is [33.12244546439751, 33.724854169660105, 31.792706713341023, 1.883583253410215, 3.5569993385251655]\n"
     ]
    },
    {
     "name": "stderr",
     "output_type": "stream",
     "text": [
      "\n"
     ]
    }
   ],
   "source": [
    "# plt.title('PnL')\n",
    "for Q1_TOP_NUMBER in (10, 50, 100, 200, 300, 500):\n",
    "    for Q2_TOP_NUMBER in (10, 50, 100, 200, 300, 500):\n",
    "        for Q1_DECAY_STEP in (2, 3, 4):\n",
    "            for C2 in (0.5, 0.6, 0.7, 0.8, 0.9):\n",
    "                pnls, turnovers, sharpe_ratios, A = create_alpha()\n",
    "\n",
    "#                 plt.plot(np.cumsum(pnls), label=f'Top number {TOP_NUMBER}')\n",
    "                sharpe_ratios_year = []\n",
    "                turnover_years = []\n",
    "                for i in range(5):\n",
    "                    sharpe_ratio = np.array(pnls[i * T + n: (i+1) * T+n]).mean() / np.array(pnls[i * T + n: (i+1) * T + n]).std() * (T**0.5)\n",
    "                    sharpe_ratios_year.append(sharpe_ratio)\n",
    "\n",
    "                    turnover_year = np.mean(turnovers[i*T +n: (i+1) * T + n])\n",
    "                    turnover_years.append(turnover_year)\n",
    "                print(f\"For Q1_TOP_NUMBER {Q1_TOP_NUMBER} Q2_TOP_NUMBER {Q2_TOP_NUMBER} Q1_DECAY_STEP {Q1_DECAY_STEP} C2 {C2} sharp is {(sharpe_ratios_year)}\")\n",
    "                print(f\"For Q1_TOP_NUMBER {Q1_TOP_NUMBER} Q2_TOP_NUMBER {Q2_TOP_NUMBER} Q1_DECAY_STEP {Q1_DECAY_STEP} C2 {C2} turnovers is {(turnover_years)}\")\n",
    "\n",
    "# plt.legend()\n",
    "# plt.show()"
   ]
  },
  {
   "cell_type": "code",
   "execution_count": null,
   "id": "a55d162f",
   "metadata": {},
   "outputs": [],
   "source": []
  },
  {
   "cell_type": "code",
   "execution_count": null,
   "id": "28932b7d",
   "metadata": {},
   "outputs": [],
   "source": []
  },
  {
   "cell_type": "code",
   "execution_count": 216,
   "id": "9d14d51c",
   "metadata": {},
   "outputs": [
    {
     "name": "stderr",
     "output_type": "stream",
     "text": [
      "  0%|                                                                                         | 0/1257 [00:00<?, ?it/s]D:\\programs\\Anaconda\\lib\\site-packages\\ipykernel_launcher.py:146: RuntimeWarning: invalid value encountered in double_scalars\n",
      "100%|█████████████████████████████████████████████████████████████████████████████| 1257/1257 [00:04<00:00, 255.43it/s]\n"
     ]
    },
    {
     "name": "stdout",
     "output_type": "stream",
     "text": [
      "For C1 10 sharp is [-0.24470130887809394, -0.7384952790702176, 0.05507455156836646, -0.6695676922337573, -0.4479866548381453]\n"
     ]
    },
    {
     "name": "stderr",
     "output_type": "stream",
     "text": [
      "  0%|                                                                                         | 0/1257 [00:00<?, ?it/s]D:\\programs\\Anaconda\\lib\\site-packages\\ipykernel_launcher.py:146: RuntimeWarning: invalid value encountered in double_scalars\n",
      "100%|█████████████████████████████████████████████████████████████████████████████| 1257/1257 [00:04<00:00, 256.84it/s]\n"
     ]
    },
    {
     "name": "stdout",
     "output_type": "stream",
     "text": [
      "For C1 50 sharp is [0.6082048150152283, 0.10243651174130146, 0.6832038825646741, -0.09244155890685504, -0.3303688405730502]\n"
     ]
    },
    {
     "name": "stderr",
     "output_type": "stream",
     "text": [
      "  0%|                                                                                         | 0/1257 [00:00<?, ?it/s]D:\\programs\\Anaconda\\lib\\site-packages\\ipykernel_launcher.py:146: RuntimeWarning: invalid value encountered in double_scalars\n",
      "100%|█████████████████████████████████████████████████████████████████████████████| 1257/1257 [00:04<00:00, 257.74it/s]\n"
     ]
    },
    {
     "name": "stdout",
     "output_type": "stream",
     "text": [
      "For C1 100 sharp is [1.4362202028320576, 0.6457009163097063, 0.7644245608647838, 0.2215914338524267, -0.17286382360656327]\n"
     ]
    },
    {
     "name": "stderr",
     "output_type": "stream",
     "text": [
      "  0%|                                                                                         | 0/1257 [00:00<?, ?it/s]D:\\programs\\Anaconda\\lib\\site-packages\\ipykernel_launcher.py:146: RuntimeWarning: invalid value encountered in double_scalars\n",
      "100%|█████████████████████████████████████████████████████████████████████████████| 1257/1257 [00:04<00:00, 257.69it/s]\n"
     ]
    },
    {
     "name": "stdout",
     "output_type": "stream",
     "text": [
      "For C1 200 sharp is [1.9341655540188252, 1.4096497470239542, 1.31070215392821, 0.39144845513724463, -0.02648121602558088]\n"
     ]
    },
    {
     "name": "stderr",
     "output_type": "stream",
     "text": [
      "  0%|                                                                                         | 0/1257 [00:00<?, ?it/s]D:\\programs\\Anaconda\\lib\\site-packages\\ipykernel_launcher.py:146: RuntimeWarning: invalid value encountered in double_scalars\n",
      "100%|█████████████████████████████████████████████████████████████████████████████| 1257/1257 [00:04<00:00, 259.07it/s]\n"
     ]
    },
    {
     "name": "stdout",
     "output_type": "stream",
     "text": [
      "For C1 300 sharp is [2.1697602006110346, 1.6325909127094158, 1.5380033086737652, 0.38947181812221615, -0.7987327142795059]\n"
     ]
    },
    {
     "name": "stderr",
     "output_type": "stream",
     "text": [
      "  0%|                                                                                         | 0/1257 [00:00<?, ?it/s]D:\\programs\\Anaconda\\lib\\site-packages\\ipykernel_launcher.py:146: RuntimeWarning: invalid value encountered in double_scalars\n",
      "100%|█████████████████████████████████████████████████████████████████████████████| 1257/1257 [00:04<00:00, 256.95it/s]\n"
     ]
    },
    {
     "name": "stdout",
     "output_type": "stream",
     "text": [
      "For C1 500 sharp is [1.034567638155369, 1.8199133963311789, 1.9284613873533298, 0.615670107211433, -0.7439015401589141]\n"
     ]
    },
    {
     "data": {
      "image/png": "[encoded data removed]",
      "text/plain": [
       "<Figure size 432x288 with 1 Axes>"
      ]
     },
     "metadata": {
      "needs_background": "light"
     },
     "output_type": "display_data"
    }
   ],
   "source": [
    "from matplotlib import pyplot as plt\n",
    "\n",
    "plt.title('PnL')\n",
    "for TOP_NUMBER in (10, 50, 100, 200, 300, 500):\n",
    "    pnls, turnovers, sharpe_ratios, A = create_alpha()\n",
    "    plt.plot(np.cumsum(pnls), label=f'C1 {TOP_NUMBER}')\n",
    "    sharpe_ratios_year = []\n",
    "    for i in range(5):\n",
    "        sharpe_ratio = np.array(pnls[i * T: (i+1) * T]).mean() / np.array(pnls[i * T: (i+1) * T]).std() * (T**0.5)\n",
    "        sharpe_ratios_year.append(sharpe_ratio)\n",
    "    print(f\"For C1 {TOP_NUMBER} sharp is {(sharpe_ratios_year)}\")\n",
    "plt.legend()\n",
    "plt.show()\n"
   ]
  },
  {
   "cell_type": "code",
   "execution_count": 230,
   "id": "e4137a79",
   "metadata": {},
   "outputs": [
    {
     "name": "stderr",
     "output_type": "stream",
     "text": [
      "  0%|                                                                                         | 0/1257 [00:00<?, ?it/s]D:\\programs\\Anaconda\\lib\\site-packages\\ipykernel_launcher.py:152: RuntimeWarning: invalid value encountered in double_scalars\n",
      " 66%|███████████████████████████████████████████████████▌                          | 830/1257 [00:03<00:01, 229.15it/s]\n"
     ]
    },
    {
     "ename": "KeyboardInterrupt",
     "evalue": "",
     "output_type": "error",
     "traceback": [
      "\u001b[1;31m---------------------------------------------------------------------------\u001b[0m",
      "\u001b[1;31mKeyboardInterrupt\u001b[0m                         Traceback (most recent call last)",
      "\u001b[1;32m~\\AppData\\Local\\Temp\\ipykernel_15832\\3773759070.py\u001b[0m in \u001b[0;36m<module>\u001b[1;34m\u001b[0m\n\u001b[0;32m      3\u001b[0m \u001b[0mplt\u001b[0m\u001b[1;33m.\u001b[0m\u001b[0mtitle\u001b[0m\u001b[1;33m(\u001b[0m\u001b[1;34m'PnL'\u001b[0m\u001b[1;33m)\u001b[0m\u001b[1;33m\u001b[0m\u001b[1;33m\u001b[0m\u001b[0m\n\u001b[0;32m      4\u001b[0m \u001b[1;32mfor\u001b[0m \u001b[0mTOP_NUMBER\u001b[0m \u001b[1;32min\u001b[0m \u001b[1;33m(\u001b[0m\u001b[1;36m10\u001b[0m\u001b[1;33m,\u001b[0m \u001b[1;36m50\u001b[0m\u001b[1;33m,\u001b[0m \u001b[1;36m100\u001b[0m\u001b[1;33m,\u001b[0m \u001b[1;36m200\u001b[0m\u001b[1;33m,\u001b[0m \u001b[1;36m300\u001b[0m\u001b[1;33m,\u001b[0m \u001b[1;36m500\u001b[0m\u001b[1;33m)\u001b[0m\u001b[1;33m:\u001b[0m\u001b[1;33m\u001b[0m\u001b[1;33m\u001b[0m\u001b[0m\n\u001b[1;32m----> 5\u001b[1;33m     \u001b[0mpnls\u001b[0m\u001b[1;33m,\u001b[0m \u001b[0mturnovers\u001b[0m\u001b[1;33m,\u001b[0m \u001b[0msharpe_ratios\u001b[0m\u001b[1;33m,\u001b[0m \u001b[0mA\u001b[0m \u001b[1;33m=\u001b[0m \u001b[0mcreate_alpha\u001b[0m\u001b[1;33m(\u001b[0m\u001b[1;33m)\u001b[0m\u001b[1;33m\u001b[0m\u001b[1;33m\u001b[0m\u001b[0m\n\u001b[0m\u001b[0;32m      6\u001b[0m     \u001b[0mplt\u001b[0m\u001b[1;33m.\u001b[0m\u001b[0mplot\u001b[0m\u001b[1;33m(\u001b[0m\u001b[0mnp\u001b[0m\u001b[1;33m.\u001b[0m\u001b[0mcumsum\u001b[0m\u001b[1;33m(\u001b[0m\u001b[0mpnls\u001b[0m\u001b[1;33m)\u001b[0m\u001b[1;33m,\u001b[0m \u001b[0mlabel\u001b[0m\u001b[1;33m=\u001b[0m\u001b[1;34mf'C1 {TOP_NUMBER}'\u001b[0m\u001b[1;33m)\u001b[0m\u001b[1;33m\u001b[0m\u001b[1;33m\u001b[0m\u001b[0m\n\u001b[0;32m      7\u001b[0m     \u001b[0msharpe_ratios_year\u001b[0m \u001b[1;33m=\u001b[0m \u001b[1;33m[\u001b[0m\u001b[1;33m]\u001b[0m\u001b[1;33m\u001b[0m\u001b[1;33m\u001b[0m\u001b[0m\n",
      "\u001b[1;32m~\\AppData\\Local\\Temp\\ipykernel_15832\\1288242842.py\u001b[0m in \u001b[0;36mcreate_alpha\u001b[1;34m()\u001b[0m\n\u001b[0;32m     83\u001b[0m \u001b[1;31m#                 q1 = q_to_alpha(q1)\u001b[0m\u001b[1;33m\u001b[0m\u001b[1;33m\u001b[0m\u001b[1;33m\u001b[0m\u001b[0m\n\u001b[0;32m     84\u001b[0m \u001b[1;31m#                 q1 = decay(q1, A, 3)\u001b[0m\u001b[1;33m\u001b[0m\u001b[1;33m\u001b[0m\u001b[1;33m\u001b[0m\u001b[0m\n\u001b[1;32m---> 85\u001b[1;33m                 \u001b[0mq2\u001b[0m \u001b[1;33m=\u001b[0m \u001b[0mtake_top\u001b[0m\u001b[1;33m(\u001b[0m\u001b[0mq2\u001b[0m\u001b[1;33m,\u001b[0m \u001b[1;36m200\u001b[0m\u001b[1;33m,\u001b[0m \u001b[1;34m'unit'\u001b[0m\u001b[1;33m)\u001b[0m\u001b[1;33m\u001b[0m\u001b[1;33m\u001b[0m\u001b[0m\n\u001b[0m\u001b[0;32m     86\u001b[0m                 \u001b[0mq\u001b[0m \u001b[1;33m=\u001b[0m \u001b[0mq2\u001b[0m\u001b[1;33m\u001b[0m\u001b[1;33m\u001b[0m\u001b[0m\n\u001b[0;32m     87\u001b[0m \u001b[1;33m\u001b[0m\u001b[0m\n",
      "\u001b[1;32m~\\AppData\\Local\\Temp\\ipykernel_15832\\438917720.py\u001b[0m in \u001b[0;36mtake_top\u001b[1;34m(q, n, mode)\u001b[0m\n\u001b[0;32m      1\u001b[0m \u001b[1;32mdef\u001b[0m \u001b[0mtake_top\u001b[0m\u001b[1;33m(\u001b[0m\u001b[0mq\u001b[0m\u001b[1;33m,\u001b[0m \u001b[0mn\u001b[0m\u001b[1;33m=\u001b[0m\u001b[1;36m10\u001b[0m\u001b[1;33m,\u001b[0m \u001b[0mmode\u001b[0m\u001b[1;33m=\u001b[0m\u001b[1;34m'unit'\u001b[0m\u001b[1;33m)\u001b[0m\u001b[1;33m:\u001b[0m\u001b[1;33m\u001b[0m\u001b[1;33m\u001b[0m\u001b[0m\n\u001b[1;32m----> 2\u001b[1;33m     \u001b[0mtop_ind\u001b[0m \u001b[1;33m=\u001b[0m \u001b[0mnp\u001b[0m\u001b[1;33m.\u001b[0m\u001b[0margpartition\u001b[0m\u001b[1;33m(\u001b[0m\u001b[0mq\u001b[0m\u001b[1;33m,\u001b[0m \u001b[1;33m-\u001b[0m\u001b[0mn\u001b[0m\u001b[1;33m)\u001b[0m\u001b[1;33m[\u001b[0m\u001b[1;33m-\u001b[0m\u001b[0mn\u001b[0m\u001b[1;33m:\u001b[0m\u001b[1;33m]\u001b[0m\u001b[1;33m\u001b[0m\u001b[1;33m\u001b[0m\u001b[0m\n\u001b[0m\u001b[0;32m      3\u001b[0m     \u001b[0mbottom_ind\u001b[0m \u001b[1;33m=\u001b[0m \u001b[0mnp\u001b[0m\u001b[1;33m.\u001b[0m\u001b[0margpartition\u001b[0m\u001b[1;33m(\u001b[0m\u001b[0mq\u001b[0m\u001b[1;33m,\u001b[0m \u001b[0mn\u001b[0m\u001b[1;33m)\u001b[0m\u001b[1;33m[\u001b[0m\u001b[1;33m:\u001b[0m\u001b[0mn\u001b[0m\u001b[1;33m]\u001b[0m\u001b[1;33m\u001b[0m\u001b[1;33m\u001b[0m\u001b[0m\n\u001b[0;32m      4\u001b[0m     \u001b[0ma\u001b[0m \u001b[1;33m=\u001b[0m \u001b[0mnp\u001b[0m\u001b[1;33m.\u001b[0m\u001b[0mzeros_like\u001b[0m\u001b[1;33m(\u001b[0m\u001b[0mq\u001b[0m\u001b[1;33m)\u001b[0m\u001b[1;33m\u001b[0m\u001b[1;33m\u001b[0m\u001b[0m\n\u001b[0;32m      5\u001b[0m     \u001b[1;32mif\u001b[0m \u001b[0mmode\u001b[0m \u001b[1;33m==\u001b[0m \u001b[1;34m'unit'\u001b[0m\u001b[1;33m:\u001b[0m\u001b[1;33m\u001b[0m\u001b[1;33m\u001b[0m\u001b[0m\n",
      "\u001b[1;32m<__array_function__ internals>\u001b[0m in \u001b[0;36margpartition\u001b[1;34m(*args, **kwargs)\u001b[0m\n",
      "\u001b[1;32mD:\\programs\\Anaconda\\lib\\site-packages\\numpy\\core\\fromnumeric.py\u001b[0m in \u001b[0;36margpartition\u001b[1;34m(a, kth, axis, kind, order)\u001b[0m\n\u001b[0;32m    835\u001b[0m \u001b[1;33m\u001b[0m\u001b[0m\n\u001b[0;32m    836\u001b[0m     \"\"\"\n\u001b[1;32m--> 837\u001b[1;33m     \u001b[1;32mreturn\u001b[0m \u001b[0m_wrapfunc\u001b[0m\u001b[1;33m(\u001b[0m\u001b[0ma\u001b[0m\u001b[1;33m,\u001b[0m \u001b[1;34m'argpartition'\u001b[0m\u001b[1;33m,\u001b[0m \u001b[0mkth\u001b[0m\u001b[1;33m,\u001b[0m \u001b[0maxis\u001b[0m\u001b[1;33m=\u001b[0m\u001b[0maxis\u001b[0m\u001b[1;33m,\u001b[0m \u001b[0mkind\u001b[0m\u001b[1;33m=\u001b[0m\u001b[0mkind\u001b[0m\u001b[1;33m,\u001b[0m \u001b[0morder\u001b[0m\u001b[1;33m=\u001b[0m\u001b[0morder\u001b[0m\u001b[1;33m)\u001b[0m\u001b[1;33m\u001b[0m\u001b[1;33m\u001b[0m\u001b[0m\n\u001b[0m\u001b[0;32m    838\u001b[0m \u001b[1;33m\u001b[0m\u001b[0m\n\u001b[0;32m    839\u001b[0m \u001b[1;33m\u001b[0m\u001b[0m\n",
      "\u001b[1;32mD:\\programs\\Anaconda\\lib\\site-packages\\numpy\\core\\fromnumeric.py\u001b[0m in \u001b[0;36m_wrapfunc\u001b[1;34m(obj, method, *args, **kwds)\u001b[0m\n\u001b[0;32m     56\u001b[0m \u001b[1;33m\u001b[0m\u001b[0m\n\u001b[0;32m     57\u001b[0m     \u001b[1;32mtry\u001b[0m\u001b[1;33m:\u001b[0m\u001b[1;33m\u001b[0m\u001b[1;33m\u001b[0m\u001b[0m\n\u001b[1;32m---> 58\u001b[1;33m         \u001b[1;32mreturn\u001b[0m \u001b[0mbound\u001b[0m\u001b[1;33m(\u001b[0m\u001b[1;33m*\u001b[0m\u001b[0margs\u001b[0m\u001b[1;33m,\u001b[0m \u001b[1;33m**\u001b[0m\u001b[0mkwds\u001b[0m\u001b[1;33m)\u001b[0m\u001b[1;33m\u001b[0m\u001b[1;33m\u001b[0m\u001b[0m\n\u001b[0m\u001b[0;32m     59\u001b[0m     \u001b[1;32mexcept\u001b[0m \u001b[0mTypeError\u001b[0m\u001b[1;33m:\u001b[0m\u001b[1;33m\u001b[0m\u001b[1;33m\u001b[0m\u001b[0m\n\u001b[0;32m     60\u001b[0m         \u001b[1;31m# A TypeError occurs if the object does have such a method in its\u001b[0m\u001b[1;33m\u001b[0m\u001b[1;33m\u001b[0m\u001b[1;33m\u001b[0m\u001b[0m\n",
      "\u001b[1;31mKeyboardInterrupt\u001b[0m: "
     ]
    },
    {
     "data": {
      "image/png": "[encoded data removed]",
      "text/plain": [
       "<Figure size 432x288 with 1 Axes>"
      ]
     },
     "metadata": {
      "needs_background": "light"
     },
     "output_type": "display_data"
    }
   ],
   "source": [
    "from matplotlib import pyplot as plt\n",
    "\n",
    "plt.title('PnL')\n",
    "for TOP_NUMBER in (10, 50, 100, 200, 300, 500):\n",
    "    pnls, turnovers, sharpe_ratios, A = create_alpha()\n",
    "    plt.plot(np.cumsum(pnls), label=f'C1 {TOP_NUMBER}')\n",
    "    sharpe_ratios_year = []\n",
    "    for i in range(5):\n",
    "        sharpe_ratio = np.array(pnls[i * T: (i+1) * T]).mean() / np.array(pnls[i * T: (i+1) * T]).std() * (T**0.5)\n",
    "        sharpe_ratios_year.append(sharpe_ratio)\n",
    "    print(f\"For C1 {TOP_NUMBER} sharp is {(sharpe_ratios_year)}\")\n",
    "plt.legend()\n",
    "plt.show()\n"
   ]
  },
  {
   "cell_type": "code",
   "execution_count": 228,
   "id": "dc43e324",
   "metadata": {},
   "outputs": [
    {
     "data": {
      "text/plain": [
       "1.0093965705153385"
      ]
     },
     "execution_count": 228,
     "metadata": {},
     "output_type": "execute_result"
    }
   ],
   "source": [
    "np.mean(turnovers)"
   ]
  },
  {
   "cell_type": "code",
   "execution_count": 181,
   "id": "abf9d3a7",
   "metadata": {},
   "outputs": [
    {
     "data": {
      "text/plain": [
       "[0,\n",
       " 0,\n",
       " 0,\n",
       " 0,\n",
       " 0,\n",
       " 0,\n",
       " 175.8979037342197,\n",
       " 83.53717397524134,\n",
       " 64.61326243819954,\n",
       " 70.10912921076098,\n",
       " 66.85964556364839,\n",
       " 62.70071444847299,\n",
       " 63.56821641625778,\n",
       " 76.62909417212195,\n",
       " 62.152390168594465,\n",
       " 49.219905392002,\n",
       " 55.424627526231895,\n",
       " 64.10363408608708,\n",
       " 64.2369932153941,\n",
       " 61.013604827127786,\n",
       " 67.32104202019181,\n",
       " 85.43756211200247,\n",
       " 72.59862988536244,\n",
       " 86.9901660920348,\n",
       " 79.22073661639597,\n",
       " 83.32311137002654,\n",
       " 63.44315331509209,\n",
       " 66.74543514810516,\n",
       " 121.78145141088348,\n",
       " 60.474450886291365,\n",
       " 87.376801810456,\n",
       " 69.24993113202325,\n",
       " 67.85384323313377,\n",
       " 66.24282885512352,\n",
       " 60.321888431847526,\n",
       " 100.01461426034508,\n",
       " 53.835160193548816,\n",
       " 60.226060941305526,\n",
       " 60.614562209035064,\n",
       " 72.5075846006177,\n",
       " 82.13786363777804,\n",
       " 63.31490897553584,\n",
       " 66.14464719761233,\n",
       " 79.17565026336607,\n",
       " 77.38414911964627,\n",
       " 68.92045250143627,\n",
       " 61.90083282772261,\n",
       " 62.62607846023609,\n",
       " 78.65715185627681,\n",
       " 67.30081508583228,\n",
       " 79.58996334185937,\n",
       " 71.96303644965556,\n",
       " 72.42132521845497,\n",
       " 74.37831844770848,\n",
       " 67.56261740684728,\n",
       " 64.71794439694955,\n",
       " 65.62153567787958,\n",
       " 62.80852189956669,\n",
       " 62.694321460108206,\n",
       " 73.5777121091617,\n",
       " 66.68571828991435,\n",
       " 78.60361871198904,\n",
       " 75.4415267746221,\n",
       " 72.37790222366053,\n",
       " 68.56545905189483,\n",
       " 70.90051292388797,\n",
       " 65.1537608857272,\n",
       " 75.16595003076701,\n",
       " 74.34892673051124,\n",
       " 68.69384823505924,\n",
       " 80.2286871247672,\n",
       " 64.46219759665841,\n",
       " 80.31029148570632,\n",
       " 64.75816708442991,\n",
       " 66.20096752280836,\n",
       " 79.46120636151865,\n",
       " 78.43103674055465,\n",
       " 79.51949938275615,\n",
       " 60.41520050201397,\n",
       " 91.72154117467942,\n",
       " 60.782277542789075,\n",
       " 75.26748281731412,\n",
       " 76.59144026625387,\n",
       " 62.4612437828802,\n",
       " 56.388562020705926,\n",
       " 67.34027408979469,\n",
       " 103.42160683242767,\n",
       " 54.03685499828068,\n",
       " 76.25926996394642,\n",
       " 90.1753566315571,\n",
       " 91.87505798861015,\n",
       " 85.17141913033937,\n",
       " 68.95092280011653,\n",
       " 126.98289111909618,\n",
       " 60.23916867926109,\n",
       " 76.04531491897336,\n",
       " 73.56724379235719,\n",
       " 59.01876345041842,\n",
       " 54.35073622080437,\n",
       " 66.2940139274471,\n",
       " 79.30310792592135,\n",
       " 152.38895962624323,\n",
       " 95.85888670840866,\n",
       " 68.42569212333626,\n",
       " 79.87654707205164,\n",
       " 66.87458113366507,\n",
       " 142.89624407853324,\n",
       " 61.47389320582475,\n",
       " 86.06262800523439,\n",
       " 81.32756511340743,\n",
       " 90.00024680981676,\n",
       " 103.6494866320496,\n",
       " 86.70203634374633,\n",
       " 82.0372073356347,\n",
       " 52.46414117787583,\n",
       " 92.38031710409984,\n",
       " 78.7899572413285,\n",
       " 73.76752659913264,\n",
       " 102.0474153283541,\n",
       " 66.25458373398523,\n",
       " 70.92150347401723,\n",
       " 92.58839304958926,\n",
       " 83.8341735541976,\n",
       " 69.54176512872168,\n",
       " 55.68664515306588,\n",
       " 61.90163543179628,\n",
       " 66.68633466055793,\n",
       " 58.523489871217805,\n",
       " 130.78484630471075,\n",
       " 72.38805688858619,\n",
       " 75.04462490933082,\n",
       " 58.759800262097905,\n",
       " 88.94927169740455,\n",
       " 90.23685539372849,\n",
       " 75.93705989402709,\n",
       " 112.43640196307241,\n",
       " 64.12296735021137,\n",
       " 72.74287668359781,\n",
       " 76.27534559162304,\n",
       " 90.5385632869323,\n",
       " 92.73371462818211,\n",
       " 61.388419233996586,\n",
       " 77.59425150653286,\n",
       " 63.27301310995894,\n",
       " 90.54938412335444,\n",
       " 61.63621053459519,\n",
       " 58.31679779213887,\n",
       " 70.7450435816999,\n",
       " 70.37983016470196,\n",
       " 68.23881985910245,\n",
       " 57.511830524839745,\n",
       " 63.09987976272629,\n",
       " 62.65071196102476,\n",
       " 97.1789186871997,\n",
       " 58.47711781295899,\n",
       " 60.40968090688281,\n",
       " 55.822955175676235,\n",
       " 79.55811155471291,\n",
       " 99.33789946788613,\n",
       " 77.1255987697942,\n",
       " 65.14665251681394,\n",
       " 70.90666177269456,\n",
       " 77.92676999142263,\n",
       " 58.758596508876,\n",
       " 58.322540383409184,\n",
       " 74.38051574797346,\n",
       " 56.57807647719688,\n",
       " 74.28476423549274,\n",
       " 92.55975915632008,\n",
       " 89.9538901485439,\n",
       " 74.45429049040236,\n",
       " 67.95640634515914,\n",
       " 71.00069230418356,\n",
       " 88.45140159038624,\n",
       " 68.01636999520755,\n",
       " 65.98359987198718,\n",
       " 71.0552884399758,\n",
       " 72.75125720222648,\n",
       " 69.71136916572483,\n",
       " 67.56442242183356,\n",
       " 71.74749528027155,\n",
       " 71.89413148996324,\n",
       " 71.08120417073204,\n",
       " 66.11870175062246,\n",
       " 89.33543899060798,\n",
       " 79.48641442331851,\n",
       " 72.9002857615889,\n",
       " 66.4958163226245,\n",
       " 71.97487701930967,\n",
       " 76.41196203806086,\n",
       " 69.48918242587065,\n",
       " 69.4239833092681,\n",
       " 67.49216052987785,\n",
       " 68.01967009197323,\n",
       " 68.10576294632179,\n",
       " 64.09708243049222,\n",
       " 71.72770599730352,\n",
       " 77.38592818233192,\n",
       " 69.51808336309281,\n",
       " 79.77450924055861,\n",
       " 68.40909083965366,\n",
       " 82.1021901787058,\n",
       " 66.01199793031782,\n",
       " 66.94904605412742,\n",
       " 62.00251709622076,\n",
       " 60.82820767912052,\n",
       " 83.37663972084826,\n",
       " 76.30178754429208,\n",
       " 74.56823989374332,\n",
       " 61.49949019624481,\n",
       " 58.82960275161408,\n",
       " 75.08310489821469,\n",
       " 68.39565829835898,\n",
       " 78.43287195257844,\n",
       " 59.85266636753256,\n",
       " 56.396587310691224,\n",
       " 76.5806406864154,\n",
       " 62.74886293028339,\n",
       " 73.5448609912544,\n",
       " 69.75060026612258,\n",
       " 66.68555161050898,\n",
       " 70.29622505711937,\n",
       " 68.4064748663653,\n",
       " 82.0124118025969,\n",
       " 81.56768083365806,\n",
       " 72.80568539223589,\n",
       " 65.90042291929403,\n",
       " 70.62186764974271,\n",
       " 71.71693538256845,\n",
       " 63.2547373816683,\n",
       " 60.82513388875209,\n",
       " 107.34604168780204,\n",
       " 70.92884913316728,\n",
       " 66.57079125077803,\n",
       " 59.176582221837556,\n",
       " 66.77392438685239,\n",
       " 75.12110570993364,\n",
       " 75.79149687816712,\n",
       " 69.88375374580538,\n",
       " 71.50086532991742,\n",
       " 64.30845406684442,\n",
       " 73.55790234290357,\n",
       " 65.92532314081777,\n",
       " 73.95182827466991,\n",
       " 73.2484557060548,\n",
       " 73.90304801039866,\n",
       " 72.31046412902386,\n",
       " 68.6164595464858,\n",
       " 70.40947879582579,\n",
       " 73.52465500665637,\n",
       " 66.78088173814245,\n",
       " 70.80443820824459,\n",
       " 72.84005783865462,\n",
       " 87.0856918827015,\n",
       " 88.25046445719822,\n",
       " 69.71466432240365,\n",
       " 56.32436118457513,\n",
       " 46.07994096183546,\n",
       " 59.42017287269802,\n",
       " 60.06099317383313,\n",
       " 72.97586943036556,\n",
       " 64.73889111225836,\n",
       " 64.9889667822993,\n",
       " 68.4231600518978,\n",
       " 78.88516398504484,\n",
       " 76.69410247552209,\n",
       " 55.06222266916592,\n",
       " 62.09976612390673,\n",
       " 63.95070881814482,\n",
       " 82.74003907582113,\n",
       " 75.70339777935934,\n",
       " 80.66553295238879,\n",
       " 57.87055363684453,\n",
       " 74.88649911546817,\n",
       " 74.72286772132297,\n",
       " 78.72381301548823,\n",
       " 80.36101544507528,\n",
       " 67.77909442539783,\n",
       " 76.10076621811692,\n",
       " 65.7379033475326,\n",
       " 62.01667747053548,\n",
       " 66.43759408521228,\n",
       " 63.30700372597941,\n",
       " 65.80926213082738,\n",
       " 73.09784102705372,\n",
       " 85.09765712748757,\n",
       " 90.31722031360496,\n",
       " 52.85805848394445,\n",
       " 59.51295381629305,\n",
       " 51.24756522548706,\n",
       " 58.297400467501326,\n",
       " 64.51248161027246,\n",
       " 66.00128921920832,\n",
       " 79.29278364240344,\n",
       " 73.91237395833483,\n",
       " 75.4344681933363,\n",
       " 92.9543588705191,\n",
       " 62.96138763600827,\n",
       " 80.07124197936244,\n",
       " 56.985936370361436,\n",
       " 74.12344022415544,\n",
       " 73.73302958827956,\n",
       " 62.13535185135275,\n",
       " 84.02951472256682,\n",
       " 69.93020916368991,\n",
       " 84.79648781627476,\n",
       " 74.69999778286294,\n",
       " 77.50559466745419,\n",
       " 66.81325757917863,\n",
       " 76.31896858802334,\n",
       " 90.91576582999878,\n",
       " 72.11428822979984,\n",
       " 69.49968081087682,\n",
       " 71.33756560182762,\n",
       " 72.89630322564442,\n",
       " 68.04514575483338,\n",
       " 65.78645559590228,\n",
       " 75.62855605709645,\n",
       " 66.60583458499117,\n",
       " 67.8389347364291,\n",
       " 62.410819329279754,\n",
       " 69.82764057616846,\n",
       " 68.11365913550046,\n",
       " 68.73011371451277,\n",
       " 65.1286627796274,\n",
       " 60.103931122508605,\n",
       " 80.17338330381156,\n",
       " 75.59723991001151,\n",
       " 72.57566879299604,\n",
       " 67.07333527176125,\n",
       " 72.50284217008617,\n",
       " 73.99872670010986,\n",
       " 89.86505665968843,\n",
       " 69.21694739879898,\n",
       " 59.93409527167892,\n",
       " 69.69867065632033,\n",
       " 60.57013909863742,\n",
       " 57.27096722391729,\n",
       " 52.65476521403315,\n",
       " 56.38763619753651,\n",
       " 78.9741504670586,\n",
       " 61.147942981910006,\n",
       " 71.75812403854103,\n",
       " 69.16592053390784,\n",
       " 66.3459523805963,\n",
       " 65.37312564875552,\n",
       " 92.77803499617636,\n",
       " 73.4139376289824,\n",
       " 63.0938067158906,\n",
       " 73.90657454682984,\n",
       " 65.02453345847555,\n",
       " 64.6215171307001,\n",
       " 60.074380127065005,\n",
       " 72.59806306827488,\n",
       " 88.63162094027119,\n",
       " 92.16654561262764,\n",
       " 76.88085576358401,\n",
       " 81.2734943904691,\n",
       " 84.26801175201584,\n",
       " 57.741973839000835,\n",
       " 74.18404564349366,\n",
       " 67.93574237447272,\n",
       " 67.71312166448907,\n",
       " 75.87940582052947,\n",
       " 68.07752091984584,\n",
       " 71.40603867445805,\n",
       " 69.82179451019358,\n",
       " 70.63686167893299,\n",
       " 62.85337194777634,\n",
       " 59.54558811775886,\n",
       " 75.75710982691373,\n",
       " 81.67721615217366,\n",
       " 95.67659439477848,\n",
       " 74.32251255630005,\n",
       " 67.48865063274069,\n",
       " 79.67713778946066,\n",
       " 81.62839752280189,\n",
       " 80.84854446393635,\n",
       " 74.02937881810367,\n",
       " 66.12378256917297,\n",
       " 76.9476106194603,\n",
       " 78.02475256244009,\n",
       " 94.00930578493742,\n",
       " 61.38975558449229,\n",
       " 64.47194888500223,\n",
       " 71.15427138593826,\n",
       " 64.8738230807401,\n",
       " 59.40603272946829,\n",
       " 77.41832116453745,\n",
       " 64.54089624958952,\n",
       " 88.83322550753229,\n",
       " 61.39547831447663,\n",
       " 57.3319286207024,\n",
       " 73.54584500046712,\n",
       " 86.35124902642059,\n",
       " 81.33024927775753,\n",
       " 58.45340667054247,\n",
       " 56.41494957760692,\n",
       " 78.90777765730593,\n",
       " 81.18389890682059,\n",
       " 90.58455811072726,\n",
       " 53.57701757074187,\n",
       " 80.85687230865115,\n",
       " 85.74449764597934,\n",
       " 90.28141040303237,\n",
       " 120.75481256726061,\n",
       " 61.14149073042038,\n",
       " 131.22091826323276,\n",
       " 110.04351156150204,\n",
       " 100.61014190195219,\n",
       " 147.59031340992178,\n",
       " 61.80566967284248,\n",
       " 73.14460922219727,\n",
       " 84.52314858572365,\n",
       " 64.80375691790728,\n",
       " 81.48218445291216,\n",
       " 96.63521317725991,\n",
       " 98.92028078389612,\n",
       " 90.19010336181847,\n",
       " 80.94487563334789,\n",
       " 72.3786241154464,\n",
       " 110.8759864802693,\n",
       " 111.98162921629287,\n",
       " 84.24955532746104,\n",
       " 75.90454391288233,\n",
       " 68.36280745993339,\n",
       " 87.17135333958619,\n",
       " 69.16218410698296,\n",
       " 66.62804391325021,\n",
       " 81.96451655146531,\n",
       " 74.22122633082064,\n",
       " 71.76202168956152,\n",
       " 72.4355645496318,\n",
       " 98.23995860658313,\n",
       " 96.48072970815215,\n",
       " 42.91972988372405,\n",
       " 79.76762284654137,\n",
       " 68.58329727219288,\n",
       " 58.787251483528166,\n",
       " 89.17795584368595,\n",
       " 82.66106161991502,\n",
       " 108.35077829764539,\n",
       " 91.44874153426439,\n",
       " 100.5270413226763,\n",
       " 79.07912365985229,\n",
       " 69.40433813566081,\n",
       " 127.58402404573064,\n",
       " 97.10331031071847,\n",
       " 70.52575142099523,\n",
       " 93.04748832399338,\n",
       " 98.00225782052568,\n",
       " 123.59156759057758,\n",
       " 88.86527856894885,\n",
       " 96.15900704582765,\n",
       " 59.37047076373688,\n",
       " 63.3660002817179,\n",
       " 110.88578685736654,\n",
       " 104.71105342742565,\n",
       " 97.31209339178119,\n",
       " 95.21979250252704,\n",
       " 73.9796926393922,\n",
       " 85.14295406970199,\n",
       " 64.0048613571171,\n",
       " 60.19659118231424,\n",
       " 83.75480773085653,\n",
       " 58.88168351307468,\n",
       " 73.74927443104069,\n",
       " 99.2835048249496,\n",
       " 126.6173382683275,\n",
       " 74.24239710599925,\n",
       " 77.33652105043002,\n",
       " 65.98579502739766,\n",
       " 60.73221201669779,\n",
       " 91.6777192113211,\n",
       " 87.85464620324942,\n",
       " 63.688773668561424,\n",
       " 53.91492408049257,\n",
       " 64.21107016593099,\n",
       " 51.573221167961044,\n",
       " 50.56653655694877,\n",
       " 98.79823424662384,\n",
       " 82.47052854674585,\n",
       " 122.27062832151377,\n",
       " 79.43469846525478,\n",
       " 56.30606012426227,\n",
       " 73.683497840334,\n",
       " 63.96453332575507,\n",
       " 112.91349332664579,\n",
       " 87.05916185473241,\n",
       " 79.6176781462488,\n",
       " 82.13930440639038,\n",
       " 68.82473735141654,\n",
       " 60.02095458188252,\n",
       " 83.74685256351769,\n",
       " 66.17104922553484,\n",
       " 52.69772275893694,\n",
       " 104.99879942239305,\n",
       " 76.11302489929135,\n",
       " 65.78871757375956,\n",
       " 60.044225871979826,\n",
       " 71.43814182110395,\n",
       " 117.21839761832038,\n",
       " 80.51535744632146,\n",
       " 81.87530517983988,\n",
       " 116.58439475762388,\n",
       " 74.82205858628956,\n",
       " 76.34400128689211,\n",
       " 58.380624396672886,\n",
       " 55.2925462725141,\n",
       " 64.02042325827448,\n",
       " 59.31867008283383,\n",
       " 53.11400146344152,\n",
       " 56.05219907041394,\n",
       " 59.113559307902186,\n",
       " 66.88470715034754,\n",
       " 64.23287612857175,\n",
       " 61.82780715066456,\n",
       " 60.52126271309513,\n",
       " 66.9202227910298,\n",
       " 68.31972023968098,\n",
       " 73.75629223286163,\n",
       " 63.283103157895994,\n",
       " 65.43840546240938,\n",
       " 65.71631913761713,\n",
       " 71.15310831466127,\n",
       " 75.02134348441388,\n",
       " 80.2444371219671,\n",
       " 57.957910535571465,\n",
       " 62.03321061649165,\n",
       " 66.97462262357614,\n",
       " 58.61507309636276,\n",
       " 90.38812881022585,\n",
       " 64.53051131253693,\n",
       " 66.6581271110519,\n",
       " 70.5288707673885,\n",
       " 77.82887679066495,\n",
       " 71.35036489107553,\n",
       " 72.35341056409516,\n",
       " 59.19084317286681,\n",
       " 70.94307129984881,\n",
       " 73.15166331996082,\n",
       " 66.72891820797868,\n",
       " 75.85501577010312,\n",
       " 78.19372515826215,\n",
       " 72.05361042125291,\n",
       " 63.739225770803806,\n",
       " 66.11247993444049,\n",
       " 83.64144371809505,\n",
       " 70.0324997024935,\n",
       " 68.29237760569652,\n",
       " 67.5979873505342,\n",
       " 63.757088984291464,\n",
       " 121.49709863798354,\n",
       " 87.78312525505342,\n",
       " 71.90638504175564,\n",
       " 72.41205318561776,\n",
       " 62.83382509655057,\n",
       " 89.64989034386673,\n",
       " 74.73832478626035,\n",
       " 83.956914306932,\n",
       " 59.36358006798825,\n",
       " 61.79077719274937,\n",
       " 56.96337500001809,\n",
       " 72.88219459885268,\n",
       " 66.4316970897162,\n",
       " 59.65628891482871,\n",
       " 66.18954537735671,\n",
       " 67.0687998401144,\n",
       " 56.81806442210643,\n",
       " 61.552705113176046,\n",
       " 72.33705720999106,\n",
       " 93.79767594575002,\n",
       " 62.92348962397361,\n",
       " 104.59674032350901,\n",
       " 68.4406557160611,\n",
       " 76.08205070527336,\n",
       " 100.27502081838131,\n",
       " 72.68491552279013,\n",
       " 83.20808755872817,\n",
       " 65.34723587208893,\n",
       " 64.87513401125686,\n",
       " 67.99265308811793,\n",
       " 77.49381357511764,\n",
       " 80.21690921674411,\n",
       " 58.92281482415345,\n",
       " 53.544083062557334,\n",
       " 62.93054068270483,\n",
       " 69.7609202788172,\n",
       " 77.16158760677145,\n",
       " 68.77209225148538,\n",
       " 52.37559246204394,\n",
       " 65.28733503941368,\n",
       " 51.666008251592,\n",
       " 64.72150357177948,\n",
       " 62.07104545668039,\n",
       " 63.164425092294266,\n",
       " 56.38370113013431,\n",
       " 61.873568356323915,\n",
       " 80.13166337272489,\n",
       " 68.00771087017831,\n",
       " 92.33157542002917,\n",
       " 70.78266015264722,\n",
       " 72.52714183163825,\n",
       " 91.48964603553603,\n",
       " 62.499814157621714,\n",
       " 66.6542448537341,\n",
       " 83.15281616627776,\n",
       " 72.95021895499086,\n",
       " 91.04033991102347,\n",
       " 55.23485469468833,\n",
       " 55.184589033151596,\n",
       " 108.75175079074215,\n",
       " 63.525903559217326,\n",
       " 109.07553675878118,\n",
       " 84.67825755233265,\n",
       " 62.74038261791915,\n",
       " 100.50053597122735,\n",
       " 66.6571642013633,\n",
       " 74.23513180462884,\n",
       " 77.36618417637928,\n",
       " 71.40727787146143,\n",
       " 72.30270313037094,\n",
       " 104.8451952310535,\n",
       " 83.51524367708369,\n",
       " 81.73088321758509,\n",
       " 60.337636416061756,\n",
       " 61.1556016443245,\n",
       " 80.41875571016557,\n",
       " 82.66280772393023,\n",
       " 80.20461539598944,\n",
       " 70.90156964872737,\n",
       " 67.50234810760678,\n",
       " 76.88510067830148,\n",
       " 114.20382152336452,\n",
       " 71.31712879222461,\n",
       " 57.9743442550267,\n",
       " 53.396569768908094,\n",
       " 74.03845509060582,\n",
       " 59.5662472909821,\n",
       " 65.59299661826536,\n",
       " 69.7250755615244,\n",
       " 72.15786740891137,\n",
       " 78.85235786902614,\n",
       " 60.685576198046476,\n",
       " 75.45133439894487,\n",
       " 67.20659104088445,\n",
       " 83.70064394340567,\n",
       " 76.51830460693706,\n",
       " 56.402842930318855,\n",
       " 55.08670746767679,\n",
       " 67.73217604932084,\n",
       " 96.44368569846776,\n",
       " 63.93638239862807,\n",
       " 64.57517484215523,\n",
       " 69.37195237469578,\n",
       " 60.18619303757562,\n",
       " 64.45896089298991,\n",
       " 67.38516732493464,\n",
       " 61.223776162762675,\n",
       " 77.10739944295291,\n",
       " 71.04167286275782,\n",
       " 77.6114965912578,\n",
       " 68.12387966203217,\n",
       " 68.3977963182625,\n",
       " 66.43797868272102,\n",
       " 61.61922370807793,\n",
       " 90.58852961198353,\n",
       " 63.75421119011398,\n",
       " 60.13523923328681,\n",
       " 57.08526482124625,\n",
       " 59.789933668086825,\n",
       " 62.952832735600595,\n",
       " 69.84166482559698,\n",
       " 69.00371161543274,\n",
       " 65.18337930563416,\n",
       " 90.82744372347855,\n",
       " 75.28268736046145,\n",
       " 61.18623143311082,\n",
       " 61.64580457358066,\n",
       " 51.92520001960313,\n",
       " 62.96868298104796,\n",
       " 59.06958665899463,\n",
       " 62.32335110154351,\n",
       " 64.53626689840819,\n",
       " 67.1481795870869,\n",
       " 88.28597391247924,\n",
       " 71.60273249299297,\n",
       " 61.63102037768646,\n",
       " 54.53323085615658,\n",
       " 58.016029572003255,\n",
       " 69.01457062437196,\n",
       " 60.019042732862005,\n",
       " 72.98421630870311,\n",
       " 74.14031500127136,\n",
       " 73.6920171850719,\n",
       " 62.6155721200349,\n",
       " 58.20976403754577,\n",
       " 64.10611770708246,\n",
       " 69.8734056471566,\n",
       " 76.65578211284974,\n",
       " 62.758393477862974,\n",
       " 58.138634215167464,\n",
       " 68.45855132675726,\n",
       " 86.38811054007287,\n",
       " 76.56029554081206,\n",
       " 66.54666527988682,\n",
       " 62.55665519049553,\n",
       " 67.80574914106299,\n",
       " 90.19852687857164,\n",
       " 77.1672637288138,\n",
       " 78.03575736944639,\n",
       " 69.95931129822729,\n",
       " 73.09232325982484,\n",
       " 85.38843724670137,\n",
       " 58.426792114041184,\n",
       " 62.92678212343687,\n",
       " 59.58383697125529,\n",
       " 79.99426038022844,\n",
       " 86.26101106647953,\n",
       " 60.31049035464431,\n",
       " 60.98968364425128,\n",
       " 65.731348145809,\n",
       " 69.27510362265994,\n",
       " 81.2588033843719,\n",
       " 76.4283485026211,\n",
       " 79.82736306727207,\n",
       " 74.13187520022896,\n",
       " 85.81077210474866,\n",
       " 82.07423368686169,\n",
       " 75.17731898109203,\n",
       " 99.08177136834362,\n",
       " 78.12314265972643,\n",
       " 68.82237069810269,\n",
       " 73.61285803503486,\n",
       " 70.7175220661383,\n",
       " 73.90461357282865,\n",
       " 72.8507481286562,\n",
       " 62.370768238908994,\n",
       " 68.04159438513575,\n",
       " 66.94489212919925,\n",
       " 70.43059672902297,\n",
       " 75.82972973454338,\n",
       " 65.21402800291489,\n",
       " 61.27013090423517,\n",
       " 65.84089965868438,\n",
       " 69.70476854808507,\n",
       " 63.40007018541725,\n",
       " 63.23907790547092,\n",
       " 72.2674613576242,\n",
       " 66.32812746268382,\n",
       " 83.50811142952006,\n",
       " 66.80050630889045,\n",
       " 79.85743696321943,\n",
       " 112.3909935033498,\n",
       " 112.24271097214971,\n",
       " 82.41568162581909,\n",
       " 65.88477208746329,\n",
       " 67.35080695821189,\n",
       " 87.1374529402944,\n",
       " 76.58868707245044,\n",
       " 74.49807495325236,\n",
       " 66.61662192493112,\n",
       " 68.08882447553086,\n",
       " 78.20293740984205,\n",
       " 73.44452581086551,\n",
       " 64.35302026651742,\n",
       " 65.01419658172838,\n",
       " 69.33133954333324,\n",
       " 69.64594403487942,\n",
       " 72.08188348029161,\n",
       " 62.19343210354502,\n",
       " 60.72611952893099,\n",
       " 61.676205080450494,\n",
       " 60.37040448373672,\n",
       " 75.65137002472456,\n",
       " 67.74526339693846,\n",
       " 59.28942801583602,\n",
       " 64.98902201349036,\n",
       " 67.50524585420492,\n",
       " 68.70364733764028,\n",
       " 64.14593289356505,\n",
       " 57.61098104213094,\n",
       " 69.31897143709827,\n",
       " 69.49270319525264,\n",
       " 69.53773089131509,\n",
       " 66.17783760386358,\n",
       " 64.52534285439555,\n",
       " 80.12974528118295,\n",
       " 64.53309495161716,\n",
       " 64.94936189902886,\n",
       " 66.43287387186483,\n",
       " 61.40749466898187,\n",
       " 89.2341098729534,\n",
       " 76.9147732715716,\n",
       " 72.10843598647956,\n",
       " 71.56845012331956,\n",
       " 56.3659176959065,\n",
       " 62.74164704249476,\n",
       " 67.65924475198106,\n",
       " 74.2741869391524,\n",
       " 71.43157462905658,\n",
       " 72.49596688112237,\n",
       " 72.95781774042125,\n",
       " 69.09531599372617,\n",
       " 71.40430812308041,\n",
       " 61.65624138891068,\n",
       " 68.65089972686457,\n",
       " 69.04920973363254,\n",
       " 73.59756815343745,\n",
       " 60.724341625326716,\n",
       " 54.92098340448197,\n",
       " 70.9791729196428,\n",
       " 65.84724728780951,\n",
       " 73.85852638650987,\n",
       " 69.90366091107828,\n",
       " 67.12326468091933,\n",
       " 66.59392199394331,\n",
       " 49.96584694361764,\n",
       " 60.525815867454234,\n",
       " 60.77420872411241,\n",
       " 83.99557258662811,\n",
       " 99.88582324053137,\n",
       " 73.2537063038089,\n",
       " 68.0391075714569,\n",
       " 98.6404899975172,\n",
       " 63.473650170606845,\n",
       " 81.93939960981595,\n",
       " 65.09186795146542,\n",
       " 66.55838010538442,\n",
       " 101.5231761772698,\n",
       " 66.83808203048713,\n",
       " 100.02471874301169,\n",
       " 78.73757174467033,\n",
       " 78.48914029747982,\n",
       " 58.819318654880384,\n",
       " 67.65601884939537,\n",
       " 83.30007974819674,\n",
       " 76.35410148985922,\n",
       " 78.8248795202665,\n",
       " 61.71569474291934,\n",
       " 63.65730790323624,\n",
       " 75.20852805834191,\n",
       " 74.48304413711357,\n",
       " 65.18329890697498,\n",
       " 62.51495719781774,\n",
       " 63.51190261234416,\n",
       " 66.48776048857059,\n",
       " 63.476290033190594,\n",
       " 65.41529446570277,\n",
       " 70.09113727114766,\n",
       " 71.68101454218768,\n",
       " 77.00485628103874,\n",
       " 61.13801262488225,\n",
       " 68.85186138650249,\n",
       " 63.79369256625523,\n",
       " 66.3547209816084,\n",
       " 62.43115403986123,\n",
       " 62.718701097614925,\n",
       " 60.885126743765696,\n",
       " 69.3869845186149,\n",
       " 62.37542714654498,\n",
       " 67.95710042943729,\n",
       " 89.06470316477754,\n",
       " 69.28770272871033,\n",
       " 65.8547877094224,\n",
       " 67.18230434216035,\n",
       " 62.60815921739529,\n",
       " 76.37202873035977,\n",
       " 72.22501078046429,\n",
       " 78.27022075740678,\n",
       " 66.90281305288916,\n",
       " 105.06839002107581,\n",
       " 65.60171263904235,\n",
       " 71.77985278461327,\n",
       " 50.37210384414477,\n",
       " 76.38435448125729,\n",
       " 98.3433801407277,\n",
       " 76.52475134670456,\n",
       " 96.59303722191083,\n",
       " 83.95613987715649,\n",
       " 79.00637303533196,\n",
       " 76.96335070740166,\n",
       " 74.08377563516831,\n",
       " 66.93433041852023,\n",
       " 74.8942450496364,\n",
       " 84.40582639133216,\n",
       " 78.01344689567851,\n",
       " 77.4654122787695,\n",
       " 83.50904709932207,\n",
       " 66.7579919017522,\n",
       " 87.81611298995978,\n",
       " 73.5662914661583,\n",
       " 66.41907806295337,\n",
       " 63.45020574115258,\n",
       " 74.03203471752697,\n",
       " 68.6412390979957,\n",
       " 59.93950066760827,\n",
       " 60.56472408697044,\n",
       " 73.24051508107823,\n",
       " 70.86622214498325,\n",
       " 77.64539303764141,\n",
       " 57.88622734884004,\n",
       " 48.73856702559372,\n",
       " 61.71128628324225,\n",
       " 68.96701255792398,\n",
       " 79.44591336349592,\n",
       " 64.61228748495593,\n",
       " 55.39735411504765,\n",
       " 60.76837208925577,\n",
       " 53.73133870633905,\n",
       " 70.92149202625883,\n",
       " 58.71901771798751,\n",
       " 63.53559117165801,\n",
       " 64.48799503107182,\n",
       " 62.25752011313863,\n",
       " 79.65526191400592,\n",
       " 86.07676002432927,\n",
       " 74.04035817361596,\n",
       " 93.48262839981034,\n",
       " 67.8237265379197,\n",
       " 69.88005275749236,\n",
       " 70.13985349156195,\n",
       " 81.0839031003435,\n",
       " 85.97322065475474,\n",
       " 64.79063278552569,\n",
       " 61.74308709237224,\n",
       " 73.43188328904819,\n",
       " 65.40728001156222,\n",
       " 66.96522670789041,\n",
       " 66.04809964020579,\n",
       " 56.69933236857292,\n",
       " 65.29068853832901,\n",
       " 62.97139680190546,\n",
       " 77.45799082597932,\n",
       " 67.27336360022449,\n",
       " 74.26477427194366,\n",
       " 72.21836274501699,\n",
       " 63.808611565815646,\n",
       " 80.7575056688039,\n",
       " 57.70021168227284,\n",
       " 63.7569611830072,\n",
       " 67.90060396355075,\n",
       " 75.16741935118094,\n",
       " 67.62440288179565,\n",
       " 67.89838931657167,\n",
       " 65.33369829464354,\n",
       " 64.45359620010501,\n",
       " 89.82314141102634,\n",
       " 63.43238005150875,\n",
       " 88.884137987565,\n",
       " 61.10296597943845,\n",
       " 61.78674846010483,\n",
       " 70.06036733188323,\n",
       " 78.79401205138605,\n",
       " 84.0511486800231,\n",
       " 63.69129447362963,\n",
       " 59.17410300042098,\n",
       " 63.54554955040563,\n",
       " 77.31708180115437,\n",
       " 72.84435662875967,\n",
       " 64.40120492957577,\n",
       " 55.85688018198327,\n",
       " 70.04986961962291,\n",
       " 66.99944851747641,\n",
       " 77.33688607274969,\n",
       " 65.23510013068761,\n",
       " 67.37232316746767,\n",
       " 75.54737616004684,\n",
       " 70.40465724387406,\n",
       " 77.14493543965766,\n",
       " 74.82891693715882,\n",
       " 54.73296346394755,\n",
       " 65.74828743923634,\n",
       " 66.46519971859783,\n",
       " 87.43870593734813,\n",
       " 81.61429273201213,\n",
       " 67.83516228434456,\n",
       " 68.88810651586232,\n",
       " 74.43752973745835,\n",
       " 76.47312663940323,\n",
       " 53.80005573033614,\n",
       " 61.01894444233131,\n",
       " 66.62124072951228,\n",
       " 52.486754109058666,\n",
       " 60.13754864522194,\n",
       " 69.65420825258398,\n",
       " 69.02861102740025,\n",
       " 79.92428919129767,\n",
       " 72.88770081592769,\n",
       " 79.17704836003784,\n",
       " 75.03559940868014,\n",
       " 69.25540506388302,\n",
       " 75.09800746651798,\n",
       " 65.32104881325587,\n",
       " 65.64162734786916,\n",
       " 66.94612007653518,\n",
       " 65.77701778214418,\n",
       " 88.48818413920078,\n",
       " 68.72377615432089,\n",
       " 67.15694606795357,\n",
       " ...]"
      ]
     },
     "execution_count": 181,
     "metadata": {},
     "output_type": "execute_result"
    }
   ],
   "source": [
    "turnovers"
   ]
  },
  {
   "cell_type": "code",
   "execution_count": 119,
   "id": "913e523e",
   "metadata": {},
   "outputs": [
    {
     "data": {
      "text/plain": [
       "[1.5864964828901589,\n",
       " 1.0921220653106023,\n",
       " 2.0209197095902547,\n",
       " 0.8206763618655363,\n",
       " 0.24410631572833363]"
      ]
     },
     "execution_count": 119,
     "metadata": {},
     "output_type": "execute_result"
    }
   ],
   "source": [
    "sharpe_ratios_year = []\n",
    "for i in range(5):\n",
    "    sharpe_ratio = np.array(pnls[i * T: (i+1) * T]).mean() / np.array(pnls[i * T: (i+1) * T]).std() * (T**0.5)\n",
    "    sharpe_ratios_year.append(sharpe_ratio)\n",
    "sharpe_ratios_year"
   ]
  },
  {
   "cell_type": "code",
   "execution_count": 120,
   "id": "903426aa",
   "metadata": {},
   "outputs": [
    {
     "data": {
      "image/png": "[encoded data removed]",
      "text/plain": [
       "<Figure size 432x288 with 1 Axes>"
      ]
     },
     "metadata": {
      "needs_background": "light"
     },
     "output_type": "display_data"
    }
   ],
   "source": [
    "from matplotlib import pyplot as plt\n",
    "\n",
    "plt.plot(np.cumsum(pnls))\n",
    "plt.title('PnL')\n",
    "plt.show()"
   ]
  },
  {
   "cell_type": "code",
   "execution_count": 121,
   "id": "a76c8ba6",
   "metadata": {},
   "outputs": [
    {
     "data": {
      "image/png": "[encoded data removed]",
      "text/plain": [
       "<Figure size 432x288 with 1 Axes>"
      ]
     },
     "metadata": {
      "needs_background": "light"
     },
     "output_type": "display_data"
    }
   ],
   "source": [
    "plt.plot(turnovers)\n",
    "plt.title('turnover')\n",
    "plt.show()"
   ]
  },
  {
   "cell_type": "code",
   "execution_count": 108,
   "id": "c8c48054",
   "metadata": {},
   "outputs": [
    {
     "data": {
      "text/plain": [
       "64.6376957020478"
      ]
     },
     "execution_count": 108,
     "metadata": {},
     "output_type": "execute_result"
    }
   ],
   "source": [
    "np.mean(turnovers[1:])"
   ]
  },
  {
   "cell_type": "code",
   "execution_count": 109,
   "id": "251c589b",
   "metadata": {},
   "outputs": [
    {
     "data": {
      "image/png": "[encoded data removed]",
      "text/plain": [
       "<Figure size 864x576 with 1 Axes>"
      ]
     },
     "metadata": {
      "needs_background": "light"
     },
     "output_type": "display_data"
    }
   ],
   "source": [
    "plt.figure(figsize = (12, 8))\n",
    "plt.plot(sharpe_ratios)\n",
    "plt.title('sharpe_ratio')\n",
    "plt.axhline(y=0.7, color='r', linestyle='--', label='alpha')\n",
    "plt.axhline(y=1, color ='g', linestyle='--', label='weak alpha')\n",
    "plt.axhline(y=1.5, color ='k', linestyle='--', label='good alpha')\n",
    "plt.axhline(y=3, color ='b', linestyle='--', label='perfect alpha')\n",
    "plt.axhline(y=4, color ='y', linestyle='--', label='error')\n",
    "\n",
    "\n",
    "\n",
    "plt.legend()\n",
    "plt.show()\n"
   ]
  },
  {
   "cell_type": "code",
   "execution_count": 37,
   "id": "b6e45dd3",
   "metadata": {},
   "outputs": [
    {
     "data": {
      "text/html": [
       "<div>\n",
       "<style scoped>\n",
       "    .dataframe tbody tr th:only-of-type {\n",
       "        vertical-align: middle;\n",
       "    }\n",
       "\n",
       "    .dataframe tbody tr th {\n",
       "        vertical-align: top;\n",
       "    }\n",
       "\n",
       "    .dataframe thead th {\n",
       "        text-align: right;\n",
       "    }\n",
       "</style>\n",
       "<table border=\"1\" class=\"dataframe\">\n",
       "  <thead>\n",
       "    <tr style=\"text-align: right;\">\n",
       "      <th></th>\n",
       "      <th>2010-01-04</th>\n",
       "      <th>2010-01-05</th>\n",
       "      <th>2010-01-06</th>\n",
       "      <th>2010-01-07</th>\n",
       "      <th>2010-01-08</th>\n",
       "      <th>2010-01-11</th>\n",
       "      <th>2010-01-12</th>\n",
       "      <th>2010-01-13</th>\n",
       "      <th>2010-01-14</th>\n",
       "      <th>2010-01-15</th>\n",
       "      <th>...</th>\n",
       "      <th>2014-12-17</th>\n",
       "      <th>2014-12-18</th>\n",
       "      <th>2014-12-19</th>\n",
       "      <th>2014-12-22</th>\n",
       "      <th>2014-12-23</th>\n",
       "      <th>2014-12-24</th>\n",
       "      <th>2014-12-26</th>\n",
       "      <th>2014-12-29</th>\n",
       "      <th>2014-12-30</th>\n",
       "      <th>2014-12-31</th>\n",
       "    </tr>\n",
       "  </thead>\n",
       "  <tbody>\n",
       "    <tr>\n",
       "      <th>aan.us</th>\n",
       "      <td>18.1900</td>\n",
       "      <td>18.2470</td>\n",
       "      <td>18.3840</td>\n",
       "      <td>18.3840</td>\n",
       "      <td>18.4040</td>\n",
       "      <td>18.7280</td>\n",
       "      <td>18.6310</td>\n",
       "      <td>18.8160</td>\n",
       "      <td>18.9630</td>\n",
       "      <td>18.9440</td>\n",
       "      <td>...</td>\n",
       "      <td>27.917</td>\n",
       "      <td>28.343</td>\n",
       "      <td>28.333</td>\n",
       "      <td>28.936</td>\n",
       "      <td>29.788</td>\n",
       "      <td>30.027</td>\n",
       "      <td>30.124</td>\n",
       "      <td>30.709</td>\n",
       "      <td>30.431</td>\n",
       "      <td>30.282</td>\n",
       "    </tr>\n",
       "    <tr>\n",
       "      <th>aaon.us</th>\n",
       "      <td>5.5553</td>\n",
       "      <td>5.3941</td>\n",
       "      <td>5.1802</td>\n",
       "      <td>5.3719</td>\n",
       "      <td>5.4357</td>\n",
       "      <td>5.5831</td>\n",
       "      <td>5.5024</td>\n",
       "      <td>5.5386</td>\n",
       "      <td>5.5332</td>\n",
       "      <td>5.3219</td>\n",
       "      <td>...</td>\n",
       "      <td>21.103</td>\n",
       "      <td>21.513</td>\n",
       "      <td>21.219</td>\n",
       "      <td>21.445</td>\n",
       "      <td>21.719</td>\n",
       "      <td>21.954</td>\n",
       "      <td>21.916</td>\n",
       "      <td>21.847</td>\n",
       "      <td>21.886</td>\n",
       "      <td>21.935</td>\n",
       "    </tr>\n",
       "    <tr>\n",
       "      <th>aap.us</th>\n",
       "      <td>39.7330</td>\n",
       "      <td>39.4960</td>\n",
       "      <td>39.8410</td>\n",
       "      <td>39.8320</td>\n",
       "      <td>39.9900</td>\n",
       "      <td>39.5950</td>\n",
       "      <td>38.9060</td>\n",
       "      <td>39.4470</td>\n",
       "      <td>38.9260</td>\n",
       "      <td>38.6780</td>\n",
       "      <td>...</td>\n",
       "      <td>158.780</td>\n",
       "      <td>159.970</td>\n",
       "      <td>159.080</td>\n",
       "      <td>158.670</td>\n",
       "      <td>160.480</td>\n",
       "      <td>159.520</td>\n",
       "      <td>159.290</td>\n",
       "      <td>160.510</td>\n",
       "      <td>159.320</td>\n",
       "      <td>158.570</td>\n",
       "    </tr>\n",
       "    <tr>\n",
       "      <th>aau.us</th>\n",
       "      <td>1.1000</td>\n",
       "      <td>1.1500</td>\n",
       "      <td>1.2900</td>\n",
       "      <td>1.2400</td>\n",
       "      <td>1.2600</td>\n",
       "      <td>1.2400</td>\n",
       "      <td>1.2400</td>\n",
       "      <td>1.2500</td>\n",
       "      <td>1.2200</td>\n",
       "      <td>1.1400</td>\n",
       "      <td>...</td>\n",
       "      <td>0.970</td>\n",
       "      <td>0.960</td>\n",
       "      <td>0.970</td>\n",
       "      <td>0.930</td>\n",
       "      <td>0.910</td>\n",
       "      <td>0.940</td>\n",
       "      <td>0.970</td>\n",
       "      <td>0.920</td>\n",
       "      <td>0.950</td>\n",
       "      <td>0.940</td>\n",
       "    </tr>\n",
       "    <tr>\n",
       "      <th>aav.us</th>\n",
       "      <td>6.8300</td>\n",
       "      <td>7.1200</td>\n",
       "      <td>7.2700</td>\n",
       "      <td>7.1100</td>\n",
       "      <td>7.2900</td>\n",
       "      <td>7.2200</td>\n",
       "      <td>7.0000</td>\n",
       "      <td>7.1500</td>\n",
       "      <td>7.1100</td>\n",
       "      <td>7.0300</td>\n",
       "      <td>...</td>\n",
       "      <td>5.150</td>\n",
       "      <td>4.910</td>\n",
       "      <td>5.130</td>\n",
       "      <td>4.760</td>\n",
       "      <td>4.690</td>\n",
       "      <td>4.680</td>\n",
       "      <td>4.600</td>\n",
       "      <td>4.670</td>\n",
       "      <td>4.650</td>\n",
       "      <td>4.790</td>\n",
       "    </tr>\n",
       "    <tr>\n",
       "      <th>...</th>\n",
       "      <td>...</td>\n",
       "      <td>...</td>\n",
       "      <td>...</td>\n",
       "      <td>...</td>\n",
       "      <td>...</td>\n",
       "      <td>...</td>\n",
       "      <td>...</td>\n",
       "      <td>...</td>\n",
       "      <td>...</td>\n",
       "      <td>...</td>\n",
       "      <td>...</td>\n",
       "      <td>...</td>\n",
       "      <td>...</td>\n",
       "      <td>...</td>\n",
       "      <td>...</td>\n",
       "      <td>...</td>\n",
       "      <td>...</td>\n",
       "      <td>...</td>\n",
       "      <td>...</td>\n",
       "      <td>...</td>\n",
       "      <td>...</td>\n",
       "    </tr>\n",
       "    <tr>\n",
       "      <th>ziop.us</th>\n",
       "      <td>2.9500</td>\n",
       "      <td>3.0500</td>\n",
       "      <td>3.0800</td>\n",
       "      <td>3.0400</td>\n",
       "      <td>3.1000</td>\n",
       "      <td>3.1900</td>\n",
       "      <td>3.1000</td>\n",
       "      <td>3.1000</td>\n",
       "      <td>3.1100</td>\n",
       "      <td>3.0800</td>\n",
       "      <td>...</td>\n",
       "      <td>4.240</td>\n",
       "      <td>4.270</td>\n",
       "      <td>4.800</td>\n",
       "      <td>4.930</td>\n",
       "      <td>4.690</td>\n",
       "      <td>4.760</td>\n",
       "      <td>4.900</td>\n",
       "      <td>4.990</td>\n",
       "      <td>5.030</td>\n",
       "      <td>5.070</td>\n",
       "    </tr>\n",
       "    <tr>\n",
       "      <th>zixi.us</th>\n",
       "      <td>1.7800</td>\n",
       "      <td>1.7000</td>\n",
       "      <td>1.7000</td>\n",
       "      <td>2.2200</td>\n",
       "      <td>2.1200</td>\n",
       "      <td>2.0800</td>\n",
       "      <td>2.0500</td>\n",
       "      <td>2.1000</td>\n",
       "      <td>2.1100</td>\n",
       "      <td>2.0600</td>\n",
       "      <td>...</td>\n",
       "      <td>3.440</td>\n",
       "      <td>3.485</td>\n",
       "      <td>3.610</td>\n",
       "      <td>3.760</td>\n",
       "      <td>3.710</td>\n",
       "      <td>3.730</td>\n",
       "      <td>3.760</td>\n",
       "      <td>3.670</td>\n",
       "      <td>3.630</td>\n",
       "      <td>3.600</td>\n",
       "    </tr>\n",
       "    <tr>\n",
       "      <th>zn.us</th>\n",
       "      <td>6.5000</td>\n",
       "      <td>6.4000</td>\n",
       "      <td>6.2900</td>\n",
       "      <td>6.3200</td>\n",
       "      <td>6.3600</td>\n",
       "      <td>6.1800</td>\n",
       "      <td>6.0900</td>\n",
       "      <td>5.9400</td>\n",
       "      <td>6.0400</td>\n",
       "      <td>5.9000</td>\n",
       "      <td>...</td>\n",
       "      <td>1.460</td>\n",
       "      <td>1.460</td>\n",
       "      <td>1.470</td>\n",
       "      <td>1.460</td>\n",
       "      <td>1.450</td>\n",
       "      <td>1.465</td>\n",
       "      <td>1.410</td>\n",
       "      <td>1.380</td>\n",
       "      <td>1.380</td>\n",
       "      <td>1.370</td>\n",
       "    </tr>\n",
       "    <tr>\n",
       "      <th>ztr.us</th>\n",
       "      <td>7.3331</td>\n",
       "      <td>7.3331</td>\n",
       "      <td>7.3532</td>\n",
       "      <td>7.3331</td>\n",
       "      <td>7.3898</td>\n",
       "      <td>7.3331</td>\n",
       "      <td>7.2956</td>\n",
       "      <td>7.2956</td>\n",
       "      <td>7.3331</td>\n",
       "      <td>7.3151</td>\n",
       "      <td>...</td>\n",
       "      <td>9.849</td>\n",
       "      <td>10.019</td>\n",
       "      <td>10.113</td>\n",
       "      <td>10.150</td>\n",
       "      <td>10.185</td>\n",
       "      <td>10.185</td>\n",
       "      <td>10.221</td>\n",
       "      <td>10.213</td>\n",
       "      <td>10.196</td>\n",
       "      <td>10.182</td>\n",
       "    </tr>\n",
       "    <tr>\n",
       "      <th>zumz.us</th>\n",
       "      <td>12.3600</td>\n",
       "      <td>12.2900</td>\n",
       "      <td>12.6800</td>\n",
       "      <td>14.6600</td>\n",
       "      <td>14.7300</td>\n",
       "      <td>14.3800</td>\n",
       "      <td>14.3100</td>\n",
       "      <td>14.5000</td>\n",
       "      <td>13.7800</td>\n",
       "      <td>13.5500</td>\n",
       "      <td>...</td>\n",
       "      <td>37.450</td>\n",
       "      <td>37.930</td>\n",
       "      <td>37.310</td>\n",
       "      <td>37.700</td>\n",
       "      <td>37.840</td>\n",
       "      <td>37.530</td>\n",
       "      <td>37.570</td>\n",
       "      <td>38.850</td>\n",
       "      <td>38.820</td>\n",
       "      <td>38.630</td>\n",
       "    </tr>\n",
       "  </tbody>\n",
       "</table>\n",
       "<p>2436 rows × 1257 columns</p>\n",
       "</div>"
      ],
      "text/plain": [
       "         2010-01-04  2010-01-05  2010-01-06  2010-01-07  2010-01-08  \\\n",
       "aan.us      18.1900     18.2470     18.3840     18.3840     18.4040   \n",
       "aaon.us      5.5553      5.3941      5.1802      5.3719      5.4357   \n",
       "aap.us      39.7330     39.4960     39.8410     39.8320     39.9900   \n",
       "aau.us       1.1000      1.1500      1.2900      1.2400      1.2600   \n",
       "aav.us       6.8300      7.1200      7.2700      7.1100      7.2900   \n",
       "...             ...         ...         ...         ...         ...   \n",
       "ziop.us      2.9500      3.0500      3.0800      3.0400      3.1000   \n",
       "zixi.us      1.7800      1.7000      1.7000      2.2200      2.1200   \n",
       "zn.us        6.5000      6.4000      6.2900      6.3200      6.3600   \n",
       "ztr.us       7.3331      7.3331      7.3532      7.3331      7.3898   \n",
       "zumz.us     12.3600     12.2900     12.6800     14.6600     14.7300   \n",
       "\n",
       "         2010-01-11  2010-01-12  2010-01-13  2010-01-14  2010-01-15  ...  \\\n",
       "aan.us      18.7280     18.6310     18.8160     18.9630     18.9440  ...   \n",
       "aaon.us      5.5831      5.5024      5.5386      5.5332      5.3219  ...   \n",
       "aap.us      39.5950     38.9060     39.4470     38.9260     38.6780  ...   \n",
       "aau.us       1.2400      1.2400      1.2500      1.2200      1.1400  ...   \n",
       "aav.us       7.2200      7.0000      7.1500      7.1100      7.0300  ...   \n",
       "...             ...         ...         ...         ...         ...  ...   \n",
       "ziop.us      3.1900      3.1000      3.1000      3.1100      3.0800  ...   \n",
       "zixi.us      2.0800      2.0500      2.1000      2.1100      2.0600  ...   \n",
       "zn.us        6.1800      6.0900      5.9400      6.0400      5.9000  ...   \n",
       "ztr.us       7.3331      7.2956      7.2956      7.3331      7.3151  ...   \n",
       "zumz.us     14.3800     14.3100     14.5000     13.7800     13.5500  ...   \n",
       "\n",
       "         2014-12-17  2014-12-18  2014-12-19  2014-12-22  2014-12-23  \\\n",
       "aan.us       27.917      28.343      28.333      28.936      29.788   \n",
       "aaon.us      21.103      21.513      21.219      21.445      21.719   \n",
       "aap.us      158.780     159.970     159.080     158.670     160.480   \n",
       "aau.us        0.970       0.960       0.970       0.930       0.910   \n",
       "aav.us        5.150       4.910       5.130       4.760       4.690   \n",
       "...             ...         ...         ...         ...         ...   \n",
       "ziop.us       4.240       4.270       4.800       4.930       4.690   \n",
       "zixi.us       3.440       3.485       3.610       3.760       3.710   \n",
       "zn.us         1.460       1.460       1.470       1.460       1.450   \n",
       "ztr.us        9.849      10.019      10.113      10.150      10.185   \n",
       "zumz.us      37.450      37.930      37.310      37.700      37.840   \n",
       "\n",
       "         2014-12-24  2014-12-26  2014-12-29  2014-12-30  2014-12-31  \n",
       "aan.us       30.027      30.124      30.709      30.431      30.282  \n",
       "aaon.us      21.954      21.916      21.847      21.886      21.935  \n",
       "aap.us      159.520     159.290     160.510     159.320     158.570  \n",
       "aau.us        0.940       0.970       0.920       0.950       0.940  \n",
       "aav.us        4.680       4.600       4.670       4.650       4.790  \n",
       "...             ...         ...         ...         ...         ...  \n",
       "ziop.us       4.760       4.900       4.990       5.030       5.070  \n",
       "zixi.us       3.730       3.760       3.670       3.630       3.600  \n",
       "zn.us         1.465       1.410       1.380       1.380       1.370  \n",
       "ztr.us       10.185      10.221      10.213      10.196      10.182  \n",
       "zumz.us      37.530      37.570      38.850      38.820      38.630  \n",
       "\n",
       "[2436 rows x 1257 columns]"
      ]
     },
     "execution_count": 37,
     "metadata": {},
     "output_type": "execute_result"
    }
   ],
   "source": [
    "Close"
   ]
  },
  {
   "cell_type": "code",
   "execution_count": null,
   "id": "0abdd9a2",
   "metadata": {},
   "outputs": [],
   "source": []
  }
 ],
 "metadata": {
  "kernelspec": {
   "display_name": "Python 3 (ipykernel)",
   "language": "python",
   "name": "python3"
  },
  "language_info": {
   "codemirror_mode": {
    "name": "ipython",
    "version": 3
   },
   "file_extension": ".py",
   "mimetype": "text/x-python",
   "name": "python",
   "nbconvert_exporter": "python",
   "pygments_lexer": "ipython3",
   "version": "3.7.10"
  }
 },
 "nbformat": 4,
 "nbformat_minor": 5
}
