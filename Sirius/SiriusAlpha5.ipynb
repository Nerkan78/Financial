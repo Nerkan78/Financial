{
 "cells": [
  {
   "cell_type": "code",
   "execution_count": 1,
   "id": "aa772448",
   "metadata": {},
   "outputs": [
    {
     "name": "stdout",
     "output_type": "stream",
     "text": [
      "7195 files in ../Stocks/ folder\n"
     ]
    }
   ],
   "source": [
    "import numpy as np\n",
    "import pandas as pd\n",
    "import os\n",
    "cnt=0\n",
    "for dirname, _, filenames in os.walk('../Stocks/'):\n",
    "    for filename in filenames:\n",
    "#         print(os.path.join(dirname, filename))\n",
    "        cnt+=1\n",
    "print(cnt, 'files in','../Stocks/', 'folder')\n",
    "date_start = '2010-01-01'\n",
    "date_end = '2014-12-30'\n",
    "# You can write up to 20GB to the current directory (/kaggle/working/) that gets preserved as output when you create a version using \"Save & Run All\" \n",
    "# You can also write temporary files to /kaggle/temp/, but they won't be saved outside of the current session"
   ]
  },
  {
   "cell_type": "code",
   "execution_count": 2,
   "id": "988831bc",
   "metadata": {},
   "outputs": [
    {
     "data": {
      "text/html": [
       "<div>\n",
       "<style scoped>\n",
       "    .dataframe tbody tr th:only-of-type {\n",
       "        vertical-align: middle;\n",
       "    }\n",
       "\n",
       "    .dataframe tbody tr th {\n",
       "        vertical-align: top;\n",
       "    }\n",
       "\n",
       "    .dataframe thead th {\n",
       "        text-align: right;\n",
       "    }\n",
       "</style>\n",
       "<table border=\"1\" class=\"dataframe\">\n",
       "  <thead>\n",
       "    <tr style=\"text-align: right;\">\n",
       "      <th></th>\n",
       "      <th>Date</th>\n",
       "      <th>Open</th>\n",
       "      <th>High</th>\n",
       "      <th>Low</th>\n",
       "      <th>Close</th>\n",
       "      <th>Volume</th>\n",
       "      <th>OpenInt</th>\n",
       "    </tr>\n",
       "  </thead>\n",
       "  <tbody>\n",
       "    <tr>\n",
       "      <th>0</th>\n",
       "      <td>2005-02-25</td>\n",
       "      <td>15.767</td>\n",
       "      <td>16.286</td>\n",
       "      <td>15.767</td>\n",
       "      <td>16.246</td>\n",
       "      <td>886907</td>\n",
       "      <td>0</td>\n",
       "    </tr>\n",
       "    <tr>\n",
       "      <th>1</th>\n",
       "      <td>2005-02-28</td>\n",
       "      <td>16.616</td>\n",
       "      <td>16.616</td>\n",
       "      <td>16.356</td>\n",
       "      <td>16.556</td>\n",
       "      <td>775943</td>\n",
       "      <td>0</td>\n",
       "    </tr>\n",
       "    <tr>\n",
       "      <th>2</th>\n",
       "      <td>2005-03-01</td>\n",
       "      <td>16.576</td>\n",
       "      <td>16.576</td>\n",
       "      <td>16.166</td>\n",
       "      <td>16.186</td>\n",
       "      <td>536390</td>\n",
       "      <td>0</td>\n",
       "    </tr>\n",
       "    <tr>\n",
       "      <th>3</th>\n",
       "      <td>2005-03-02</td>\n",
       "      <td>15.667</td>\n",
       "      <td>15.667</td>\n",
       "      <td>15.477</td>\n",
       "      <td>15.537</td>\n",
       "      <td>507548</td>\n",
       "      <td>0</td>\n",
       "    </tr>\n",
       "    <tr>\n",
       "      <th>4</th>\n",
       "      <td>2005-03-03</td>\n",
       "      <td>15.637</td>\n",
       "      <td>15.657</td>\n",
       "      <td>15.517</td>\n",
       "      <td>15.587</td>\n",
       "      <td>206304</td>\n",
       "      <td>0</td>\n",
       "    </tr>\n",
       "    <tr>\n",
       "      <th>5</th>\n",
       "      <td>2005-03-04</td>\n",
       "      <td>15.218</td>\n",
       "      <td>15.567</td>\n",
       "      <td>15.218</td>\n",
       "      <td>15.477</td>\n",
       "      <td>470293</td>\n",
       "      <td>0</td>\n",
       "    </tr>\n",
       "    <tr>\n",
       "      <th>6</th>\n",
       "      <td>2005-03-07</td>\n",
       "      <td>15.837</td>\n",
       "      <td>16.056</td>\n",
       "      <td>15.787</td>\n",
       "      <td>15.937</td>\n",
       "      <td>215117</td>\n",
       "      <td>0</td>\n",
       "    </tr>\n",
       "    <tr>\n",
       "      <th>7</th>\n",
       "      <td>2005-03-08</td>\n",
       "      <td>16.156</td>\n",
       "      <td>16.186</td>\n",
       "      <td>15.966</td>\n",
       "      <td>16.016</td>\n",
       "      <td>274805</td>\n",
       "      <td>0</td>\n",
       "    </tr>\n",
       "  </tbody>\n",
       "</table>\n",
       "</div>"
      ],
      "text/plain": [
       "         Date    Open    High     Low   Close  Volume  OpenInt\n",
       "0  2005-02-25  15.767  16.286  15.767  16.246  886907        0\n",
       "1  2005-02-28  16.616  16.616  16.356  16.556  775943        0\n",
       "2  2005-03-01  16.576  16.576  16.166  16.186  536390        0\n",
       "3  2005-03-02  15.667  15.667  15.477  15.537  507548        0\n",
       "4  2005-03-03  15.637  15.657  15.517  15.587  206304        0\n",
       "5  2005-03-04  15.218  15.567  15.218  15.477  470293        0\n",
       "6  2005-03-07  15.837  16.056  15.787  15.937  215117        0\n",
       "7  2005-03-08  16.156  16.186  15.966  16.016  274805        0"
      ]
     },
     "execution_count": 2,
     "metadata": {},
     "output_type": "execute_result"
    }
   ],
   "source": [
    "df = pd.read_csv('../Stocks/ach.us.txt', delimiter=',')\n",
    "df.head(8)"
   ]
  },
  {
   "cell_type": "code",
   "execution_count": 3,
   "id": "049b6811",
   "metadata": {},
   "outputs": [],
   "source": [
    "d_files = dict()\n",
    "def get_names(date_start = '2010-01-01', date_end = '2014-12-30'):\n",
    "    import os \n",
    "    from pandas.errors import EmptyDataError \n",
    "    global d_files\n",
    "    names = []\n",
    "    for dirname, _, filenames in os.walk('../Stocks/'):\n",
    "        for filename in filenames:\n",
    "            filepath = os.path.join(dirname, filename)\n",
    "            try:\n",
    "                df = pd.read_csv(filepath, delimiter=',')\n",
    "                df = df[(df['Date']>date_start) & (df['Date']<=date_end)]\n",
    "                if df.shape[0] == 1256:\n",
    "                    names.append(filepath)\n",
    "                if df.shape[0] in d_files.keys():\n",
    "                    d_files[df.shape[0]] += 1\n",
    "                else:\n",
    "                    d_files[df.shape[0]] = 1\n",
    "                # TODO\n",
    "                #if df.shape[0] == 1257 (324 companies):\n",
    "                #.   define method merge_dates()\n",
    "                #    names.append(filepath)\n",
    "            except EmptyDataError:\n",
    "                continue\n",
    "    return names"
   ]
  },
  {
   "cell_type": "code",
   "execution_count": 4,
   "id": "277785a4",
   "metadata": {},
   "outputs": [
    {
     "name": "stdout",
     "output_type": "stream",
     "text": [
      "--- 55.71943807601929 seconds ---\n",
      "33.856845% (2436) files are valid\n"
     ]
    }
   ],
   "source": [
    "import time\n",
    "start_time = time.time()\n",
    "valid_names = get_names()\n",
    "print(\"--- %s seconds ---\" % (time.time() - start_time))\n",
    "print(format(len(valid_names)/cnt, '%'), f'({len(valid_names)})', 'files are valid')"
   ]
  },
  {
   "cell_type": "code",
   "execution_count": 5,
   "id": "dcce9ed8",
   "metadata": {},
   "outputs": [
    {
     "name": "stdout",
     "output_type": "stream",
     "text": [
      "{1256: 2436, 0: 1967, 1257: 367, 1255: 74, 1096: 62, 1254: 41, 1253: 22, 1251: 21, 1252: 20, 1248: 16}\n"
     ]
    }
   ],
   "source": [
    "print(dict(sorted(d_files.items(), key=lambda item: item[1], reverse = True)[:10]))"
   ]
  },
  {
   "cell_type": "code",
   "execution_count": 15,
   "id": "64872731",
   "metadata": {},
   "outputs": [
    {
     "name": "stdout",
     "output_type": "stream",
     "text": [
      "--- 20.049997568130493 seconds ---\n"
     ]
    }
   ],
   "source": [
    "start_time = time.time()\n",
    "\n",
    "tickers = []\n",
    "Open = []\n",
    "Close = []\n",
    "High = []\n",
    "Low = []\n",
    "Volume = []\n",
    "for filename in valid_names:\n",
    "    ticker = filename.split('/')[-1].strip('.txt')\n",
    "    tickers.append(ticker)\n",
    "    \n",
    "    df = pd.read_csv(filename, delimiter=',')\n",
    "    df = df[(df['Date']>date_start) & (df['Date']<=date_end)]\n",
    "    Open.append(np.array(df['Open']))\n",
    "    Close.append(np.array(df['Close']))\n",
    "    High.append(np.array(df['High']))\n",
    "    Low.append(np.array(df['Low']))\n",
    "    Volume.append(np.array(df['Volume']))\n",
    "\n",
    "# filtering\n",
    "tickers = np.array(tickers) #[aa]\n",
    "    \n",
    "dates = np.array(df['Date'])\n",
    "Open = pd.DataFrame(Open, columns = dates, index = tickers)\n",
    "Close = pd.DataFrame(Close, columns = dates, index = tickers)\n",
    "High = pd.DataFrame(High, columns = dates, index = tickers)\n",
    "Low = pd.DataFrame(Low, columns = dates, index = tickers)\n",
    "Volume = pd.DataFrame(Volume, columns = dates, index = tickers)\n",
    "print(\"--- %s seconds ---\" % (time.time() - start_time))"
   ]
  },
  {
   "cell_type": "code",
   "execution_count": null,
   "id": "16b3c647",
   "metadata": {},
   "outputs": [],
   "source": [
    "aa"
   ]
  },
  {
   "cell_type": "code",
   "execution_count": 2566,
   "id": "516ccbd9",
   "metadata": {},
   "outputs": [],
   "source": [
    "Open = Open.iloc[aa]\n",
    "Close = Close.iloc[aa]\n",
    "High = High.iloc[aa]\n",
    "Low = Low.iloc[aa]\n",
    "Volume = Volume.iloc[aa]"
   ]
  },
  {
   "cell_type": "code",
   "execution_count": null,
   "id": "7f3c672f",
   "metadata": {},
   "outputs": [],
   "source": []
  },
  {
   "cell_type": "code",
   "execution_count": 7,
   "id": "f02a9799",
   "metadata": {},
   "outputs": [
    {
     "data": {
      "text/plain": [
       "2436"
      ]
     },
     "execution_count": 7,
     "metadata": {},
     "output_type": "execute_result"
    }
   ],
   "source": [
    "N = len(Close)\n",
    "N"
   ]
  },
  {
   "cell_type": "code",
   "execution_count": 8,
   "id": "ba536a50",
   "metadata": {},
   "outputs": [],
   "source": [
    "def q_to_alpha(q):\n",
    "    x = q - np.array(q).mean()\n",
    "    return (x)/np.linalg.norm(x, ord=1)"
   ]
  },
  {
   "cell_type": "code",
   "execution_count": 9,
   "id": "8aab753f",
   "metadata": {},
   "outputs": [],
   "source": [
    "def apply_decay(A, a, n=4):\n",
    "    x = a\n",
    "    for i in range(min(n, len(A))):\n",
    "        x += A[-i-1]*(n-i-1)/n\n",
    "    x /= np.linalg.norm(x, ord=1)\n",
    "    assert len(x) == N\n",
    "#     result = x / np.linalg.norm(x, ord=1)\n",
    "    return x"
   ]
  },
  {
   "cell_type": "code",
   "execution_count": 10,
   "id": "a0c58905",
   "metadata": {},
   "outputs": [],
   "source": [
    "def truncate_a(a, max_weight=0.03):\n",
    "    def iteration(a):\n",
    "        signs = np.sign(a)\n",
    "        _a = np.min(np.vstack([np.abs(a), np.ones(N) * max_weight]), axis=0)\n",
    "        _a *= signs\n",
    "#         _a -= _a.mean()\n",
    "#         _a /= np.linalg.norm(_a, ord=1)\n",
    "        return _a\n",
    "    \n",
    "    \n",
    "#     _a = iteration(_a)\n",
    "    signs = np.sign(a)\n",
    "    _a = np.vstack([np.abs(a), np.ones(N)*max_weight]).min(0)*signs\n",
    "    \n",
    "    return _a"
   ]
  },
  {
   "cell_type": "code",
   "execution_count": 11,
   "id": "6a1444b4",
   "metadata": {},
   "outputs": [],
   "source": [
    "def ranked_alpha(q, n=10):\n",
    "    a = np.zeros(N)\n",
    "    a[np.array(q).argsort()[:n]] -= 1\n",
    "    a[np.array(-q).argsort()[:n]] += 1\n",
    "    return a / (2*n)"
   ]
  },
  {
   "cell_type": "code",
   "execution_count": 12,
   "id": "de1398ef",
   "metadata": {},
   "outputs": [],
   "source": [
    "def sigma_RS(T, i):\n",
    "    start_index = max(i-T, 0)\n",
    "    end_index = i\n",
    "    \n",
    "    log_h_c = np.log(High.T.iloc[start_index:end_index] / Close.T.iloc[start_index:end_index])\n",
    "    log_h_o = np.log(High.T.iloc[start_index:end_index] / Open.T.iloc[start_index:end_index])\n",
    "    log_l_c = np.log(Low.T.iloc[start_index:end_index] / Close.T.iloc[start_index:end_index])\n",
    "    log_l_o = np.log(Low.T.iloc[start_index:end_index] / Open.T.iloc[start_index:end_index])\n",
    "    \n",
    "    return (log_h_c * log_h_o + log_l_c * log_l_o).sum() / T"
   ]
  },
  {
   "cell_type": "code",
   "execution_count": 13,
   "id": "22884791",
   "metadata": {},
   "outputs": [],
   "source": [
    "def sigma_XZ(T, i):\n",
    "    start_index = max(i-T, 0)\n",
    "    end_index = i\n",
    "    end_index_prev = max(i, 0)\n",
    "    alpha = 1.34\n",
    "    k = (alpha-1)/(alpha + (T+1)/(T-1))\n",
    "    \n",
    "    log_o_c = np.log(Open.T.iloc[start_index:end_index] / Close.T.iloc[start_index:end_index_prev])\n",
    "    log_o_c_curr = np.log(Open.T.iloc[start_index:end_index] / Close.T.iloc[start_index:end_index])\n",
    "    \n",
    "    sigma_0 = ((log_o_c - log_o_c.mean())**2).sum() / (T-1)\n",
    "    sigma_c = ((log_o_c_curr - log_o_c_curr.mean())**2).sum() / (T-1)\n",
    "    sigma_rs = sigma_RS(T, i)\n",
    "    \n",
    "    return sigma_0 + k * sigma_c + (1-k)*sigma_rs"
   ]
  },
  {
   "cell_type": "code",
   "execution_count": 16,
   "id": "89be0061",
   "metadata": {},
   "outputs": [
    {
     "data": {
      "application/vnd.jupyter.widget-view+json": {
       "model_id": "ec68d1debace4b6aabb07f5621a78eb5",
       "version_major": 2,
       "version_minor": 0
      },
      "text/plain": [
       "0it [00:00, ?it/s]"
      ]
     },
     "metadata": {},
     "output_type": "display_data"
    },
    {
     "name": "stderr",
     "output_type": "stream",
     "text": [
      "D:\\programs\\Anaconda\\lib\\site-packages\\ipykernel_launcher.py:85: RuntimeWarning: invalid value encountered in double_scalars\n"
     ]
    }
   ],
   "source": [
    "from tqdm.notebook import tqdm\n",
    "\n",
    "A = []\n",
    "\n",
    "A_reversions = []\n",
    "A_volatilities = []\n",
    "\n",
    "pnls = []\n",
    "pnls_reversions = []\n",
    "pnls_volatilities = []\n",
    "\n",
    "turnovers = []\n",
    "sharpe_ratios = []\n",
    "comission_ratio = 0.00004\n",
    "n = 5\n",
    "pm_n = 252\n",
    "T_volatility = 5\n",
    "T = 252\n",
    "alpha_initial = q_to_alpha(np.random.randn(N))\n",
    "q_volatilities = []\n",
    "\n",
    "def f(q):\n",
    "    return 1 / (1 + np.exp(-q))\n",
    "\n",
    "for i, close in tqdm(enumerate(Close)):\n",
    "    if i<n:\n",
    "        A.append(alpha_initial)\n",
    "        q_volatilities.append(0)\n",
    "    elif i>=n:\n",
    "        q_reversion = (Close.T.iloc[i-n].values - Close.T.iloc[i-1].values) / Close.T.iloc[i-n].values\n",
    "        q_reversion = ranked_alpha(q_reversion)\n",
    "        q_volatilities.append(sigma_XZ(T_volatility, i))\n",
    "        \n",
    "        \n",
    "#         q_reversion *= (Volume.T.iloc[i-1].values) / Volume.T.iloc[i-1].values.sum()\n",
    "        \n",
    "        q_volatility = q_volatilities[i]\n",
    "        q_volatility = ranked_alpha(q_volatility)\n",
    "        \n",
    "        # putting alphas\n",
    "        A_reversions.append(ranked_alpha(q_reversion))\n",
    "        A_volatilities.append(ranked_alpha(q_volatility))\n",
    "        \n",
    "        reversions_returns = A_reversions[-1] * (Close.T.iloc[i-2] - Close.T.iloc[i-1]) / Close.T.iloc[i-2]\n",
    "        volatility_returns = A_volatilities[-1] * (Close.T.iloc[i-2] - Close.T.iloc[i-1]) / Close.T.iloc[i-2]\n",
    "        \n",
    "        A_cov = np.cov(np.stack((reversions_returns, volatility_returns), axis=0))\n",
    "\n",
    "\n",
    "        A_inv = np.linalg.inv(A_cov)\n",
    "        a_returns = np.array([reversions_returns.mean(), volatility_returns.mean()])\n",
    "        c = A_inv@a_returns / (a_returns.T @ A_inv @ a_returns)\n",
    "\n",
    "        q = 0\n",
    "        q += q_reversion * c[0] / np.linalg.norm(c, ord=1)\n",
    "        q += q_volatility * c[1] / np.linalg.norm(c, ord=1)\n",
    "        assert len(q) == N\n",
    "#         q = f(q)\n",
    "\n",
    "        x = q\n",
    "        a = A[-1]\n",
    "        a += x * (0.3 * min(1, i/252))\n",
    "#         a = apply_decay(A, a)\n",
    "        a = truncate_a(a, 0.03)\n",
    "        a = q_to_alpha(a)\n",
    "        \n",
    "        \n",
    "        a = q_to_alpha(a)\n",
    "        \n",
    "#         a = q_to_alpha(q)\n",
    "#         a = A[-1] + a\n",
    "#         a /= np.linalg.norm(a, ord=1)\n",
    "        assert np.linalg.norm(a, ord=1) - 1 < 0.001\n",
    "        assert np.abs(np.array(a).sum()) < 0.001\n",
    "        A.append(a)\n",
    "    \n",
    "    r = (Close.T.iloc[i].values - Close.T.iloc[i-1].values) / Close.T.iloc[i-1].values\n",
    "    \n",
    "    turnover = np.abs(A[-1] - A[-2]).sum() * 100 if i >= n else 0\n",
    "    turnovers.append(turnover)\n",
    "    \n",
    "    pnl = ((A[-2] * r).sum()) if i >= n else 0\n",
    "    pnls.append(pnl)\n",
    "    \n",
    "    sharpe_ratio = np.array(pnls[-T:]).mean() / np.array(pnls[-T:]).std() * (252**0.5)\n",
    "    sharpe_ratios.append(sharpe_ratio)"
   ]
  },
  {
   "cell_type": "code",
   "execution_count": 17,
   "id": "88772374",
   "metadata": {},
   "outputs": [
    {
     "data": {
      "image/png": "[encoded data removed]",
      "text/plain": [
       "<Figure size 432x288 with 1 Axes>"
      ]
     },
     "metadata": {
      "needs_background": "light"
     },
     "output_type": "display_data"
    }
   ],
   "source": [
    "from matplotlib import pyplot as plt\n",
    "\n",
    "plt.plot(np.cumsum(pnls))\n",
    "plt.title('Cumulative PnL')\n",
    "plt.show()"
   ]
  },
  {
   "cell_type": "code",
   "execution_count": 18,
   "id": "2433a89c",
   "metadata": {},
   "outputs": [
    {
     "data": {
      "image/png": "[encoded data removed]",
      "text/plain": [
       "<Figure size 432x288 with 1 Axes>"
      ]
     },
     "metadata": {
      "needs_background": "light"
     },
     "output_type": "display_data"
    },
    {
     "name": "stdout",
     "output_type": "stream",
     "text": [
      "19.196167399845844\n"
     ]
    }
   ],
   "source": [
    "plt.plot(turnovers)\n",
    "plt.title('turnover')\n",
    "plt.show()\n",
    "print(np.array(turnovers).mean())"
   ]
  },
  {
   "cell_type": "code",
   "execution_count": 19,
   "id": "54809f06",
   "metadata": {},
   "outputs": [
    {
     "data": {
      "image/png": "[encoded data removed]",
      "text/plain": [
       "<Figure size 432x288 with 1 Axes>"
      ]
     },
     "metadata": {
      "needs_background": "light"
     },
     "output_type": "display_data"
    }
   ],
   "source": [
    "plt.plot(sharpe_ratios[252:])\n",
    "plt.title('sharpe_ratio')\n",
    "plt.show()"
   ]
  },
  {
   "cell_type": "code",
   "execution_count": 20,
   "id": "176bcbe8",
   "metadata": {},
   "outputs": [
    {
     "name": "stdout",
     "output_type": "stream",
     "text": [
      "(0.5236466826302193, 1.2909981853553214, 9.877450854469334)\n",
      "(0.6496335093546748, 3.873845307306297, 21.30959022842455)\n",
      "(0.486952378048636, 2.5291171557649155, 20.894546260540693)\n",
      "(0.31554000237759405, 1.560597853937388, 22.01929501821138)\n",
      "(1.0777887838687217, 1.2473974842597917, 21.575253567744433)\n"
     ]
    }
   ],
   "source": [
    "sharpes = []\n",
    "sharpe_length = 252\n",
    "\n",
    "returns = np.cumsum(pnls)\n",
    "return_prev = 0\n",
    "\n",
    "for i in range(0, len(pnls), sharpe_length):\n",
    "    sharpe_pnls = pnls[i:i+sharpe_length]\n",
    "    mu = np.array(sharpe_pnls).mean()\n",
    "    std = np.array(sharpe_pnls).std()\n",
    "    \n",
    "    current_return = returns[min(i+sharpe_length, len(pnls) - 1)]\n",
    "    sharpes.append(((current_return - return_prev), mu / std * sharpe_length**0.5, np.array(turnovers[i:i+sharpe_length]).sum() / sharpe_length))\n",
    "    return_prev = current_return\n",
    "    \n",
    "print('\\n'.join(map(str, sharpes)))"
   ]
  },
  {
   "cell_type": "code",
   "execution_count": 2581,
   "id": "b636a24d",
   "metadata": {},
   "outputs": [
    {
     "data": {
      "text/plain": [
       "array([0.12284634, 2.04309083, 5.69492524])"
      ]
     },
     "execution_count": 2581,
     "metadata": {},
     "output_type": "execute_result"
    }
   ],
   "source": [
    "np.array(sharpes).min(0)"
   ]
  },
  {
   "cell_type": "code",
   "execution_count": null,
   "id": "f3060951",
   "metadata": {},
   "outputs": [],
   "source": []
  },
  {
   "cell_type": "code",
   "execution_count": null,
   "id": "03795e64",
   "metadata": {},
   "outputs": [],
   "source": []
  },
  {
   "cell_type": "code",
   "execution_count": null,
   "id": "1ee62fdf",
   "metadata": {},
   "outputs": [],
   "source": []
  },
  {
   "cell_type": "code",
   "execution_count": null,
   "id": "d532a59f",
   "metadata": {},
   "outputs": [],
   "source": []
  }
 ],
 "metadata": {
  "kernelspec": {
   "display_name": "Python 3 (ipykernel)",
   "language": "python",
   "name": "python3"
  },
  "language_info": {
   "codemirror_mode": {
    "name": "ipython",
    "version": 3
   },
   "file_extension": ".py",
   "mimetype": "text/x-python",
   "name": "python",
   "nbconvert_exporter": "python",
   "pygments_lexer": "ipython3",
   "version": "3.7.10"
  }
 },
 "nbformat": 4,
 "nbformat_minor": 5
}
